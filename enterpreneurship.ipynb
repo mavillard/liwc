{
 "metadata": {
  "name": "",
  "signature": "sha256:f4160409293a9c1fe77632ddf0529fdb2d50546782a233ae0d2caf2f43c1a44c"
 },
 "nbformat": 3,
 "nbformat_minor": 0,
 "worksheets": [
  {
   "cells": [
    {
     "cell_type": "code",
     "collapsed": false,
     "input": [
      "import numpy as np\n",
      "import pandas as pd\n",
      "from textblob import TextBlob"
     ],
     "language": "python",
     "metadata": {},
     "outputs": [],
     "prompt_number": 1
    },
    {
     "cell_type": "code",
     "collapsed": false,
     "input": [
      "df = pd.read_csv(\"dataframe_v2.csv\", encoding=\"utf8\")"
     ],
     "language": "python",
     "metadata": {},
     "outputs": [
      {
       "output_type": "stream",
       "stream": "stderr",
       "text": [
        "/home/versae/.virtualenvs/calderon/local/lib/python2.7/site-packages/pandas/io/parsers.py:1154: DtypeWarning: Columns (9,10) have mixed types. Specify dtype option on import or set low_memory=False.\n",
        "  data = self._reader.read(nrows)\n"
       ]
      }
     ],
     "prompt_number": 2
    },
    {
     "cell_type": "code",
     "collapsed": false,
     "input": [
      "df.columns"
     ],
     "language": "python",
     "metadata": {},
     "outputs": [
      {
       "metadata": {},
       "output_type": "pyout",
       "prompt_number": 3,
       "text": [
        "Index([u'media', u'search_words', u'is_company', u'pub_date', u'readability', u'diversity', u'polarity', u'subjetivity', u'text', u'url', u'file'], dtype='object')"
       ]
      }
     ],
     "prompt_number": 3
    },
    {
     "cell_type": "code",
     "collapsed": false,
     "input": [
      "for company in np.sort(df[df.is_company==1].search_words.unique()):\n",
      "    print \"-\", company.capitalize().replace(\"_\", \" \")"
     ],
     "language": "python",
     "metadata": {},
     "outputs": [
      {
       "output_type": "stream",
       "stream": "stdout",
       "text": [
        "- 3m company\n",
        "- About.me\n",
        "- Acacia communications\n",
        "- Adconion direct\n",
        "- Adore me\n",
        "- Airbnb\n",
        "- Alcohol by volume\n",
        "- Alfresco\n",
        "- Allegheny science & technology\n",
        "- Altitude digital\n",
        "- American retirement advisors\n",
        "- American solar direct\n",
        "- Applied predictive technologies\n",
        "- Argyle company\n",
        "- Atomic reach\n",
        "- Berg\n",
        "- Bes design build\n",
        "- Base commerce\n",
        "- Become, inc.\n",
        "- Behance\n",
        "- Beyondtrust\n",
        "- Bridger\n",
        "- Canvas networks\n",
        "- Centric digital\n",
        "- Choice energy\n",
        "- Cloud dynamics\n",
        "- Cognitive networks\n",
        "- Credit sesame\n",
        "- Data dynamics inc.\n",
        "- Digicert, inc.\n",
        "- Disruptive media\n",
        "- Dolls kill\n",
        "- Duda\n",
        "- Epi engineering\n",
        "- Electric cloud\n",
        "- Eventbrite\n",
        "- Exec\n",
        "- Fabric engine\n",
        "- Frank and oak\n",
        "- Fruition partners\n",
        "- Go energies\n",
        "- Grooveshark\n",
        "- H.bloom\n",
        "- Health catalyst\n",
        "- Heartland energy partners\n",
        "- Highpoint global \n",
        "- Hortonworks\n",
        "- Hubspot\n",
        "- Hudl\n",
        "- Human movement management\n",
        "- Indeed\n",
        "- Innovative surveillance solutions\n",
        "- Inq mobile\n",
        "- Jab broadband\n",
        "- Jeunesse global\n",
        "- Just quality international inc.\n",
        "- Klout\n",
        "- Lancope\n",
        "- Localresponse\n",
        "- Looker\n",
        "- Lumosity\n",
        "- Mailchimp\n",
        "- Manilla\n",
        "- Minute key\n",
        "- Moore heating & air conditioning\n",
        "- Motivational press\n",
        "- Nordic\n",
        "- Ohio investments\n",
        "- Om malik technology\n",
        "- Optimus technology\n",
        "- Outbox\n",
        "- Patient communicator\n",
        "- Perseus telecom\n",
        "- Phunware\n",
        "- Prescient edge\n",
        "- Provider power\n",
        "- Quest nutrition\n",
        "- Quora\n",
        "- Recon instruments\n",
        "- Reliant asset management\n",
        "- Restore health\n",
        "- Retail capital\n",
        "- Rise interactive\n",
        "- Rivet & sway\n",
        "- Rootmetrics\n",
        "- Samba mobile\n",
        "- Scaled agile, inc.\n",
        "- Scribe software\n",
        "- Seamless mobile health\n",
        "- Secure sense solutions\n",
        "- Serendip\n",
        "- Shape security\n",
        "- Showroom logic\n",
        "- Signal\n",
        "- Simpler trading\n",
        "- Simplicity laser\n",
        "- Skyrocket\n",
        "- Skyhigh networks\n",
        "- Smart employee benefits\n",
        "- Smoke nv inc.\n",
        "- Solace systems\n",
        "- Solve media\n",
        "- Splice machine\n",
        "- Springpad\n",
        "- Stipple\n",
        "- Stoke, inc.\n",
        "- Streetlight data\n",
        "- Team extreme marketing international\n",
        "- Tenable network security, inc.\n",
        "- Tesla motors\n",
        "- Thalmic labs\n",
        "- Thinkgeek\n",
        "- Thompson gray\n",
        "- Trueffect\n",
        "- Turntable.fm\n",
        "- Twitch\n",
        "- Twitpic\n",
        "- Uber\n",
        "- Ubiquity global services inc.\n",
        "- Xcor aerospace, inc.\n",
        "- Zendesk\n",
        "- Zeta interactive\n",
        "- Zumbox\n",
        "- Abbott laboratories\n",
        "- Alcoa\n",
        "- Amazon.com\n",
        "- Apple\n",
        "- Aramark holdings corporation\n",
        "- Archer daniels midland\n",
        "- At&t\n",
        "- Autonation\n",
        "- Berkshire hathaway\n",
        "- Blackrock\n",
        "- Boeing\n",
        "- Caterpillar\n",
        "- Cbre group\n",
        "- Chevron\n",
        "- Cisco systems\n",
        "- Coca-cola company\n",
        "- Conocophillips\n",
        "- Costco wholesale\n",
        "- Cvs caremark\n",
        "- D.r. horton\n",
        "- Danaher corporation\n",
        "- Dow chemical\n",
        "- Emc corporation\n",
        "- Energy transfer equity\n",
        "- Exelon corporation\n",
        "- Express scripts holding\n",
        "- Exxon\n",
        "- Fluor corporation\n",
        "- Ford\n",
        "- General electric\n",
        "- General motors\n",
        "- Graham holdings company\n",
        "- Halliburton company\n",
        "- Harley-davidson\n",
        "- Hca holdings\n",
        "- Honeywell international\n",
        "- Illinois tool works\n",
        "- Inbloom\n",
        "- Ingram micro\n",
        "- Intel corporation\n",
        "- International paper company\n",
        "- Intuitive research and tech\n",
        "- Johnson & johnson\n",
        "- Las vegas sands\n",
        "- Manpower group\n",
        "- Mattel\n",
        "- Mcdonalds corporation\n",
        "- Mckesson\n",
        "- Mckinsey & company\n",
        "- Metlife\n",
        "- Microsoft\n",
        "- Morgan chase\n",
        "- New york life insurance company\n",
        "- Nike\n",
        "- Nrg energy\n",
        "- Omnicom group\n",
        "- Pepsico\n",
        "- Phillip morris international\n",
        "- Phillips 66\n",
        "- Pricewaterhousecoopers\n",
        "- Procter & gamble\n",
        "- Rock tenn company\n",
        "- Ryder systems\n",
        "- Samsung\n",
        "- Stanley black & decker\n",
        "- State farm insurance\n",
        "- Tjx companies\n",
        "- Union pacific\n",
        "- United continental holdings\n",
        "- United parcel service\n",
        "- Unitedhealth group\n",
        "- Valero\n",
        "- Visa\n",
        "- Wal-mart\n",
        "- Walt disney company\n",
        "- Waste management\n",
        "- World fuel services\n"
       ]
      }
     ],
     "prompt_number": 8
    },
    {
     "cell_type": "code",
     "collapsed": false,
     "input": [
      "for topic in np.sort(df[df.is_company==0].search_words.unique()):\n",
      "    print \"-\", topic.capitalize()"
     ],
     "language": "python",
     "metadata": {},
     "outputs": [
      {
       "output_type": "stream",
       "stream": "stdout",
       "text": [
        "- Entrepreneur\n",
        "- Executive\n",
        "- Founder\n",
        "- Manager\n",
        "- New venture\n",
        "- Startup\n"
       ]
      }
     ],
     "prompt_number": 7
    },
    {
     "cell_type": "markdown",
     "metadata": {},
     "source": [
      "Generate a `DataFrame` of unique sentences. The sentences are assured to contain the search term used by the which the article that contains it was retrieved from."
     ]
    },
    {
     "cell_type": "code",
     "collapsed": false,
     "input": [
      "sentences_set = set()\n",
      "sentences_list = []\n",
      "for index, item in df.iterrows():\n",
      "    item_dict = dict(item)\n",
      "    text = item_dict['text']\n",
      "    del item_dict['text']\n",
      "    for sentence_obj in TextBlob(text).sentences:\n",
      "        sentence = str(sentence_obj)\n",
      "        if (str(item_dict['search_words']).lower() in sentence.lower()\n",
      "                and sentence not in sentences_set):\n",
      "            item_dict['text'] = sentence\n",
      "            sentences_set.add(sentence)\n",
      "            sentences_list.append(item_dict)"
     ],
     "language": "python",
     "metadata": {},
     "outputs": [],
     "prompt_number": 9
    },
    {
     "cell_type": "code",
     "collapsed": false,
     "input": [
      "sentences_df = pd.DataFrame(sentences_list)\n",
      "sentences_df.drop_duplicates(\"text\", inplace=True)"
     ],
     "language": "python",
     "metadata": {},
     "outputs": [],
     "prompt_number": 10
    },
    {
     "cell_type": "code",
     "collapsed": false,
     "input": [
      "print sentences_df.loc[10].search_words\n",
      "sentences_df.loc[10].text"
     ],
     "language": "python",
     "metadata": {},
     "outputs": [
      {
       "output_type": "stream",
       "stream": "stdout",
       "text": [
        "mckinsey & company\n"
       ]
      },
      {
       "metadata": {},
       "output_type": "pyout",
       "prompt_number": 11,
       "text": [
        "'Ms. Salisbury, 31, is a project manager at McKinsey & Company, the management consulting firm in New York.'"
       ]
      }
     ],
     "prompt_number": 11
    },
    {
     "cell_type": "code",
     "collapsed": false,
     "input": [
      "dd = sentences_df[sentences_df.search_words==\"state farm insurance\"][['text']]\n",
      "for s in dd.to_dict().values()[0].values():\n",
      "    print s, \"\\n\""
     ],
     "language": "python",
     "metadata": {},
     "outputs": [
      {
       "output_type": "stream",
       "stream": "stdout",
       "text": [
        "For many of them \u2014 small-business owners and people like Steve Orton, a State Farm insurance agent from Alpharetta, Ga. \u2014 the publicity for the movie has brought back the old pain. \n",
        "\n",
        "Seeking to combat such sentiments, the Department of Education \u2014 in partnership with the Advertising Council, Microsoft, State Farm Insurance, Teach for America, the nation\u2019s two largest teachers\u2019 unions and several other educational groups \u2014 is unveiling a public service campaign this week aimed at recruiting a new generation of classroom educators. \n",
        "\n",
        "Thank you for giving me an opportunity to rant about a State Farm insurance commercial that makes me grind my teeth and glare whenever it appears on my television. \n",
        "\n",
        "Dog bites continue to represent one-third of the payout dollars for homeowner liability claims, according to the latest data from the Insurance Information Institute and State Farm Insurance. \n",
        "\n",
        "Rachael Risinger, a State Farm spokeswoman, said in an e-mail that car sharing does not affect rates or impact customers\u2019 ability to qualify for a State Farm insurance policy, but, on the other hand, the company will also not cover damage incurred during a car sharing rental. \n",
        "\n"
       ]
      }
     ],
     "prompt_number": 47
    },
    {
     "cell_type": "markdown",
     "metadata": {},
     "source": [
      "The sentences CSV for the crowd-sourcing does not nee to have all the columns."
     ]
    },
    {
     "cell_type": "code",
     "collapsed": false,
     "input": [
      "test_sentences = sentences_df[[\"text\", \"media\", \"pub_date\", \"search_words\", \"is_company\", \"url\"]]\n",
      "test_sentences.to_csv(\"test_sentences.csv\")\n",
      "test_sentences.head()"
     ],
     "language": "python",
     "metadata": {},
     "outputs": [
      {
       "html": [
        "<div style=\"max-height:1000px;max-width:1500px;overflow:auto;\">\n",
        "<table border=\"1\" class=\"dataframe\">\n",
        "  <thead>\n",
        "    <tr style=\"text-align: right;\">\n",
        "      <th></th>\n",
        "      <th>text</th>\n",
        "      <th>media</th>\n",
        "      <th>pub_date</th>\n",
        "      <th>search_words</th>\n",
        "      <th>is_company</th>\n",
        "      <th>url</th>\n",
        "    </tr>\n",
        "  </thead>\n",
        "  <tbody>\n",
        "    <tr>\n",
        "      <th>0</th>\n",
        "      <td> He said that, unlike other major management co...</td>\n",
        "      <td> nyt</td>\n",
        "      <td> 2013-12-02T00:00:00Z</td>\n",
        "      <td> mckinsey &amp; company</td>\n",
        "      <td> 1</td>\n",
        "      <td> http://www.nytimes.com/2013/12/02/business/med...</td>\n",
        "    </tr>\n",
        "    <tr>\n",
        "      <th>1</th>\n",
        "      <td> Mr. Blackwell spent 15 years as a management c...</td>\n",
        "      <td> nyt</td>\n",
        "      <td> 2013-12-02T09:06:15Z</td>\n",
        "      <td> mckinsey &amp; company</td>\n",
        "      <td> 1</td>\n",
        "      <td> http://dealbook.nytimes.com/2013/12/02/lloyds-...</td>\n",
        "    </tr>\n",
        "    <tr>\n",
        "      <th>2</th>\n",
        "      <td> A federal judge in Manhattan has dismissed a l...</td>\n",
        "      <td> nyt</td>\n",
        "      <td> 2013-12-05T12:46:17Z</td>\n",
        "      <td> mckinsey &amp; company</td>\n",
        "      <td> 1</td>\n",
        "      <td> http://dealbook.nytimes.com/2013/12/05/gupta-s...</td>\n",
        "    </tr>\n",
        "    <tr>\n",
        "      <th>3</th>\n",
        "      <td> At the Jockey Club\u2019s annual meeting in 2012, m...</td>\n",
        "      <td> nyt</td>\n",
        "      <td> 2013-12-10T00:00:00Z</td>\n",
        "      <td> mckinsey &amp; company</td>\n",
        "      <td> 1</td>\n",
        "      <td> http://www.nytimes.com/2013/12/10/arts/design/...</td>\n",
        "    </tr>\n",
        "    <tr>\n",
        "      <th>4</th>\n",
        "      <td> (The management consulting firm McKinsey &amp; Com...</td>\n",
        "      <td> nyt</td>\n",
        "      <td> 2013-12-11T07:00:47Z</td>\n",
        "      <td> mckinsey &amp; company</td>\n",
        "      <td> 1</td>\n",
        "      <td> http://opinionator.blogs.nytimes.com/2013/12/1...</td>\n",
        "    </tr>\n",
        "  </tbody>\n",
        "</table>\n",
        "</div>"
       ],
       "metadata": {},
       "output_type": "pyout",
       "prompt_number": 24,
       "text": [
        "                                                text media  \\\n",
        "0  He said that, unlike other major management co...   nyt   \n",
        "1  Mr. Blackwell spent 15 years as a management c...   nyt   \n",
        "2  A federal judge in Manhattan has dismissed a l...   nyt   \n",
        "3  At the Jockey Club\u2019s annual meeting in 2012, m...   nyt   \n",
        "4  (The management consulting firm McKinsey & Com...   nyt   \n",
        "\n",
        "               pub_date        search_words  is_company  \\\n",
        "0  2013-12-02T00:00:00Z  mckinsey & company           1   \n",
        "1  2013-12-02T09:06:15Z  mckinsey & company           1   \n",
        "2  2013-12-05T12:46:17Z  mckinsey & company           1   \n",
        "3  2013-12-10T00:00:00Z  mckinsey & company           1   \n",
        "4  2013-12-11T07:00:47Z  mckinsey & company           1   \n",
        "\n",
        "                                                 url  \n",
        "0  http://www.nytimes.com/2013/12/02/business/med...  \n",
        "1  http://dealbook.nytimes.com/2013/12/02/lloyds-...  \n",
        "2  http://dealbook.nytimes.com/2013/12/05/gupta-s...  \n",
        "3  http://www.nytimes.com/2013/12/10/arts/design/...  \n",
        "4  http://opinionator.blogs.nytimes.com/2013/12/1...  "
       ]
      }
     ],
     "prompt_number": 24
    },
    {
     "cell_type": "markdown",
     "metadata": {},
     "source": [
      "We calculate how many of these sentences contain enterpreneurial topics, or just company mentions."
     ]
    },
    {
     "cell_type": "code",
     "collapsed": false,
     "input": [
      "print test_sentences[test_sentences.is_company==0].count()\n",
      "print test_sentences[test_sentences.is_company==1].count()"
     ],
     "language": "python",
     "metadata": {},
     "outputs": [
      {
       "output_type": "stream",
       "stream": "stdout",
       "text": [
        "text            22851\n",
        "media           22851\n",
        "pub_date        22851\n",
        "search_words    22851\n",
        "is_company      22851\n",
        "url             22851\n",
        "dtype: int64\n",
        "text            9852\n",
        "media           9852\n",
        "pub_date        9852\n",
        "search_words    9852\n",
        "is_company      9852\n",
        "url             9294\n",
        "dtype: int64\n"
       ]
      }
     ],
     "prompt_number": 25
    },
    {
     "cell_type": "markdown",
     "metadata": {},
     "source": [
      "Generate 20k randomly selected from the total pool."
     ]
    },
    {
     "cell_type": "code",
     "collapsed": false,
     "input": [
      "test_sentences.reindex(np.random.permutation(test_sentences.index))[:20000].to_csv(\"test_sentences_20k.csv\")"
     ],
     "language": "python",
     "metadata": {},
     "outputs": [],
     "prompt_number": 26
    },
    {
     "cell_type": "code",
     "collapsed": false,
     "input": [
      "len(test_sentences.text.unique())"
     ],
     "language": "python",
     "metadata": {},
     "outputs": [
      {
       "metadata": {},
       "output_type": "pyout",
       "prompt_number": 27,
       "text": [
        "32703"
       ]
      }
     ],
     "prompt_number": 27
    },
    {
     "cell_type": "code",
     "collapsed": false,
     "input": [
      "test_sentences_df = pd.DataFrame.from_csv(\"test_sentences.csv\")\n",
      "for word in test_sentences_df.media.unique(): print word.lower()\n",
      "for word in sorted(test_sentences_df.search_words.unique()): print \"- \" + word.lower()"
     ],
     "language": "python",
     "metadata": {},
     "outputs": [
      {
       "output_type": "stream",
       "stream": "stdout",
       "text": [
        "nyt\n",
        "ft\n",
        "nyt\n",
        "- 3m company\n",
        "- about.me\n",
        "- airbnb\n",
        "- alfresco\n",
        "- berg\n",
        "- duda\n",
        "- exec\n",
        "- h.bloom\n",
        "- hubspot\n",
        "- indeed\n",
        "- looker\n",
        "- manilla\n",
        "- nordic\n",
        "- outbox\n",
        "- quora\n",
        "- rootmetrics\n",
        "- signal\n",
        "- skyrocket\n",
        "- springpad\n",
        "- twitch\n",
        "- uber\n",
        "- abbott laboratories\n",
        "- alcoa\n",
        "- amazon.com\n",
        "- apple\n",
        "- aramark holdings corporation\n",
        "- archer daniels midland\n",
        "- at&t\n",
        "- autonation\n",
        "- berkshire hathaway\n",
        "- blackrock\n",
        "- boeing\n",
        "- caterpillar\n",
        "- cbre group\n",
        "- chevron\n",
        "- cisco systems\n",
        "- coca-cola company\n",
        "- conocophillips\n",
        "- costco wholesale\n",
        "- cvs caremark\n",
        "- danaher corporation\n",
        "- dow chemical\n",
        "- emc corporation\n",
        "- energy transfer equity\n",
        "- entrepreneur\n",
        "- executive\n",
        "- exelon corporation\n",
        "- exxon\n",
        "- fluor corporation\n",
        "- ford\n",
        "- founder\n",
        "- general electric\n",
        "- general motors\n",
        "- halliburton company\n",
        "- harley-davidson\n",
        "- hca holdings\n",
        "- honeywell international\n",
        "- illinois tool works\n",
        "- inbloom\n",
        "- ingram micro\n",
        "- intel corporation\n",
        "- international paper company\n",
        "- johnson & johnson\n",
        "- las vegas sands\n",
        "- manager\n",
        "- manpower group\n",
        "- mattel\n",
        "- mckesson\n",
        "- mckinsey & company\n",
        "- metlife\n",
        "- microsoft\n",
        "- morgan chase\n",
        "- new venture\n",
        "- new york life insurance company\n",
        "- nike\n",
        "- nrg energy\n",
        "- omnicom group\n",
        "- pepsico\n",
        "- phillips 66\n",
        "- pricewaterhousecoopers\n",
        "- procter & gamble\n",
        "- samsung\n",
        "- stanley black & decker\n",
        "- startup\n",
        "- state farm insurance\n",
        "- union pacific\n",
        "- united continental holdings\n",
        "- united parcel service\n",
        "- unitedhealth group\n",
        "- valero\n",
        "- visa\n",
        "- wal-mart\n",
        "- walt disney company\n",
        "- waste management\n"
       ]
      }
     ],
     "prompt_number": 15
    }
   ],
   "metadata": {}
  }
 ]
}