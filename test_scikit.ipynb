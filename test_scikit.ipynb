{
 "cells": [
  {
   "cell_type": "markdown",
   "metadata": {},
   "source": [
    "Preparing Data\n",
    "=============="
   ]
  },
  {
   "cell_type": "code",
   "execution_count": 30,
   "metadata": {
    "collapsed": false
   },
   "outputs": [],
   "source": [
    "import json\n",
    "import cPickle as pickle\n",
    "import numpy as np\n",
    "import pandas as pd\n",
    "from pandas import factorize"
   ]
  },
  {
   "cell_type": "code",
   "execution_count": 31,
   "metadata": {
    "collapsed": false
   },
   "outputs": [
    {
     "name": "stdout",
     "output_type": "stream",
     "text": [
      "bossa/tasks_export.json  bossa/tasks_runs_export.json\r\n"
     ]
    }
   ],
   "source": [
    "!ls bossa/*json"
   ]
  },
  {
   "cell_type": "markdown",
   "metadata": {},
   "source": [
    "BOSSA Results\n",
    "-------------"
   ]
  },
  {
   "cell_type": "markdown",
   "metadata": {},
   "source": [
    "Processing `results_bossa.json` to get a *dictionary* with keys the task ids, and values in as the average value of the scores. To do that, we first convert scores from categorical (`neg`, `neu`, `pos`) to a numeric scale."
   ]
  },
  {
   "cell_type": "code",
   "execution_count": 32,
   "metadata": {
    "collapsed": false
   },
   "outputs": [
    {
     "data": {
      "text/html": [
       "<div style=\"max-height:1000px;max-width:1500px;overflow:auto;\">\n",
       "<table border=\"1\" class=\"dataframe\">\n",
       "  <thead>\n",
       "    <tr style=\"text-align: right;\">\n",
       "      <th></th>\n",
       "      <th>result_id</th>\n",
       "      <th>seconds</th>\n",
       "      <th>task_id</th>\n",
       "      <th>score</th>\n",
       "    </tr>\n",
       "  </thead>\n",
       "  <tbody>\n",
       "    <tr>\n",
       "      <th>50</th>\n",
       "      <td>11203</td>\n",
       "      <td>0.000025</td>\n",
       "      <td>52775</td>\n",
       "      <td>1</td>\n",
       "    </tr>\n",
       "  </tbody>\n",
       "</table>\n",
       "</div>"
      ],
      "text/plain": [
       "    result_id   seconds  task_id score\n",
       "50      11203  0.000025    52775     1"
      ]
     },
     "execution_count": 32,
     "metadata": {},
     "output_type": "execute_result"
    }
   ],
   "source": [
    "bossa_results = pd.read_json(\"bossa/tasks_runs_export.json\")\n",
    "bossa_results.rename(columns={\"created\": \"start_time\", \"id\": \"result_id\", \"info\": \"score\"}, inplace=True)\n",
    "bossa_results[['start_time']]= bossa_results[['start_time']].apply(pd.to_datetime, dayfirst=True)\n",
    "bossa_results[['finish_time']]= bossa_results[['finish_time']].apply(pd.to_datetime, dayfirst=True)\n",
    "bossa_results['score'] = pd.Categorical(bossa_results['score'], categories=['vneg', 'neg', 'neu', 'pos', 'vpos'])\n",
    "bossa_results['score'].cat.rename_categories([-2, -1, 0, 1, 2], inplace=True)\n",
    "# Normalize everything to -1, 0, 1\n",
    "# bossa_results['score'] = bossa_results['score'].astype(float).apply(lambda x: -1 if x < 0 else 1 if x > 0 else 0)\n",
    "bossa_results[\"seconds\"] = (bossa_results[\"finish_time\"] - bossa_results[\"start_time\"]).astype('timedelta64[us]') / 1e6\n",
    "bossa_results = bossa_results[[\"result_id\", \"seconds\", \"task_id\", \"score\"]]\n",
    "bossa_results.ix[[50]]"
   ]
  },
  {
   "cell_type": "markdown",
   "metadata": {},
   "source": [
    "The information about the sentence comes in a dictionary inside the cells of the serie `info`, so we expand it."
   ]
  },
  {
   "cell_type": "code",
   "execution_count": 33,
   "metadata": {
    "collapsed": false
   },
   "outputs": [
    {
     "data": {
      "text/html": [
       "<div style=\"max-height:1000px;max-width:1500px;overflow:auto;\">\n",
       "<table border=\"1\" class=\"dataframe\">\n",
       "  <thead>\n",
       "    <tr style=\"text-align: right;\">\n",
       "      <th></th>\n",
       "      <th>task_id</th>\n",
       "      <th>info</th>\n",
       "    </tr>\n",
       "  </thead>\n",
       "  <tbody>\n",
       "    <tr>\n",
       "      <th>50</th>\n",
       "      <td>52851</td>\n",
       "      <td>{u'search_words': u'founder', u'appears_in_sen...</td>\n",
       "    </tr>\n",
       "  </tbody>\n",
       "</table>\n",
       "</div>"
      ],
      "text/plain": [
       "    task_id                                               info\n",
       "50    52851  {u'search_words': u'founder', u'appears_in_sen..."
      ]
     },
     "execution_count": 33,
     "metadata": {},
     "output_type": "execute_result"
    }
   ],
   "source": [
    "bossa_tasks = pd.read_json(\"bossa/tasks_export.json\")\n",
    "bossa_tasks[['created']]= bossa_tasks[['created']].apply(pd.to_datetime, dayfirst=True)\n",
    "bossa_tasks.rename(columns={'id': 'task_id'}, inplace=True)\n",
    "bossa_tasks = bossa_tasks[['task_id', 'info']]\n",
    "bossa_tasks.ix[[50]]"
   ]
  },
  {
   "cell_type": "markdown",
   "metadata": {},
   "source": [
    "And finally we merge the `DataFrame` with the scores with the one containing the sentences."
   ]
  },
  {
   "cell_type": "code",
   "execution_count": 34,
   "metadata": {
    "collapsed": false
   },
   "outputs": [
    {
     "data": {
      "text/html": [
       "<div style=\"max-height:1000px;max-width:1500px;overflow:auto;\">\n",
       "<table border=\"1\" class=\"dataframe\">\n",
       "  <thead>\n",
       "    <tr style=\"text-align: right;\">\n",
       "      <th></th>\n",
       "      <th>result_id</th>\n",
       "      <th>seconds</th>\n",
       "      <th>task_id</th>\n",
       "      <th>score</th>\n",
       "      <th>info</th>\n",
       "    </tr>\n",
       "  </thead>\n",
       "  <tbody>\n",
       "    <tr>\n",
       "      <th>50</th>\n",
       "      <td>11195</td>\n",
       "      <td>0.000021</td>\n",
       "      <td>52776</td>\n",
       "      <td>2</td>\n",
       "      <td>{u'search_words': u'executive', u'appears_in_s...</td>\n",
       "    </tr>\n",
       "  </tbody>\n",
       "</table>\n",
       "</div>"
      ],
      "text/plain": [
       "    result_id   seconds  task_id  score  \\\n",
       "50      11195  0.000021    52776      2   \n",
       "\n",
       "                                                 info  \n",
       "50  {u'search_words': u'executive', u'appears_in_s...  "
      ]
     },
     "execution_count": 34,
     "metadata": {},
     "output_type": "execute_result"
    }
   ],
   "source": [
    "bossa_tasks_scores = pd.merge(bossa_results, bossa_tasks, on='task_id')\n",
    "bossa_tasks_scores.ix[[50]]"
   ]
  },
  {
   "cell_type": "markdown",
   "metadata": {},
   "source": [
    "Let's now expand the column `info` into as many new columns as keys has the dictionary `info`."
   ]
  },
  {
   "cell_type": "code",
   "execution_count": 35,
   "metadata": {
    "collapsed": false
   },
   "outputs": [
    {
     "data": {
      "text/plain": [
       "[u'search_words',\n",
       " u'appears_in_sentence',\n",
       " u'url',\n",
       " u'media',\n",
       " u'appears_in_noun_phrases',\n",
       " u'noun_phrases',\n",
       " u'sentence_id',\n",
       " u'text',\n",
       " u'sentence',\n",
       " u'pub_date',\n",
       " u'is_company']"
      ]
     },
     "execution_count": 35,
     "metadata": {},
     "output_type": "execute_result"
    }
   ],
   "source": [
    "bossa_tasks_scores.ix[50].info.keys()"
   ]
  },
  {
   "cell_type": "code",
   "execution_count": 36,
   "metadata": {
    "collapsed": false
   },
   "outputs": [
    {
     "data": {
      "text/html": [
       "<div style=\"max-height:1000px;max-width:1500px;overflow:auto;\">\n",
       "<table border=\"1\" class=\"dataframe\">\n",
       "  <thead>\n",
       "    <tr style=\"text-align: right;\">\n",
       "      <th></th>\n",
       "      <th>result_id</th>\n",
       "      <th>seconds</th>\n",
       "      <th>task_id</th>\n",
       "      <th>score</th>\n",
       "      <th>search_words</th>\n",
       "      <th>appears_in_sentence</th>\n",
       "      <th>url</th>\n",
       "      <th>media</th>\n",
       "      <th>appears_in_noun_phrases</th>\n",
       "      <th>noun_phrases</th>\n",
       "      <th>sentence_id</th>\n",
       "      <th>text</th>\n",
       "      <th>sentence</th>\n",
       "      <th>pub_date</th>\n",
       "      <th>is_company</th>\n",
       "    </tr>\n",
       "  </thead>\n",
       "  <tbody>\n",
       "    <tr>\n",
       "      <th>50</th>\n",
       "      <td>11195</td>\n",
       "      <td>0.000021</td>\n",
       "      <td>52776</td>\n",
       "      <td>2</td>\n",
       "      <td>executive</td>\n",
       "      <td>0</td>\n",
       "      <td>http://dealbook.nytimes.com/2013/05/17/a-toeho...</td>\n",
       "      <td>nyt</td>\n",
       "      <td>0</td>\n",
       "      <td>[chinese investors, overseas companies, politi...</td>\n",
       "      <td>14</td>\n",
       "      <td>Chinese investors are increasingly opting to b...</td>\n",
       "      <td>Chinese investors are increasingly opting to b...</td>\n",
       "      <td>2013-05-17T11:47:51Z</td>\n",
       "      <td>0</td>\n",
       "    </tr>\n",
       "    <tr>\n",
       "      <th>51</th>\n",
       "      <td>11205</td>\n",
       "      <td>0.000018</td>\n",
       "      <td>52776</td>\n",
       "      <td>-1</td>\n",
       "      <td>executive</td>\n",
       "      <td>0</td>\n",
       "      <td>http://dealbook.nytimes.com/2013/05/17/a-toeho...</td>\n",
       "      <td>nyt</td>\n",
       "      <td>0</td>\n",
       "      <td>[chinese investors, overseas companies, politi...</td>\n",
       "      <td>14</td>\n",
       "      <td>Chinese investors are increasingly opting to b...</td>\n",
       "      <td>Chinese investors are increasingly opting to b...</td>\n",
       "      <td>2013-05-17T11:47:51Z</td>\n",
       "      <td>0</td>\n",
       "    </tr>\n",
       "    <tr>\n",
       "      <th>52</th>\n",
       "      <td>11207</td>\n",
       "      <td>0.000017</td>\n",
       "      <td>52776</td>\n",
       "      <td>1</td>\n",
       "      <td>executive</td>\n",
       "      <td>0</td>\n",
       "      <td>http://dealbook.nytimes.com/2013/05/17/a-toeho...</td>\n",
       "      <td>nyt</td>\n",
       "      <td>0</td>\n",
       "      <td>[chinese investors, overseas companies, politi...</td>\n",
       "      <td>14</td>\n",
       "      <td>Chinese investors are increasingly opting to b...</td>\n",
       "      <td>Chinese investors are increasingly opting to b...</td>\n",
       "      <td>2013-05-17T11:47:51Z</td>\n",
       "      <td>0</td>\n",
       "    </tr>\n",
       "    <tr>\n",
       "      <th>53</th>\n",
       "      <td>11209</td>\n",
       "      <td>0.000017</td>\n",
       "      <td>52776</td>\n",
       "      <td>-2</td>\n",
       "      <td>executive</td>\n",
       "      <td>0</td>\n",
       "      <td>http://dealbook.nytimes.com/2013/05/17/a-toeho...</td>\n",
       "      <td>nyt</td>\n",
       "      <td>0</td>\n",
       "      <td>[chinese investors, overseas companies, politi...</td>\n",
       "      <td>14</td>\n",
       "      <td>Chinese investors are increasingly opting to b...</td>\n",
       "      <td>Chinese investors are increasingly opting to b...</td>\n",
       "      <td>2013-05-17T11:47:51Z</td>\n",
       "      <td>0</td>\n",
       "    </tr>\n",
       "  </tbody>\n",
       "</table>\n",
       "</div>"
      ],
      "text/plain": [
       "    result_id   seconds  task_id  score search_words appears_in_sentence  \\\n",
       "50      11195  0.000021    52776      2    executive                   0   \n",
       "51      11205  0.000018    52776     -1    executive                   0   \n",
       "52      11207  0.000017    52776      1    executive                   0   \n",
       "53      11209  0.000017    52776     -2    executive                   0   \n",
       "\n",
       "                                                  url media  \\\n",
       "50  http://dealbook.nytimes.com/2013/05/17/a-toeho...   nyt   \n",
       "51  http://dealbook.nytimes.com/2013/05/17/a-toeho...   nyt   \n",
       "52  http://dealbook.nytimes.com/2013/05/17/a-toeho...   nyt   \n",
       "53  http://dealbook.nytimes.com/2013/05/17/a-toeho...   nyt   \n",
       "\n",
       "   appears_in_noun_phrases                                       noun_phrases  \\\n",
       "50                       0  [chinese investors, overseas companies, politi...   \n",
       "51                       0  [chinese investors, overseas companies, politi...   \n",
       "52                       0  [chinese investors, overseas companies, politi...   \n",
       "53                       0  [chinese investors, overseas companies, politi...   \n",
       "\n",
       "   sentence_id                                               text  \\\n",
       "50          14  Chinese investors are increasingly opting to b...   \n",
       "51          14  Chinese investors are increasingly opting to b...   \n",
       "52          14  Chinese investors are increasingly opting to b...   \n",
       "53          14  Chinese investors are increasingly opting to b...   \n",
       "\n",
       "                                             sentence              pub_date  \\\n",
       "50  Chinese investors are increasingly opting to b...  2013-05-17T11:47:51Z   \n",
       "51  Chinese investors are increasingly opting to b...  2013-05-17T11:47:51Z   \n",
       "52  Chinese investors are increasingly opting to b...  2013-05-17T11:47:51Z   \n",
       "53  Chinese investors are increasingly opting to b...  2013-05-17T11:47:51Z   \n",
       "\n",
       "   is_company  \n",
       "50          0  \n",
       "51          0  \n",
       "52          0  \n",
       "53          0  "
      ]
     },
     "execution_count": 36,
     "metadata": {},
     "output_type": "execute_result"
    }
   ],
   "source": [
    "def json_to_series(info):\n",
    "    keys, values = zip(*info.iteritems())\n",
    "    return pd.Series(values, index=keys)\n",
    "\n",
    "bossa_info = bossa_tasks_scores[\"info\"].apply(json_to_series)\n",
    "bossa_info.reset_index()\n",
    "bossa = pd.concat([bossa_tasks_scores, bossa_info], axis=1)\n",
    "bossa.pop(\"info\")\n",
    "# bossa['id'] = bossa['id'].astype(float)\n",
    "bossa.ix[50:53]"
   ]
  },
  {
   "cell_type": "markdown",
   "metadata": {},
   "source": [
    "Aggregate\n",
    "---------"
   ]
  },
  {
   "cell_type": "markdown",
   "metadata": {},
   "source": [
    "We now aggregate calculating the average per `sentence_id` using a group by. In the process, we lose the source of the data, that's why we first have to save it."
   ]
  },
  {
   "cell_type": "code",
   "execution_count": 37,
   "metadata": {
    "collapsed": false
   },
   "outputs": [],
   "source": [
    "bossa.to_csv(\"sentiment/scores_ungrouped.csv\", encoding=\"utf8\")"
   ]
  },
  {
   "cell_type": "markdown",
   "metadata": {},
   "source": [
    "Finally, we aggregate and create a new `DataFrame` for the different sentences and their score."
   ]
  },
  {
   "cell_type": "code",
   "execution_count": 38,
   "metadata": {
    "collapsed": false
   },
   "outputs": [
    {
     "name": "stdout",
     "output_type": "stream",
     "text": [
      "score    8996\n",
      "dtype: int64\n"
     ]
    },
    {
     "data": {
      "text/html": [
       "<div style=\"max-height:1000px;max-width:1500px;overflow:auto;\">\n",
       "<table border=\"1\" class=\"dataframe\">\n",
       "  <thead>\n",
       "    <tr style=\"text-align: right;\">\n",
       "      <th></th>\n",
       "      <th>score</th>\n",
       "    </tr>\n",
       "    <tr>\n",
       "      <th>sentence</th>\n",
       "      <th></th>\n",
       "    </tr>\n",
       "  </thead>\n",
       "  <tbody>\n",
       "    <tr>\n",
       "      <th>'We must hope after so much prevarication that this time Google's proposals represent a genuine attempt to address the concerns identified,' said David Wood, the legal counsel for Icomp, an industry group backed by Microsoft and a number of other companies.</th>\n",
       "      <td>-0.333333</td>\n",
       "    </tr>\n",
       "    <tr>\n",
       "      <th>'We must push our leaders to step up and commit to action,' said Hugh Evans, the founder and chief executive of the charity.</th>\n",
       "      <td>-0.285714</td>\n",
       "    </tr>\n",
       "    <tr>\n",
       "      <th>'We need them to tell the story of how we are making decisions and putting the organization together,' said George Postolos, the Astros' president and chief executive, who added that the team would not want a broadcaster who was uncomfortable explaining the front office's strategy.</th>\n",
       "      <td>-0.666667</td>\n",
       "    </tr>\n",
       "  </tbody>\n",
       "</table>\n",
       "</div>"
      ],
      "text/plain": [
       "                                                                                                                                                                                                                                                                                               score\n",
       "sentence                                                                                                                                                                                                                                                                                            \n",
       "'We must hope after so much prevarication that this time Google's proposals represent a genuine attempt to address the concerns identified,' said David Wood, the legal counsel for Icomp, an industry group backed by Microsoft and a number of other companies.                          -0.333333\n",
       "'We must push our leaders to step up and commit to action,' said Hugh Evans, the founder and chief executive of the charity.                                                                                                                                                               -0.285714\n",
       "'We need them to tell the story of how we are making decisions and putting the organization together,' said George Postolos, the Astros' president and chief executive, who added that the team would not want a broadcaster who was uncomfortable explaining the front office's strategy. -0.666667"
      ]
     },
     "execution_count": 38,
     "metadata": {},
     "output_type": "execute_result"
    }
   ],
   "source": [
    "sentences = bossa.groupby(['sentence'])[['score']].aggregate(np.average)\n",
    "sentences.to_csv(\"sentiment/scores.csv\", encoding=\"utf8\")\n",
    "print(sentences.count())\n",
    "sentences[1001:1004]"
   ]
  },
  {
   "cell_type": "markdown",
   "metadata": {},
   "source": [
    "Sentence Classifier\n",
    "-------------------"
   ]
  },
  {
   "cell_type": "code",
   "execution_count": 39,
   "metadata": {
    "collapsed": false
   },
   "outputs": [],
   "source": [
    "from nltk.corpus import stopwords\n",
    "from sklearn.cross_validation import cross_val_score\n",
    "from sklearn.grid_search import GridSearchCV\n",
    "from sklearn.feature_extraction.text import CountVectorizer, TfidfTransformer, TfidfVectorizer\n",
    "from sklearn.linear_model import SGDClassifier\n",
    "from sklearn.metrics import precision_recall_fscore_support\n",
    "from sklearn.naive_bayes import MultinomialNB, BernoulliNB\n",
    "from sklearn.pipeline import Pipeline\n",
    "from sklearn.svm import LinearSVC"
   ]
  },
  {
   "cell_type": "markdown",
   "metadata": {},
   "source": [
    "Create the tranining and testing sets (data and labels) from a randomized version of the set of assessed sentences."
   ]
  },
  {
   "cell_type": "code",
   "execution_count": 40,
   "metadata": {
    "collapsed": false
   },
   "outputs": [
    {
     "data": {
      "text/plain": [
       "sentence    8996\n",
       "score       8996\n",
       "dtype: int64"
      ]
     },
     "execution_count": 40,
     "metadata": {},
     "output_type": "execute_result"
    }
   ],
   "source": [
    "sentences.reset_index().count()"
   ]
  },
  {
   "cell_type": "markdown",
   "metadata": {},
   "source": [
    "We could consider 3 classes, but it toruns out that using binary classficication seems to produce better results. Still, try multi-classs classifiers is something worth trying."
   ]
  },
  {
   "cell_type": "code",
   "execution_count": 41,
   "metadata": {
    "collapsed": false
   },
   "outputs": [
    {
     "name": "stdout",
     "output_type": "stream",
     "text": [
      "pos 2939 4281 755\n",
      "neg 2939 2498 440\n"
     ]
    },
    {
     "name": "stderr",
     "output_type": "stream",
     "text": [
      "/home/antonio/.virtualenvs/lexisnexis/lib/python2.7/site-packages/IPython/kernel/__main__.py:4: SettingWithCopyWarning: \n",
      "A value is trying to be set on a copy of a slice from a DataFrame.\n",
      "Try using .loc[row_indexer,col_indexer] = value instead\n",
      "\n",
      "See the the caveats in the documentation: http://pandas.pydata.org/pandas-docs/stable/indexing.html#indexing-view-versus-copy\n"
     ]
    }
   ],
   "source": [
    "raw_scores = sentences.reset_index()\n",
    "scores = raw_scores\n",
    "scores = scores[scores.score!=0]  # We ignore the neutral sentences\n",
    "scores['sentiment'] = scores['score'].apply(lambda s: 'pos' if s > 0 else 'neg')\n",
    "percentage = 0.85  #  percentage for training, rest for for testing\n",
    "# We split to have enough representativenesss for both positive and negative sentiments\n",
    "sent_min = min(\n",
    "    scores[scores.sentiment=='pos'].sentiment.count(),\n",
    "    scores[scores.sentiment=='neg'].sentiment.count(),\n",
    ")\n",
    "scores = scores[[\"sentence\", \"sentiment\"]]\n",
    "train_data = np.array([])\n",
    "train_labels = np.array([])\n",
    "test_data = np.array([])\n",
    "test_labels = np.array([])\n",
    "for sent in ('pos', 'neg'):\n",
    "    sent_scores = scores[scores['sentiment']==sent]\n",
    "    sent_scores = sent_scores.reindex(np.random.permutation(sent_scores.index))\n",
    "    sent_sentences_count = int(sent_scores['sentence'].count())\n",
    "    sent_train = sent_scores[[\"sentence\", \"sentiment\"]][:int(sent_sentences_count * percentage)]\n",
    "    sent_test = sent_scores[[\"sentence\", \"sentiment\"]][int(sent_sentences_count * percentage) + 1:]\n",
    "    print(sent, sent_min, sent_train.sentiment.count(), sent_test.sentiment.count())\n",
    "    train_data = np.append(train_data, sent_train[\"sentence\"])\n",
    "    train_labels = np.append(train_labels, sent_train[\"sentiment\"])\n",
    "    test_data = np.append(test_data, sent_test[\"sentence\"])\n",
    "    test_labels = np.append(test_labels, sent_test[\"sentiment\"])"
   ]
  },
  {
   "cell_type": "code",
   "execution_count": 42,
   "metadata": {
    "collapsed": false
   },
   "outputs": [],
   "source": [
    "document_df = scores[['sentence', 'sentiment']]\n",
    "document_df = document_df.reindex(np.random.permutation(document_df.index))"
   ]
  },
  {
   "cell_type": "code",
   "execution_count": 43,
   "metadata": {
    "collapsed": false
   },
   "outputs": [
    {
     "data": {
      "text/plain": [
       "7178"
      ]
     },
     "execution_count": 43,
     "metadata": {},
     "output_type": "execute_result"
    }
   ],
   "source": [
    "size = int(len(document_df) * 0.9)\n",
    "size"
   ]
  },
  {
   "cell_type": "code",
   "execution_count": 44,
   "metadata": {
    "collapsed": true
   },
   "outputs": [],
   "source": [
    "# Author: Peter Prettenhofer <peter.prettenhofer@gmail.com>\n",
    "#         Olivier Grisel <olivier.grisel@ensta.org>\n",
    "#         Mathieu Blondel <mathieu@mblondel.org>\n",
    "#         Lars Buitinck <L.J.Buitinck@uva.nl>\n",
    "# License: BSD 3 clause\n",
    "\n",
    "from __future__ import print_function\n",
    "\n",
    "import logging\n",
    "import numpy as np\n",
    "from optparse import OptionParser\n",
    "import sys\n",
    "from time import time\n",
    "import matplotlib.pyplot as plt\n",
    "\n",
    "from sklearn.datasets import fetch_20newsgroups\n",
    "from sklearn.feature_extraction.text import TfidfVectorizer\n",
    "from sklearn.feature_extraction.text import HashingVectorizer\n",
    "from sklearn.feature_selection import SelectKBest, chi2\n",
    "from sklearn.linear_model import RidgeClassifier\n",
    "from sklearn.pipeline import Pipeline\n",
    "from sklearn.svm import LinearSVC\n",
    "from sklearn.linear_model import SGDClassifier\n",
    "from sklearn.linear_model import Perceptron\n",
    "from sklearn.linear_model import PassiveAggressiveClassifier\n",
    "from sklearn.naive_bayes import BernoulliNB, MultinomialNB\n",
    "from sklearn.neighbors import KNeighborsClassifier\n",
    "from sklearn.neighbors import NearestCentroid\n",
    "from sklearn.ensemble import RandomForestClassifier\n",
    "from sklearn.utils.extmath import density\n",
    "from sklearn import metrics"
   ]
  },
  {
   "cell_type": "code",
   "execution_count": 45,
   "metadata": {
    "collapsed": true
   },
   "outputs": [],
   "source": [
    "# Display progress logs on stdout\n",
    "logging.basicConfig(level=logging.INFO,\n",
    "                    format='%(asctime)s %(levelname)s %(message)s')"
   ]
  },
  {
   "cell_type": "code",
   "execution_count": 56,
   "metadata": {
    "collapsed": false
   },
   "outputs": [
    {
     "name": "stdout",
     "output_type": "stream",
     "text": [
      "Loading sentences for categories:\n",
      "['pos']\n",
      "data loaded\n"
     ]
    }
   ],
   "source": [
    "categories = [\n",
    "    'pos',\n",
    "    'neg',\n",
    "]\n",
    "print(\"Loading sentences for categories:\")\n",
    "print(categories if categories else \"all\")\n",
    "data_train = document_df[:size]\n",
    "data_test = document_df[size:]\n",
    "print('data loaded')"
   ]
  },
  {
   "cell_type": "code",
   "execution_count": 154,
   "metadata": {
    "collapsed": false
   },
   "outputs": [
    {
     "data": {
      "text/plain": [
       "pos    5037\n",
       "neg    2939\n",
       "dtype: int64"
      ]
     },
     "execution_count": 154,
     "metadata": {},
     "output_type": "execute_result"
    }
   ],
   "source": [
    "document_df['sentiment'].value_counts()"
   ]
  },
  {
   "cell_type": "code",
   "execution_count": 152,
   "metadata": {
    "collapsed": false
   },
   "outputs": [
    {
     "data": {
      "text/plain": [
       "pos    4540\n",
       "neg    2638\n",
       "dtype: int64"
      ]
     },
     "execution_count": 152,
     "metadata": {},
     "output_type": "execute_result"
    }
   ],
   "source": [
    "data_train['sentiment'].value_counts()"
   ]
  },
  {
   "cell_type": "code",
   "execution_count": 57,
   "metadata": {
    "collapsed": false
   },
   "outputs": [
    {
     "data": {
      "text/plain": [
       "array([0, 1, 1, ..., 1, 1, 1])"
      ]
     },
     "execution_count": 57,
     "metadata": {},
     "output_type": "execute_result"
    }
   ],
   "source": [
    "train_labels = np.array(map(lambda x: 1 if x == 'pos' else 0, data_train['sentiment']))\n",
    "train_labels"
   ]
  },
  {
   "cell_type": "code",
   "execution_count": 58,
   "metadata": {
    "collapsed": false
   },
   "outputs": [
    {
     "data": {
      "text/plain": [
       "array([1, 1, 1, 1, 0, 1, 1, 0, 0, 1, 0, 1, 0, 0, 1, 0, 0, 0, 1, 0, 0, 0, 1,\n",
       "       0, 1, 0, 1, 1, 0, 1, 1, 0, 0, 0, 0, 1, 0, 0, 0, 0, 0, 0, 1, 0, 1, 0,\n",
       "       0, 1, 1, 1, 1, 1, 1, 1, 1, 0, 1, 0, 1, 0, 1, 1, 1, 0, 1, 1, 1, 1, 1,\n",
       "       1, 1, 1, 1, 1, 0, 1, 1, 1, 1, 0, 0, 0, 1, 0, 0, 1, 1, 0, 1, 0, 1, 1,\n",
       "       1, 1, 1, 1, 1, 0, 0, 1, 0, 1, 1, 0, 0, 1, 1, 0, 1, 1, 1, 1, 0, 0, 1,\n",
       "       1, 1, 1, 1, 1, 1, 1, 0, 1, 0, 1, 1, 1, 1, 1, 0, 1, 0, 1, 0, 1, 0, 1,\n",
       "       0, 1, 1, 1, 0, 1, 1, 1, 1, 1, 1, 1, 1, 0, 1, 1, 1, 0, 0, 0, 1, 0, 0,\n",
       "       0, 0, 0, 1, 0, 1, 0, 1, 1, 0, 1, 1, 1, 1, 1, 0, 1, 0, 0, 1, 1, 1, 1,\n",
       "       1, 0, 1, 0, 1, 1, 1, 1, 1, 1, 1, 1, 1, 1, 1, 0, 1, 1, 1, 1, 1, 1, 1,\n",
       "       0, 1, 1, 1, 1, 1, 0, 1, 0, 0, 1, 1, 1, 1, 1, 0, 0, 1, 1, 1, 1, 0, 1,\n",
       "       1, 0, 0, 1, 0, 0, 1, 0, 1, 1, 1, 0, 1, 1, 1, 1, 0, 1, 0, 1, 1, 1, 0,\n",
       "       1, 1, 0, 1, 1, 1, 1, 0, 0, 0, 1, 1, 1, 1, 0, 0, 1, 1, 1, 0, 0, 0, 1,\n",
       "       1, 0, 0, 0, 0, 0, 1, 1, 1, 0, 1, 0, 0, 1, 0, 0, 1, 0, 1, 1, 1, 1, 1,\n",
       "       0, 0, 1, 0, 0, 1, 0, 0, 1, 1, 1, 1, 1, 1, 1, 0, 1, 1, 1, 0, 0, 1, 0,\n",
       "       1, 1, 1, 1, 0, 0, 1, 0, 1, 1, 0, 1, 0, 1, 0, 1, 1, 1, 0, 0, 1, 1, 0,\n",
       "       1, 0, 0, 1, 1, 1, 0, 1, 0, 0, 1, 1, 1, 0, 1, 0, 1, 1, 1, 1, 1, 1, 1,\n",
       "       1, 1, 1, 1, 0, 0, 0, 1, 1, 0, 1, 1, 1, 1, 1, 1, 1, 1, 1, 1, 0, 1, 1,\n",
       "       1, 1, 0, 0, 1, 0, 1, 1, 0, 1, 0, 1, 0, 1, 1, 1, 0, 1, 1, 1, 1, 1, 1,\n",
       "       0, 1, 1, 0, 1, 0, 1, 1, 0, 1, 0, 1, 1, 0, 0, 1, 0, 1, 0, 1, 1, 1, 1,\n",
       "       1, 0, 0, 0, 1, 0, 0, 1, 0, 1, 0, 1, 1, 0, 0, 0, 0, 1, 1, 0, 0, 1, 0,\n",
       "       1, 1, 1, 0, 0, 1, 0, 1, 1, 0, 1, 1, 1, 0, 1, 0, 1, 1, 0, 0, 1, 1, 1,\n",
       "       1, 0, 0, 1, 1, 1, 1, 0, 0, 1, 1, 1, 1, 1, 0, 1, 1, 1, 1, 0, 1, 0, 1,\n",
       "       0, 1, 0, 1, 1, 1, 1, 1, 0, 0, 0, 0, 0, 1, 0, 0, 1, 1, 0, 1, 1, 1, 1,\n",
       "       1, 1, 0, 0, 0, 1, 1, 1, 1, 0, 0, 1, 0, 1, 1, 0, 0, 1, 1, 1, 1, 1, 1,\n",
       "       0, 0, 0, 0, 1, 1, 0, 1, 1, 0, 0, 1, 0, 0, 0, 1, 1, 0, 1, 1, 1, 1, 1,\n",
       "       0, 1, 1, 0, 1, 0, 1, 1, 1, 1, 0, 1, 0, 1, 1, 1, 1, 1, 1, 1, 1, 1, 1,\n",
       "       1, 1, 1, 1, 0, 0, 1, 1, 1, 1, 0, 1, 0, 1, 1, 1, 1, 1, 0, 0, 0, 1, 1,\n",
       "       1, 1, 1, 1, 0, 0, 1, 0, 0, 1, 1, 0, 1, 0, 1, 1, 1, 0, 1, 1, 1, 0, 0,\n",
       "       0, 1, 0, 1, 1, 1, 1, 1, 1, 0, 1, 0, 1, 0, 1, 1, 0, 0, 1, 0, 1, 0, 1,\n",
       "       0, 1, 0, 1, 0, 1, 0, 1, 0, 0, 0, 1, 1, 1, 1, 0, 0, 1, 1, 0, 0, 0, 1,\n",
       "       1, 1, 0, 1, 1, 1, 0, 0, 1, 1, 0, 0, 1, 1, 1, 0, 0, 1, 0, 1, 1, 1, 1,\n",
       "       1, 0, 0, 0, 1, 0, 1, 0, 1, 1, 1, 1, 1, 0, 0, 0, 0, 1, 1, 0, 0, 1, 1,\n",
       "       0, 0, 0, 1, 1, 1, 0, 1, 1, 0, 1, 0, 1, 1, 1, 1, 1, 0, 0, 0, 1, 0, 1,\n",
       "       1, 1, 0, 0, 0, 1, 1, 1, 0, 0, 1, 0, 0, 0, 0, 1, 1, 0, 1, 0, 1, 1, 0,\n",
       "       1, 1, 0, 1, 1, 0, 1, 1, 1, 1, 1, 1, 1, 1, 1, 0])"
      ]
     },
     "execution_count": 58,
     "metadata": {},
     "output_type": "execute_result"
    }
   ],
   "source": [
    "test_labels = np.array(map(lambda x: 1 if x == 'pos' else 0, data_test['sentiment']))\n",
    "test_labels"
   ]
  },
  {
   "cell_type": "code",
   "execution_count": 59,
   "metadata": {
    "collapsed": false
   },
   "outputs": [
    {
     "name": "stdout",
     "output_type": "stream",
     "text": [
      "7178 documents - 1.296MB (training set)\n",
      "798 documents - 0.145MB (test set)\n",
      "1 categories\n",
      "\n"
     ]
    }
   ],
   "source": [
    "def size_mb(docs):\n",
    "    return sum(len(s.encode('utf-8')) for s in docs) / 1e6\n",
    "\n",
    "data_train_size_mb = size_mb(data_train['sentence'])\n",
    "data_test_size_mb = size_mb(data_test['sentence'])\n",
    "\n",
    "print(\"%d documents - %0.3fMB (training set)\" % (\n",
    "    len(data_train), data_train_size_mb))\n",
    "print(\"%d documents - %0.3fMB (test set)\" % (\n",
    "    len(data_test), data_test_size_mb))\n",
    "print(\"%d categories\" % len(categories))\n",
    "print()"
   ]
  },
  {
   "cell_type": "code",
   "execution_count": 157,
   "metadata": {
    "collapsed": false
   },
   "outputs": [
    {
     "name": "stdout",
     "output_type": "stream",
     "text": [
      "Extracting features from the training data using a sparse vectorizer\n",
      "done in 0.316482s at 4.096MB/s\n",
      "n_samples: 7178, n_features: 20204\n",
      "\n",
      "Extracting features from the test data using the same vectorizer\n",
      "done in 0.027072s at 5.357MB/s\n",
      "n_samples: 798, n_features: 20204\n",
      "\n"
     ]
    }
   ],
   "source": [
    "# split a training set and a test set\n",
    "y_train = train_labels\n",
    "y_test = test_labels\n",
    "\n",
    "print(\"Extracting features from the training data using a sparse vectorizer\")\n",
    "t0 = time()\n",
    "vectorizer = TfidfVectorizer(sublinear_tf=True, max_df=0.5,\n",
    "                             stop_words='english')\n",
    "X_train = vectorizer.fit_transform(data_train.sentence.tolist())\n",
    "duration = time() - t0\n",
    "print(\"done in %fs at %0.3fMB/s\" % (duration, data_train_size_mb / duration))\n",
    "print(\"n_samples: %d, n_features: %d\" % X_train.shape)\n",
    "print()\n",
    "\n",
    "print(\"Extracting features from the test data using the same vectorizer\")\n",
    "t0 = time()\n",
    "X_test = vectorizer.transform(data_test.sentence.tolist())\n",
    "duration = time() - t0\n",
    "print(\"done in %fs at %0.3fMB/s\" % (duration, data_test_size_mb / duration))\n",
    "print(\"n_samples: %d, n_features: %d\" % X_test.shape)\n",
    "print()"
   ]
  },
  {
   "cell_type": "code",
   "execution_count": 158,
   "metadata": {
    "collapsed": false
   },
   "outputs": [
    {
     "name": "stdout",
     "output_type": "stream",
     "text": [
      "Extracting 100 best features by a chi-squared test\n",
      "done in 0.021732s\n",
      "\n"
     ]
    }
   ],
   "source": [
    "# mapping from integer feature name to original token string\n",
    "feature_names = vectorizer.get_feature_names()\n",
    "opts_select_chi2 = 100\n",
    "\n",
    "print(\"Extracting %d best features by a chi-squared test\" %\n",
    "      opts_select_chi2)\n",
    "t0 = time()\n",
    "ch2 = SelectKBest(chi2, k=opts_select_chi2)\n",
    "X_train = ch2.fit_transform(X_train2, y_train)\n",
    "X_test = ch2.transform(X_test2)\n",
    "if feature_names:\n",
    "    # keep selected feature names\n",
    "    feature_names = [feature_names[i] for i\n",
    "                     in ch2.get_support(indices=True)]\n",
    "print(\"done in %fs\" % (time() - t0))\n",
    "print()\n",
    "\n",
    "feature_names = np.asarray(feature_names)"
   ]
  },
  {
   "cell_type": "code",
   "execution_count": 159,
   "metadata": {
    "collapsed": false
   },
   "outputs": [
    {
     "data": {
      "text/plain": [
       "array([u'accusations', u'accused', u'affected', u'alan', u'allegations',\n",
       "       u'anti', u'argument', u'arrested', u'asked', u'attacked',\n",
       "       u'authorities', u'ban', u'best', u'branch', u'bribes', u'case',\n",
       "       u'cases', u'charged', u'charges', u'civil', u'comment',\n",
       "       u'communication', u'continuing', u'controversy', u'corrupt',\n",
       "       u'corruption', u'creative', u'crimes', u'criminal', u'crisis',\n",
       "       u'cut', u'death', u'debate', u'debt', u'declined', u'demanding',\n",
       "       u'depuy', u'didn', u'difficult', u'emergency', u'entrepreneur',\n",
       "       u'error', u'evidence', u'fallen', u'fell', u'force', u'forced',\n",
       "       u'frustrated', u'gained', u'government', u'groom', u'guilty',\n",
       "       u'halt', u'ignored', u'include', u'information', u'invested',\n",
       "       u'investigation', u'irish', u'killed', u'killing', u'lawsuit',\n",
       "       u'lose', u'losing', u'losses', u'lost', u'mails', u'marriage',\n",
       "       u'mckesson', u'mobile', u'paid', u'plane', u'political',\n",
       "       u'problems', u'prosecutors', u'rate', u'regional', u'respond',\n",
       "       u'revelations', u'rifle', u'rival', u'rose', u'rowe', u'scrutiny',\n",
       "       u'seeking', u'shooting', u'shut', u'situation', u'space', u'split',\n",
       "       u'stack', u'sued', u'tax', u'tensions', u'told', u'trading',\n",
       "       u'troubled', u'warned', u'win', u'world'], \n",
       "      dtype='<U13')"
      ]
     },
     "execution_count": 159,
     "metadata": {},
     "output_type": "execute_result"
    }
   ],
   "source": [
    "feature_names"
   ]
  },
  {
   "cell_type": "code",
   "execution_count": 160,
   "metadata": {
    "collapsed": true
   },
   "outputs": [],
   "source": [
    "def trim(s):\n",
    "    \"\"\"Trim string to fit on terminal (assuming 80-column display)\"\"\"\n",
    "    return s if len(s) < 80 else s[:75] + \"...\""
   ]
  },
  {
   "cell_type": "code",
   "execution_count": 161,
   "metadata": {
    "collapsed": true
   },
   "outputs": [],
   "source": [
    "###############################################################################\n",
    "# Benchmark classifiers\n",
    "def benchmark(clf):\n",
    "    print('_' * 80)\n",
    "    print(\"Training: \")\n",
    "    print(clf)\n",
    "    t0 = time()\n",
    "#     print(X_train)\n",
    "#     print(y_train)\n",
    "    clf.fit(X_train, y_train)\n",
    "    train_time = time() - t0\n",
    "    print(\"train time: %0.3fs\" % train_time)\n",
    "\n",
    "    t0 = time()\n",
    "    pred = clf.predict(X_test)\n",
    "    test_time = time() - t0\n",
    "    print(\"test time:  %0.3fs\" % test_time)\n",
    "\n",
    "    score = metrics.accuracy_score(y_test, pred)\n",
    "    print(\"accuracy:   %0.3f\" % score)\n",
    "\n",
    "    if hasattr(clf, 'coef_'):\n",
    "        print(\"dimensionality: %d\" % clf.coef_.shape[1])\n",
    "        print(\"density: %f\" % density(clf.coef_))\n",
    "\n",
    "        print('qqq',clf.coef_)\n",
    "        \n",
    "#         if feature_names is not None:\n",
    "#             print(\"top 10 keywords per class:\")\n",
    "#             for i, category in enumerate(categories):\n",
    "#                 print('>>>',i, category)\n",
    "#                 print('www',np.argsort(clf.coef_[i]))\n",
    "#                 top10 = np.argsort(clf.coef_[i])[-10:]\n",
    "#                 print(trim(\"%s: %s\"\n",
    "#                       % (category, \" \".join(feature_names[top10]))))\n",
    "#         print()\n",
    "\n",
    "#     print(\"classification report:\")\n",
    "#     print(metrics.classification_report(y_test, pred,\n",
    "#                                         target_names=categories))\n",
    "\n",
    "#     print(\"confusion matrix:\")\n",
    "#     print(metrics.confusion_matrix(y_test, pred))\n",
    "\n",
    "#     print()\n",
    "    clf_descr = str(clf).split('(')[0]\n",
    "    return clf_descr, score, train_time, test_time"
   ]
  },
  {
   "cell_type": "code",
   "execution_count": 163,
   "metadata": {
    "collapsed": false
   },
   "outputs": [
    {
     "name": "stdout",
     "output_type": "stream",
     "text": [
      "================================================================================\n",
      "Ridge Classifier\n",
      "________________________________________________________________________________\n",
      "Training: \n",
      "RidgeClassifier(alpha=1.0, class_weight=None, copy_X=True, fit_intercept=True,\n",
      "        max_iter=None, normalize=False, solver='lsqr', tol=0.01)\n",
      "train time: 0.003s\n",
      "test time:  0.000s\n",
      "accuracy:   0.640\n",
      "dimensionality: 100\n",
      "density: 1.000000\n",
      "qqq [[-0.7785368  -1.98189247 -0.89114253  1.60014917 -1.15351357 -1.36344483\n",
      "  -1.08850574 -0.92794378 -1.01573221 -1.37152361 -1.73277926 -1.32201106\n",
      "   1.46526856 -1.57679288 -1.04829823 -0.85705399 -1.0082471  -1.34641828\n",
      "  -1.04758941 -1.44718821 -1.64557821 -1.08749362 -0.89510937 -1.03374526\n",
      "  -1.0386594  -1.34048572  1.59099442 -1.10876083 -1.14244446 -1.08377148\n",
      "  -1.05826181 -1.37417744 -1.19219979 -1.87190988 -1.09412298 -0.97750747\n",
      "  -0.87450528 -1.30267786 -2.22062275 -1.70010277  1.21078341 -1.12370563\n",
      "  -1.68711491 -1.30494986 -1.91160844 -1.45230552 -1.64971998 -1.21103026\n",
      "   1.35158955 -0.85389679  1.26355676 -1.09419359 -1.0459518  -1.3443838\n",
      "   1.19102873 -0.94638433  1.53748049 -1.96681381 -0.77349887 -1.86699609\n",
      "  -1.03313596 -1.56214568 -1.51686504 -1.24982161 -1.29105445 -1.53594003\n",
      "  -0.96925754 -1.26936285 -0.87622745  1.31067497 -1.25353808 -1.52059307\n",
      "  -1.54591405 -1.11157681 -0.92351603 -1.2344844  -1.19438305 -1.05944948\n",
      "  -1.03834975 -1.22379512 -1.62555146  1.26426033 -1.15890842 -0.82756818\n",
      "  -1.11702988 -1.24381906 -1.20679741 -1.24344739  1.5032989  -1.30819311\n",
      "  -0.94854536 -1.54407715 -1.74336125 -1.41004817 -1.85028662 -0.64590606\n",
      "  -1.1181121  -1.69505512  1.26166452  1.30560916]]\n",
      "================================================================================\n",
      "Perceptron\n",
      "________________________________________________________________________________\n",
      "Training: \n",
      "Perceptron(alpha=0.0001, class_weight=None, eta0=1.0, fit_intercept=True,\n",
      "      n_iter=50, n_jobs=1, penalty=None, random_state=0, shuffle=True,\n",
      "      verbose=0, warm_start=False)\n",
      "train time: 0.015s\n",
      "test time:  0.000s\n",
      "accuracy:   0.444\n",
      "dimensionality: 100\n",
      "density: 1.000000\n",
      "qqq [[-0.5335122  -0.16511454  0.00374413  0.48295704 -0.1601605   0.13537801\n",
      "  -0.02309218 -0.55704241  0.08029599 -0.3415274  -0.04028362 -0.51794795\n",
      "   0.16182623 -0.18308933 -0.47915366  0.00272184 -0.44229246 -0.03284175\n",
      "   0.09967849 -0.13049082 -0.08857961 -0.59862664 -0.06061582 -0.26512979\n",
      "  -0.29895648 -0.23065064  0.10973617 -0.53932572 -0.1779774  -0.28218344\n",
      "  -0.17013736 -0.07778489 -0.04678277  0.03071914  0.01696396 -0.50072726\n",
      "  -0.25707113  0.14075555  0.22639308 -0.08603145  0.2474953  -0.20903327\n",
      "  -0.25046047 -0.33029966 -0.27934157  0.20697446 -0.30893246 -0.51634666\n",
      "   0.19834124 -0.03078869  0.28922023 -0.24178922 -0.48720787 -0.09278479\n",
      "   0.01430205  0.00515991  0.09630574 -0.17358165 -0.35031081 -0.44341692\n",
      "  -0.37480508 -0.32128729 -0.14539398  0.047395    0.02231356  0.22821498\n",
      "   0.05634859  0.1653762  -0.40196764 -0.11904994  0.13550692 -0.59837004\n",
      "  -0.08719124 -0.18268264 -0.45662964  0.02041625 -0.05599357 -0.28254726\n",
      "  -0.30629781 -0.26176554 -0.09628565  0.25667685 -0.29040098 -0.3455929\n",
      "  -0.1017149  -0.25781251 -0.52715729  0.0917351   0.2192905  -0.18858361\n",
      "  -0.60476668 -0.18159957 -0.15193851 -0.38017419 -0.09567245 -0.14982897\n",
      "  -0.09807826 -0.31042324  0.45786867  0.15961873]]\n",
      "================================================================================\n",
      "Passive-Aggressive\n",
      "________________________________________________________________________________\n",
      "Training: \n",
      "PassiveAggressiveClassifier(C=1.0, fit_intercept=True, loss='hinge',\n",
      "              n_iter=50, n_jobs=1, random_state=None, shuffle=True,\n",
      "              verbose=0, warm_start=False)\n",
      "train time: 0.012s\n",
      "test time:  0.000s\n",
      "accuracy:   0.645\n",
      "dimensionality: 100\n",
      "density: 1.000000\n",
      "qqq [[ -7.33206165  -8.36197857  -4.61962526   7.78825785  -5.47414838\n",
      "   -6.44621197  -6.72113203  -4.98037909  -2.5057394   -9.7598641\n",
      "   -6.94557641  -6.83117861   2.2324048   -6.87098756  -8.26545165\n",
      "   -0.49070672  -6.6888239   -6.97302494   0.4884308   -7.29326908\n",
      "   -5.41171165  -8.43264221  -5.59237847  -6.55995677 -10.4536262\n",
      "   -6.89234876   2.29899355  -5.47417419  -5.85194062  -3.21679394\n",
      "   -2.01957559  -4.04149507  -5.89083108  -6.31724235  -5.23636316\n",
      "   -6.49747263  -6.61786361  -4.43196885  -7.30901064  -6.30717531\n",
      "    2.39879526  -6.82764023  -8.08043313  -4.82144943  -6.39136207\n",
      "   -5.67743416  -7.62424991  -6.70506604   4.71334442   0.4684114\n",
      "    1.4530736   -6.54398722 -10.38632071  -8.86611025   2.63967669\n",
      "   -1.56449586   6.60615701  -7.34407658  -5.26144457  -8.47528347\n",
      "  -10.73224487  -7.65213507  -5.24638575  -6.11686615  -5.75278318\n",
      "   -6.38505918  -4.46953843  -6.81471725  -5.76807061   2.32991725\n",
      "   -4.55717787 -10.84912036  -7.31685528  -4.90436884  -6.19169117\n",
      "   -5.11535281  -7.78026095  -5.34184305  -7.54740763  -7.03097805\n",
      "   -5.89811882   1.45301692  -5.80258128  -4.93856395  -3.42372446\n",
      "   -5.51783989  -7.64273245  -4.89534963   2.3109714   -5.70795714\n",
      "   -5.34522608  -7.17170525  -5.50772429  -6.34517247  -7.0747951\n",
      "    0.91023274  -6.5875733   -6.28431869   2.58502484   1.95053865]]\n",
      "================================================================================\n",
      "kNN\n",
      "________________________________________________________________________________\n",
      "Training: \n",
      "KNeighborsClassifier(algorithm='auto', leaf_size=30, metric='minkowski',\n",
      "           metric_params=None, n_neighbors=10, p=2, weights='uniform')\n",
      "train time: 0.001s\n",
      "test time:  0.086s\n",
      "accuracy:   0.645\n",
      "================================================================================\n",
      "Random forest\n",
      "________________________________________________________________________________\n",
      "Training: \n",
      "RandomForestClassifier(bootstrap=True, class_weight=None, criterion='gini',\n",
      "            max_depth=None, max_features='auto', max_leaf_nodes=None,\n",
      "            min_samples_leaf=1, min_samples_split=2,\n",
      "            min_weight_fraction_leaf=0.0, n_estimators=100, n_jobs=1,\n",
      "            oob_score=False, random_state=None, verbose=0,\n",
      "            warm_start=False)\n",
      "train time: 3.971s\n",
      "test time:  0.044s\n",
      "accuracy:   0.630\n",
      "================================================================================\n",
      "L2 penalty\n",
      "________________________________________________________________________________\n",
      "Training: \n",
      "LinearSVC(C=1.0, class_weight=None, dual=False, fit_intercept=True,\n",
      "     intercept_scaling=1, loss='l2', max_iter=1000, multi_class='ovr',\n",
      "     penalty='l2', random_state=None, tol=0.001, verbose=0)\n",
      "train time: 0.009s\n",
      "test time:  0.000s\n",
      "accuracy:   0.643\n",
      "dimensionality: 100\n",
      "density: 1.000000\n",
      "qqq [[-1.22986655 -2.8797962  -1.37997532  1.98329001 -1.69213103 -1.88584115\n",
      "  -1.62298298 -1.29652653 -1.33330799 -2.33932794 -2.27022985 -1.98069259\n",
      "   1.56307506 -1.99957265 -1.70066372 -1.10870363 -1.31444949 -1.76665247\n",
      "  -1.10141322 -1.91330641 -2.05569662 -1.90937253 -1.47014965 -1.64751456\n",
      "  -1.70414889 -1.82317901  1.60970192 -1.72182209 -1.43261379 -1.25061541\n",
      "  -1.35748834 -1.76401925 -1.7043403  -2.19192346 -1.47365121 -1.72462834\n",
      "  -1.41160892 -1.61662299 -2.87965559 -2.27845436  1.01955155 -1.87056861\n",
      "  -2.37987797 -1.7250652  -2.37257025 -1.8680382  -2.41723734 -1.96844352\n",
      "   1.53644854 -1.02002765  1.27558095 -1.67465736 -1.76885207 -2.30183206\n",
      "   1.15105238 -1.19498831  1.72090728 -2.42411818 -1.16877943 -2.65225109\n",
      "  -1.66177938 -1.95967368 -2.11227217 -1.80244051 -1.76580216 -1.92756889\n",
      "  -1.23920275 -2.00097864 -1.40933741  1.1251498  -1.5593961  -2.38920295\n",
      "  -2.03469734 -1.39210877 -1.18319196 -1.59892679 -1.83423257 -1.33781378\n",
      "  -1.6200614  -2.03662411 -2.04443999  1.33212855 -1.91981171 -1.28778148\n",
      "  -1.42792822 -1.80471603 -1.78013656 -1.58552673  1.6587165  -1.96582077\n",
      "  -1.5533382  -2.32527301 -2.15229023 -2.24807352 -2.37569127 -0.90752519\n",
      "  -1.82795793 -2.38797646  1.47958459  1.00428882]]\n",
      "________________________________________________________________________________\n",
      "Training: \n",
      "SGDClassifier(alpha=0.0001, average=False, class_weight=None, epsilon=0.1,\n",
      "       eta0=0.0, fit_intercept=True, l1_ratio=0.15,\n",
      "       learning_rate='optimal', loss='hinge', n_iter=50, n_jobs=1,\n",
      "       penalty='l2', power_t=0.5, random_state=None, shuffle=True,\n",
      "       verbose=0, warm_start=False)\n",
      "train time: 0.027s\n",
      "test time:  0.000s\n",
      "accuracy:   0.644\n",
      "dimensionality: 100\n",
      "density: 1.000000\n",
      "qqq [[ -1.46292519e+00  -4.10170820e+00  -1.42292252e+00   3.79764243e-01\n",
      "   -2.62861093e+00  -2.65229752e+00  -2.01869920e+00  -1.99058879e+00\n",
      "   -2.38710546e+00  -2.39721453e+00  -3.55675200e+00  -2.50250827e+00\n",
      "    1.22482146e-03  -3.79429652e+00  -2.01821989e+00  -2.26210567e+00\n",
      "   -1.86541127e+00  -2.70032692e+00  -2.70042030e+00  -3.06818206e+00\n",
      "   -4.14666927e+00  -1.90815604e+00  -1.90077184e+00  -2.11761212e+00\n",
      "   -1.95018804e+00  -2.71463440e+00   7.60578216e-03  -1.87133311e+00\n",
      "   -2.21718084e+00  -2.34600648e+00  -2.62581724e+00  -2.93340177e+00\n",
      "   -2.56518490e+00  -4.57277651e+00  -2.74441157e+00  -1.88327463e+00\n",
      "   -1.88344407e+00  -3.17142255e+00  -4.82085106e+00  -3.55260370e+00\n",
      "   -1.80808509e-03  -2.11952087e+00  -3.66986220e+00  -2.81301968e+00\n",
      "   -4.81505165e+00  -3.00793946e+00  -3.17149973e+00  -2.40379320e+00\n",
      "    5.01236758e-01  -1.95536943e+00   8.02215912e-03  -2.27961430e+00\n",
      "   -1.96903704e+00  -2.37676553e+00   4.65697497e-03  -2.36506664e+00\n",
      "    4.05642449e-01  -4.60638611e+00  -9.79222119e-01  -4.10221134e+00\n",
      "   -1.99250882e+00  -2.85985823e+00  -2.94801296e+00  -2.24409879e+00\n",
      "   -2.27075219e+00  -2.97073495e+00  -2.09569322e+00  -2.36218158e+00\n",
      "   -1.88819671e+00  -7.70998387e-03  -3.48342659e+00  -3.04385250e+00\n",
      "   -3.10019179e+00  -2.63901866e+00  -2.08012488e+00  -2.73376574e+00\n",
      "   -2.41405848e+00  -2.02084416e+00  -2.20519689e+00  -2.33514964e+00\n",
      "   -3.56344108e+00   6.27096631e-05  -2.26444611e+00  -1.61060833e+00\n",
      "   -1.96527388e+00  -2.60496233e+00  -2.59073885e+00  -2.13005040e+00\n",
      "    1.14394579e-02  -2.61043793e+00  -1.96167618e+00  -2.82616748e+00\n",
      "   -4.79440466e+00  -2.75237714e+00  -6.17644159e+00  -1.06782140e+00\n",
      "   -2.14096486e+00  -3.67093065e+00   1.37186445e-02   3.53560873e-03]]\n",
      "================================================================================\n",
      "L1 penalty\n",
      "________________________________________________________________________________\n",
      "Training: \n",
      "LinearSVC(C=1.0, class_weight=None, dual=False, fit_intercept=True,\n",
      "     intercept_scaling=1, loss='l2', max_iter=1000, multi_class='ovr',\n",
      "     penalty='l1', random_state=None, tol=0.001, verbose=0)\n",
      "train time: 0.004s\n",
      "test time:  0.000s\n",
      "accuracy:   0.643\n",
      "dimensionality: 100\n",
      "density: 1.000000\n",
      "qqq [[-1.82600625 -4.07579158 -1.77383615  2.40034046 -2.11935606 -2.14400068\n",
      "  -2.01295814 -1.48105722 -1.39056359 -3.80016693 -2.92628492 -2.56754709\n",
      "   1.60678522 -2.26961468 -2.93898505 -1.06588099 -1.45468829 -2.44287044\n",
      "  -0.88851484 -2.26611038 -2.28536707 -3.41584726 -1.90542806 -2.19044678\n",
      "  -2.66771837 -2.29888175  1.70381197 -2.710952   -1.72149606 -1.24830931\n",
      "  -1.37320802 -1.93371815 -2.02040619 -2.49720064 -1.52171479 -2.97277917\n",
      "  -2.00386381 -1.74836007 -3.62096937 -2.87372333  1.03343972 -2.71736174\n",
      "  -3.58157592 -2.00204992 -2.70708445 -2.14611103 -3.21465366 -3.09795482\n",
      "   1.6837292  -0.97578791  1.28113745 -2.097487   -2.75460593 -3.80633643\n",
      "   1.09607759 -1.22975491  1.96477709 -2.77522737 -1.40064131 -3.72887019\n",
      "  -3.10942926 -2.48994438 -2.63383486 -2.28773744 -2.1427678  -2.22687643\n",
      "  -1.32771579 -2.7099205  -1.93317692  1.15915269 -1.61802956 -3.99997228\n",
      "  -2.39905977 -1.42519295 -1.13609405 -1.78877964 -2.61644624 -1.53706585\n",
      "  -2.81640869 -3.35579242 -2.33176546  1.34802877 -2.83555054 -1.55092435\n",
      "  -1.54695725 -1.92152496 -2.32301637 -1.9015349   1.88317114 -2.59354656\n",
      "  -2.11517536 -3.13150352 -2.38067994 -3.24421599 -2.58903657 -0.79708495\n",
      "  -2.9968381  -3.03387127  1.61676948  0.97994181]]\n",
      "________________________________________________________________________________\n",
      "Training: \n",
      "SGDClassifier(alpha=0.0001, average=False, class_weight=None, epsilon=0.1,\n",
      "       eta0=0.0, fit_intercept=True, l1_ratio=0.15,\n",
      "       learning_rate='optimal', loss='hinge', n_iter=50, n_jobs=1,\n",
      "       penalty='l1', power_t=0.5, random_state=None, shuffle=True,\n",
      "       verbose=0, warm_start=False)\n",
      "train time: 0.027s\n",
      "test time:  0.000s\n",
      "accuracy:   0.643\n",
      "dimensionality: 100\n",
      "density: 0.950000\n",
      "qqq [[ -1.15993257e-02  -8.90573057e+00  -2.49027111e+00   8.30361470e-03\n",
      "   -3.91822684e+00  -5.03513628e+00  -4.80463660e+00  -2.13867467e+00\n",
      "   -3.29990538e+00  -6.22457934e+00  -6.41180628e+00  -5.54230456e+00\n",
      "    5.65437928e-03  -7.27696434e+00  -3.32854132e+00  -2.14056981e+00\n",
      "   -3.39834388e+00  -6.13620218e+00  -2.30808768e+00  -5.38483801e+00\n",
      "   -6.37706826e+00  -4.36166196e+00  -2.15532261e+00  -3.87993401e+00\n",
      "   -5.96580069e+00  -4.44440346e+00   8.34504730e-03  -4.06456734e+00\n",
      "   -3.58519486e+00  -3.15475846e+00  -1.73551039e+00  -5.15141563e+00\n",
      "   -3.54291120e+00  -7.10265418e+00  -3.65885735e+00  -4.89870342e+00\n",
      "   -1.92953728e+00  -3.93737446e+00  -7.55930632e+00  -6.71191378e+00\n",
      "    0.00000000e+00  -4.86618361e+00  -7.57918512e+00  -4.76988653e+00\n",
      "   -7.18726828e+00  -6.07015495e+00  -8.01015996e+00  -4.84131010e+00\n",
      "    9.01591289e-03  -9.46977390e-03   0.00000000e+00  -4.83432757e+00\n",
      "   -3.17363160e+00  -6.57188881e+00   0.00000000e+00  -3.02593828e+00\n",
      "    0.00000000e+00  -8.07934647e+00  -2.14616428e-02  -6.72588118e+00\n",
      "   -3.39521401e+00  -7.68364596e+00  -4.79517146e+00  -6.64951297e+00\n",
      "   -4.86918469e+00  -5.73790150e+00  -4.39255536e+00  -6.77895435e+00\n",
      "   -2.03002103e+00   0.00000000e+00  -5.10303042e+00  -8.00551810e+00\n",
      "   -6.69876020e+00  -3.10810306e+00  -1.89123579e+00  -4.20349200e+00\n",
      "   -4.50138589e+00  -2.72707693e+00  -2.46459289e+00  -5.80316464e+00\n",
      "   -6.42012201e+00   2.43901507e-03  -4.82908899e+00  -1.19127824e+00\n",
      "   -1.97796210e+00  -4.03016646e+00  -4.02291636e+00  -3.43637686e+00\n",
      "    1.64896405e-03  -5.46759565e+00  -3.71855423e+00  -7.00313538e+00\n",
      "   -6.16674159e+00  -6.06038217e+00  -7.80551976e+00  -2.12977840e-02\n",
      "   -4.65919651e+00  -7.36007198e+00   2.67916096e-03   5.33979391e-03]]\n",
      "================================================================================\n",
      "Elastic-Net penalty\n",
      "________________________________________________________________________________\n",
      "Training: \n",
      "SGDClassifier(alpha=0.0001, average=False, class_weight=None, epsilon=0.1,\n",
      "       eta0=0.0, fit_intercept=True, l1_ratio=0.15,\n",
      "       learning_rate='optimal', loss='hinge', n_iter=50, n_jobs=1,\n",
      "       penalty='elasticnet', power_t=0.5, random_state=None, shuffle=True,\n",
      "       verbose=0, warm_start=False)\n",
      "train time: 0.031s\n",
      "test time:  0.000s\n",
      "accuracy:   0.650\n",
      "dimensionality: 100\n",
      "density: 0.980000\n",
      "qqq [[ -1.25552199e+00  -4.61454297e+00  -1.48481944e+00   2.58126696e-01\n",
      "   -2.75896249e+00  -2.93414403e+00  -2.19103170e+00  -1.90610054e+00\n",
      "   -2.53230582e+00  -2.62988207e+00  -3.58099959e+00  -2.76160803e+00\n",
      "    6.39129861e-03  -4.08618084e+00  -2.01078547e+00  -2.30406880e+00\n",
      "   -1.89868483e+00  -2.75724699e+00  -2.79853597e+00  -3.34603999e+00\n",
      "   -4.19161370e+00  -2.05903984e+00  -2.02796036e+00  -2.17198573e+00\n",
      "   -2.10562936e+00  -2.86974332e+00   0.00000000e+00  -2.03772251e+00\n",
      "   -2.39653092e+00  -2.55730204e+00  -2.57602257e+00  -3.25728792e+00\n",
      "   -2.82596952e+00  -4.74618552e+00  -2.70096804e+00  -2.02397134e+00\n",
      "   -2.01983516e+00  -3.37229541e+00  -5.29164044e+00  -3.81205856e+00\n",
      "    9.11432246e-03  -2.30528163e+00  -3.79475076e+00  -3.13329384e+00\n",
      "   -4.88958781e+00  -3.26137202e+00  -3.55192992e+00  -2.63675674e+00\n",
      "    4.42579690e-01  -1.87250869e+00   2.35087708e-03  -2.50521200e+00\n",
      "   -2.12977806e+00  -2.61079143e+00   1.72800292e-02  -2.23832002e+00\n",
      "    3.02496194e-01  -4.90265225e+00  -9.92776167e-01  -4.33762888e+00\n",
      "   -1.90037426e+00  -2.85941353e+00  -3.27813282e+00  -2.45534678e+00\n",
      "   -2.49061088e+00  -3.30342790e+00  -2.18306036e+00  -2.58305014e+00\n",
      "   -2.02978948e+00   4.33367143e-03  -3.65237455e+00  -3.13987631e+00\n",
      "   -3.42256733e+00  -2.67657011e+00  -2.15578058e+00  -2.77144250e+00\n",
      "   -2.42230054e+00  -2.00837092e+00  -2.10489587e+00  -2.55802922e+00\n",
      "   -3.78837571e+00   1.38527138e-02  -2.47344733e+00  -1.70632945e+00\n",
      "   -1.91036661e+00  -2.56833758e+00  -2.86002208e+00  -2.13329674e+00\n",
      "    8.53172689e-03  -2.80927061e+00  -2.11246760e+00  -3.13943767e+00\n",
      "   -5.05074893e+00  -3.04421967e+00  -6.50510091e+00  -9.65584778e-01\n",
      "   -2.33632925e+00  -3.84960540e+00   9.84869745e-03   0.00000000e+00]]\n",
      "================================================================================\n",
      "NearestCentroid (aka Rocchio classifier)\n",
      "________________________________________________________________________________\n",
      "Training: \n",
      "NearestCentroid(metric='euclidean', shrink_threshold=None)\n",
      "train time: 0.004s\n",
      "test time:  0.000s\n",
      "accuracy:   0.647\n",
      "================================================================================\n",
      "Naive Bayes\n",
      "________________________________________________________________________________\n",
      "Training: \n",
      "MultinomialNB(alpha=0.01, class_prior=None, fit_prior=True)\n",
      "train time: 0.003s\n",
      "test time:  0.000s\n",
      "accuracy:   0.638\n",
      "dimensionality: 100\n",
      "density: 1.000000\n",
      "qqq [[-10.23692027  -7.09109556  -6.81809714  -4.15863724  -6.94871049\n",
      "   -5.51211214  -7.0097165  -10.23692027  -3.96972139 -10.23692027\n",
      "   -6.11351055  -6.30008148  -2.97439395  -4.88786165 -10.23692027\n",
      "   -3.86340352  -5.63162334  -6.99072096  -5.02865929  -5.89485979\n",
      "   -5.2979658  -10.23692027  -6.83214576  -6.99174091 -10.23692027\n",
      "   -7.07349394  -3.28667159 -10.23692027  -5.91789392  -4.75157221\n",
      "   -4.26221159  -5.25105629  -5.88426822  -5.3327699   -4.84190553\n",
      "  -10.23692027 -10.23692027  -4.64876526  -6.01913989  -6.03813683\n",
      "   -1.95924853  -7.21284861  -7.08526538  -5.9381538   -4.83299259\n",
      "   -4.9085527   -6.02296458 -10.23692027  -3.78983244  -3.2956474\n",
      "   -3.55971837  -6.70032274 -10.23692027  -7.13706005  -2.95768755\n",
      "   -3.72853609  -3.81734764  -5.35052011  -6.28386612 -10.23692027\n",
      "  -10.23692027  -5.45284199  -6.38528296  -5.80608756  -5.59433991\n",
      "   -4.82707115  -5.90976595  -6.86480495 -10.23692027  -2.59760249\n",
      "   -4.32538668 -10.23692027  -4.73671002  -4.10770244  -6.43599849\n",
      "   -5.28559379  -6.48433391  -6.42967831 -10.23692027 -10.23692027\n",
      "   -4.75905966  -3.22595843 -10.23692027 -10.23692027  -5.34873335\n",
      "  -10.23692027 -10.23692027  -5.42051862  -3.78605625  -6.82451646\n",
      "  -10.23692027  -6.39608928  -4.64215256 -10.23692027  -3.69297648\n",
      "   -3.81176102  -7.2338768   -6.18054389  -3.90072318  -2.45073446]]\n",
      "________________________________________________________________________________\n",
      "Training: \n",
      "BernoulliNB(alpha=0.01, binarize=0.0, class_prior=None, fit_prior=True)\n",
      "train time: 0.003s\n",
      "test time:  0.000s\n",
      "accuracy:   0.644\n",
      "dimensionality: 100\n",
      "density: 1.000000\n",
      "qqq [[-13.02585688  -8.41073637  -8.41073637  -5.47572154  -8.41073637\n",
      "   -6.80925078  -8.41073637 -13.02585688  -5.28475779 -13.02585688\n",
      "   -7.31874662  -7.72255197  -4.20103194  -6.1171021  -13.02585688\n",
      "   -5.08812511  -7.03189545  -8.41073637  -6.62726195  -7.03189545\n",
      "   -6.62726195 -13.02585688  -8.41073637  -8.41073637 -13.02585688\n",
      "   -8.41073637  -4.57032635 -13.02585688  -7.31874662  -6.02188275\n",
      "   -5.64747317  -6.473349    -7.31874662  -6.80925078  -6.22235162\n",
      "  -13.02585688 -13.02585688  -6.02188275  -7.31874662  -7.31874662\n",
      "   -2.92347749  -8.41073637  -8.41073637  -7.72255197  -6.22235162\n",
      "   -6.22235162  -7.31874662 -13.02585688  -5.28475779  -4.39515645\n",
      "   -5.08812511  -8.41073637 -13.02585688  -8.41073637  -4.10306526\n",
      "   -4.95463834  -5.3291898   -6.62726195  -7.72255197 -13.02585688\n",
      "  -13.02585688  -6.62726195  -7.72255197  -7.31874662  -6.80925078\n",
      "   -6.22235162  -7.72255197  -8.41073637 -13.02585688  -3.76663111\n",
      "   -5.71197005 -13.02585688  -5.8549684   -5.42445455  -7.72255197\n",
      "   -6.473349    -7.72255197  -7.72255197 -13.02585688 -13.02585688\n",
      "   -6.02188275  -4.73155727 -13.02585688 -13.02585688  -6.473349\n",
      "  -13.02585688 -13.02585688  -6.80925078  -5.16220562  -8.41073637\n",
      "  -13.02585688  -7.72255197  -5.93494706 -13.02585688  -4.83689002\n",
      "   -5.08812511  -8.41073637  -7.72255197  -5.47572154  -3.50795828]]\n",
      "================================================================================\n",
      "LinearSVC with L1-based feature selection\n",
      "________________________________________________________________________________\n",
      "Training: \n",
      "Pipeline(steps=[('feature_selection', LinearSVC(C=1.0, class_weight=None, dual=False, fit_intercept=True,\n",
      "     intercept_scaling=1, loss='squared_hinge', max_iter=1000,\n",
      "     multi_class='ovr', penalty='l1', random_state=None, tol=0.001,\n",
      "     verbose=0)), ('classification', LinearSVC(C=1.0, class_weight=None, dual=True, fit_intercept=True,\n",
      "     intercept_scaling=1, loss='squared_hinge', max_iter=1000,\n",
      "     multi_class='ovr', penalty='l2', random_state=None, tol=0.0001,\n",
      "     verbose=0))])\n",
      "train time: 0.028s\n",
      "test time:  0.002s\n",
      "accuracy:   0.643\n"
     ]
    },
    {
     "name": "stderr",
     "output_type": "stream",
     "text": [
      "/home/antonio/.virtualenvs/lexisnexis/local/lib/python2.7/site-packages/sklearn/svm/classes.py:192: DeprecationWarning: loss='l2' has been deprecated in favor of loss='squared_hinge' as of 0.16. Backward compatibility for the loss='l2' will be removed in 1.0\n",
      "  DeprecationWarning)\n",
      "/home/antonio/.virtualenvs/lexisnexis/local/lib/python2.7/site-packages/sklearn/svm/classes.py:192: DeprecationWarning: loss='l2' has been deprecated in favor of loss='squared_hinge' as of 0.16. Backward compatibility for the loss='l2' will be removed in 1.0\n",
      "  DeprecationWarning)\n"
     ]
    }
   ],
   "source": [
    "results = []\n",
    "for clf, name in (\n",
    "        (RidgeClassifier(tol=1e-2, solver=\"lsqr\"), \"Ridge Classifier\"),\n",
    "        (Perceptron(n_iter=50), \"Perceptron\"),\n",
    "        (PassiveAggressiveClassifier(n_iter=50), \"Passive-Aggressive\"),\n",
    "        (KNeighborsClassifier(n_neighbors=10), \"kNN\"),\n",
    "        (RandomForestClassifier(n_estimators=100), \"Random forest\")\n",
    "    ):\n",
    "    print('=' * 80)\n",
    "    print(name)\n",
    "    results.append(benchmark(clf))\n",
    "\n",
    "for penalty in [\"l2\", \"l1\"]:\n",
    "    print('=' * 80)\n",
    "    print(\"%s penalty\" % penalty.upper())\n",
    "    # Train Liblinear model\n",
    "    results.append(benchmark(LinearSVC(loss='l2', penalty=penalty,\n",
    "                                            dual=False, tol=1e-3)))\n",
    "\n",
    "    # Train SGD model\n",
    "    results.append(benchmark(SGDClassifier(alpha=.0001, n_iter=50,\n",
    "                                           penalty=penalty)))\n",
    "\n",
    "# Train SGD with Elastic Net penalty\n",
    "print('=' * 80)\n",
    "print(\"Elastic-Net penalty\")\n",
    "results.append(benchmark(SGDClassifier(alpha=.0001, n_iter=50,\n",
    "                                       penalty=\"elasticnet\")))\n",
    "\n",
    "# Train NearestCentroid without threshold\n",
    "print('=' * 80)\n",
    "print(\"NearestCentroid (aka Rocchio classifier)\")\n",
    "results.append(benchmark(NearestCentroid()))\n",
    "\n",
    "# Train sparse Naive Bayes classifiers\n",
    "print('=' * 80)\n",
    "print(\"Naive Bayes\")\n",
    "results.append(benchmark(MultinomialNB(alpha=.01)))\n",
    "results.append(benchmark(BernoulliNB(alpha=.01)))\n",
    "\n",
    "print('=' * 80)\n",
    "print(\"LinearSVC with L1-based feature selection\")\n",
    "# The smaller C, the stronger the regularization.\n",
    "# The more regularization, the more sparsity.\n",
    "results.append(benchmark(Pipeline([\n",
    "  ('feature_selection', LinearSVC(penalty=\"l1\", dual=False, tol=1e-3)),\n",
    "  ('classification', LinearSVC())\n",
    "])))\n",
    "\n",
    "# make some plots\n",
    "\n",
    "indices = np.arange(len(results))\n",
    "\n",
    "results = [[x[i] for x in results] for i in range(4)]\n",
    "\n",
    "clf_names, score, training_time, test_time = results\n",
    "training_time = np.array(training_time) / np.max(training_time)\n",
    "test_time = np.array(test_time) / np.max(test_time)\n",
    "\n",
    "plt.figure(figsize=(12, 8))\n",
    "plt.title(\"Score\")\n",
    "plt.barh(indices, score, .2, label=\"score\", color='r')\n",
    "plt.barh(indices + .3, training_time, .2, label=\"training time\", color='g')\n",
    "plt.barh(indices + .6, test_time, .2, label=\"test time\", color='b')\n",
    "plt.yticks(())\n",
    "plt.legend(loc='best')\n",
    "plt.subplots_adjust(left=.25)\n",
    "plt.subplots_adjust(top=.95)\n",
    "plt.subplots_adjust(bottom=.05)\n",
    "\n",
    "for i, c in zip(indices, clf_names):\n",
    "    plt.text(-.3, i, c)\n",
    "\n",
    "plt.show()"
   ]
  },
  {
   "cell_type": "code",
   "execution_count": null,
   "metadata": {
    "collapsed": true
   },
   "outputs": [],
   "source": []
  },
  {
   "cell_type": "code",
   "execution_count": null,
   "metadata": {
    "collapsed": true
   },
   "outputs": [],
   "source": []
  },
  {
   "cell_type": "code",
   "execution_count": null,
   "metadata": {
    "collapsed": true
   },
   "outputs": [],
   "source": []
  },
  {
   "cell_type": "code",
   "execution_count": null,
   "metadata": {
    "collapsed": true
   },
   "outputs": [],
   "source": []
  },
  {
   "cell_type": "code",
   "execution_count": null,
   "metadata": {
    "collapsed": true
   },
   "outputs": [],
   "source": []
  }
 ],
 "metadata": {
  "kernelspec": {
   "display_name": "Python 2",
   "language": "python",
   "name": "python2"
  },
  "language_info": {
   "codemirror_mode": {
    "name": "ipython",
    "version": 2
   },
   "file_extension": ".py",
   "mimetype": "text/x-python",
   "name": "python",
   "nbconvert_exporter": "python",
   "pygments_lexer": "ipython2",
   "version": "2.7.6"
  }
 },
 "nbformat": 4,
 "nbformat_minor": 0
}
