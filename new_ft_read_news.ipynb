{
 "cells": [
  {
   "cell_type": "code",
   "execution_count": null,
   "metadata": {
    "collapsed": false
   },
   "outputs": [],
   "source": [
    "import logging\n",
    "import os\n",
    "import re\n",
    "from datetime import datetime\n",
    "from xml.etree import ElementTree\n",
    "from xml.etree.ElementTree import ParseError\n",
    "\n",
    "from pymongo import MongoClient\n",
    "from pymongo.errors import BulkWriteError"
   ]
  },
  {
   "cell_type": "markdown",
   "metadata": {},
   "source": [
    "## Logging"
   ]
  },
  {
   "cell_type": "code",
   "execution_count": null,
   "metadata": {
    "collapsed": false
   },
   "outputs": [],
   "source": [
    "try:\n",
    "    os.remove('new_ft_text.log')\n",
    "except:\n",
    "    pass\n",
    "\n",
    "logging.getLogger().handlers = []\n",
    "logging.getLogger('requests.packages.urllib3').setLevel(logging.WARNING)\n",
    "logging.basicConfig(\n",
    "    filename='new_ft_text.log',\n",
    "    level=logging.INFO,\n",
    "    format='%(asctime)s %(message)s'\n",
    ")"
   ]
  },
  {
   "cell_type": "markdown",
   "metadata": {},
   "source": [
    "## MongoDB"
   ]
  },
  {
   "cell_type": "code",
   "execution_count": null,
   "metadata": {
    "collapsed": true
   },
   "outputs": [],
   "source": [
    "client = MongoClient()\n",
    "client.drop_database('new_ft_text')\n",
    "db_text = client.new_ft_text"
   ]
  },
  {
   "cell_type": "code",
   "execution_count": null,
   "metadata": {
    "collapsed": false
   },
   "outputs": [],
   "source": [
    "# for x in DB.rows.find({'pub_date': {'$gt': '20030103', '$lt': '20030107'}}):\n",
    "#     print(x)"
   ]
  },
  {
   "cell_type": "code",
   "execution_count": null,
   "metadata": {
    "collapsed": true
   },
   "outputs": [],
   "source": [
    "def insert_rows(db, rows):\n",
    "    try:\n",
    "        db.rows.insert_many(rows, ordered=False)\n",
    "    except BulkWriteError as ex:\n",
    "        for err in ex.details['writeErrors']:\n",
    "            if err['code'] == 11000:\n",
    "                _id = err['op']['_id']\n",
    "                logging.info('BulkWriteError: {} - {}'.format(ex, _id))\n",
    "                global dups\n",
    "                dups += 1"
   ]
  },
  {
   "cell_type": "markdown",
   "metadata": {},
   "source": [
    "## Main"
   ]
  },
  {
   "cell_type": "code",
   "execution_count": null,
   "metadata": {
    "collapsed": false
   },
   "outputs": [],
   "source": [
    "def format_date(date):\n",
    "    return datetime.strptime(date, '%d-%b-%Y').strftime('%Y%m%d')\n",
    "\n",
    "def get_id(url):\n",
    "    article_id = None\n",
    "    if url:\n",
    "        match = re.findall('((\\w+-)+\\w+)', url)\n",
    "        if match:\n",
    "            article_id = match[0][0]\n",
    "        else:\n",
    "            match = re.findall('(\\?id=(\\d+))', url)\n",
    "            if match:\n",
    "                article_id = match[0][1]\n",
    "    return article_id\n",
    "\n",
    "def get_text(text):\n",
    "    result = None\n",
    "    if text:\n",
    "        result = ' '.join([p.text for p in text.findall('p') if p.text])\n",
    "    return result\n",
    "\n",
    "def parse_item(f, elem):\n",
    "    result = {}\n",
    "    result['url'] = elem.findtext('urlofdoc')\n",
    "    result['source'] = 'ftcom' if result['url'] else 'newspaper'\n",
    "    result['_id'] = elem.findtext('uuid') or get_id(result['url'])\n",
    "    result['date'] = elem.findtext('publicationdate') or format_date(elem.findtext('datearticle'))\n",
    "    result['text'] = get_text(elem.find('text'))\n",
    "    result['title'] = elem.findtext('headline')\n",
    "    return result"
   ]
  },
  {
   "cell_type": "code",
   "execution_count": null,
   "metadata": {
    "collapsed": false
   },
   "outputs": [],
   "source": [
    "%%time\n",
    "total = 0\n",
    "error = 0\n",
    "items = 0\n",
    "dups = 0\n",
    "path = '/home/antonio/git/nytimes/ft_data/all/'\n",
    "for e in os.listdir(path):\n",
    "    f = os.path.join(path, e)\n",
    "    iterparser = ElementTree.iterparse(f)\n",
    "    rows = []\n",
    "    try:\n",
    "        for event, elem in iterparser:\n",
    "            if elem.tag == 'item':\n",
    "                row = parse_item(f, elem)\n",
    "                rows.append(row)\n",
    "                elem.clear()\n",
    "                items += 1\n",
    "            elif elem.tag == 'ftcom' or elem.tag == 'ftnewspaper':\n",
    "                elem.clear()\n",
    "    except ParseError as ex:\n",
    "        logging.info('ParseError: {} - {}'.format(ex, e))\n",
    "        error += 1\n",
    "    total +=1\n",
    "    if rows:\n",
    "        insert_rows(db_text, rows)\n",
    "print('Total files:', total)\n",
    "print('Error files:', error)\n",
    "print('Total items:', items)\n",
    "print('Total dups:', dups)"
   ]
  },
  {
   "cell_type": "code",
   "execution_count": null,
   "metadata": {
    "collapsed": false
   },
   "outputs": [],
   "source": [
    "db_text.rows.count()"
   ]
  },
  {
   "cell_type": "code",
   "execution_count": null,
   "metadata": {
    "collapsed": false
   },
   "outputs": [],
   "source": [
    "db_text.rows.find_one({'_id': '030102000137'})"
   ]
  },
  {
   "cell_type": "code",
   "execution_count": null,
   "metadata": {
    "collapsed": true
   },
   "outputs": [],
   "source": []
  }
 ],
 "metadata": {
  "kernelspec": {
   "display_name": "Python 3",
   "language": "python",
   "name": "python3"
  },
  "language_info": {
   "codemirror_mode": {
    "name": "ipython",
    "version": 3
   },
   "file_extension": ".py",
   "mimetype": "text/x-python",
   "name": "python",
   "nbconvert_exporter": "python",
   "pygments_lexer": "ipython3",
   "version": "3.4.3"
  }
 },
 "nbformat": 4,
 "nbformat_minor": 0
}
