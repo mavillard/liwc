{
 "cells": [
  {
   "cell_type": "code",
   "execution_count": 3,
   "metadata": {
    "collapsed": true
   },
   "outputs": [],
   "source": [
    "import logging\n",
    "import os\n",
    "import re\n",
    "from datetime import datetime\n",
    "from xml.etree import ElementTree\n",
    "from xml.etree.ElementTree import ParseError\n",
    "\n",
    "from pymongo import MongoClient\n",
    "from pymongo.errors import BulkWriteError"
   ]
  },
  {
   "cell_type": "markdown",
   "metadata": {},
   "source": [
    "## Logging"
   ]
  },
  {
   "cell_type": "code",
   "execution_count": 2,
   "metadata": {
    "collapsed": false
   },
   "outputs": [],
   "source": [
    "try:\n",
    "    os.remove('new_ft_text.log')\n",
    "except:\n",
    "    pass\n",
    "\n",
    "logging.getLogger().handlers = []\n",
    "logging.getLogger('requests.packages.urllib3').setLevel(logging.WARNING)\n",
    "logging.basicConfig(\n",
    "    filename='new_ft_text.log',\n",
    "    level=logging.INFO,\n",
    "    format='%(asctime)s %(message)s'\n",
    ")"
   ]
  },
  {
   "cell_type": "markdown",
   "metadata": {},
   "source": [
    "## MongoDB"
   ]
  },
  {
   "cell_type": "code",
   "execution_count": 4,
   "metadata": {
    "collapsed": true
   },
   "outputs": [],
   "source": [
    "client = MongoClient()\n",
    "# client.drop_database('new_ft_text')\n",
    "db_text = client.new_ft_text"
   ]
  },
  {
   "cell_type": "code",
   "execution_count": 4,
   "metadata": {
    "collapsed": false
   },
   "outputs": [],
   "source": [
    "def insert_rows(db, rows):\n",
    "    try:\n",
    "        db.rows.insert_many(rows, ordered=False)\n",
    "    except BulkWriteError as ex:\n",
    "        for err in ex.details['writeErrors']:\n",
    "            if err['code'] == 11000:\n",
    "                _id = err['op']['_id']\n",
    "                logging.info('BulkWriteError: {} - {}'.format(ex, _id))\n",
    "                global dups\n",
    "                dups += 1"
   ]
  },
  {
   "cell_type": "markdown",
   "metadata": {},
   "source": [
    "## Main"
   ]
  },
  {
   "cell_type": "code",
   "execution_count": 5,
   "metadata": {
    "collapsed": false
   },
   "outputs": [],
   "source": [
    "def format_date(date):\n",
    "    return datetime.strptime(date, '%d-%b-%Y').strftime('%Y%m%d')\n",
    "\n",
    "def get_id(url):\n",
    "    article_id = None\n",
    "    if url:\n",
    "        match = re.findall('((\\w+-)+\\w+)', url)\n",
    "        if match:\n",
    "            article_id = match[0][0]\n",
    "        else:\n",
    "            match = re.findall('(\\?id=(\\d+))', url)\n",
    "            if match:\n",
    "                article_id = match[0][1]\n",
    "    return article_id\n",
    "\n",
    "def get_text(text):\n",
    "    result = ''\n",
    "    if text:\n",
    "        result = ' '.join([p.text for p in text.findall('p') if p.text])\n",
    "#         result = ' '.join(element.itertext())\n",
    "    return result\n",
    "\n",
    "def parse_item(f, elem):\n",
    "    result = {}\n",
    "    result['url'] = elem.findtext('urlofdoc')\n",
    "    result['source'] = 'ftcom' if result['url'] else 'newspaper'\n",
    "    result['_id'] = elem.findtext('uuid') or get_id(result['url'])\n",
    "    result['date'] = elem.findtext('publicationdate') or format_date(elem.findtext('datearticle'))\n",
    "    result['text'] = get_text(elem.find('text'))\n",
    "    result['title'] = elem.findtext('headline')\n",
    "    return result"
   ]
  },
  {
   "cell_type": "code",
   "execution_count": 6,
   "metadata": {
    "collapsed": false
   },
   "outputs": [
    {
     "name": "stdout",
     "output_type": "stream",
     "text": [
      "Total files: 281584\n",
      "Error files: 1318\n",
      "Total items: 1034401\n",
      "Total dups: 102596\n",
      "CPU times: user 6min 20s, sys: 12.9 s, total: 6min 33s\n",
      "Wall time: 7min 36s\n"
     ]
    }
   ],
   "source": [
    "%%time\n",
    "total = 0\n",
    "error = 0\n",
    "items = 0\n",
    "dups = 0\n",
    "path = '/home/antonio/git/nytimes/ft_data/all/'\n",
    "for e in os.listdir(path):\n",
    "    f = os.path.join(path, e)\n",
    "    iterparser = ElementTree.iterparse(f)\n",
    "    rows = []\n",
    "    try:\n",
    "        for event, elem in iterparser:\n",
    "            if elem.tag == 'item':\n",
    "                row = parse_item(f, elem)\n",
    "                rows.append(row)\n",
    "                elem.clear()\n",
    "                items += 1\n",
    "            elif elem.tag == 'ftcom' or elem.tag == 'ftnewspaper':\n",
    "                elem.clear()\n",
    "    except ParseError as ex:\n",
    "        logging.info('ParseError: {} - {}'.format(ex, e))\n",
    "        error += 1\n",
    "    total +=1\n",
    "    if rows:\n",
    "        insert_rows(db_text, rows)\n",
    "print('Total files:', total)\n",
    "print('Error files:', error)\n",
    "print('Total items:', items)\n",
    "print('Total dups:', dups)"
   ]
  },
  {
   "cell_type": "code",
   "execution_count": 7,
   "metadata": {
    "collapsed": false
   },
   "outputs": [
    {
     "data": {
      "text/plain": [
       "931805"
      ]
     },
     "execution_count": 7,
     "metadata": {},
     "output_type": "execute_result"
    }
   ],
   "source": [
    "db_text.rows.count()"
   ]
  },
  {
   "cell_type": "code",
   "execution_count": 8,
   "metadata": {
    "collapsed": false
   },
   "outputs": [
    {
     "data": {
      "text/plain": [
       "{'_id': '030102000137',\n",
       " 'date': '20030102',\n",
       " 'source': 'ftcom',\n",
       " 'text': 'With people tuned out for the period between Christmas and new year\\'s day, it was as good a time as any to sneak out scabrous news. New York\\'s senior senator chose instead to send out a traffic warning. The warning itself seemed serious: 8m \"unsecured\" trucks come in and out of New York every year, posing a \"serious terrorist threat\". It added: \"Over 2,000 shipments of hazardous materials enter and leave New York City by trucks each day.\" \"If we do not secure our truck fleet, this country will still be at grave risk from a terrorist attack,\" Chuck Schumer said. This is scary indeed - given the number of attacks by fuel-filled trucks on US targets in the past year. But the timing was more than a bit suspect. For one, Schumer\\'s wife is Iris Weinshall, who has been commissioner of New York City\\'s Department of Transportation for over two years. Could this have been the first time the senator and the commissioner discussed vehicular terrorist threats? The more likely explanation appears to be senatorial competition. Four days before Schumer\\'s memorandum, New York\\'s other senator - Hillary Rodham Clinton - signed a letter asking the General Accounting Office to undertake \"a detailed, comprehensive review of the vulnerability to terrorist attack of our transportation system\". Schumer was in even more competitive mood the next day when a press release declared he had completed a tour of all 62 counties in New York state - \"a feat that makes him the first senator to visit every single county for every year he has been in office.\"',\n",
       " 'title': \"OBSERVER: Travellin' man\",\n",
       " 'url': 'http://search.ft.com/search/article.html?id=030102000137'}"
      ]
     },
     "execution_count": 8,
     "metadata": {},
     "output_type": "execute_result"
    }
   ],
   "source": [
    "db_text.rows.find_one({'_id': '030102000137'})"
   ]
  },
  {
   "cell_type": "code",
   "execution_count": 9,
   "metadata": {
    "collapsed": false
   },
   "outputs": [
    {
     "data": {
      "text/plain": [
       "4221"
      ]
     },
     "execution_count": 9,
     "metadata": {},
     "output_type": "execute_result"
    }
   ],
   "source": [
    "c=0\n",
    "for x in db_text.rows.find({'text': ''}):\n",
    "    c+=1\n",
    "c"
   ]
  },
  {
   "cell_type": "code",
   "execution_count": 5,
   "metadata": {
    "collapsed": false
   },
   "outputs": [
    {
     "data": {
      "text/plain": [
       "4221"
      ]
     },
     "execution_count": 5,
     "metadata": {},
     "output_type": "execute_result"
    }
   ],
   "source": [
    "db_text = client.new_ft_text\n",
    "db_text.rows.find({'text': ''}).count()"
   ]
  },
  {
   "cell_type": "code",
   "execution_count": 10,
   "metadata": {
    "collapsed": false
   },
   "outputs": [
    {
     "data": {
      "text/plain": [
       "0"
      ]
     },
     "execution_count": 10,
     "metadata": {},
     "output_type": "execute_result"
    }
   ],
   "source": [
    "c=0\n",
    "for x in db_text.rows.find({'text': None}):\n",
    "    c+=1\n",
    "c"
   ]
  },
  {
   "cell_type": "code",
   "execution_count": 6,
   "metadata": {
    "collapsed": false
   },
   "outputs": [
    {
     "name": "stdout",
     "output_type": "stream",
     "text": [
      "20030101 - 20040101: 58874\n",
      "20040101 - 20050101: 102733\n",
      "20050101 - 20060101: 108625\n",
      "20060101 - 20070101: 111014\n",
      "20070101 - 20080101: 118309\n",
      "20080101 - 20090101: 115680\n",
      "20090101 - 20100101: 99929\n",
      "20100101 - 20110101: 50759\n",
      "20110101 - 20120101: 48629\n",
      "20120101 - 20130101: 48520\n",
      "20130101 - 20140101: 44647\n",
      "20140101 - 20150101: 24086\n",
      "20150101 - 20160101: 0\n"
     ]
    }
   ],
   "source": [
    "cur = 20030101\n",
    "while cur < 20160101:\n",
    "    nxt = cur + 10000\n",
    "    c = db_text.rows.find({'date': {\n",
    "        '$gte': str(cur),\n",
    "        '$lt': str(nxt)\n",
    "    }}).count()\n",
    "    print('{} - {}: {}'.format(cur, nxt, c))\n",
    "    cur = nxt"
   ]
  },
  {
   "cell_type": "code",
   "execution_count": null,
   "metadata": {
    "collapsed": true
   },
   "outputs": [],
   "source": []
  }
 ],
 "metadata": {
  "kernelspec": {
   "display_name": "Python 3",
   "language": "python",
   "name": "python3"
  },
  "language_info": {
   "codemirror_mode": {
    "name": "ipython",
    "version": 3
   },
   "file_extension": ".py",
   "mimetype": "text/x-python",
   "name": "python",
   "nbconvert_exporter": "python",
   "pygments_lexer": "ipython3",
   "version": "3.4.3"
  }
 },
 "nbformat": 4,
 "nbformat_minor": 0
}
