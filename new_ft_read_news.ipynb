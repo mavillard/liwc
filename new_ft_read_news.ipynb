{
 "cells": [
  {
   "cell_type": "code",
   "execution_count": 1,
   "metadata": {
    "collapsed": false
   },
   "outputs": [],
   "source": [
    "import logging\n",
    "import os\n",
    "import re\n",
    "from datetime import datetime\n",
    "from xml.etree import ElementTree\n",
    "from xml.etree.ElementTree import ParseError\n",
    "\n",
    "from pymongo import MongoClient\n",
    "from pymongo.errors import BulkWriteError"
   ]
  },
  {
   "cell_type": "markdown",
   "metadata": {},
   "source": [
    "## Logging"
   ]
  },
  {
   "cell_type": "code",
   "execution_count": 2,
   "metadata": {
    "collapsed": false
   },
   "outputs": [],
   "source": [
    "try:\n",
    "    os.remove('new_ft_to_db.log')\n",
    "except:\n",
    "    pass\n",
    "\n",
    "logging.getLogger().handlers = []\n",
    "logging.getLogger('requests.packages.urllib3').setLevel(logging.WARNING)\n",
    "logging.basicConfig(\n",
    "    filename='new_ft_to_db.log',\n",
    "    level=logging.INFO,\n",
    "    format='%(asctime)s %(message)s'\n",
    ")"
   ]
  },
  {
   "cell_type": "markdown",
   "metadata": {},
   "source": [
    "## MongoDB"
   ]
  },
  {
   "cell_type": "code",
   "execution_count": 3,
   "metadata": {
    "collapsed": true
   },
   "outputs": [],
   "source": [
    "client = MongoClient()\n",
    "client.drop_database('new_ft')\n",
    "DB = client.new_ft"
   ]
  },
  {
   "cell_type": "code",
   "execution_count": 4,
   "metadata": {
    "collapsed": false
   },
   "outputs": [],
   "source": [
    "for x in DB.qqq.find():\n",
    "    print(x)"
   ]
  },
  {
   "cell_type": "code",
   "execution_count": 5,
   "metadata": {
    "collapsed": true
   },
   "outputs": [],
   "source": [
    "def insert_rows(rows):\n",
    "#     try:\n",
    "    DB.rows.insert_many(rows, ordered=False)\n",
    "#     except Exception as e:\n",
    "#         write_log('DB INSERTION EXCEPTION', status='{}'.format(e))\n",
    "#         logging.info('ERROR')"
   ]
  },
  {
   "cell_type": "markdown",
   "metadata": {},
   "source": [
    "## Main"
   ]
  },
  {
   "cell_type": "code",
   "execution_count": null,
   "metadata": {
    "collapsed": false
   },
   "outputs": [],
   "source": [
    "def format_date(date):\n",
    "    return datetime.strptime(date, '%d-%b-%Y').strftime('%Y%m%d')\n",
    "\n",
    "def get_id(f,url):\n",
    "    article_id = None\n",
    "    if url:\n",
    "        match = re.findall('((\\w+-)+\\w+)', url)\n",
    "        if match:\n",
    "            article_id = match[0][0]\n",
    "        else:\n",
    "            match = re.findall('(\\?id=(\\d+))', url)\n",
    "            if match:\n",
    "                article_id = match[0][1]\n",
    "    return article_id\n",
    "\n",
    "def parse_item(f, elem):\n",
    "    result = {}\n",
    "    result['url'] = elem.findtext('urlofdoc')\n",
    "    result['article_id'] = elem.findtext('uuid') or get_id(f,result['url'])\n",
    "    result['pub_date'] = elem.findtext('publicationdate') or format_date(elem.findtext('datearticle'))\n",
    "    result['title'] = elem.findtext('headline')\n",
    "    return result"
   ]
  },
  {
   "cell_type": "code",
   "execution_count": null,
   "metadata": {
    "collapsed": false
   },
   "outputs": [],
   "source": [
    "total = 0\n",
    "error = 0\n",
    "path = '/home/antonio/git/nytimes/ft_data/all/'\n",
    "for e in os.listdir(path):\n",
    "    f = os.path.join(path, e)\n",
    "    iterparser = ElementTree.iterparse(f)\n",
    "    rows = []\n",
    "    try:\n",
    "        for event, elem in iterparser:\n",
    "            if elem.tag == 'item':\n",
    "                row = parse_item(f, elem)\n",
    "                rows.append(row)\n",
    "                elem.clear()\n",
    "            elif elem.tag == 'ftcom' or elem.tag == 'ftnewspaper':\n",
    "                elem.clear()\n",
    "    except ParseError as ex:\n",
    "        logging.info(e)\n",
    "        error += 1\n",
    "    total +=1\n",
    "    if rows:\n",
    "            insert_rows(rows)\n",
    "print('Total files:', total)\n",
    "print('Error files:', error)"
   ]
  },
  {
   "cell_type": "code",
   "execution_count": null,
   "metadata": {
    "collapsed": true
   },
   "outputs": [],
   "source": []
  }
 ],
 "metadata": {
  "kernelspec": {
   "display_name": "Python 3",
   "language": "python",
   "name": "python3"
  },
  "language_info": {
   "codemirror_mode": {
    "name": "ipython",
    "version": 3
   },
   "file_extension": ".py",
   "mimetype": "text/x-python",
   "name": "python",
   "nbconvert_exporter": "python",
   "pygments_lexer": "ipython3",
   "version": "3.4.0"
  }
 },
 "nbformat": 4,
 "nbformat_minor": 0
}
