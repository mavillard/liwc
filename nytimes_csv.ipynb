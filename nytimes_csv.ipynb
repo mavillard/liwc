{
 "cells": [
  {
   "cell_type": "markdown",
   "metadata": {},
   "source": [
    "#CSV builder for The New York Times"
   ]
  },
  {
   "cell_type": "code",
   "execution_count": 1,
   "metadata": {
    "collapsed": false
   },
   "outputs": [],
   "source": [
    "# import logging\n",
    "# import math\n",
    "# import os\n",
    "# from collections import defaultdict\n",
    "# from datetime import timedelta, date, datetime\n",
    "# from dateutil import parser\n",
    "# from time import sleep, time\n",
    "\n",
    "# import requests\n",
    "# import yaml\n",
    "# from joblib import Parallel, delayed\n",
    "# from pymongo import MongoClient\n",
    "# from pymongo.errors import BulkWriteError, DuplicateKeyError"
   ]
  },
  {
   "cell_type": "code",
   "execution_count": 196,
   "metadata": {
    "collapsed": false
   },
   "outputs": [],
   "source": [
    "from blaze import Data, DataFrame\n",
    "from nltk.tokenize import sent_tokenize\n",
    "from pymongo import MongoClient\n",
    "from slugify import slugify"
   ]
  },
  {
   "cell_type": "markdown",
   "metadata": {},
   "source": [
    "##MongoDB"
   ]
  },
  {
   "cell_type": "code",
   "execution_count": 3,
   "metadata": {
    "collapsed": false
   },
   "outputs": [],
   "source": [
    "client = MongoClient()\n",
    "db = client.nytimes3"
   ]
  },
  {
   "cell_type": "code",
   "execution_count": 4,
   "metadata": {
    "collapsed": false
   },
   "outputs": [],
   "source": [
    "# for d in db.articles.find():\n",
    "#     if len(d['q_info']) > 1:\n",
    "#         k = list(d['q_info'].keys())[0]\n",
    "#         if len(d['q_info'][k]) > 1:\n",
    "#             print(d['_id'])\n",
    "#             print(d['q_info'])\n",
    "#             break\n",
    "\n",
    "# 52c8a3eb38f0d862ec32236f\n",
    "# {\n",
    "# 'amazon_com': [{\n",
    "#     'q': {'page': 0, 'end_date': '20140228', 'term': '\"amazon.com\"', 'begin_date': '20140101', 'api_key': '3439a9084efa80c4f5fb1d290dfc1b44:11:70233981'},\n",
    "#     'term_category': 3,\n",
    "#     'snippet': 'Jeff Bezos, vacationing in the Galapagos Islands this week, felt some serious pain. And it wasn’t just because UPS had failed to make all of Amazon’s shipments by Christmas.'\n",
    "#     }, {\n",
    "#     'q': {'page': 0, 'begin_date': '20140101', 'end_date': '20140228', 'term': '\"amazon\"', 'api_key': 'a5c709f3168b829711241b243457e9d6:13:70235641'},\n",
    "#     'term_category': 2,\n",
    "#     'snippet': 'The Ecuadorean Navy offered Jeff Bezos same-day shipping on an <strong>Amazon</strong> Prime package: Mr. Bezos himself. Amazon’s chief executive suffered a kidney stone attack visiting the Galapagos Islands this week, according to the local'\n",
    "#     }],\n",
    "# 'executive': [{\n",
    "#     'q': {'page': 10, 'end_date': '20140116', 'term': '\"executive\"', 'begin_date': '20140101', 'api_key': 'a5c709f3168b829711241b243457e9d6:13:70235641'},\n",
    "#     'term_category': 1,\n",
    "#     'snippet': 'The Ecuadorean Navy offered Jeff Bezos same-day shipping on an Amazon Prime package: Mr. Bezos himself. Amazon’s chief <strong>executive</strong> suffered a kidney stone attack visiting the Galapagos Islands this week, according to the local'\n",
    "#     }]\n",
    "# }"
   ]
  },
  {
   "cell_type": "code",
   "execution_count": 182,
   "metadata": {
    "collapsed": false
   },
   "outputs": [],
   "source": [
    "# db.articles.find_one({'_id':'52c8a3eb38f0d862ec32236f'})"
   ]
  },
  {
   "cell_type": "code",
   "execution_count": 375,
   "metadata": {
    "collapsed": false
   },
   "outputs": [],
   "source": [
    "total_rows_df = DataFrame()\n",
    "for d in [db.articles.find_one({'_id':'52c8a3eb38f0d862ec32236f'}),\n",
    "          db.articles.find_one({'_id':'52c8a3eb38f0d862ec32236f'})]:\n",
    "    rows_df = DataFrame()\n",
    "    \n",
    "    # Texts\n",
    "    common_texts = []\n",
    "    if d['abstract']:\n",
    "        common_texts.append(d['abstract'])\n",
    "    if d['headline'] and d['headline']['main']:\n",
    "        common_texts.append(d['headline']['main'])\n",
    "    if d['lead_paragraph']:\n",
    "        common_texts.append(d['lead_paragraph'])\n",
    "    # add snippet as variable field\n",
    "    \n",
    "    # Fix fields\n",
    "#     row_id = 'row_id'\n",
    "    article_id = d['_id']\n",
    "    pub_date = d['pub_date']\n",
    "    section_name = d['section_name']\n",
    "    web_url = d['web_url']\n",
    "    \n",
    "    # Variable fields\n",
    "    for term in d['q_info']:\n",
    "        texts = list(common_texts)\n",
    "        q_info = d['q_info'][term]\n",
    "        term_category = q_info[0]['term_category']\n",
    "        search_terms = []\n",
    "        for info in q_info:\n",
    "            search_terms.append(info['q']['term'])\n",
    "            if info['snippet']:\n",
    "                texts.append(info['snippet'])\n",
    "        \n",
    "        for text in texts:\n",
    "            sentences = sent_tokenize(text)\n",
    "            for sentence in sentences:\n",
    "                if any([slugify(search_term) in slugify(sentence) for search_term in search_terms]):\n",
    "                    row_df = DataFrame(\n",
    "                        [[article_id, pub_date, section_name, web_url, term_category, term, sentence]],\n",
    "                        columns=['article_id', 'pub_date', 'section_name', 'web_url', 'term_category', 'term', 'sentence']\n",
    "                    )\n",
    "                    rows_df = rows_df.append(row_df)\n",
    "    \n",
    "    total_rows_df = total_rows_df.append(rows_df)"
   ]
  },
  {
   "cell_type": "code",
   "execution_count": 376,
   "metadata": {
    "collapsed": false
   },
   "outputs": [],
   "source": [
    "total_rows_df['term'] = total_rows_df['term'].apply(lambda x: x.replace('_', '.'))\n",
    "total_rows_df['sentence'] = total_rows_df['sentence'].apply(lambda x: x.replace('<strong>', '').replace('</strong>', ''))\n",
    "total_rows_df['sentence'] = total_rows_df['sentence'].apply(lambda x: x.replace(',', '')) # delimiter problems"
   ]
  },
  {
   "cell_type": "code",
   "execution_count": 377,
   "metadata": {
    "collapsed": false,
    "scrolled": false
   },
   "outputs": [],
   "source": [
    "total_rows_df = total_rows_df.reset_index(drop=True)"
   ]
  },
  {
   "cell_type": "code",
   "execution_count": 394,
   "metadata": {
    "collapsed": false
   },
   "outputs": [],
   "source": [
    "total_rows_df.to_csv('total_rows.csv')"
   ]
  },
  {
   "cell_type": "code",
   "execution_count": 426,
   "metadata": {
    "collapsed": false
   },
   "outputs": [],
   "source": [
    "total_rows_data = Data('total_rows.csv').relabel({'Unnamed: 0': 'row_id'})"
   ]
  },
  {
   "cell_type": "code",
   "execution_count": 427,
   "metadata": {
    "collapsed": false
   },
   "outputs": [
    {
     "data": {
      "text/html": [
       "<table border=\"1\" class=\"dataframe\">\n",
       "  <thead>\n",
       "    <tr style=\"text-align: right;\">\n",
       "      <th></th>\n",
       "      <th>row_id</th>\n",
       "      <th>article_id</th>\n",
       "      <th>pub_date</th>\n",
       "      <th>section_name</th>\n",
       "      <th>web_url</th>\n",
       "      <th>term_category</th>\n",
       "      <th>term</th>\n",
       "      <th>sentence</th>\n",
       "    </tr>\n",
       "  </thead>\n",
       "  <tbody>\n",
       "    <tr>\n",
       "      <th>0</th>\n",
       "      <td>0</td>\n",
       "      <td>52c8a3eb38f0d862ec32236f</td>\n",
       "      <td>2014-01-04 19:11:42</td>\n",
       "      <td>Technology</td>\n",
       "      <td>http://bits.blogs.nytimes.com/2014/01/04/ecuad...</td>\n",
       "      <td>3</td>\n",
       "      <td>amazon.com</td>\n",
       "      <td>And it wasn’t just because UPS had failed to m...</td>\n",
       "    </tr>\n",
       "    <tr>\n",
       "      <th>1</th>\n",
       "      <td>1</td>\n",
       "      <td>52c8a3eb38f0d862ec32236f</td>\n",
       "      <td>2014-01-04 19:11:42</td>\n",
       "      <td>Technology</td>\n",
       "      <td>http://bits.blogs.nytimes.com/2014/01/04/ecuad...</td>\n",
       "      <td>3</td>\n",
       "      <td>amazon.com</td>\n",
       "      <td>Ecuadorean Navy Delivers for Amazon Chief</td>\n",
       "    </tr>\n",
       "    <tr>\n",
       "      <th>2</th>\n",
       "      <td>2</td>\n",
       "      <td>52c8a3eb38f0d862ec32236f</td>\n",
       "      <td>2014-01-04 19:11:42</td>\n",
       "      <td>Technology</td>\n",
       "      <td>http://bits.blogs.nytimes.com/2014/01/04/ecuad...</td>\n",
       "      <td>3</td>\n",
       "      <td>amazon.com</td>\n",
       "      <td>And it wasn’t just because UPS had failed to m...</td>\n",
       "    </tr>\n",
       "    <tr>\n",
       "      <th>3</th>\n",
       "      <td>3</td>\n",
       "      <td>52c8a3eb38f0d862ec32236f</td>\n",
       "      <td>2014-01-04 19:11:42</td>\n",
       "      <td>Technology</td>\n",
       "      <td>http://bits.blogs.nytimes.com/2014/01/04/ecuad...</td>\n",
       "      <td>3</td>\n",
       "      <td>amazon.com</td>\n",
       "      <td>The Ecuadorean Navy offered Jeff Bezos same-da...</td>\n",
       "    </tr>\n",
       "    <tr>\n",
       "      <th>4</th>\n",
       "      <td>4</td>\n",
       "      <td>52c8a3eb38f0d862ec32236f</td>\n",
       "      <td>2014-01-04 19:11:42</td>\n",
       "      <td>Technology</td>\n",
       "      <td>http://bits.blogs.nytimes.com/2014/01/04/ecuad...</td>\n",
       "      <td>3</td>\n",
       "      <td>amazon.com</td>\n",
       "      <td>Amazon’s chief executive suffered a kidney sto...</td>\n",
       "    </tr>\n",
       "    <tr>\n",
       "      <th>5</th>\n",
       "      <td>5</td>\n",
       "      <td>52c8a3eb38f0d862ec32236f</td>\n",
       "      <td>2014-01-04 19:11:42</td>\n",
       "      <td>Technology</td>\n",
       "      <td>http://bits.blogs.nytimes.com/2014/01/04/ecuad...</td>\n",
       "      <td>1</td>\n",
       "      <td>executive</td>\n",
       "      <td>Amazon’s chief executive suffered a kidney sto...</td>\n",
       "    </tr>\n",
       "    <tr>\n",
       "      <th>6</th>\n",
       "      <td>6</td>\n",
       "      <td>52c8a3eb38f0d862ec32236f</td>\n",
       "      <td>2014-01-04 19:11:42</td>\n",
       "      <td>Technology</td>\n",
       "      <td>http://bits.blogs.nytimes.com/2014/01/04/ecuad...</td>\n",
       "      <td>3</td>\n",
       "      <td>amazon.com</td>\n",
       "      <td>And it wasn’t just because UPS had failed to m...</td>\n",
       "    </tr>\n",
       "    <tr>\n",
       "      <th>7</th>\n",
       "      <td>7</td>\n",
       "      <td>52c8a3eb38f0d862ec32236f</td>\n",
       "      <td>2014-01-04 19:11:42</td>\n",
       "      <td>Technology</td>\n",
       "      <td>http://bits.blogs.nytimes.com/2014/01/04/ecuad...</td>\n",
       "      <td>3</td>\n",
       "      <td>amazon.com</td>\n",
       "      <td>Ecuadorean Navy Delivers for Amazon Chief</td>\n",
       "    </tr>\n",
       "    <tr>\n",
       "      <th>8</th>\n",
       "      <td>8</td>\n",
       "      <td>52c8a3eb38f0d862ec32236f</td>\n",
       "      <td>2014-01-04 19:11:42</td>\n",
       "      <td>Technology</td>\n",
       "      <td>http://bits.blogs.nytimes.com/2014/01/04/ecuad...</td>\n",
       "      <td>3</td>\n",
       "      <td>amazon.com</td>\n",
       "      <td>And it wasn’t just because UPS had failed to m...</td>\n",
       "    </tr>\n",
       "    <tr>\n",
       "      <th>9</th>\n",
       "      <td>9</td>\n",
       "      <td>52c8a3eb38f0d862ec32236f</td>\n",
       "      <td>2014-01-04 19:11:42</td>\n",
       "      <td>Technology</td>\n",
       "      <td>http://bits.blogs.nytimes.com/2014/01/04/ecuad...</td>\n",
       "      <td>3</td>\n",
       "      <td>amazon.com</td>\n",
       "      <td>The Ecuadorean Navy offered Jeff Bezos same-da...</td>\n",
       "    </tr>\n",
       "    <tr>\n",
       "      <th>10</th>\n",
       "      <td>10</td>\n",
       "      <td>52c8a3eb38f0d862ec32236f</td>\n",
       "      <td>2014-01-04 19:11:42</td>\n",
       "      <td>Technology</td>\n",
       "      <td>http://bits.blogs.nytimes.com/2014/01/04/ecuad...</td>\n",
       "      <td>3</td>\n",
       "      <td>amazon.com</td>\n",
       "      <td>Amazon’s chief executive suffered a kidney sto...</td>\n",
       "    </tr>\n",
       "  </tbody>\n",
       "</table>"
      ],
      "text/plain": [
       "    row_id                article_id            pub_date section_name  \\\n",
       "0        0  52c8a3eb38f0d862ec32236f 2014-01-04 19:11:42   Technology   \n",
       "1        1  52c8a3eb38f0d862ec32236f 2014-01-04 19:11:42   Technology   \n",
       "2        2  52c8a3eb38f0d862ec32236f 2014-01-04 19:11:42   Technology   \n",
       "3        3  52c8a3eb38f0d862ec32236f 2014-01-04 19:11:42   Technology   \n",
       "4        4  52c8a3eb38f0d862ec32236f 2014-01-04 19:11:42   Technology   \n",
       "5        5  52c8a3eb38f0d862ec32236f 2014-01-04 19:11:42   Technology   \n",
       "6        6  52c8a3eb38f0d862ec32236f 2014-01-04 19:11:42   Technology   \n",
       "7        7  52c8a3eb38f0d862ec32236f 2014-01-04 19:11:42   Technology   \n",
       "8        8  52c8a3eb38f0d862ec32236f 2014-01-04 19:11:42   Technology   \n",
       "9        9  52c8a3eb38f0d862ec32236f 2014-01-04 19:11:42   Technology   \n",
       "10      10  52c8a3eb38f0d862ec32236f 2014-01-04 19:11:42   Technology   \n",
       "\n",
       "                                              web_url  term_category  \\\n",
       "0   http://bits.blogs.nytimes.com/2014/01/04/ecuad...              3   \n",
       "1   http://bits.blogs.nytimes.com/2014/01/04/ecuad...              3   \n",
       "2   http://bits.blogs.nytimes.com/2014/01/04/ecuad...              3   \n",
       "3   http://bits.blogs.nytimes.com/2014/01/04/ecuad...              3   \n",
       "4   http://bits.blogs.nytimes.com/2014/01/04/ecuad...              3   \n",
       "5   http://bits.blogs.nytimes.com/2014/01/04/ecuad...              1   \n",
       "6   http://bits.blogs.nytimes.com/2014/01/04/ecuad...              3   \n",
       "7   http://bits.blogs.nytimes.com/2014/01/04/ecuad...              3   \n",
       "8   http://bits.blogs.nytimes.com/2014/01/04/ecuad...              3   \n",
       "9   http://bits.blogs.nytimes.com/2014/01/04/ecuad...              3   \n",
       "10  http://bits.blogs.nytimes.com/2014/01/04/ecuad...              3   \n",
       "\n",
       "          term                                           sentence  \n",
       "0   amazon.com  And it wasn’t just because UPS had failed to m...  \n",
       "1   amazon.com          Ecuadorean Navy Delivers for Amazon Chief  \n",
       "2   amazon.com  And it wasn’t just because UPS had failed to m...  \n",
       "3   amazon.com  The Ecuadorean Navy offered Jeff Bezos same-da...  \n",
       "4   amazon.com  Amazon’s chief executive suffered a kidney sto...  \n",
       "5    executive  Amazon’s chief executive suffered a kidney sto...  \n",
       "6   amazon.com  And it wasn’t just because UPS had failed to m...  \n",
       "7   amazon.com          Ecuadorean Navy Delivers for Amazon Chief  \n",
       "8   amazon.com  And it wasn’t just because UPS had failed to m...  \n",
       "9   amazon.com  The Ecuadorean Navy offered Jeff Bezos same-da...  \n",
       "..."
      ]
     },
     "execution_count": 427,
     "metadata": {},
     "output_type": "execute_result"
    }
   ],
   "source": [
    "total_rows_data"
   ]
  },
  {
   "cell_type": "code",
   "execution_count": 405,
   "metadata": {
    "collapsed": false
   },
   "outputs": [
    {
     "data": {
      "text/plain": [
       "['row_id',\n",
       " 'article_id',\n",
       " 'pub_date',\n",
       " 'section_name',\n",
       " 'web_url',\n",
       " 'term_category',\n",
       " 'term',\n",
       " 'sentence']"
      ]
     },
     "execution_count": 405,
     "metadata": {},
     "output_type": "execute_result"
    }
   ],
   "source": [
    "total_rows_data.columns"
   ]
  },
  {
   "cell_type": "code",
   "execution_count": 421,
   "metadata": {
    "collapsed": false
   },
   "outputs": [],
   "source": [
    "d=total_rows_data.dshape.info()[1][1]"
   ]
  },
  {
   "cell_type": "code",
   "execution_count": 423,
   "metadata": {
    "collapsed": false
   },
   "outputs": [
    {
     "data": {
      "text/plain": [
       "(('Unnamed: 0', ctype(\"int64\")),\n",
       " ('article_id', ?string),\n",
       " ('pub_date', ?datetime),\n",
       " ('section_name', ?string),\n",
       " ('web_url', ?string),\n",
       " ('term_category', ctype(\"int64\")),\n",
       " ('term', ?string),\n",
       " ('sentence', ?string))"
      ]
     },
     "execution_count": 423,
     "metadata": {},
     "output_type": "execute_result"
    }
   ],
   "source": [
    "d.fields"
   ]
  },
  {
   "cell_type": "code",
   "execution_count": 388,
   "metadata": {
    "collapsed": false
   },
   "outputs": [],
   "source": [
    "iris = Data('iris.csv')"
   ]
  },
  {
   "cell_type": "code",
   "execution_count": 389,
   "metadata": {
    "collapsed": false
   },
   "outputs": [
    {
     "data": {
      "text/html": [
       "<table border=\"1\" class=\"dataframe\">\n",
       "  <thead>\n",
       "    <tr style=\"text-align: right;\">\n",
       "      <th></th>\n",
       "      <th>sepal_length</th>\n",
       "      <th>sepal_width</th>\n",
       "      <th>petal_length</th>\n",
       "      <th>petal_width</th>\n",
       "      <th>species</th>\n",
       "    </tr>\n",
       "  </thead>\n",
       "  <tbody>\n",
       "    <tr>\n",
       "      <th>0</th>\n",
       "      <td>5.1</td>\n",
       "      <td>3.5</td>\n",
       "      <td>1.4</td>\n",
       "      <td>0.2</td>\n",
       "      <td>Iris, setosa</td>\n",
       "    </tr>\n",
       "    <tr>\n",
       "      <th>1</th>\n",
       "      <td>4.9</td>\n",
       "      <td>3.0</td>\n",
       "      <td>1.4</td>\n",
       "      <td>0.2</td>\n",
       "      <td>Iris-setosa</td>\n",
       "    </tr>\n",
       "    <tr>\n",
       "      <th>2</th>\n",
       "      <td>4.7</td>\n",
       "      <td>3.2</td>\n",
       "      <td>1.3</td>\n",
       "      <td>0.2</td>\n",
       "      <td>Iris-setosa</td>\n",
       "    </tr>\n",
       "    <tr>\n",
       "      <th>3</th>\n",
       "      <td>4.6</td>\n",
       "      <td>3.1</td>\n",
       "      <td>1.5</td>\n",
       "      <td>0.2</td>\n",
       "      <td>Iris-setosa</td>\n",
       "    </tr>\n",
       "    <tr>\n",
       "      <th>4</th>\n",
       "      <td>5.0</td>\n",
       "      <td>3.6</td>\n",
       "      <td>1.4</td>\n",
       "      <td>0.2</td>\n",
       "      <td>Iris-setosa</td>\n",
       "    </tr>\n",
       "    <tr>\n",
       "      <th>5</th>\n",
       "      <td>5.4</td>\n",
       "      <td>3.9</td>\n",
       "      <td>1.7</td>\n",
       "      <td>0.4</td>\n",
       "      <td>Iris-setosa</td>\n",
       "    </tr>\n",
       "    <tr>\n",
       "      <th>6</th>\n",
       "      <td>4.6</td>\n",
       "      <td>3.4</td>\n",
       "      <td>1.4</td>\n",
       "      <td>0.3</td>\n",
       "      <td>Iris-setosa</td>\n",
       "    </tr>\n",
       "    <tr>\n",
       "      <th>7</th>\n",
       "      <td>5.0</td>\n",
       "      <td>3.4</td>\n",
       "      <td>1.5</td>\n",
       "      <td>0.2</td>\n",
       "      <td>Iris-setosa</td>\n",
       "    </tr>\n",
       "    <tr>\n",
       "      <th>8</th>\n",
       "      <td>4.4</td>\n",
       "      <td>2.9</td>\n",
       "      <td>1.4</td>\n",
       "      <td>0.2</td>\n",
       "      <td>Iris-setosa</td>\n",
       "    </tr>\n",
       "    <tr>\n",
       "      <th>9</th>\n",
       "      <td>4.9</td>\n",
       "      <td>3.1</td>\n",
       "      <td>1.5</td>\n",
       "      <td>0.1</td>\n",
       "      <td>Iris-setosa</td>\n",
       "    </tr>\n",
       "    <tr>\n",
       "      <th>10</th>\n",
       "      <td>5.4</td>\n",
       "      <td>3.7</td>\n",
       "      <td>1.5</td>\n",
       "      <td>0.2</td>\n",
       "      <td>Iris-setosa</td>\n",
       "    </tr>\n",
       "  </tbody>\n",
       "</table>"
      ],
      "text/plain": [
       "    sepal_length  sepal_width  petal_length  petal_width       species\n",
       "0            5.1          3.5           1.4          0.2  Iris, setosa\n",
       "1            4.9          3.0           1.4          0.2   Iris-setosa\n",
       "2            4.7          3.2           1.3          0.2   Iris-setosa\n",
       "3            4.6          3.1           1.5          0.2   Iris-setosa\n",
       "4            5.0          3.6           1.4          0.2   Iris-setosa\n",
       "5            5.4          3.9           1.7          0.4   Iris-setosa\n",
       "6            4.6          3.4           1.4          0.3   Iris-setosa\n",
       "7            5.0          3.4           1.5          0.2   Iris-setosa\n",
       "8            4.4          2.9           1.4          0.2   Iris-setosa\n",
       "9            4.9          3.1           1.5          0.1   Iris-setosa\n",
       "..."
      ]
     },
     "execution_count": 389,
     "metadata": {},
     "output_type": "execute_result"
    }
   ],
   "source": [
    "iris"
   ]
  },
  {
   "cell_type": "code",
   "execution_count": null,
   "metadata": {
    "collapsed": true
   },
   "outputs": [],
   "source": []
  }
 ],
 "metadata": {
  "kernelspec": {
   "display_name": "Python 3",
   "language": "python",
   "name": "python3"
  },
  "language_info": {
   "codemirror_mode": {
    "name": "ipython",
    "version": 3
   },
   "file_extension": ".py",
   "mimetype": "text/x-python",
   "name": "python",
   "nbconvert_exporter": "python",
   "pygments_lexer": "ipython3",
   "version": "3.4.0"
  }
 },
 "nbformat": 4,
 "nbformat_minor": 0
}
