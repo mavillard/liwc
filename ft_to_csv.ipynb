{
 "cells": [
  {
   "cell_type": "markdown",
   "metadata": {},
   "source": [
    "#CSV builder for The Financial Times"
   ]
  },
  {
   "cell_type": "code",
   "execution_count": 1,
   "metadata": {
    "collapsed": false
   },
   "outputs": [],
   "source": [
    "import logging\n",
    "import math\n",
    "import os\n",
    "\n",
    "from blaze import Data, DataFrame\n",
    "from joblib import Parallel, delayed\n",
    "from nltk.tokenize import sent_tokenize\n",
    "from pymongo import MongoClient\n",
    "from pymongo.errors import BulkWriteError\n",
    "from slugify import slugify"
   ]
  },
  {
   "cell_type": "markdown",
   "metadata": {},
   "source": [
    "##Logging"
   ]
  },
  {
   "cell_type": "code",
   "execution_count": 2,
   "metadata": {
    "collapsed": true
   },
   "outputs": [],
   "source": [
    "try:\n",
    "    os.remove('ft_to_csv.log')\n",
    "except:\n",
    "    pass"
   ]
  },
  {
   "cell_type": "code",
   "execution_count": 3,
   "metadata": {
    "collapsed": false
   },
   "outputs": [],
   "source": [
    "logging.getLogger().handlers = []\n",
    "logging.getLogger('requests.packages.urllib3').setLevel(logging.WARNING)\n",
    "logging.basicConfig(filename='ft_to_csv.log', level=logging.INFO, format='%(asctime)s %(message)s')"
   ]
  },
  {
   "cell_type": "code",
   "execution_count": 4,
   "metadata": {
    "collapsed": true
   },
   "outputs": [],
   "source": [
    "def write_log(*args, status=None):\n",
    "    record = '{} ==> {}'.format(args, status)\n",
    "    logging.info(record)"
   ]
  },
  {
   "cell_type": "markdown",
   "metadata": {},
   "source": [
    "##MongoDB"
   ]
  },
  {
   "cell_type": "code",
   "execution_count": 5,
   "metadata": {
    "collapsed": false
   },
   "outputs": [],
   "source": [
    "client = MongoClient()\n",
    "client.drop_database('ft_to_csv')\n",
    "db = client.ft\n",
    "db_csv = client.ft_to_csv"
   ]
  },
  {
   "cell_type": "code",
   "execution_count": 6,
   "metadata": {
    "collapsed": false
   },
   "outputs": [],
   "source": [
    "def insert_rows(rows):\n",
    "    try:\n",
    "        db_csv.rows.insert_many(rows, ordered=False)\n",
    "    except Exception as e:\n",
    "        write_log('DB INSERTION EXCEPTION', status='{}'.format(e))"
   ]
  },
  {
   "cell_type": "code",
   "execution_count": 14,
   "metadata": {
    "collapsed": false
   },
   "outputs": [],
   "source": [
    "total = db.articles.count()\n",
    "percent = math.ceil(total / 100)\n",
    "count = 0\n",
    "print('Total documents:', total)\n",
    "print()\n",
    "\n",
    "for doc in db.articles.find():\n",
    "    rows = []\n",
    "    try:\n",
    "        # Texts\n",
    "        common_texts = []\n",
    "        if doc.get('title') and isinstance(doc['title'], dict) and doc['title'].get('title'):\n",
    "            common_texts.append(doc['title']['title'])\n",
    "        if doc.get('summary') and isinstance(doc['summary'], dict) and doc['summary'].get('excerpt'):\n",
    "            common_texts.append(doc['summary']['excerpt'])\n",
    "        # add snippet as variable field NO FOR FT\n",
    "\n",
    "        # Fix fields\n",
    "        article_id = doc['_id']\n",
    "        pub_date = doc['lifecycle']['initialPublishDateTime']\n",
    "#         section_name = doc['section_name']\n",
    "        public_url = doc['location']['uri'] # ft\n",
    "        web_url = doc['apiUrl']\n",
    "\n",
    "        # Variable fields\n",
    "        for term in doc['q_info']:\n",
    "            texts = list(common_texts)\n",
    "            q_info = doc['q_info'][term]\n",
    "            term_category = q_info[0]['term_category']\n",
    "            search_terms = []\n",
    "            for info in q_info:\n",
    "                search_terms.append(info['q']['term'])\n",
    "#                 if info['snippet']:\n",
    "#                     texts.append(info['snippet'])\n",
    "\n",
    "            for text in texts:\n",
    "                sentences = sent_tokenize(text)\n",
    "                for sentence in sentences:\n",
    "                    if any([slugify(search_term) in slugify(sentence) for search_term in search_terms]):\n",
    "                        term_aux = term.replace('_', '.')\n",
    "#                         sentence_aux = sentence.replace('<strong>', '').replace('</strong>', '').replace(',', '')\n",
    "                        sentence_aux = sentence\n",
    "                        if article_id and pub_date and web_url and term_category and term_aux and sentence_aux:\n",
    "                            row = {\n",
    "                                'article_id': article_id,\n",
    "                                'pub_date': pub_date,\n",
    "#                                 'section_name': section_name,\n",
    "                                'web_url': web_url,\n",
    "                                'public_url': public_url, # ft\n",
    "                                'term_category': term_category,\n",
    "                                'term': term_aux,\n",
    "                                'sentence': sentence_aux,\n",
    "                            }\n",
    "                            rows.append(row)\n",
    "        if rows:\n",
    "            insert_rows(rows)\n",
    "\n",
    "        if count % percent == 0:\n",
    "            percentage = count // percent\n",
    "            print('{} out of {} processed.'.format(count, total))\n",
    "            print('{}% completed.'.format(percentage))\n",
    "            print()\n",
    "        count +=1\n",
    "\n",
    "    except Exception as e:\n",
    "        write_log('DOCUMENT {} PROCESS EXCEPTION'.format(doc), status='{}'.format(e))\n",
    "\n",
    "print('{} out of {} processed.'.format(total, total))\n",
    "print('100% completed.')"
   ]
  },
  {
   "cell_type": "code",
   "execution_count": 17,
   "metadata": {
    "collapsed": false
   },
   "outputs": [
    {
     "data": {
      "text/plain": [
       "0"
      ]
     },
     "execution_count": 17,
     "metadata": {},
     "output_type": "execute_result"
    }
   ],
   "source": [
    "db_csv.rows.count()"
   ]
  },
  {
   "cell_type": "code",
   "execution_count": null,
   "metadata": {
    "collapsed": true
   },
   "outputs": [],
   "source": []
  },
  {
   "cell_type": "code",
   "execution_count": null,
   "metadata": {
    "collapsed": true
   },
   "outputs": [],
   "source": []
  },
  {
   "cell_type": "code",
   "execution_count": null,
   "metadata": {
    "collapsed": true
   },
   "outputs": [],
   "source": []
  }
 ],
 "metadata": {
  "kernelspec": {
   "display_name": "Python 3",
   "language": "python",
   "name": "python3"
  },
  "language_info": {
   "codemirror_mode": {
    "name": "ipython",
    "version": 3
   },
   "file_extension": ".py",
   "mimetype": "text/x-python",
   "name": "python",
   "nbconvert_exporter": "python",
   "pygments_lexer": "ipython3",
   "version": "3.4.0"
  }
 },
 "nbformat": 4,
 "nbformat_minor": 0
}
