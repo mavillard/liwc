{
 "cells": [
  {
   "cell_type": "markdown",
   "metadata": {},
   "source": [
    "#CSV analyzer for The New York Times"
   ]
  },
  {
   "cell_type": "code",
   "execution_count": 2,
   "metadata": {
    "collapsed": false
   },
   "outputs": [],
   "source": [
    "import math\n",
    "import pickle\n",
    "from datetime import datetime\n",
    "\n",
    "import blaze\n",
    "import pandas as pd\n",
    "# from blaze import Data, DataFrame, by, join, merge, odo, into\n",
    "from dateutil.relativedelta import relativedelta\n",
    "from joblib import Parallel, delayed\n",
    "# from nltk.tokenize import sent_tokenize\n",
    "from pymongo import MongoClient\n",
    "# from slugify import slugify"
   ]
  },
  {
   "cell_type": "markdown",
   "metadata": {},
   "source": [
    "## Data"
   ]
  },
  {
   "cell_type": "code",
   "execution_count": 2,
   "metadata": {
    "collapsed": false
   },
   "outputs": [],
   "source": [
    "total_data = pd.read_csv('../nytimes/rows.csv')"
   ]
  },
  {
   "cell_type": "code",
   "execution_count": 3,
   "metadata": {
    "collapsed": false
   },
   "outputs": [
    {
     "data": {
      "text/plain": [
       "article_id       1544383\n",
       "pub_date         1544383\n",
       "section_name     1544383\n",
       "web_url          1544383\n",
       "term_category    1544383\n",
       "term             1544383\n",
       "sentence         1544383\n",
       "dtype: int64"
      ]
     },
     "execution_count": 3,
     "metadata": {},
     "output_type": "execute_result"
    }
   ],
   "source": [
    "total_data.count()"
   ]
  },
  {
   "cell_type": "code",
   "execution_count": 4,
   "metadata": {
    "collapsed": false
   },
   "outputs": [],
   "source": [
    "total_data_dedup = total_data.drop_duplicates()"
   ]
  },
  {
   "cell_type": "code",
   "execution_count": 5,
   "metadata": {
    "collapsed": false
   },
   "outputs": [
    {
     "data": {
      "text/plain": [
       "article_id       1432978\n",
       "pub_date         1432978\n",
       "section_name     1432978\n",
       "web_url          1432978\n",
       "term_category    1432978\n",
       "term             1432978\n",
       "sentence         1432978\n",
       "dtype: int64"
      ]
     },
     "execution_count": 5,
     "metadata": {},
     "output_type": "execute_result"
    }
   ],
   "source": [
    "total_data_dedup.count()"
   ]
  },
  {
   "cell_type": "code",
   "execution_count": 6,
   "metadata": {
    "collapsed": false
   },
   "outputs": [
    {
     "data": {
      "text/plain": [
       "[('executive', 296247),\n",
       " ('Become Inc', 283621),\n",
       " ('manager', 140885),\n",
       " ('founder', 81439),\n",
       " ('Indeed', 74720),\n",
       " ('at&t', 44971),\n",
       " ('apple', 40970),\n",
       " ('ford', 39614),\n",
       " ('twitter', 37697),\n",
       " ('Google', 35672),\n",
       " ('facebook', 34605),\n",
       " ('microsoft', 29673),\n",
       " ('Voices.com', 28494),\n",
       " ('Signal', 27596),\n",
       " ('general motors', 18827),\n",
       " ('amazon.com', 18529),\n",
       " ('wal-mart', 13781),\n",
       " ('entrepreneur', 13041),\n",
       " ('visa', 10721),\n",
       " ('walt disney company', 9578),\n",
       " ('intel corporation', 9208),\n",
       " ('boeing', 9075),\n",
       " ('ebay', 8978),\n",
       " ('coca-cola company', 8243),\n",
       " ('general electric', 8179),\n",
       " ('Exec', 6026),\n",
       " ('nike', 5425),\n",
       " ('samsung', 5229),\n",
       " ('exxon', 4721),\n",
       " ('BERG', 4352),\n",
       " ('omnicom group', 4260),\n",
       " ('netflix', 3928),\n",
       " ('johnson & johnson', 3432),\n",
       " ('morgan chase', 2909),\n",
       " ('berkshire hathaway', 2782),\n",
       " ('mckinsey & company', 2727),\n",
       " ('chevron', 2643),\n",
       " ('instagram', 2612),\n",
       " ('pepsico', 2558),\n",
       " ('cisco systems', 2547),\n",
       " ('pricewaterhousecoopers', 2527),\n",
       " ('halliburton company', 2319),\n",
       " ('Nordic', 2315),\n",
       " ('Stoke Inc', 2186),\n",
       " ('metlife', 2158),\n",
       " ('Uber', 2151),\n",
       " ('linkedin', 2110),\n",
       " ('caterpillar', 1966),\n",
       " ('blackrock', 1926),\n",
       " ('new venture', 1723),\n",
       " ('alcoa', 1566),\n",
       " ('startup', 1419),\n",
       " ('mattel', 1270),\n",
       " ('spotify', 1241),\n",
       " ('united parcel service', 1181),\n",
       " ('waste management', 1129),\n",
       " ('harley-davidson', 1116),\n",
       " ('emc corporation', 1030),\n",
       " ('3m company', 984),\n",
       " ('dow chemical', 965),\n",
       " ('Quicken', 956),\n",
       " ('Twitch', 872),\n",
       " ('Intuit', 866),\n",
       " ('conocophillips', 837),\n",
       " ('abbott laboratories', 772),\n",
       " ('Tesla Motors', 757),\n",
       " ('SkyRocket', 726),\n",
       " ('Duda', 695),\n",
       " ('pinterest', 676),\n",
       " ('union pacific', 632),\n",
       " ('Airbnb', 630),\n",
       " ('international paper company', 594),\n",
       " ('unitedhealth group', 592),\n",
       " ('Argyle Company', 587),\n",
       " ('exelon corporation', 555),\n",
       " ('Alfresco', 483),\n",
       " ('honeywell international', 448),\n",
       " ('dropbox', 447),\n",
       " ('SAS', 442),\n",
       " ('archer daniels midland', 412),\n",
       " ('valero', 401),\n",
       " ('new york life insurance company', 400),\n",
       " ('Salesforce', 309),\n",
       " ('nrg energy', 289),\n",
       " ('las vegas sands', 272),\n",
       " ('Looker', 263),\n",
       " ('mckesson', 255),\n",
       " ('cvs caremark', 243),\n",
       " ('state farm insurance', 215),\n",
       " ('danaher corporation', 215),\n",
       " ('costco wholesale', 199),\n",
       " ('mcdonalds corporation', 194),\n",
       " ('fluor corporation', 181),\n",
       " ('owens corning', 164),\n",
       " ('Quora', 145),\n",
       " ('Kahuna Inc', 141),\n",
       " ('tjx companies', 118),\n",
       " ('autonation', 118),\n",
       " ('Bridger', 107),\n",
       " ('Idee Inc', 105),\n",
       " ('phillips 66', 94),\n",
       " ('Klout', 75),\n",
       " ('Rogue Wave', 72),\n",
       " ('Twitpic', 70),\n",
       " ('Chango Inc', 62),\n",
       " ('energy transfer equity', 61),\n",
       " ('Eventbrite', 61),\n",
       " ('Grooveshark', 61),\n",
       " ('united continental holdings', 55),\n",
       " ('illinois tool works', 54),\n",
       " ('chs', 53),\n",
       " ('Moz', 52),\n",
       " ('Outbox', 50),\n",
       " ('manilla.com', 47),\n",
       " ('TurnTable.fm', 47),\n",
       " ('Manilla', 47),\n",
       " ('Fuh', 41),\n",
       " ('stanley black & decker', 38),\n",
       " ('Restore Health', 38),\n",
       " ('HubSpot', 38),\n",
       " ('H.Bloom', 36),\n",
       " ('ingram micro', 35),\n",
       " ('XCOR Aerospace Inc', 34),\n",
       " ('qik.com', 31),\n",
       " ('Stipple', 30),\n",
       " ('Zeta Interactive', 30),\n",
       " ('Qik', 30),\n",
       " ('ThinkGeek', 29),\n",
       " ('Zendesk', 29),\n",
       " ('hca holdings', 24),\n",
       " ('graham holdings company', 24),\n",
       " ('About.me', 23),\n",
       " ('Data Dynamics Inc', 22),\n",
       " ('MailChimp', 20),\n",
       " ('inBloom', 16),\n",
       " ('Adore Me', 14),\n",
       " ('rock tenn company', 14),\n",
       " ('Hortonworks', 13),\n",
       " ('Credit Sesame', 12),\n",
       " ('Skyhigh Networks', 11),\n",
       " ('Serendip', 11),\n",
       " ('cbre group', 10),\n",
       " ('Backchat', 10),\n",
       " ('Lumosity', 10),\n",
       " ('Wantful', 10),\n",
       " ('Applied Predictive Technologies', 9),\n",
       " ('RootMetrics', 9),\n",
       " ('Hudl', 9),\n",
       " ('Yashi', 8),\n",
       " ('Alcohol by Volume', 8),\n",
       " ('Behance', 7),\n",
       " ('Superfish', 7),\n",
       " ('Skyonic Corporation', 6),\n",
       " ('world fuel services', 6),\n",
       " ('LocalResponse', 6),\n",
       " ('Shape Security', 5),\n",
       " ('Springpad', 5),\n",
       " ('springpad.com', 5),\n",
       " ('Tenable Network Security Inc', 5),\n",
       " ('Adconion Direct', 5),\n",
       " ('Tealium', 5),\n",
       " ('BeyondTrust', 4),\n",
       " ('Zumbox', 4),\n",
       " ('IntoNow', 4),\n",
       " ('manpower group', 4),\n",
       " ('intonow.com', 4),\n",
       " ('phillip morris international', 4),\n",
       " ('Choice Energy', 4),\n",
       " ('GENBAND', 4),\n",
       " ('Trueffect', 4),\n",
       " ('ryder systems', 4),\n",
       " ('Keek Inc', 4),\n",
       " ('Xactly Corporation', 3),\n",
       " ('Solve Media', 3),\n",
       " ('d.r. horton', 3),\n",
       " ('Scribe Software', 3),\n",
       " ('Crescendo Bioscience', 3),\n",
       " ('Tutorspree', 3),\n",
       " ('500px Inc', 3),\n",
       " ('Adesto Technologies Corporation', 2),\n",
       " ('SpotXchange Inc', 2),\n",
       " ('Disruptive Media', 2),\n",
       " ('Nirvanix', 2),\n",
       " ('Recon Instruments', 2),\n",
       " ('nirvanix.com', 2),\n",
       " ('Retail Capital', 2),\n",
       " ('Jigsy', 2),\n",
       " ('MicroGREEN Polymers Inc', 2),\n",
       " ('SkyCross', 2),\n",
       " ('DigiCert Inc', 2),\n",
       " ('aramark holdings corporation', 2),\n",
       " ('ExFM', 2),\n",
       " ('Panaya', 2),\n",
       " ('TinEye', 1),\n",
       " ('votertide.com', 1),\n",
       " ('lookery.com', 1),\n",
       " ('Patient Communicator', 1),\n",
       " ('Cognitive Networks', 1),\n",
       " ('MedHOK', 1),\n",
       " ('Cloud Dynamics', 1),\n",
       " ('Bionym', 1),\n",
       " ('FindIt', 1),\n",
       " ('r.r donnelley & sons company', 1),\n",
       " ('Frank and Oak', 1),\n",
       " ('stippleit.com', 1),\n",
       " ('Minute Key', 1),\n",
       " ('c.h. robinson worldwide', 1),\n",
       " ('Paxata', 1),\n",
       " ('Thalmic Labs', 1),\n",
       " ('Canvas Networks', 1),\n",
       " ('Lookery', 1),\n",
       " ('T3 Motion Inc', 1),\n",
       " ('VoterTide', 1),\n",
       " ('Inq Mobile', 1),\n",
       " ('Welltok', 1),\n",
       " ('Treehouse Logic', 1),\n",
       " ('Phunware', 1),\n",
       " ('AppDirect', 1),\n",
       " ('SeeChange Health', 1)]"
      ]
     },
     "execution_count": 6,
     "metadata": {},
     "output_type": "execute_result"
    }
   ],
   "source": [
    "list(total_data_dedup.term.value_counts().items())"
   ]
  },
  {
   "cell_type": "code",
   "execution_count": 7,
   "metadata": {
    "collapsed": true
   },
   "outputs": [],
   "source": [
    "# Remove\n",
    "remove_list = ['Become Inc', 'Indeed', 'at&t', 'Signal']"
   ]
  },
  {
   "cell_type": "code",
   "execution_count": 8,
   "metadata": {
    "collapsed": true
   },
   "outputs": [],
   "source": [
    "for term in remove_list:\n",
    "    total_data_dedup = total_data_dedup[total_data_dedup['term'] != term]"
   ]
  },
  {
   "cell_type": "code",
   "execution_count": 9,
   "metadata": {
    "collapsed": false
   },
   "outputs": [
    {
     "data": {
      "text/plain": [
       "article_id       1002070\n",
       "pub_date         1002070\n",
       "section_name     1002070\n",
       "web_url          1002070\n",
       "term_category    1002070\n",
       "term             1002070\n",
       "sentence         1002070\n",
       "dtype: int64"
      ]
     },
     "execution_count": 9,
     "metadata": {},
     "output_type": "execute_result"
    }
   ],
   "source": [
    "total_data_dedup.count()"
   ]
  },
  {
   "cell_type": "code",
   "execution_count": 10,
   "metadata": {
    "collapsed": false
   },
   "outputs": [],
   "source": [
    "total_grouped = total_data_dedup.groupby(['article_id', 'term'])['sentence']"
   ]
  },
  {
   "cell_type": "code",
   "execution_count": 11,
   "metadata": {
    "collapsed": false
   },
   "outputs": [],
   "source": [
    "def indexes_to_delete(series):\n",
    "    del_index_list = []\n",
    "    for i1, s1 in series.items():\n",
    "        for i2, s2 in series.items():\n",
    "            if i1 != i2 and s1 in s2:\n",
    "                del_index_list.append(i1)\n",
    "                break\n",
    "    return str(del_index_list)"
   ]
  },
  {
   "cell_type": "code",
   "execution_count": 12,
   "metadata": {
    "collapsed": false
   },
   "outputs": [],
   "source": [
    "grouped_indexes = total_grouped.aggregate({'indexes_to_delete': indexes_to_delete})"
   ]
  },
  {
   "cell_type": "code",
   "execution_count": 13,
   "metadata": {
    "collapsed": false
   },
   "outputs": [],
   "source": [
    "remove_index_list = list(set(\n",
    "    [index for index_list in grouped_indexes['indexes_to_delete'] for index in eval(index_list)]\n",
    "))"
   ]
  },
  {
   "cell_type": "code",
   "execution_count": 14,
   "metadata": {
    "collapsed": false
   },
   "outputs": [],
   "source": [
    "data = total_data_dedup.drop(remove_index_list)"
   ]
  },
  {
   "cell_type": "code",
   "execution_count": 15,
   "metadata": {
    "collapsed": false
   },
   "outputs": [
    {
     "data": {
      "text/plain": [
       "article_id       934648\n",
       "pub_date         934648\n",
       "section_name     934648\n",
       "web_url          934648\n",
       "term_category    934648\n",
       "term             934648\n",
       "sentence         934648\n",
       "dtype: int64"
      ]
     },
     "execution_count": 15,
     "metadata": {},
     "output_type": "execute_result"
    }
   ],
   "source": [
    "data.count()"
   ]
  },
  {
   "cell_type": "code",
   "execution_count": 73,
   "metadata": {
    "collapsed": false
   },
   "outputs": [],
   "source": [
    "# df = pd.DataFrame([\n",
    "#                 [1, 'hola', 'Hola mundo'],         # 0\n",
    "#                 [1, 'nada', 'Nada que ver'],       # 1\n",
    "#                 [1, 'hola', 'Hola mundo que tal'], # 2\n",
    "#                 [1, 'hola', 'Hola'],               # 3\n",
    "#                 [2, 'hola', 'Hola mundo'],         # 4\n",
    "#                 [2, 'adios', 'Adios'],             # 5\n",
    "#                 [3, 'adios', 'Adios'],             # 6\n",
    "#                ], columns=['article_id', 'term', 'sentence'])\n",
    "# g = df.groupby(['article_id', 'term'])['sentence'].aggregate({'indexes_to_delete': indexes_to_delete})\n",
    "# l = list(set(\n",
    "#     [index for index_list in g['indexes_to_delete'] for index in eval(index_list)]\n",
    "# ))\n",
    "# df2 = df.drop(l)"
   ]
  },
  {
   "cell_type": "code",
   "execution_count": 76,
   "metadata": {
    "collapsed": false
   },
   "outputs": [],
   "source": [
    "# Change categories: ebay; executive, manager; entrepreneur, founder, new venture, startup\n",
    "\n",
    "data.ix[data.term == 'ebay', 'term_category'] = 2\n",
    "\n",
    "for term in ['executive', 'manager']:\n",
    "    data.ix[data.term == term, 'term_category'] = 11\n",
    "\n",
    "for term in ['entrepreneur', 'founder', 'new venture', 'startup']:\n",
    "    data.ix[data.term == term, 'term_category'] = 12"
   ]
  },
  {
   "cell_type": "code",
   "execution_count": 77,
   "metadata": {
    "collapsed": false
   },
   "outputs": [
    {
     "data": {
      "text/plain": [
       "530259"
      ]
     },
     "execution_count": 77,
     "metadata": {},
     "output_type": "execute_result"
    }
   ],
   "source": [
    "# Total number of articles\n",
    "data.article_id.value_counts().count()"
   ]
  },
  {
   "cell_type": "code",
   "execution_count": 78,
   "metadata": {
    "collapsed": false
   },
   "outputs": [
    {
     "data": {
      "text/plain": [
       "215"
      ]
     },
     "execution_count": 78,
     "metadata": {},
     "output_type": "execute_result"
    }
   ],
   "source": [
    "# Total number of terms\n",
    "data.term.value_counts().count()"
   ]
  },
  {
   "cell_type": "code",
   "execution_count": 79,
   "metadata": {
    "collapsed": false
   },
   "outputs": [
    {
     "data": {
      "text/plain": [
       "846383"
      ]
     },
     "execution_count": 79,
     "metadata": {},
     "output_type": "execute_result"
    }
   ],
   "source": [
    "# Total number of sentences\n",
    "data.sentence.value_counts().count()"
   ]
  },
  {
   "cell_type": "code",
   "execution_count": 80,
   "metadata": {
    "collapsed": true
   },
   "outputs": [],
   "source": [
    "data.to_csv('../nytimes/curated_data.csv')"
   ]
  },
  {
   "cell_type": "markdown",
   "metadata": {},
   "source": [
    "## Classifier"
   ]
  },
  {
   "cell_type": "code",
   "execution_count": 81,
   "metadata": {
    "collapsed": false
   },
   "outputs": [],
   "source": [
    "with open('sentiment/be.pickle', 'rb') as be_file:\n",
    "    be = pickle.load(be_file)"
   ]
  },
  {
   "cell_type": "code",
   "execution_count": 82,
   "metadata": {
    "collapsed": false
   },
   "outputs": [
    {
     "data": {
      "text/plain": [
       "array(['pos', 'neg', 'pos'], dtype=object)"
      ]
     },
     "execution_count": 82,
     "metadata": {},
     "output_type": "execute_result"
    }
   ],
   "source": [
    "be.predict(['My puppy is cute.', 'People die in war.', 'I love my family.'])"
   ]
  },
  {
   "cell_type": "code",
   "execution_count": 4,
   "metadata": {
    "collapsed": false
   },
   "outputs": [],
   "source": [
    "# 8 csv files previously built on another machine. Sentiment included.\n",
    "data_blaze = blaze.Data('../nytimes/data_*.csv', delimiter=',') #eliminar el segundo parametro"
   ]
  },
  {
   "cell_type": "code",
   "execution_count": 17,
   "metadata": {
    "collapsed": false
   },
   "outputs": [],
   "source": [
    "sentiment_data_ind = blaze.odo(data_blaze, pd.DataFrame)\n",
    "sentiment_data = sentiment_data_ind.drop('Unnamed: 0', axis=1) #comentar esta linea"
   ]
  },
  {
   "cell_type": "code",
   "execution_count": 18,
   "metadata": {
    "collapsed": false
   },
   "outputs": [
    {
     "data": {
      "text/plain": [
       "530259"
      ]
     },
     "execution_count": 18,
     "metadata": {},
     "output_type": "execute_result"
    }
   ],
   "source": [
    "# Total number of articles\n",
    "sentiment_data.article_id.value_counts().count()"
   ]
  },
  {
   "cell_type": "code",
   "execution_count": 19,
   "metadata": {
    "collapsed": false
   },
   "outputs": [
    {
     "data": {
      "text/plain": [
       "215"
      ]
     },
     "execution_count": 19,
     "metadata": {},
     "output_type": "execute_result"
    }
   ],
   "source": [
    "# Total number of terms\n",
    "sentiment_data.term.value_counts().count()"
   ]
  },
  {
   "cell_type": "code",
   "execution_count": 20,
   "metadata": {
    "collapsed": false
   },
   "outputs": [
    {
     "data": {
      "text/plain": [
       "846383"
      ]
     },
     "execution_count": 20,
     "metadata": {},
     "output_type": "execute_result"
    }
   ],
   "source": [
    "# Total number of sentences\n",
    "sentiment_data.sentence.value_counts().count()"
   ]
  },
  {
   "cell_type": "code",
   "execution_count": 21,
   "metadata": {
    "collapsed": false
   },
   "outputs": [
    {
     "data": {
      "text/html": [
       "<div style=\"max-height:1000px;max-width:1500px;overflow:auto;\">\n",
       "<table border=\"1\" class=\"dataframe\">\n",
       "  <thead>\n",
       "    <tr style=\"text-align: right;\">\n",
       "      <th></th>\n",
       "      <th>article_id</th>\n",
       "      <th>pub_date</th>\n",
       "      <th>section_name</th>\n",
       "      <th>web_url</th>\n",
       "      <th>term_category</th>\n",
       "      <th>term</th>\n",
       "      <th>sentence</th>\n",
       "      <th>sentiment</th>\n",
       "    </tr>\n",
       "  </thead>\n",
       "  <tbody>\n",
       "    <tr>\n",
       "      <th>0</th>\n",
       "      <td>4fd20d7d8eb7c8105d77daf9</td>\n",
       "      <td>1999-01-16</td>\n",
       "      <td>Sports</td>\n",
       "      <td>http://www.nytimes.com/1999/01/16/sports/plus-...</td>\n",
       "      <td>12</td>\n",
       "      <td>new venture</td>\n",
       "      <td>Keeneland's new venture came as a surprise to ...</td>\n",
       "      <td>pos</td>\n",
       "    </tr>\n",
       "    <tr>\n",
       "      <th>1</th>\n",
       "      <td>4fd20db88eb7c8105d77e511</td>\n",
       "      <td>1999-01-03</td>\n",
       "      <td>Arts; Books</td>\n",
       "      <td>http://www.nytimes.com/1999/01/03/books/heartb...</td>\n",
       "      <td>11</td>\n",
       "      <td>manager</td>\n",
       "      <td>The plan Presley and his hucksterish business ...</td>\n",
       "      <td>pos</td>\n",
       "    </tr>\n",
       "    <tr>\n",
       "      <th>2</th>\n",
       "      <td>5482d92a38f0d8403d9cd045</td>\n",
       "      <td>2008-07-08</td>\n",
       "      <td>Science</td>\n",
       "      <td>http://www.nytimes.com/2008/07/08/science/08an...</td>\n",
       "      <td>2</td>\n",
       "      <td>Twitch</td>\n",
       "      <td>In the male toadfish the swimbladder has been ...</td>\n",
       "      <td>pos</td>\n",
       "    </tr>\n",
       "    <tr>\n",
       "      <th>3</th>\n",
       "      <td>5456ab1438f0d86ef22a094e</td>\n",
       "      <td>2009-10-04</td>\n",
       "      <td>Real Estate</td>\n",
       "      <td>http://www.nytimes.com/2009/10/04/realestate/c...</td>\n",
       "      <td>11</td>\n",
       "      <td>executive</td>\n",
       "      <td>Mr. Pozycki is the chief executive of SJP Prop...</td>\n",
       "      <td>pos</td>\n",
       "    </tr>\n",
       "    <tr>\n",
       "      <th>4</th>\n",
       "      <td>5456ab1438f0d86ef22a094e</td>\n",
       "      <td>2009-10-04</td>\n",
       "      <td>Real Estate</td>\n",
       "      <td>http://www.nytimes.com/2009/10/04/realestate/c...</td>\n",
       "      <td>11</td>\n",
       "      <td>executive</td>\n",
       "      <td>Mr. Pozycki 59 is the chief executive of SJP P...</td>\n",
       "      <td>pos</td>\n",
       "    </tr>\n",
       "  </tbody>\n",
       "</table>\n",
       "</div>"
      ],
      "text/plain": [
       "                 article_id   pub_date section_name  \\\n",
       "0  4fd20d7d8eb7c8105d77daf9 1999-01-16       Sports   \n",
       "1  4fd20db88eb7c8105d77e511 1999-01-03  Arts; Books   \n",
       "2  5482d92a38f0d8403d9cd045 2008-07-08      Science   \n",
       "3  5456ab1438f0d86ef22a094e 2009-10-04  Real Estate   \n",
       "4  5456ab1438f0d86ef22a094e 2009-10-04  Real Estate   \n",
       "\n",
       "                                             web_url  term_category  \\\n",
       "0  http://www.nytimes.com/1999/01/16/sports/plus-...             12   \n",
       "1  http://www.nytimes.com/1999/01/03/books/heartb...             11   \n",
       "2  http://www.nytimes.com/2008/07/08/science/08an...              2   \n",
       "3  http://www.nytimes.com/2009/10/04/realestate/c...             11   \n",
       "4  http://www.nytimes.com/2009/10/04/realestate/c...             11   \n",
       "\n",
       "          term                                           sentence sentiment  \n",
       "0  new venture  Keeneland's new venture came as a surprise to ...       pos  \n",
       "1      manager  The plan Presley and his hucksterish business ...       pos  \n",
       "2       Twitch  In the male toadfish the swimbladder has been ...       pos  \n",
       "3    executive  Mr. Pozycki is the chief executive of SJP Prop...       pos  \n",
       "4    executive  Mr. Pozycki 59 is the chief executive of SJP P...       pos  "
      ]
     },
     "execution_count": 21,
     "metadata": {},
     "output_type": "execute_result"
    }
   ],
   "source": [
    "sentiment_data.head()"
   ]
  },
  {
   "cell_type": "code",
   "execution_count": null,
   "metadata": {
    "collapsed": true
   },
   "outputs": [],
   "source": []
  },
  {
   "cell_type": "code",
   "execution_count": 84,
   "metadata": {
    "collapsed": false
   },
   "outputs": [],
   "source": [
    "# sentiments_df = blaze.odo(data_blaze.sentence.map(lambda x: be.predict([x])[0], '?string'), pd.DataFrame)"
   ]
  },
  {
   "cell_type": "code",
   "execution_count": 85,
   "metadata": {
    "collapsed": true
   },
   "outputs": [],
   "source": [
    "# def split_dataframe(df, n):\n",
    "#     d = {}\n",
    "#     length = len(df)\n",
    "#     chunk_size = math.ceil(length / n)\n",
    "#     n_max = math.ceil(length / chunk_size)\n",
    "#     for i in range(min(n, n_max)):\n",
    "#         d[i] = df[chunk_size * i: chunk_size * (i + 1)]\n",
    "#     return d"
   ]
  },
  {
   "cell_type": "code",
   "execution_count": 95,
   "metadata": {
    "collapsed": true
   },
   "outputs": [],
   "source": [
    "# def analyze_sentiment(df, i):\n",
    "#     df['sentiment'] = df.sentence.map(lambda x: be.predict([x])[0])\n",
    "#     df.to_csv('../nytimes/data_{}.csv'.format(i))\n",
    "#     print('DataFrame saved in data_{}.csv'.format(i))"
   ]
  },
  {
   "cell_type": "code",
   "execution_count": 100,
   "metadata": {
    "collapsed": false
   },
   "outputs": [
    {
     "ename": "SyntaxError",
     "evalue": "invalid syntax (<ipython-input-100-66c4188b5762>, line 1)",
     "output_type": "error",
     "traceback": [
      "\u001b[1;36m  File \u001b[1;32m\"<ipython-input-100-66c4188b5762>\"\u001b[1;36m, line \u001b[1;32m1\u001b[0m\n\u001b[1;33m    N = 8a\u001b[0m\n\u001b[1;37m         ^\u001b[0m\n\u001b[1;31mSyntaxError\u001b[0m\u001b[1;31m:\u001b[0m invalid syntax\n"
     ]
    }
   ],
   "source": [
    "# N = 8\n",
    "# data_dict = split_dataframe(data, N)\n",
    "# # for i in range(N):\n",
    "# #     analyze_sentiment(data_dict[i], i)\n",
    "# Parallel(n_jobs=8)(delayed(analyze_sentiment)(data_dict[i], i) for i in range(N))"
   ]
  },
  {
   "cell_type": "code",
   "execution_count": null,
   "metadata": {
    "collapsed": true
   },
   "outputs": [],
   "source": []
  },
  {
   "cell_type": "code",
   "execution_count": 22,
   "metadata": {
    "collapsed": false
   },
   "outputs": [],
   "source": [
    "def diff_month(d1, d2):\n",
    "    return (d2.year - d1.year) * 12 + d2.month - d1.month\n",
    "\n",
    "# assert diff_month(datetime(2010,9,1), datetime(2010,10,1)) == 1\n",
    "# assert diff_month(datetime(2009,10,1), datetime(2010,10,1)) == 12\n",
    "# assert diff_month(datetime(2009,11,1), datetime(2010,10,1)) == 11\n",
    "# assert diff_month(datetime(2009,8,1), datetime(2010,10,1)) == 14"
   ]
  },
  {
   "cell_type": "code",
   "execution_count": 23,
   "metadata": {
    "collapsed": true
   },
   "outputs": [],
   "source": [
    "sentiment_data['n_month'] = sentiment_data.pub_date.apply(lambda x: diff_month(datetime(1999, 1, 1), x.date()))"
   ]
  },
  {
   "cell_type": "code",
   "execution_count": 26,
   "metadata": {
    "collapsed": false
   },
   "outputs": [],
   "source": [
    "data2 = blaze.Data(sentiment_data)"
   ]
  },
  {
   "cell_type": "code",
   "execution_count": 28,
   "metadata": {
    "collapsed": false
   },
   "outputs": [
    {
     "data": {
      "text/html": [
       "<table border=\"1\" class=\"dataframe\">\n",
       "  <thead>\n",
       "    <tr style=\"text-align: right;\">\n",
       "      <th></th>\n",
       "      <th>term_category</th>\n",
       "      <th>amount_neg</th>\n",
       "      <th>amount_pos</th>\n",
       "      <th>total_amount</th>\n",
       "    </tr>\n",
       "  </thead>\n",
       "  <tbody>\n",
       "    <tr>\n",
       "      <th>0</th>\n",
       "      <td>2</td>\n",
       "      <td>106075</td>\n",
       "      <td>251088</td>\n",
       "      <td>357163</td>\n",
       "    </tr>\n",
       "    <tr>\n",
       "      <th>1</th>\n",
       "      <td>3</td>\n",
       "      <td>18546</td>\n",
       "      <td>62625</td>\n",
       "      <td>81171</td>\n",
       "    </tr>\n",
       "    <tr>\n",
       "      <th>2</th>\n",
       "      <td>11</td>\n",
       "      <td>206396</td>\n",
       "      <td>200361</td>\n",
       "      <td>406757</td>\n",
       "    </tr>\n",
       "    <tr>\n",
       "      <th>3</th>\n",
       "      <td>12</td>\n",
       "      <td>9900</td>\n",
       "      <td>79663</td>\n",
       "      <td>89563</td>\n",
       "    </tr>\n",
       "  </tbody>\n",
       "</table>"
      ],
      "text/plain": [
       "   term_category  amount_neg  amount_pos  total_amount\n",
       "0              2      106075      251088        357163\n",
       "1              3       18546       62625         81171\n",
       "2             11      206396      200361        406757\n",
       "3             12        9900       79663         89563"
      ]
     },
     "execution_count": 28,
     "metadata": {},
     "output_type": "execute_result"
    }
   ],
   "source": [
    "blaze.by(data2.term_category,\n",
    "   total_amount=data2.sentiment.count(),\n",
    "   amount_pos=data2[data2.sentiment == 'pos'].sentiment.count(),\n",
    "   amount_neg=data2[data2.sentiment == 'neg'].sentiment.count()\n",
    ")"
   ]
  },
  {
   "cell_type": "code",
   "execution_count": 29,
   "metadata": {
    "collapsed": true
   },
   "outputs": [],
   "source": [
    "%matplotlib inline"
   ]
  },
  {
   "cell_type": "code",
   "execution_count": 31,
   "metadata": {
    "collapsed": false
   },
   "outputs": [],
   "source": [
    "xx = blaze.by(blaze.merge(data2.term, data2.n_month),\n",
    "   total_amount=data2.sentiment.count(),\n",
    "   amount_pos=data2[data2.sentiment == 'pos'].sentiment.count(),\n",
    "   amount_neg=data2[data2.sentiment == 'neg'].sentiment.count()\n",
    ")"
   ]
  },
  {
   "cell_type": "code",
   "execution_count": 123,
   "metadata": {
    "collapsed": false
   },
   "outputs": [],
   "source": [
    "dd = blaze.odo(xx[xx.term == 'founder'], pd.DataFrame)"
   ]
  },
  {
   "cell_type": "code",
   "execution_count": 124,
   "metadata": {
    "collapsed": false,
    "scrolled": true
   },
   "outputs": [],
   "source": [
    "dd.set_index('n_month', inplace=True)"
   ]
  },
  {
   "cell_type": "code",
   "execution_count": 125,
   "metadata": {
    "collapsed": false
   },
   "outputs": [],
   "source": [
    "dd.index = [datetime.strptime(\"1999-01-01\", \"%Y-%m-%d\") + relativedelta(months=i) for i in dd.index]"
   ]
  },
  {
   "cell_type": "code",
   "execution_count": 126,
   "metadata": {
    "collapsed": false
   },
   "outputs": [],
   "source": [
    "dd['amount_neg_rate'] = dd['amount_neg'] / dd['total_amount']\n",
    "dd['amount_pos_rate'] = dd['amount_pos'] / dd['total_amount']"
   ]
  },
  {
   "cell_type": "code",
   "execution_count": 127,
   "metadata": {
    "collapsed": false
   },
   "outputs": [
    {
     "data": {
      "text/plain": [
       "<matplotlib.axes._subplots.AxesSubplot at 0x7faf96da0c50>"
      ]
     },
     "execution_count": 127,
     "metadata": {},
     "output_type": "execute_result"
    },
    {
     "data": {
      "image/png": "[encoded data removed]",
      "text/plain": [
       "<matplotlib.figure.Figure at 0x7faf96d72b00>"
      ]
     },
     "metadata": {},
     "output_type": "display_data"
    }
   ],
   "source": [
    "dd[['total_amount', 'amount_pos']].plot(figsize=(14,8))"
   ]
  },
  {
   "cell_type": "code",
   "execution_count": 172,
   "metadata": {
    "collapsed": true
   },
   "outputs": [],
   "source": []
  },
  {
   "cell_type": "code",
   "execution_count": 178,
   "metadata": {
    "collapsed": false
   },
   "outputs": [],
   "source": [
    "dd.index = ind"
   ]
  },
  {
   "cell_type": "code",
   "execution_count": null,
   "metadata": {
    "collapsed": true
   },
   "outputs": [],
   "source": []
  }
 ],
 "metadata": {
  "kernelspec": {
   "display_name": "Python 3",
   "language": "python",
   "name": "python3"
  },
  "language_info": {
   "codemirror_mode": {
    "name": "ipython",
    "version": 3
   },
   "file_extension": ".py",
   "mimetype": "text/x-python",
   "name": "python",
   "nbconvert_exporter": "python",
   "pygments_lexer": "ipython3",
   "version": "3.4.0"
  }
 },
 "nbformat": 4,
 "nbformat_minor": 0
}
