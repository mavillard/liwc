{
 "cells": [
  {
   "cell_type": "markdown",
   "metadata": {},
   "source": [
    "#CSV analyzer for The New York Times"
   ]
  },
  {
   "cell_type": "code",
   "execution_count": 158,
   "metadata": {
    "collapsed": false
   },
   "outputs": [],
   "source": [
    "import math\n",
    "import pickle\n",
    "from datetime import datetime\n",
    "\n",
    "import blaze\n",
    "import pandas as pd\n",
    "# from blaze import Data, DataFrame, by, join, merge, odo, into\n",
    "from dateutil.relativedelta import relativedelta\n",
    "# from nltk.tokenize import sent_tokenize\n",
    "from pymongo import MongoClient\n",
    "# from slugify import slugify"
   ]
  },
  {
   "cell_type": "markdown",
   "metadata": {},
   "source": [
    "## Data"
   ]
  },
  {
   "cell_type": "code",
   "execution_count": 2,
   "metadata": {
    "collapsed": false
   },
   "outputs": [],
   "source": [
    "total_data = pd.read_csv('../nytimes/rows.csv')"
   ]
  },
  {
   "cell_type": "code",
   "execution_count": 3,
   "metadata": {
    "collapsed": false
   },
   "outputs": [
    {
     "data": {
      "text/plain": [
       "article_id       1544383\n",
       "pub_date         1544383\n",
       "section_name     1544383\n",
       "web_url          1544383\n",
       "term_category    1544383\n",
       "term             1544383\n",
       "sentence         1544383\n",
       "dtype: int64"
      ]
     },
     "execution_count": 3,
     "metadata": {},
     "output_type": "execute_result"
    }
   ],
   "source": [
    "total_data.count()"
   ]
  },
  {
   "cell_type": "code",
   "execution_count": 4,
   "metadata": {
    "collapsed": false
   },
   "outputs": [],
   "source": [
    "total_data_dedup = total_data.drop_duplicates()"
   ]
  },
  {
   "cell_type": "code",
   "execution_count": 5,
   "metadata": {
    "collapsed": false
   },
   "outputs": [
    {
     "data": {
      "text/plain": [
       "article_id       1432978\n",
       "pub_date         1432978\n",
       "section_name     1432978\n",
       "web_url          1432978\n",
       "term_category    1432978\n",
       "term             1432978\n",
       "sentence         1432978\n",
       "dtype: int64"
      ]
     },
     "execution_count": 5,
     "metadata": {},
     "output_type": "execute_result"
    }
   ],
   "source": [
    "total_data_dedup.count()"
   ]
  },
  {
   "cell_type": "code",
   "execution_count": 98,
   "metadata": {
    "collapsed": false
   },
   "outputs": [
    {
     "data": {
      "text/html": [
       "<div style=\"max-height:1000px;max-width:1500px;overflow:auto;\">\n",
       "<table border=\"1\" class=\"dataframe\">\n",
       "  <thead>\n",
       "    <tr style=\"text-align: right;\">\n",
       "      <th></th>\n",
       "      <th>article_id</th>\n",
       "      <th>pub_date</th>\n",
       "      <th>section_name</th>\n",
       "      <th>web_url</th>\n",
       "      <th>term_category</th>\n",
       "      <th>term</th>\n",
       "      <th>sentence</th>\n",
       "    </tr>\n",
       "  </thead>\n",
       "  <tbody>\n",
       "    <tr>\n",
       "      <th>479</th>\n",
       "      <td>4fd2173e8eb7c8105d792d10</td>\n",
       "      <td>1999-01-13T00:00:00Z</td>\n",
       "      <td>Business</td>\n",
       "      <td>http://www.nytimes.com/1999/01/13/business/the...</td>\n",
       "      <td>3</td>\n",
       "      <td>ebay</td>\n",
       "      <td>Ebay which was offered to the public in Septem...</td>\n",
       "    </tr>\n",
       "    <tr>\n",
       "      <th>809</th>\n",
       "      <td>4fd1e8138eb7c8105d735bbd</td>\n",
       "      <td>1999-02-28T00:00:00Z</td>\n",
       "      <td>Technology; Business</td>\n",
       "      <td>http://www.nytimes.com/1999/02/28/business/sai...</td>\n",
       "      <td>3</td>\n",
       "      <td>ebay</td>\n",
       "      <td>''make markets'' facilitating investors' trade...</td>\n",
       "    </tr>\n",
       "    <tr>\n",
       "      <th>2926</th>\n",
       "      <td>4fd25f0c8eb7c8105d80eb13</td>\n",
       "      <td>2005-07-19T00:00:00Z</td>\n",
       "      <td>Sports</td>\n",
       "      <td>http://www.nytimes.com/2005/07/19/sports/baseb...</td>\n",
       "      <td>3</td>\n",
       "      <td>ebay</td>\n",
       "      <td>It helps that the kayakers of McCovey Cove hav...</td>\n",
       "    </tr>\n",
       "    <tr>\n",
       "      <th>3313</th>\n",
       "      <td>4fd1f4088eb7c8105d74ce09</td>\n",
       "      <td>1999-02-21T00:00:00Z</td>\n",
       "      <td>Technology; Business</td>\n",
       "      <td>http://www.nytimes.com/1999/02/21/business/pre...</td>\n",
       "      <td>3</td>\n",
       "      <td>ebay</td>\n",
       "      <td>But Jeff Skoll 33 a founder of Ebay the on-lin...</td>\n",
       "    </tr>\n",
       "    <tr>\n",
       "      <th>3511</th>\n",
       "      <td>4fd200828eb7c8105d763de9</td>\n",
       "      <td>1999-08-09T00:00:00Z</td>\n",
       "      <td>Technology; Business</td>\n",
       "      <td>http://www.nytimes.com/1999/08/09/business/pat...</td>\n",
       "      <td>3</td>\n",
       "      <td>ebay</td>\n",
       "      <td>AFICIONADOS of Ebay one of the most popular an...</td>\n",
       "    </tr>\n",
       "    <tr>\n",
       "      <th>3512</th>\n",
       "      <td>4fd200828eb7c8105d763de9</td>\n",
       "      <td>1999-08-09T00:00:00Z</td>\n",
       "      <td>Technology; Business</td>\n",
       "      <td>http://www.nytimes.com/1999/08/09/business/pat...</td>\n",
       "      <td>3</td>\n",
       "      <td>ebay</td>\n",
       "      <td>AFICIONADOS of Ebay one of the most popular an...</td>\n",
       "    </tr>\n",
       "    <tr>\n",
       "      <th>3794</th>\n",
       "      <td>4fd219c98eb7c8105d797d18</td>\n",
       "      <td>2000-08-03T00:00:00Z</td>\n",
       "      <td>Technology</td>\n",
       "      <td>http://www.nytimes.com/2000/08/03/technology/q...</td>\n",
       "      <td>3</td>\n",
       "      <td>ebay</td>\n",
       "      <td>Putting Photos of Wares Onto eBay Auction Site</td>\n",
       "    </tr>\n",
       "    <tr>\n",
       "      <th>3795</th>\n",
       "      <td>4fd219c98eb7c8105d797d18</td>\n",
       "      <td>2000-08-03T00:00:00Z</td>\n",
       "      <td>Technology</td>\n",
       "      <td>http://www.nytimes.com/2000/08/03/technology/q...</td>\n",
       "      <td>3</td>\n",
       "      <td>ebay</td>\n",
       "      <td>Q. I am a computer novice and would like to se...</td>\n",
       "    </tr>\n",
       "    <tr>\n",
       "      <th>3796</th>\n",
       "      <td>4fd219c98eb7c8105d797d18</td>\n",
       "      <td>2000-08-03T00:00:00Z</td>\n",
       "      <td>Technology</td>\n",
       "      <td>http://www.nytimes.com/2000/08/03/technology/q...</td>\n",
       "      <td>3</td>\n",
       "      <td>ebay</td>\n",
       "      <td>To display pictures of your wares on the eBay ...</td>\n",
       "    </tr>\n",
       "    <tr>\n",
       "      <th>3798</th>\n",
       "      <td>4fd219c98eb7c8105d797d18</td>\n",
       "      <td>2000-08-03T00:00:00Z</td>\n",
       "      <td>Technology</td>\n",
       "      <td>http://www.nytimes.com/2000/08/03/technology/q...</td>\n",
       "      <td>3</td>\n",
       "      <td>ebay</td>\n",
       "      <td>To display pictures of your wares on the eBay ...</td>\n",
       "    </tr>\n",
       "    <tr>\n",
       "      <th>4017</th>\n",
       "      <td>4fd200858eb7c8105d76410a</td>\n",
       "      <td>1999-09-19T00:00:00Z</td>\n",
       "      <td>Technology; Business</td>\n",
       "      <td>http://www.nytimes.com/1999/09/19/business/bus...</td>\n",
       "      <td>3</td>\n",
       "      <td>ebay</td>\n",
       "      <td>The first of the new micromanufacturers began ...</td>\n",
       "    </tr>\n",
       "    <tr>\n",
       "      <th>4036</th>\n",
       "      <td>4fd230e88eb7c8105d7bfdc4</td>\n",
       "      <td>1999-09-28T00:00:00Z</td>\n",
       "      <td>Technology; World</td>\n",
       "      <td>http://www.nytimes.com/1999/09/28/world/a-half...</td>\n",
       "      <td>3</td>\n",
       "      <td>ebay</td>\n",
       "      <td>Among the many start-ups trying to emulate eve...</td>\n",
       "    </tr>\n",
       "    <tr>\n",
       "      <th>4037</th>\n",
       "      <td>4fd230e88eb7c8105d7bfdc4</td>\n",
       "      <td>1999-09-28T00:00:00Z</td>\n",
       "      <td>Technology; World</td>\n",
       "      <td>http://www.nytimes.com/1999/09/28/world/a-half...</td>\n",
       "      <td>3</td>\n",
       "      <td>ebay</td>\n",
       "      <td>Among the many start-ups trying to emulate eve...</td>\n",
       "    </tr>\n",
       "    <tr>\n",
       "      <th>4247</th>\n",
       "      <td>4fd22d018eb7c8105d7b95dc</td>\n",
       "      <td>1999-10-06T00:00:00Z</td>\n",
       "      <td>Business</td>\n",
       "      <td>http://www.nytimes.com/1999/10/06/business/man...</td>\n",
       "      <td>3</td>\n",
       "      <td>ebay</td>\n",
       "      <td>related to issues of integrity trust and ethic...</td>\n",
       "    </tr>\n",
       "    <tr>\n",
       "      <th>5352</th>\n",
       "      <td>4fd206cd8eb7c8105d7705d1</td>\n",
       "      <td>2001-04-11T00:00:00Z</td>\n",
       "      <td>New York and Region</td>\n",
       "      <td>http://www.nytimes.com/2001/04/11/nyregion/pub...</td>\n",
       "      <td>3</td>\n",
       "      <td>ebay</td>\n",
       "      <td>) eBay the Internet etc.</td>\n",
       "    </tr>\n",
       "    <tr>\n",
       "      <th>6303</th>\n",
       "      <td>4fd20a078eb7c8105d776b5b</td>\n",
       "      <td>1999-04-13T00:00:00Z</td>\n",
       "      <td>Technology; Front Page; Business</td>\n",
       "      <td>http://www.nytimes.com/1999/04/13/business/on-...</td>\n",
       "      <td>3</td>\n",
       "      <td>ebay</td>\n",
       "      <td>Internet auctions have captivated nation's bar...</td>\n",
       "    </tr>\n",
       "    <tr>\n",
       "      <th>6304</th>\n",
       "      <td>4fd20a078eb7c8105d776b5b</td>\n",
       "      <td>1999-04-13T00:00:00Z</td>\n",
       "      <td>Technology; Front Page; Business</td>\n",
       "      <td>http://www.nytimes.com/1999/04/13/business/on-...</td>\n",
       "      <td>3</td>\n",
       "      <td>ebay</td>\n",
       "      <td>On Ebay the most popular site etiquette dictat...</td>\n",
       "    </tr>\n",
       "    <tr>\n",
       "      <th>6578</th>\n",
       "      <td>4fd237748eb7c8105d7c9da3</td>\n",
       "      <td>2000-03-13T00:00:00Z</td>\n",
       "      <td>Technology; Business</td>\n",
       "      <td>http://www.nytimes.com/2000/03/13/business/com...</td>\n",
       "      <td>3</td>\n",
       "      <td>ebay</td>\n",
       "      <td>1998 Jay founded Billpoint a service that allo...</td>\n",
       "    </tr>\n",
       "    <tr>\n",
       "      <th>6762</th>\n",
       "      <td>4fd23b4c8eb7c8105d7d0333</td>\n",
       "      <td>2000-03-29T00:00:00Z</td>\n",
       "      <td>Technology</td>\n",
       "      <td>http://www.nytimes.com/2000/03/29/business/fre...</td>\n",
       "      <td>3</td>\n",
       "      <td>ebay</td>\n",
       "      <td>Domains are changing hands both at general auc...</td>\n",
       "    </tr>\n",
       "    <tr>\n",
       "      <th>6804</th>\n",
       "      <td>4fd228a58eb7c8105d7b1e95</td>\n",
       "      <td>2001-09-06T00:00:00Z</td>\n",
       "      <td>Technology</td>\n",
       "      <td>http://www.nytimes.com/2001/09/06/technology/o...</td>\n",
       "      <td>3</td>\n",
       "      <td>ebay</td>\n",
       "      <td>On eBay a small but regular auction market has...</td>\n",
       "    </tr>\n",
       "    <tr>\n",
       "      <th>6865</th>\n",
       "      <td>4fd2a4828eb7c8105d88a98f</td>\n",
       "      <td>2004-09-20T00:00:00Z</td>\n",
       "      <td>Arts</td>\n",
       "      <td>http://www.nytimes.com/2004/09/20/arts/20gard....</td>\n",
       "      <td>3</td>\n",
       "      <td>ebay</td>\n",
       "      <td>I moved onto eBay and found a postmodern pasti...</td>\n",
       "    </tr>\n",
       "    <tr>\n",
       "      <th>7239</th>\n",
       "      <td>4fd1f3308eb7c8105d74b498</td>\n",
       "      <td>2000-03-12T00:00:00Z</td>\n",
       "      <td>Style</td>\n",
       "      <td>http://www.nytimes.com/2000/03/12/style/my-dre...</td>\n",
       "      <td>3</td>\n",
       "      <td>ebay</td>\n",
       "      <td>When Ms. Lindholm posted a 17-year-old Betsey ...</td>\n",
       "    </tr>\n",
       "    <tr>\n",
       "      <th>7913</th>\n",
       "      <td>4fd21e828eb7c8105d7a0e97</td>\n",
       "      <td>1999-05-09T00:00:00Z</td>\n",
       "      <td>Style</td>\n",
       "      <td>http://www.nytimes.com/1999/05/09/style/style-...</td>\n",
       "      <td>3</td>\n",
       "      <td>ebay</td>\n",
       "      <td>To the Flea Market in Pajamas on Ebay</td>\n",
       "    </tr>\n",
       "    <tr>\n",
       "      <th>7914</th>\n",
       "      <td>4fd21e828eb7c8105d7a0e97</td>\n",
       "      <td>1999-05-09T00:00:00Z</td>\n",
       "      <td>Style</td>\n",
       "      <td>http://www.nytimes.com/1999/05/09/style/style-...</td>\n",
       "      <td>3</td>\n",
       "      <td>ebay</td>\n",
       "      <td>AMONG my friends Ebay is hotter than Britney S...</td>\n",
       "    </tr>\n",
       "    <tr>\n",
       "      <th>7962</th>\n",
       "      <td>4fd3a3898eb7c8105d8ecef0</td>\n",
       "      <td>2012-02-29T07:00:27Z</td>\n",
       "      <td>Opinion</td>\n",
       "      <td>http://opinionator.blogs.nytimes.com/2012/02/2...</td>\n",
       "      <td>3</td>\n",
       "      <td>ebay</td>\n",
       "      <td>What eBay does for buyers and sellers companie...</td>\n",
       "    </tr>\n",
       "    <tr>\n",
       "      <th>8233</th>\n",
       "      <td>4fd230398eb7c8105d7be9de</td>\n",
       "      <td>2000-02-11T00:00:00Z</td>\n",
       "      <td>Opinion</td>\n",
       "      <td>http://www.nytimes.com/2000/02/11/opinion/fore...</td>\n",
       "      <td>3</td>\n",
       "      <td>ebay</td>\n",
       "      <td>The old security agenda has been inverted and ...</td>\n",
       "    </tr>\n",
       "    <tr>\n",
       "      <th>8429</th>\n",
       "      <td>4fd2358d8eb7c8105d7c71a2</td>\n",
       "      <td>2002-04-11T00:00:00Z</td>\n",
       "      <td>Technology</td>\n",
       "      <td>http://www.nytimes.com/2002/04/11/technology/b...</td>\n",
       "      <td>3</td>\n",
       "      <td>ebay</td>\n",
       "      <td>investors and their own wealth they are creati...</td>\n",
       "    </tr>\n",
       "    <tr>\n",
       "      <th>8553</th>\n",
       "      <td>4fd207738eb7c8105d7716b5</td>\n",
       "      <td>2000-04-22T00:00:00Z</td>\n",
       "      <td>Technology; Front Page; Health; U.S.</td>\n",
       "      <td>http://www.nytimes.com/2000/04/22/us/online-th...</td>\n",
       "      <td>3</td>\n",
       "      <td>ebay</td>\n",
       "      <td>But unlike buying a broken Palm Pilot on eBay ...</td>\n",
       "    </tr>\n",
       "    <tr>\n",
       "      <th>8584</th>\n",
       "      <td>4fd265988eb7c8105d819b0c</td>\n",
       "      <td>2002-03-03T00:00:00Z</td>\n",
       "      <td>Technology; Business</td>\n",
       "      <td>http://www.nytimes.com/2002/03/03/business/pri...</td>\n",
       "      <td>3</td>\n",
       "      <td>ebay</td>\n",
       "      <td>office manager wanted to buy a new conference ...</td>\n",
       "    </tr>\n",
       "    <tr>\n",
       "      <th>9522</th>\n",
       "      <td>4fd240168eb7c8105d7d7724</td>\n",
       "      <td>2000-06-30T00:00:00Z</td>\n",
       "      <td>Technology; New York and Region</td>\n",
       "      <td>http://www.nytimes.com/2000/06/30/nyregion/for...</td>\n",
       "      <td>3</td>\n",
       "      <td>ebay</td>\n",
       "      <td>No comprehensive tallies of prices from Intern...</td>\n",
       "    </tr>\n",
       "    <tr>\n",
       "      <th>...</th>\n",
       "      <td>...</td>\n",
       "      <td>...</td>\n",
       "      <td>...</td>\n",
       "      <td>...</td>\n",
       "      <td>...</td>\n",
       "      <td>...</td>\n",
       "      <td>...</td>\n",
       "    </tr>\n",
       "    <tr>\n",
       "      <th>1508544</th>\n",
       "      <td>4fd3938b8eb7c8105d8c7440</td>\n",
       "      <td>2008-12-15T20:50:55Z</td>\n",
       "      <td>Opinion</td>\n",
       "      <td>http://kristof.blogs.nytimes.com/2008/12/15/pa...</td>\n",
       "      <td>3</td>\n",
       "      <td>ebay</td>\n",
       "      <td>The second one could be put on Ebay to defray ...</td>\n",
       "    </tr>\n",
       "    <tr>\n",
       "      <th>1508545</th>\n",
       "      <td>4fd3938b8eb7c8105d8c7440</td>\n",
       "      <td>2008-12-15T20:50:55Z</td>\n",
       "      <td>Opinion</td>\n",
       "      <td>http://kristof.blogs.nytimes.com/2008/12/15/pa...</td>\n",
       "      <td>3</td>\n",
       "      <td>ebay</td>\n",
       "      <td>The second one could be put on Ebay to defray ...</td>\n",
       "    </tr>\n",
       "    <tr>\n",
       "      <th>1508914</th>\n",
       "      <td>4fd28ba08eb7c8105d85f22a</td>\n",
       "      <td>2009-01-15T00:00:00Z</td>\n",
       "      <td>New York and Region</td>\n",
       "      <td>http://query.nytimes.com/gst/fullpage.html?res...</td>\n",
       "      <td>3</td>\n",
       "      <td>ebay</td>\n",
       "      <td>''And I'm not selling this on eBay.</td>\n",
       "    </tr>\n",
       "    <tr>\n",
       "      <th>1510440</th>\n",
       "      <td>4fd394ff8eb7c8105d8ca511</td>\n",
       "      <td>2009-04-29T16:52:46Z</td>\n",
       "      <td>Technology</td>\n",
       "      <td>http://bits.blogs.nytimes.com/2009/04/29/when-...</td>\n",
       "      <td>3</td>\n",
       "      <td>ebay</td>\n",
       "      <td>As Time Warner spins out AOL and eBay does the...</td>\n",
       "    </tr>\n",
       "    <tr>\n",
       "      <th>1510441</th>\n",
       "      <td>4fd394ff8eb7c8105d8ca511</td>\n",
       "      <td>2009-04-29T16:52:46Z</td>\n",
       "      <td>Technology</td>\n",
       "      <td>http://bits.blogs.nytimes.com/2009/04/29/when-...</td>\n",
       "      <td>3</td>\n",
       "      <td>ebay</td>\n",
       "      <td>The solution chosen by eBay the owner of Skype...</td>\n",
       "    </tr>\n",
       "    <tr>\n",
       "      <th>1511665</th>\n",
       "      <td>4fd396088eb7c8105d8cc946</td>\n",
       "      <td>2009-07-31T09:39:27Z</td>\n",
       "      <td>Sports</td>\n",
       "      <td>http://goal.blogs.nytimes.com/2009/07/31/engli...</td>\n",
       "      <td>3</td>\n",
       "      <td>ebay</td>\n",
       "      <td>English Club for Sale on eBay</td>\n",
       "    </tr>\n",
       "    <tr>\n",
       "      <th>1511666</th>\n",
       "      <td>4fd396088eb7c8105d8cc946</td>\n",
       "      <td>2009-07-31T09:39:27Z</td>\n",
       "      <td>Sports</td>\n",
       "      <td>http://goal.blogs.nytimes.com/2009/07/31/engli...</td>\n",
       "      <td>3</td>\n",
       "      <td>ebay</td>\n",
       "      <td>So you're out of luck if you were in the marke...</td>\n",
       "    </tr>\n",
       "    <tr>\n",
       "      <th>1513097</th>\n",
       "      <td>4fd398468eb7c8105d8d2555</td>\n",
       "      <td>2009-11-12T07:30:13Z</td>\n",
       "      <td>Autos</td>\n",
       "      <td>http://wheels.blogs.nytimes.com/2009/11/12/eba...</td>\n",
       "      <td>3</td>\n",
       "      <td>ebay</td>\n",
       "      <td>Those considering buying a used car or truck t...</td>\n",
       "    </tr>\n",
       "    <tr>\n",
       "      <th>1513098</th>\n",
       "      <td>4fd398468eb7c8105d8d2555</td>\n",
       "      <td>2009-11-12T07:30:13Z</td>\n",
       "      <td>Autos</td>\n",
       "      <td>http://wheels.blogs.nytimes.com/2009/11/12/eba...</td>\n",
       "      <td>3</td>\n",
       "      <td>ebay</td>\n",
       "      <td>EBay Motors Offering Free Vehicle History Report</td>\n",
       "    </tr>\n",
       "    <tr>\n",
       "      <th>1513099</th>\n",
       "      <td>4fd398468eb7c8105d8d2555</td>\n",
       "      <td>2009-11-12T07:30:13Z</td>\n",
       "      <td>Autos</td>\n",
       "      <td>http://wheels.blogs.nytimes.com/2009/11/12/eba...</td>\n",
       "      <td>3</td>\n",
       "      <td>ebay</td>\n",
       "      <td>Those considering buying a used car or truck t...</td>\n",
       "    </tr>\n",
       "    <tr>\n",
       "      <th>1513100</th>\n",
       "      <td>4fd398468eb7c8105d8d2555</td>\n",
       "      <td>2009-11-12T07:30:13Z</td>\n",
       "      <td>Autos</td>\n",
       "      <td>http://wheels.blogs.nytimes.com/2009/11/12/eba...</td>\n",
       "      <td>3</td>\n",
       "      <td>ebay</td>\n",
       "      <td>considering buying a used car or truck through...</td>\n",
       "    </tr>\n",
       "    <tr>\n",
       "      <th>1513567</th>\n",
       "      <td>4fd275a28eb7c8105d8357c5</td>\n",
       "      <td>2009-12-20T00:00:00Z</td>\n",
       "      <td>Opinion</td>\n",
       "      <td>http://www.nytimes.com/2009/12/20/opinion/20ri...</td>\n",
       "      <td>3</td>\n",
       "      <td>ebay</td>\n",
       "      <td>not so easily dismantled and collectors' items...</td>\n",
       "    </tr>\n",
       "    <tr>\n",
       "      <th>1515141</th>\n",
       "      <td>4fd29c148eb7c8105d87cf38</td>\n",
       "      <td>2010-04-22T00:00:00Z</td>\n",
       "      <td>Technology; Business</td>\n",
       "      <td>http://query.nytimes.com/gst/fullpage.html?res...</td>\n",
       "      <td>3</td>\n",
       "      <td>ebay</td>\n",
       "      <td>Gadgetwise blog notes eBay remakes its iPhone ...</td>\n",
       "    </tr>\n",
       "    <tr>\n",
       "      <th>1515142</th>\n",
       "      <td>4fd29c148eb7c8105d87cf38</td>\n",
       "      <td>2010-04-22T00:00:00Z</td>\n",
       "      <td>Technology; Business</td>\n",
       "      <td>http://query.nytimes.com/gst/fullpage.html?res...</td>\n",
       "      <td>3</td>\n",
       "      <td>ebay</td>\n",
       "      <td>EBay Remakes an iPhone App Specifically for th...</td>\n",
       "    </tr>\n",
       "    <tr>\n",
       "      <th>1515143</th>\n",
       "      <td>4fd29c148eb7c8105d87cf38</td>\n",
       "      <td>2010-04-22T00:00:00Z</td>\n",
       "      <td>Technology; Business</td>\n",
       "      <td>http://query.nytimes.com/gst/fullpage.html?res...</td>\n",
       "      <td>3</td>\n",
       "      <td>ebay</td>\n",
       "      <td>The best eBay shopping experience - and one of...</td>\n",
       "    </tr>\n",
       "    <tr>\n",
       "      <th>1515144</th>\n",
       "      <td>4fd29c148eb7c8105d87cf38</td>\n",
       "      <td>2010-04-22T00:00:00Z</td>\n",
       "      <td>Technology; Business</td>\n",
       "      <td>http://query.nytimes.com/gst/fullpage.html?res...</td>\n",
       "      <td>3</td>\n",
       "      <td>ebay</td>\n",
       "      <td>EBay though has completely remade the way its ...</td>\n",
       "    </tr>\n",
       "    <tr>\n",
       "      <th>1518107</th>\n",
       "      <td>4fd29f0e8eb7c8105d88206d</td>\n",
       "      <td>2010-12-03T00:00:00Z</td>\n",
       "      <td>U.S.</td>\n",
       "      <td>http://query.nytimes.com/gst/fullpage.html?res...</td>\n",
       "      <td>3</td>\n",
       "      <td>ebay</td>\n",
       "      <td>make a number of executives rich overnight in ...</td>\n",
       "    </tr>\n",
       "    <tr>\n",
       "      <th>1525363</th>\n",
       "      <td>4fd2ace48eb7c8105d89a9fa</td>\n",
       "      <td>2012-05-26T00:00:00Z</td>\n",
       "      <td>New York and Region</td>\n",
       "      <td>http://query.nytimes.com/gst/fullpage.html?res...</td>\n",
       "      <td>3</td>\n",
       "      <td>ebay</td>\n",
       "      <td>Someone who sold it on eBay to Mrs. Bacal.</td>\n",
       "    </tr>\n",
       "    <tr>\n",
       "      <th>1527221</th>\n",
       "      <td>50a6a48700315214fbb7ae15</td>\n",
       "      <td>2012-11-16T15:29:50Z</td>\n",
       "      <td>Business Day</td>\n",
       "      <td>http://dealbook.nytimes.com/2012/11/16/a-compa...</td>\n",
       "      <td>3</td>\n",
       "      <td>ebay</td>\n",
       "      <td>On eBay boxes of Twinkies were being listed fo...</td>\n",
       "    </tr>\n",
       "    <tr>\n",
       "      <th>1534912</th>\n",
       "      <td>4fd2509e8eb7c8105d7f45a3</td>\n",
       "      <td>2006-04-17T00:00:00Z</td>\n",
       "      <td>Business</td>\n",
       "      <td>http://www.nytimes.com/2006/04/17/business/17a...</td>\n",
       "      <td>3</td>\n",
       "      <td>ebay</td>\n",
       "      <td>Citigroup Knight Ridder and Wachovia are due t...</td>\n",
       "    </tr>\n",
       "    <tr>\n",
       "      <th>1534913</th>\n",
       "      <td>4fd2509e8eb7c8105d7f45a3</td>\n",
       "      <td>2006-04-17T00:00:00Z</td>\n",
       "      <td>Business</td>\n",
       "      <td>http://www.nytimes.com/2006/04/17/business/17a...</td>\n",
       "      <td>3</td>\n",
       "      <td>ebay</td>\n",
       "      <td>Merrill Lynch Motorola Texas Instruments Wells...</td>\n",
       "    </tr>\n",
       "    <tr>\n",
       "      <th>1534928</th>\n",
       "      <td>4fd2ab858eb7c8105d89899a</td>\n",
       "      <td>2006-04-20T00:00:00Z</td>\n",
       "      <td>Business</td>\n",
       "      <td>http://query.nytimes.com/gst/fullpage.html?res...</td>\n",
       "      <td>3</td>\n",
       "      <td>ebay</td>\n",
       "      <td>EBay the online shopping company matched Wall ...</td>\n",
       "    </tr>\n",
       "    <tr>\n",
       "      <th>1534929</th>\n",
       "      <td>4fd2ab858eb7c8105d89899a</td>\n",
       "      <td>2006-04-20T00:00:00Z</td>\n",
       "      <td>Business</td>\n",
       "      <td>http://query.nytimes.com/gst/fullpage.html?res...</td>\n",
       "      <td>3</td>\n",
       "      <td>ebay</td>\n",
       "      <td>EBay the online shopping company matched Wall ...</td>\n",
       "    </tr>\n",
       "    <tr>\n",
       "      <th>1537279</th>\n",
       "      <td>4fd239188eb7c8105d7ccdc3</td>\n",
       "      <td>2004-04-25T00:00:00Z</td>\n",
       "      <td>Technology; Business</td>\n",
       "      <td>http://www.nytimes.com/2004/04/25/business/new...</td>\n",
       "      <td>3</td>\n",
       "      <td>ebay</td>\n",
       "      <td>The stellar quarterly earnings of Amazon.com Y...</td>\n",
       "    </tr>\n",
       "    <tr>\n",
       "      <th>1537729</th>\n",
       "      <td>4fd398b58eb7c8105d8d3806</td>\n",
       "      <td>2010-01-07T14:32:45Z</td>\n",
       "      <td>Business Day</td>\n",
       "      <td>http://dealbook.nytimes.com/2010/01/07/guilty-...</td>\n",
       "      <td>3</td>\n",
       "      <td>ebay</td>\n",
       "      <td>'s financial performance and about a subsidiar...</td>\n",
       "    </tr>\n",
       "    <tr>\n",
       "      <th>1539344</th>\n",
       "      <td>514fad6cfdc5926e770020ff</td>\n",
       "      <td>2013-03-25T00:00:00Z</td>\n",
       "      <td>Technology</td>\n",
       "      <td>http://www.nytimes.com/2013/03/25/technology/n...</td>\n",
       "      <td>3</td>\n",
       "      <td>ebay</td>\n",
       "      <td>Profile of Sophia Amoruso who turned small eBa...</td>\n",
       "    </tr>\n",
       "    <tr>\n",
       "      <th>1539345</th>\n",
       "      <td>514fad6cfdc5926e770020ff</td>\n",
       "      <td>2013-03-25T00:00:00Z</td>\n",
       "      <td>Technology</td>\n",
       "      <td>http://www.nytimes.com/2013/03/25/technology/n...</td>\n",
       "      <td>3</td>\n",
       "      <td>ebay</td>\n",
       "      <td>Sophia Amoruso turned an eBay store selling vi...</td>\n",
       "    </tr>\n",
       "    <tr>\n",
       "      <th>1539346</th>\n",
       "      <td>514fad6cfdc5926e770020ff</td>\n",
       "      <td>2013-03-25T00:00:00Z</td>\n",
       "      <td>Technology</td>\n",
       "      <td>http://www.nytimes.com/2013/03/25/technology/n...</td>\n",
       "      <td>3</td>\n",
       "      <td>ebay</td>\n",
       "      <td>Then she started a side project Nasty Gal an e...</td>\n",
       "    </tr>\n",
       "    <tr>\n",
       "      <th>1541012</th>\n",
       "      <td>4fd206c98eb7c8105d77026c</td>\n",
       "      <td>2001-04-18T00:00:00Z</td>\n",
       "      <td>Technology; Business</td>\n",
       "      <td>http://www.nytimes.com/2001/04/18/business/rea...</td>\n",
       "      <td>3</td>\n",
       "      <td>ebay</td>\n",
       "      <td>Several people well versed in Internet reveal ...</td>\n",
       "    </tr>\n",
       "    <tr>\n",
       "      <th>1541013</th>\n",
       "      <td>4fd206c98eb7c8105d77026c</td>\n",
       "      <td>2001-04-18T00:00:00Z</td>\n",
       "      <td>Technology; Business</td>\n",
       "      <td>http://www.nytimes.com/2001/04/18/business/rea...</td>\n",
       "      <td>3</td>\n",
       "      <td>ebay</td>\n",
       "      <td>Early adopters are often catalysts for spreadi...</td>\n",
       "    </tr>\n",
       "  </tbody>\n",
       "</table>\n",
       "<p>8978 rows × 7 columns</p>\n",
       "</div>"
      ],
      "text/plain": [
       "                       article_id              pub_date  \\\n",
       "479      4fd2173e8eb7c8105d792d10  1999-01-13T00:00:00Z   \n",
       "809      4fd1e8138eb7c8105d735bbd  1999-02-28T00:00:00Z   \n",
       "2926     4fd25f0c8eb7c8105d80eb13  2005-07-19T00:00:00Z   \n",
       "3313     4fd1f4088eb7c8105d74ce09  1999-02-21T00:00:00Z   \n",
       "3511     4fd200828eb7c8105d763de9  1999-08-09T00:00:00Z   \n",
       "3512     4fd200828eb7c8105d763de9  1999-08-09T00:00:00Z   \n",
       "3794     4fd219c98eb7c8105d797d18  2000-08-03T00:00:00Z   \n",
       "3795     4fd219c98eb7c8105d797d18  2000-08-03T00:00:00Z   \n",
       "3796     4fd219c98eb7c8105d797d18  2000-08-03T00:00:00Z   \n",
       "3798     4fd219c98eb7c8105d797d18  2000-08-03T00:00:00Z   \n",
       "4017     4fd200858eb7c8105d76410a  1999-09-19T00:00:00Z   \n",
       "4036     4fd230e88eb7c8105d7bfdc4  1999-09-28T00:00:00Z   \n",
       "4037     4fd230e88eb7c8105d7bfdc4  1999-09-28T00:00:00Z   \n",
       "4247     4fd22d018eb7c8105d7b95dc  1999-10-06T00:00:00Z   \n",
       "5352     4fd206cd8eb7c8105d7705d1  2001-04-11T00:00:00Z   \n",
       "6303     4fd20a078eb7c8105d776b5b  1999-04-13T00:00:00Z   \n",
       "6304     4fd20a078eb7c8105d776b5b  1999-04-13T00:00:00Z   \n",
       "6578     4fd237748eb7c8105d7c9da3  2000-03-13T00:00:00Z   \n",
       "6762     4fd23b4c8eb7c8105d7d0333  2000-03-29T00:00:00Z   \n",
       "6804     4fd228a58eb7c8105d7b1e95  2001-09-06T00:00:00Z   \n",
       "6865     4fd2a4828eb7c8105d88a98f  2004-09-20T00:00:00Z   \n",
       "7239     4fd1f3308eb7c8105d74b498  2000-03-12T00:00:00Z   \n",
       "7913     4fd21e828eb7c8105d7a0e97  1999-05-09T00:00:00Z   \n",
       "7914     4fd21e828eb7c8105d7a0e97  1999-05-09T00:00:00Z   \n",
       "7962     4fd3a3898eb7c8105d8ecef0  2012-02-29T07:00:27Z   \n",
       "8233     4fd230398eb7c8105d7be9de  2000-02-11T00:00:00Z   \n",
       "8429     4fd2358d8eb7c8105d7c71a2  2002-04-11T00:00:00Z   \n",
       "8553     4fd207738eb7c8105d7716b5  2000-04-22T00:00:00Z   \n",
       "8584     4fd265988eb7c8105d819b0c  2002-03-03T00:00:00Z   \n",
       "9522     4fd240168eb7c8105d7d7724  2000-06-30T00:00:00Z   \n",
       "...                           ...                   ...   \n",
       "1508544  4fd3938b8eb7c8105d8c7440  2008-12-15T20:50:55Z   \n",
       "1508545  4fd3938b8eb7c8105d8c7440  2008-12-15T20:50:55Z   \n",
       "1508914  4fd28ba08eb7c8105d85f22a  2009-01-15T00:00:00Z   \n",
       "1510440  4fd394ff8eb7c8105d8ca511  2009-04-29T16:52:46Z   \n",
       "1510441  4fd394ff8eb7c8105d8ca511  2009-04-29T16:52:46Z   \n",
       "1511665  4fd396088eb7c8105d8cc946  2009-07-31T09:39:27Z   \n",
       "1511666  4fd396088eb7c8105d8cc946  2009-07-31T09:39:27Z   \n",
       "1513097  4fd398468eb7c8105d8d2555  2009-11-12T07:30:13Z   \n",
       "1513098  4fd398468eb7c8105d8d2555  2009-11-12T07:30:13Z   \n",
       "1513099  4fd398468eb7c8105d8d2555  2009-11-12T07:30:13Z   \n",
       "1513100  4fd398468eb7c8105d8d2555  2009-11-12T07:30:13Z   \n",
       "1513567  4fd275a28eb7c8105d8357c5  2009-12-20T00:00:00Z   \n",
       "1515141  4fd29c148eb7c8105d87cf38  2010-04-22T00:00:00Z   \n",
       "1515142  4fd29c148eb7c8105d87cf38  2010-04-22T00:00:00Z   \n",
       "1515143  4fd29c148eb7c8105d87cf38  2010-04-22T00:00:00Z   \n",
       "1515144  4fd29c148eb7c8105d87cf38  2010-04-22T00:00:00Z   \n",
       "1518107  4fd29f0e8eb7c8105d88206d  2010-12-03T00:00:00Z   \n",
       "1525363  4fd2ace48eb7c8105d89a9fa  2012-05-26T00:00:00Z   \n",
       "1527221  50a6a48700315214fbb7ae15  2012-11-16T15:29:50Z   \n",
       "1534912  4fd2509e8eb7c8105d7f45a3  2006-04-17T00:00:00Z   \n",
       "1534913  4fd2509e8eb7c8105d7f45a3  2006-04-17T00:00:00Z   \n",
       "1534928  4fd2ab858eb7c8105d89899a  2006-04-20T00:00:00Z   \n",
       "1534929  4fd2ab858eb7c8105d89899a  2006-04-20T00:00:00Z   \n",
       "1537279  4fd239188eb7c8105d7ccdc3  2004-04-25T00:00:00Z   \n",
       "1537729  4fd398b58eb7c8105d8d3806  2010-01-07T14:32:45Z   \n",
       "1539344  514fad6cfdc5926e770020ff  2013-03-25T00:00:00Z   \n",
       "1539345  514fad6cfdc5926e770020ff  2013-03-25T00:00:00Z   \n",
       "1539346  514fad6cfdc5926e770020ff  2013-03-25T00:00:00Z   \n",
       "1541012  4fd206c98eb7c8105d77026c  2001-04-18T00:00:00Z   \n",
       "1541013  4fd206c98eb7c8105d77026c  2001-04-18T00:00:00Z   \n",
       "\n",
       "                                 section_name  \\\n",
       "479                                  Business   \n",
       "809                      Technology; Business   \n",
       "2926                                   Sports   \n",
       "3313                     Technology; Business   \n",
       "3511                     Technology; Business   \n",
       "3512                     Technology; Business   \n",
       "3794                               Technology   \n",
       "3795                               Technology   \n",
       "3796                               Technology   \n",
       "3798                               Technology   \n",
       "4017                     Technology; Business   \n",
       "4036                        Technology; World   \n",
       "4037                        Technology; World   \n",
       "4247                                 Business   \n",
       "5352                      New York and Region   \n",
       "6303         Technology; Front Page; Business   \n",
       "6304         Technology; Front Page; Business   \n",
       "6578                     Technology; Business   \n",
       "6762                               Technology   \n",
       "6804                               Technology   \n",
       "6865                                     Arts   \n",
       "7239                                    Style   \n",
       "7913                                    Style   \n",
       "7914                                    Style   \n",
       "7962                                  Opinion   \n",
       "8233                                  Opinion   \n",
       "8429                               Technology   \n",
       "8553     Technology; Front Page; Health; U.S.   \n",
       "8584                     Technology; Business   \n",
       "9522          Technology; New York and Region   \n",
       "...                                       ...   \n",
       "1508544                               Opinion   \n",
       "1508545                               Opinion   \n",
       "1508914                   New York and Region   \n",
       "1510440                            Technology   \n",
       "1510441                            Technology   \n",
       "1511665                                Sports   \n",
       "1511666                                Sports   \n",
       "1513097                                 Autos   \n",
       "1513098                                 Autos   \n",
       "1513099                                 Autos   \n",
       "1513100                                 Autos   \n",
       "1513567                               Opinion   \n",
       "1515141                  Technology; Business   \n",
       "1515142                  Technology; Business   \n",
       "1515143                  Technology; Business   \n",
       "1515144                  Technology; Business   \n",
       "1518107                                  U.S.   \n",
       "1525363                   New York and Region   \n",
       "1527221                          Business Day   \n",
       "1534912                              Business   \n",
       "1534913                              Business   \n",
       "1534928                              Business   \n",
       "1534929                              Business   \n",
       "1537279                  Technology; Business   \n",
       "1537729                          Business Day   \n",
       "1539344                            Technology   \n",
       "1539345                            Technology   \n",
       "1539346                            Technology   \n",
       "1541012                  Technology; Business   \n",
       "1541013                  Technology; Business   \n",
       "\n",
       "                                                   web_url  term_category  \\\n",
       "479      http://www.nytimes.com/1999/01/13/business/the...              3   \n",
       "809      http://www.nytimes.com/1999/02/28/business/sai...              3   \n",
       "2926     http://www.nytimes.com/2005/07/19/sports/baseb...              3   \n",
       "3313     http://www.nytimes.com/1999/02/21/business/pre...              3   \n",
       "3511     http://www.nytimes.com/1999/08/09/business/pat...              3   \n",
       "3512     http://www.nytimes.com/1999/08/09/business/pat...              3   \n",
       "3794     http://www.nytimes.com/2000/08/03/technology/q...              3   \n",
       "3795     http://www.nytimes.com/2000/08/03/technology/q...              3   \n",
       "3796     http://www.nytimes.com/2000/08/03/technology/q...              3   \n",
       "3798     http://www.nytimes.com/2000/08/03/technology/q...              3   \n",
       "4017     http://www.nytimes.com/1999/09/19/business/bus...              3   \n",
       "4036     http://www.nytimes.com/1999/09/28/world/a-half...              3   \n",
       "4037     http://www.nytimes.com/1999/09/28/world/a-half...              3   \n",
       "4247     http://www.nytimes.com/1999/10/06/business/man...              3   \n",
       "5352     http://www.nytimes.com/2001/04/11/nyregion/pub...              3   \n",
       "6303     http://www.nytimes.com/1999/04/13/business/on-...              3   \n",
       "6304     http://www.nytimes.com/1999/04/13/business/on-...              3   \n",
       "6578     http://www.nytimes.com/2000/03/13/business/com...              3   \n",
       "6762     http://www.nytimes.com/2000/03/29/business/fre...              3   \n",
       "6804     http://www.nytimes.com/2001/09/06/technology/o...              3   \n",
       "6865     http://www.nytimes.com/2004/09/20/arts/20gard....              3   \n",
       "7239     http://www.nytimes.com/2000/03/12/style/my-dre...              3   \n",
       "7913     http://www.nytimes.com/1999/05/09/style/style-...              3   \n",
       "7914     http://www.nytimes.com/1999/05/09/style/style-...              3   \n",
       "7962     http://opinionator.blogs.nytimes.com/2012/02/2...              3   \n",
       "8233     http://www.nytimes.com/2000/02/11/opinion/fore...              3   \n",
       "8429     http://www.nytimes.com/2002/04/11/technology/b...              3   \n",
       "8553     http://www.nytimes.com/2000/04/22/us/online-th...              3   \n",
       "8584     http://www.nytimes.com/2002/03/03/business/pri...              3   \n",
       "9522     http://www.nytimes.com/2000/06/30/nyregion/for...              3   \n",
       "...                                                    ...            ...   \n",
       "1508544  http://kristof.blogs.nytimes.com/2008/12/15/pa...              3   \n",
       "1508545  http://kristof.blogs.nytimes.com/2008/12/15/pa...              3   \n",
       "1508914  http://query.nytimes.com/gst/fullpage.html?res...              3   \n",
       "1510440  http://bits.blogs.nytimes.com/2009/04/29/when-...              3   \n",
       "1510441  http://bits.blogs.nytimes.com/2009/04/29/when-...              3   \n",
       "1511665  http://goal.blogs.nytimes.com/2009/07/31/engli...              3   \n",
       "1511666  http://goal.blogs.nytimes.com/2009/07/31/engli...              3   \n",
       "1513097  http://wheels.blogs.nytimes.com/2009/11/12/eba...              3   \n",
       "1513098  http://wheels.blogs.nytimes.com/2009/11/12/eba...              3   \n",
       "1513099  http://wheels.blogs.nytimes.com/2009/11/12/eba...              3   \n",
       "1513100  http://wheels.blogs.nytimes.com/2009/11/12/eba...              3   \n",
       "1513567  http://www.nytimes.com/2009/12/20/opinion/20ri...              3   \n",
       "1515141  http://query.nytimes.com/gst/fullpage.html?res...              3   \n",
       "1515142  http://query.nytimes.com/gst/fullpage.html?res...              3   \n",
       "1515143  http://query.nytimes.com/gst/fullpage.html?res...              3   \n",
       "1515144  http://query.nytimes.com/gst/fullpage.html?res...              3   \n",
       "1518107  http://query.nytimes.com/gst/fullpage.html?res...              3   \n",
       "1525363  http://query.nytimes.com/gst/fullpage.html?res...              3   \n",
       "1527221  http://dealbook.nytimes.com/2012/11/16/a-compa...              3   \n",
       "1534912  http://www.nytimes.com/2006/04/17/business/17a...              3   \n",
       "1534913  http://www.nytimes.com/2006/04/17/business/17a...              3   \n",
       "1534928  http://query.nytimes.com/gst/fullpage.html?res...              3   \n",
       "1534929  http://query.nytimes.com/gst/fullpage.html?res...              3   \n",
       "1537279  http://www.nytimes.com/2004/04/25/business/new...              3   \n",
       "1537729  http://dealbook.nytimes.com/2010/01/07/guilty-...              3   \n",
       "1539344  http://www.nytimes.com/2013/03/25/technology/n...              3   \n",
       "1539345  http://www.nytimes.com/2013/03/25/technology/n...              3   \n",
       "1539346  http://www.nytimes.com/2013/03/25/technology/n...              3   \n",
       "1541012  http://www.nytimes.com/2001/04/18/business/rea...              3   \n",
       "1541013  http://www.nytimes.com/2001/04/18/business/rea...              3   \n",
       "\n",
       "         term                                           sentence  \n",
       "479      ebay  Ebay which was offered to the public in Septem...  \n",
       "809      ebay  ''make markets'' facilitating investors' trade...  \n",
       "2926     ebay  It helps that the kayakers of McCovey Cove hav...  \n",
       "3313     ebay  But Jeff Skoll 33 a founder of Ebay the on-lin...  \n",
       "3511     ebay  AFICIONADOS of Ebay one of the most popular an...  \n",
       "3512     ebay  AFICIONADOS of Ebay one of the most popular an...  \n",
       "3794     ebay     Putting Photos of Wares Onto eBay Auction Site  \n",
       "3795     ebay  Q. I am a computer novice and would like to se...  \n",
       "3796     ebay  To display pictures of your wares on the eBay ...  \n",
       "3798     ebay  To display pictures of your wares on the eBay ...  \n",
       "4017     ebay  The first of the new micromanufacturers began ...  \n",
       "4036     ebay  Among the many start-ups trying to emulate eve...  \n",
       "4037     ebay  Among the many start-ups trying to emulate eve...  \n",
       "4247     ebay  related to issues of integrity trust and ethic...  \n",
       "5352     ebay                           ) eBay the Internet etc.  \n",
       "6303     ebay  Internet auctions have captivated nation's bar...  \n",
       "6304     ebay  On Ebay the most popular site etiquette dictat...  \n",
       "6578     ebay  1998 Jay founded Billpoint a service that allo...  \n",
       "6762     ebay  Domains are changing hands both at general auc...  \n",
       "6804     ebay  On eBay a small but regular auction market has...  \n",
       "6865     ebay  I moved onto eBay and found a postmodern pasti...  \n",
       "7239     ebay  When Ms. Lindholm posted a 17-year-old Betsey ...  \n",
       "7913     ebay              To the Flea Market in Pajamas on Ebay  \n",
       "7914     ebay  AMONG my friends Ebay is hotter than Britney S...  \n",
       "7962     ebay  What eBay does for buyers and sellers companie...  \n",
       "8233     ebay  The old security agenda has been inverted and ...  \n",
       "8429     ebay  investors and their own wealth they are creati...  \n",
       "8553     ebay  But unlike buying a broken Palm Pilot on eBay ...  \n",
       "8584     ebay  office manager wanted to buy a new conference ...  \n",
       "9522     ebay  No comprehensive tallies of prices from Intern...  \n",
       "...       ...                                                ...  \n",
       "1508544  ebay  The second one could be put on Ebay to defray ...  \n",
       "1508545  ebay  The second one could be put on Ebay to defray ...  \n",
       "1508914  ebay                ''And I'm not selling this on eBay.  \n",
       "1510440  ebay  As Time Warner spins out AOL and eBay does the...  \n",
       "1510441  ebay  The solution chosen by eBay the owner of Skype...  \n",
       "1511665  ebay                      English Club for Sale on eBay  \n",
       "1511666  ebay  So you're out of luck if you were in the marke...  \n",
       "1513097  ebay  Those considering buying a used car or truck t...  \n",
       "1513098  ebay   EBay Motors Offering Free Vehicle History Report  \n",
       "1513099  ebay  Those considering buying a used car or truck t...  \n",
       "1513100  ebay  considering buying a used car or truck through...  \n",
       "1513567  ebay  not so easily dismantled and collectors' items...  \n",
       "1515141  ebay  Gadgetwise blog notes eBay remakes its iPhone ...  \n",
       "1515142  ebay  EBay Remakes an iPhone App Specifically for th...  \n",
       "1515143  ebay  The best eBay shopping experience - and one of...  \n",
       "1515144  ebay  EBay though has completely remade the way its ...  \n",
       "1518107  ebay  make a number of executives rich overnight in ...  \n",
       "1525363  ebay         Someone who sold it on eBay to Mrs. Bacal.  \n",
       "1527221  ebay  On eBay boxes of Twinkies were being listed fo...  \n",
       "1534912  ebay  Citigroup Knight Ridder and Wachovia are due t...  \n",
       "1534913  ebay  Merrill Lynch Motorola Texas Instruments Wells...  \n",
       "1534928  ebay  EBay the online shopping company matched Wall ...  \n",
       "1534929  ebay  EBay the online shopping company matched Wall ...  \n",
       "1537279  ebay  The stellar quarterly earnings of Amazon.com Y...  \n",
       "1537729  ebay  's financial performance and about a subsidiar...  \n",
       "1539344  ebay  Profile of Sophia Amoruso who turned small eBa...  \n",
       "1539345  ebay  Sophia Amoruso turned an eBay store selling vi...  \n",
       "1539346  ebay  Then she started a side project Nasty Gal an e...  \n",
       "1541012  ebay  Several people well versed in Internet reveal ...  \n",
       "1541013  ebay  Early adopters are often catalysts for spreadi...  \n",
       "\n",
       "[8978 rows x 7 columns]"
      ]
     },
     "execution_count": 98,
     "metadata": {},
     "output_type": "execute_result"
    }
   ],
   "source": [
    "total_data_dedup[total_data_dedup.term == 'ebay']"
   ]
  },
  {
   "cell_type": "code",
   "execution_count": 6,
   "metadata": {
    "collapsed": false
   },
   "outputs": [
    {
     "data": {
      "text/plain": [
       "[('executive', 296247),\n",
       " ('Become Inc', 283621),\n",
       " ('manager', 140885),\n",
       " ('founder', 81439),\n",
       " ('Indeed', 74720),\n",
       " ('at&t', 44971),\n",
       " ('apple', 40970),\n",
       " ('ford', 39614),\n",
       " ('twitter', 37697),\n",
       " ('Google', 35672),\n",
       " ('facebook', 34605),\n",
       " ('microsoft', 29673),\n",
       " ('Voices.com', 28494),\n",
       " ('Signal', 27596),\n",
       " ('general motors', 18827),\n",
       " ('amazon.com', 18529),\n",
       " ('wal-mart', 13781),\n",
       " ('entrepreneur', 13041),\n",
       " ('visa', 10721),\n",
       " ('walt disney company', 9578),\n",
       " ('intel corporation', 9208),\n",
       " ('boeing', 9075),\n",
       " ('ebay', 8978),\n",
       " ('coca-cola company', 8243),\n",
       " ('general electric', 8179),\n",
       " ('Exec', 6026),\n",
       " ('nike', 5425),\n",
       " ('samsung', 5229),\n",
       " ('exxon', 4721),\n",
       " ('BERG', 4352),\n",
       " ('omnicom group', 4260),\n",
       " ('netflix', 3928),\n",
       " ('johnson & johnson', 3432),\n",
       " ('morgan chase', 2909),\n",
       " ('berkshire hathaway', 2782),\n",
       " ('mckinsey & company', 2727),\n",
       " ('chevron', 2643),\n",
       " ('instagram', 2612),\n",
       " ('pepsico', 2558),\n",
       " ('cisco systems', 2547),\n",
       " ('pricewaterhousecoopers', 2527),\n",
       " ('halliburton company', 2319),\n",
       " ('Nordic', 2315),\n",
       " ('Stoke Inc', 2186),\n",
       " ('metlife', 2158),\n",
       " ('Uber', 2151),\n",
       " ('linkedin', 2110),\n",
       " ('caterpillar', 1966),\n",
       " ('blackrock', 1926),\n",
       " ('new venture', 1723),\n",
       " ('alcoa', 1566),\n",
       " ('startup', 1419),\n",
       " ('mattel', 1270),\n",
       " ('spotify', 1241),\n",
       " ('united parcel service', 1181),\n",
       " ('waste management', 1129),\n",
       " ('harley-davidson', 1116),\n",
       " ('emc corporation', 1030),\n",
       " ('3m company', 984),\n",
       " ('dow chemical', 965),\n",
       " ('Quicken', 956),\n",
       " ('Twitch', 872),\n",
       " ('Intuit', 866),\n",
       " ('conocophillips', 837),\n",
       " ('abbott laboratories', 772),\n",
       " ('Tesla Motors', 757),\n",
       " ('SkyRocket', 726),\n",
       " ('Duda', 695),\n",
       " ('pinterest', 676),\n",
       " ('union pacific', 632),\n",
       " ('Airbnb', 630),\n",
       " ('international paper company', 594),\n",
       " ('unitedhealth group', 592),\n",
       " ('Argyle Company', 587),\n",
       " ('exelon corporation', 555),\n",
       " ('Alfresco', 483),\n",
       " ('honeywell international', 448),\n",
       " ('dropbox', 447),\n",
       " ('SAS', 442),\n",
       " ('archer daniels midland', 412),\n",
       " ('valero', 401),\n",
       " ('new york life insurance company', 400),\n",
       " ('Salesforce', 309),\n",
       " ('nrg energy', 289),\n",
       " ('las vegas sands', 272),\n",
       " ('Looker', 263),\n",
       " ('mckesson', 255),\n",
       " ('cvs caremark', 243),\n",
       " ('danaher corporation', 215),\n",
       " ('state farm insurance', 215),\n",
       " ('costco wholesale', 199),\n",
       " ('mcdonalds corporation', 194),\n",
       " ('fluor corporation', 181),\n",
       " ('owens corning', 164),\n",
       " ('Quora', 145),\n",
       " ('Kahuna Inc', 141),\n",
       " ('autonation', 118),\n",
       " ('tjx companies', 118),\n",
       " ('Bridger', 107),\n",
       " ('Idee Inc', 105),\n",
       " ('phillips 66', 94),\n",
       " ('Klout', 75),\n",
       " ('Rogue Wave', 72),\n",
       " ('Twitpic', 70),\n",
       " ('Chango Inc', 62),\n",
       " ('Grooveshark', 61),\n",
       " ('energy transfer equity', 61),\n",
       " ('Eventbrite', 61),\n",
       " ('united continental holdings', 55),\n",
       " ('illinois tool works', 54),\n",
       " ('chs', 53),\n",
       " ('Moz', 52),\n",
       " ('Outbox', 50),\n",
       " ('TurnTable.fm', 47),\n",
       " ('Manilla', 47),\n",
       " ('manilla.com', 47),\n",
       " ('Fuh', 41),\n",
       " ('Restore Health', 38),\n",
       " ('stanley black & decker', 38),\n",
       " ('HubSpot', 38),\n",
       " ('H.Bloom', 36),\n",
       " ('ingram micro', 35),\n",
       " ('XCOR Aerospace Inc', 34),\n",
       " ('qik.com', 31),\n",
       " ('Qik', 30),\n",
       " ('Stipple', 30),\n",
       " ('Zeta Interactive', 30),\n",
       " ('ThinkGeek', 29),\n",
       " ('Zendesk', 29),\n",
       " ('hca holdings', 24),\n",
       " ('graham holdings company', 24),\n",
       " ('About.me', 23),\n",
       " ('Data Dynamics Inc', 22),\n",
       " ('MailChimp', 20),\n",
       " ('inBloom', 16),\n",
       " ('Adore Me', 14),\n",
       " ('rock tenn company', 14),\n",
       " ('Hortonworks', 13),\n",
       " ('Credit Sesame', 12),\n",
       " ('Skyhigh Networks', 11),\n",
       " ('Serendip', 11),\n",
       " ('Backchat', 10),\n",
       " ('cbre group', 10),\n",
       " ('Wantful', 10),\n",
       " ('Lumosity', 10),\n",
       " ('Hudl', 9),\n",
       " ('Applied Predictive Technologies', 9),\n",
       " ('RootMetrics', 9),\n",
       " ('Alcohol by Volume', 8),\n",
       " ('Yashi', 8),\n",
       " ('Behance', 7),\n",
       " ('Superfish', 7),\n",
       " ('world fuel services', 6),\n",
       " ('Skyonic Corporation', 6),\n",
       " ('LocalResponse', 6),\n",
       " ('Adconion Direct', 5),\n",
       " ('Tealium', 5),\n",
       " ('Shape Security', 5),\n",
       " ('springpad.com', 5),\n",
       " ('Springpad', 5),\n",
       " ('Tenable Network Security Inc', 5),\n",
       " ('Choice Energy', 4),\n",
       " ('GENBAND', 4),\n",
       " ('intonow.com', 4),\n",
       " ('Zumbox', 4),\n",
       " ('ryder systems', 4),\n",
       " ('manpower group', 4),\n",
       " ('Trueffect', 4),\n",
       " ('BeyondTrust', 4),\n",
       " ('Keek Inc', 4),\n",
       " ('IntoNow', 4),\n",
       " ('phillip morris international', 4),\n",
       " ('Scribe Software', 3),\n",
       " ('Xactly Corporation', 3),\n",
       " ('Crescendo Bioscience', 3),\n",
       " ('500px Inc', 3),\n",
       " ('d.r. horton', 3),\n",
       " ('Solve Media', 3),\n",
       " ('Tutorspree', 3),\n",
       " ('SkyCross', 2),\n",
       " ('MicroGREEN Polymers Inc', 2),\n",
       " ('Recon Instruments', 2),\n",
       " ('Adesto Technologies Corporation', 2),\n",
       " ('ExFM', 2),\n",
       " ('Disruptive Media', 2),\n",
       " ('Jigsy', 2),\n",
       " ('SpotXchange Inc', 2),\n",
       " ('nirvanix.com', 2),\n",
       " ('aramark holdings corporation', 2),\n",
       " ('Nirvanix', 2),\n",
       " ('DigiCert Inc', 2),\n",
       " ('Retail Capital', 2),\n",
       " ('Panaya', 2),\n",
       " ('VoterTide', 1),\n",
       " ('MedHOK', 1),\n",
       " ('FindIt', 1),\n",
       " ('Cloud Dynamics', 1),\n",
       " ('Frank and Oak', 1),\n",
       " ('lookery.com', 1),\n",
       " ('Paxata', 1),\n",
       " ('Welltok', 1),\n",
       " ('Minute Key', 1),\n",
       " ('Phunware', 1),\n",
       " ('Bionym', 1),\n",
       " ('T3 Motion Inc', 1),\n",
       " ('AppDirect', 1),\n",
       " ('Inq Mobile', 1),\n",
       " ('c.h. robinson worldwide', 1),\n",
       " ('SeeChange Health', 1),\n",
       " ('r.r donnelley & sons company', 1),\n",
       " ('Cognitive Networks', 1),\n",
       " ('TinEye', 1),\n",
       " ('stippleit.com', 1),\n",
       " ('Lookery', 1),\n",
       " ('votertide.com', 1),\n",
       " ('Patient Communicator', 1),\n",
       " ('Treehouse Logic', 1),\n",
       " ('Thalmic Labs', 1),\n",
       " ('Canvas Networks', 1)]"
      ]
     },
     "execution_count": 6,
     "metadata": {},
     "output_type": "execute_result"
    }
   ],
   "source": [
    "list(total_data_dedup.term.value_counts().items())"
   ]
  },
  {
   "cell_type": "code",
   "execution_count": 7,
   "metadata": {
    "collapsed": true
   },
   "outputs": [],
   "source": [
    "# Remove\n",
    "remove_list = ['Become Inc', 'Indeed', 'at&t', 'Signal']"
   ]
  },
  {
   "cell_type": "code",
   "execution_count": 8,
   "metadata": {
    "collapsed": true
   },
   "outputs": [],
   "source": [
    "for term in remove_list:\n",
    "    total_data_dedup = total_data_dedup[total_data_dedup['term'] != term]"
   ]
  },
  {
   "cell_type": "code",
   "execution_count": 9,
   "metadata": {
    "collapsed": false
   },
   "outputs": [
    {
     "data": {
      "text/plain": [
       "article_id       1002070\n",
       "pub_date         1002070\n",
       "section_name     1002070\n",
       "web_url          1002070\n",
       "term_category    1002070\n",
       "term             1002070\n",
       "sentence         1002070\n",
       "dtype: int64"
      ]
     },
     "execution_count": 9,
     "metadata": {},
     "output_type": "execute_result"
    }
   ],
   "source": [
    "total_data_dedup.count()"
   ]
  },
  {
   "cell_type": "code",
   "execution_count": 10,
   "metadata": {
    "collapsed": false
   },
   "outputs": [],
   "source": [
    "total_grouped = total_data_dedup.groupby(['article_id', 'term'])['sentence']"
   ]
  },
  {
   "cell_type": "code",
   "execution_count": 80,
   "metadata": {
    "collapsed": false
   },
   "outputs": [],
   "source": [
    "def indexes_to_delete(series):\n",
    "    del_index_list = []\n",
    "    for i1, s1 in series.items():\n",
    "        for i2, s2 in series.items():\n",
    "            if i1 != i2 and s1 in s2:\n",
    "                del_index_list.append(i1)\n",
    "                break\n",
    "    return str(del_index_list)"
   ]
  },
  {
   "cell_type": "code",
   "execution_count": 14,
   "metadata": {
    "collapsed": false
   },
   "outputs": [],
   "source": [
    "grouped_indexes = total_grouped.aggregate({'indexes_to_delete': indexes_to_delete})"
   ]
  },
  {
   "cell_type": "code",
   "execution_count": 15,
   "metadata": {
    "collapsed": false
   },
   "outputs": [],
   "source": [
    "remove_index_list = list(set(\n",
    "    [index for index_list in grouped_indexes['indexes_to_delete'] for index in eval(index_list)]\n",
    "))"
   ]
  },
  {
   "cell_type": "code",
   "execution_count": 129,
   "metadata": {
    "collapsed": false
   },
   "outputs": [],
   "source": [
    "data = total_data_dedup.drop(remove_index_list)"
   ]
  },
  {
   "cell_type": "code",
   "execution_count": 130,
   "metadata": {
    "collapsed": false
   },
   "outputs": [
    {
     "data": {
      "text/plain": [
       "article_id       934648\n",
       "pub_date         934648\n",
       "section_name     934648\n",
       "web_url          934648\n",
       "term_category    934648\n",
       "term             934648\n",
       "sentence         934648\n",
       "dtype: int64"
      ]
     },
     "execution_count": 130,
     "metadata": {},
     "output_type": "execute_result"
    }
   ],
   "source": [
    "data.count()"
   ]
  },
  {
   "cell_type": "code",
   "execution_count": 153,
   "metadata": {
    "collapsed": false
   },
   "outputs": [
    {
     "data": {
      "text/html": [
       "<div style=\"max-height:1000px;max-width:1500px;overflow:auto;\">\n",
       "<table border=\"1\" class=\"dataframe\">\n",
       "  <thead>\n",
       "    <tr style=\"text-align: right;\">\n",
       "      <th></th>\n",
       "      <th>article_id</th>\n",
       "      <th>term</th>\n",
       "      <th>sentence</th>\n",
       "    </tr>\n",
       "  </thead>\n",
       "  <tbody>\n",
       "    <tr>\n",
       "      <th>1</th>\n",
       "      <td>1</td>\n",
       "      <td>nada</td>\n",
       "      <td>Nada que ver</td>\n",
       "    </tr>\n",
       "    <tr>\n",
       "      <th>2</th>\n",
       "      <td>1</td>\n",
       "      <td>hola</td>\n",
       "      <td>Hola mundo que tal</td>\n",
       "    </tr>\n",
       "    <tr>\n",
       "      <th>4</th>\n",
       "      <td>2</td>\n",
       "      <td>hola</td>\n",
       "      <td>Hola mundo</td>\n",
       "    </tr>\n",
       "    <tr>\n",
       "      <th>5</th>\n",
       "      <td>2</td>\n",
       "      <td>adios</td>\n",
       "      <td>Adios</td>\n",
       "    </tr>\n",
       "    <tr>\n",
       "      <th>6</th>\n",
       "      <td>3</td>\n",
       "      <td>adios</td>\n",
       "      <td>Adios</td>\n",
       "    </tr>\n",
       "  </tbody>\n",
       "</table>\n",
       "</div>"
      ],
      "text/plain": [
       "   article_id   term            sentence\n",
       "1           1   nada        Nada que ver\n",
       "2           1   hola  Hola mundo que tal\n",
       "4           2   hola          Hola mundo\n",
       "5           2  adios               Adios\n",
       "6           3  adios               Adios"
      ]
     },
     "execution_count": 153,
     "metadata": {},
     "output_type": "execute_result"
    }
   ],
   "source": [
    "df = pd.DataFrame([\n",
    "                [1, 'hola', 'Hola mundo'],         # 0\n",
    "                [1, 'nada', 'Nada que ver'],       # 1\n",
    "                [1, 'hola', 'Hola mundo que tal'], # 2\n",
    "                [1, 'hola', 'Hola'],               # 3\n",
    "                [2, 'hola', 'Hola mundo'],         # 4\n",
    "                [2, 'adios', 'Adios'],             # 5\n",
    "                [3, 'adios', 'Adios'],             # 6\n",
    "               ], columns=['article_id', 'term', 'sentence'])\n",
    "g = df.groupby(['article_id', 'term'])['sentence'].aggregate({'indexes_to_delete': indexes_to_delete})\n",
    "l = list(set(\n",
    "    [index for index_list in g['indexes_to_delete'] for index in eval(index_list)]\n",
    "))\n",
    "df2 = df.drop(l)\n",
    "df2"
   ]
  },
  {
   "cell_type": "code",
   "execution_count": 154,
   "metadata": {
    "collapsed": false
   },
   "outputs": [],
   "source": [
    "length = len(df)"
   ]
  },
  {
   "cell_type": "code",
   "execution_count": 157,
   "metadata": {
    "collapsed": false
   },
   "outputs": [
    {
     "data": {
      "text/plain": [
       "7"
      ]
     },
     "execution_count": 157,
     "metadata": {},
     "output_type": "execute_result"
    }
   ],
   "source": [
    "length"
   ]
  },
  {
   "cell_type": "code",
   "execution_count": 159,
   "metadata": {
    "collapsed": true
   },
   "outputs": [],
   "source": [
    "n = 2"
   ]
  },
  {
   "cell_type": "code",
   "execution_count": 160,
   "metadata": {
    "collapsed": false
   },
   "outputs": [],
   "source": [
    "ch = math.ceil(length / n)"
   ]
  },
  {
   "cell_type": "code",
   "execution_count": 161,
   "metadata": {
    "collapsed": false
   },
   "outputs": [
    {
     "data": {
      "text/plain": [
       "4"
      ]
     },
     "execution_count": 161,
     "metadata": {},
     "output_type": "execute_result"
    }
   ],
   "source": [
    "ch"
   ]
  },
  {
   "cell_type": "code",
   "execution_count": null,
   "metadata": {
    "collapsed": true
   },
   "outputs": [],
   "source": [
    "d = {}\n",
    "for i in range(2):"
   ]
  },
  {
   "cell_type": "code",
   "execution_count": null,
   "metadata": {
    "collapsed": true
   },
   "outputs": [],
   "source": []
  },
  {
   "cell_type": "code",
   "execution_count": 132,
   "metadata": {
    "collapsed": false
   },
   "outputs": [],
   "source": [
    "# Change categories: ebay; executive, manager; entrepreneur, founder, new venture, startup\n",
    "\n",
    "data.ix[data.term == 'ebay', 'term_category'] = 2\n",
    "\n",
    "for term in ['executive', 'manager']:\n",
    "    data.ix[data.term == term, 'term_category'] = 11\n",
    "\n",
    "for term in ['entrepreneur', 'founder', 'new venture', 'startup']:\n",
    "    data.ix[data.term == term, 'term_category'] = 12"
   ]
  },
  {
   "cell_type": "code",
   "execution_count": 133,
   "metadata": {
    "collapsed": false
   },
   "outputs": [
    {
     "data": {
      "text/plain": [
       "530259"
      ]
     },
     "execution_count": 133,
     "metadata": {},
     "output_type": "execute_result"
    }
   ],
   "source": [
    "# Total number of articles\n",
    "data.article_id.value_counts().count()"
   ]
  },
  {
   "cell_type": "code",
   "execution_count": 134,
   "metadata": {
    "collapsed": false
   },
   "outputs": [
    {
     "data": {
      "text/plain": [
       "215"
      ]
     },
     "execution_count": 134,
     "metadata": {},
     "output_type": "execute_result"
    }
   ],
   "source": [
    "# Total number of terms\n",
    "data.term.value_counts().count()"
   ]
  },
  {
   "cell_type": "code",
   "execution_count": 135,
   "metadata": {
    "collapsed": false
   },
   "outputs": [
    {
     "data": {
      "text/plain": [
       "846383"
      ]
     },
     "execution_count": 135,
     "metadata": {},
     "output_type": "execute_result"
    }
   ],
   "source": [
    "# Total number of sentences\n",
    "data.sentence.value_counts().count()"
   ]
  },
  {
   "cell_type": "code",
   "execution_count": 136,
   "metadata": {
    "collapsed": true
   },
   "outputs": [],
   "source": [
    "data.to_csv('../nytimes/curated_data.csv')"
   ]
  },
  {
   "cell_type": "markdown",
   "metadata": {},
   "source": [
    "## Classifier"
   ]
  },
  {
   "cell_type": "code",
   "execution_count": 123,
   "metadata": {
    "collapsed": false
   },
   "outputs": [],
   "source": [
    "with open('sentiment/be.pickle', 'rb') as be_file:\n",
    "    be = pickle.load(be_file)"
   ]
  },
  {
   "cell_type": "code",
   "execution_count": 124,
   "metadata": {
    "collapsed": false
   },
   "outputs": [
    {
     "data": {
      "text/plain": [
       "array(['pos', 'neg', 'pos'], dtype=object)"
      ]
     },
     "execution_count": 124,
     "metadata": {},
     "output_type": "execute_result"
    }
   ],
   "source": [
    "be.predict(['My puppy is cute.', 'People die in war.', 'I love my family.'])"
   ]
  },
  {
   "cell_type": "code",
   "execution_count": 137,
   "metadata": {
    "collapsed": true
   },
   "outputs": [],
   "source": [
    "data_blaze = blaze.Data(data)"
   ]
  },
  {
   "cell_type": "code",
   "execution_count": 141,
   "metadata": {
    "collapsed": false
   },
   "outputs": [
    {
     "ename": "NameError",
     "evalue": "name 'ablaze' is not defined",
     "output_type": "error",
     "traceback": [
      "\u001b[1;31m---------------------------------------------------------------------------\u001b[0m",
      "\u001b[1;31mNameError\u001b[0m                                 Traceback (most recent call last)",
      "\u001b[1;32m<ipython-input-141-27e4efe585a6>\u001b[0m in \u001b[0;36m<module>\u001b[1;34m()\u001b[0m\n\u001b[1;32m----> 1\u001b[1;33m \u001b[0msentiments_df\u001b[0m \u001b[1;33m=\u001b[0m \u001b[0mablaze\u001b[0m\u001b[1;33m.\u001b[0m\u001b[0modo\u001b[0m\u001b[1;33m(\u001b[0m\u001b[0mdata_blaze\u001b[0m\u001b[1;33m.\u001b[0m\u001b[0msentence\u001b[0m\u001b[1;33m.\u001b[0m\u001b[0mmap\u001b[0m\u001b[1;33m(\u001b[0m\u001b[1;32mlambda\u001b[0m \u001b[0mx\u001b[0m\u001b[1;33m:\u001b[0m \u001b[0mbe\u001b[0m\u001b[1;33m.\u001b[0m\u001b[0mpredict\u001b[0m\u001b[1;33m(\u001b[0m\u001b[1;33m[\u001b[0m\u001b[0mx\u001b[0m\u001b[1;33m]\u001b[0m\u001b[1;33m)\u001b[0m\u001b[1;33m[\u001b[0m\u001b[1;36m0\u001b[0m\u001b[1;33m]\u001b[0m\u001b[1;33m,\u001b[0m \u001b[1;34m'?string'\u001b[0m\u001b[1;33m)\u001b[0m\u001b[1;33m,\u001b[0m \u001b[0mpd\u001b[0m\u001b[1;33m.\u001b[0m\u001b[0mDataFrame\u001b[0m\u001b[1;33m)\u001b[0m\u001b[1;33m\u001b[0m\u001b[0m\n\u001b[0m",
      "\u001b[1;31mNameError\u001b[0m: name 'ablaze' is not defined"
     ]
    }
   ],
   "source": [
    "sentiments_df = blaze.odo(data_blaze.sentence.map(lambda x: be.predict([x])[0], '?string'), pd.DataFrame)"
   ]
  },
  {
   "cell_type": "code",
   "execution_count": null,
   "metadata": {
    "collapsed": false
   },
   "outputs": [],
   "source": [
    "data['sentiment'] = sentiments_df"
   ]
  },
  {
   "cell_type": "code",
   "execution_count": 139,
   "metadata": {
    "collapsed": false
   },
   "outputs": [],
   "source": [
    "def diff_month(d1, d2):\n",
    "    return (d2.year - d1.year) * 12 + d2.month - d1.month\n",
    "\n",
    "# assert diff_month(datetime(2010,9,1), datetime(2010,10,1)) == 1\n",
    "# assert diff_month(datetime(2009,10,1), datetime(2010,10,1)) == 12\n",
    "# assert diff_month(datetime(2009,11,1), datetime(2010,10,1)) == 11\n",
    "# assert diff_month(datetime(2009,8,1), datetime(2010,10,1)) == 14"
   ]
  },
  {
   "cell_type": "code",
   "execution_count": null,
   "metadata": {
    "collapsed": true
   },
   "outputs": [],
   "source": [
    "data['n_month'] = data.pub_date.apply(lambda x: diff_month(datetime(1999, 1, 1), x.date()))"
   ]
  },
  {
   "cell_type": "code",
   "execution_count": null,
   "metadata": {
    "collapsed": true
   },
   "outputs": [],
   "source": []
  },
  {
   "cell_type": "code",
   "execution_count": null,
   "metadata": {
    "collapsed": true
   },
   "outputs": [],
   "source": [
    "data.groupby(['article_id', 'term'])['sentence']"
   ]
  },
  {
   "cell_type": "code",
   "execution_count": null,
   "metadata": {
    "collapsed": true
   },
   "outputs": [],
   "source": [
    "total_grouped.aggregate({'indexes_to_delete': indexes_to_delete})"
   ]
  },
  {
   "cell_type": "code",
   "execution_count": null,
   "metadata": {
    "collapsed": true
   },
   "outputs": [],
   "source": []
  },
  {
   "cell_type": "code",
   "execution_count": null,
   "metadata": {
    "collapsed": true
   },
   "outputs": [],
   "source": []
  },
  {
   "cell_type": "code",
   "execution_count": null,
   "metadata": {
    "collapsed": true
   },
   "outputs": [],
   "source": []
  },
  {
   "cell_type": "code",
   "execution_count": 141,
   "metadata": {
    "collapsed": true
   },
   "outputs": [],
   "source": [
    "data2 = Data(data_df)"
   ]
  },
  {
   "cell_type": "code",
   "execution_count": 142,
   "metadata": {
    "collapsed": false
   },
   "outputs": [
    {
     "data": {
      "text/html": [
       "<table border=\"1\" class=\"dataframe\">\n",
       "  <thead>\n",
       "    <tr style=\"text-align: right;\">\n",
       "      <th></th>\n",
       "      <th>term_category</th>\n",
       "      <th>amount_neg</th>\n",
       "      <th>amount_pos</th>\n",
       "      <th>total_amount</th>\n",
       "    </tr>\n",
       "  </thead>\n",
       "  <tbody>\n",
       "    <tr>\n",
       "      <th>0</th>\n",
       "      <td>1</td>\n",
       "      <td>72041</td>\n",
       "      <td>113193</td>\n",
       "      <td>185234</td>\n",
       "    </tr>\n",
       "    <tr>\n",
       "      <th>1</th>\n",
       "      <td>2</td>\n",
       "      <td>48605</td>\n",
       "      <td>109181</td>\n",
       "      <td>157786</td>\n",
       "    </tr>\n",
       "    <tr>\n",
       "      <th>2</th>\n",
       "      <td>3</td>\n",
       "      <td>3063</td>\n",
       "      <td>8622</td>\n",
       "      <td>11685</td>\n",
       "    </tr>\n",
       "  </tbody>\n",
       "</table>"
      ],
      "text/plain": [
       "   term_category  amount_neg  amount_pos  total_amount\n",
       "0              1       72041      113193        185234\n",
       "1              2       48605      109181        157786\n",
       "2              3        3063        8622         11685"
      ]
     },
     "execution_count": 142,
     "metadata": {},
     "output_type": "execute_result"
    }
   ],
   "source": [
    "by(data2.term_category,\n",
    "   total_amount=data2.sentiment.count(),\n",
    "   amount_pos=data2[data2.sentiment == 'pos'].sentiment.count(),\n",
    "   amount_neg=data2[data2.sentiment == 'neg'].sentiment.count()\n",
    ")"
   ]
  },
  {
   "cell_type": "code",
   "execution_count": 195,
   "metadata": {
    "collapsed": true
   },
   "outputs": [],
   "source": [
    "%matplotlib inline"
   ]
  },
  {
   "cell_type": "code",
   "execution_count": 201,
   "metadata": {
    "collapsed": false
   },
   "outputs": [],
   "source": [
    "xx = by(merge(data2.term, data2.n_month),\n",
    "   total_amount=data2.sentiment.count(),\n",
    "   amount_pos=data2[data2.sentiment == 'pos'].sentiment.count(),\n",
    "   amount_neg=data2[data2.sentiment == 'neg'].sentiment.count()\n",
    ")"
   ]
  },
  {
   "cell_type": "code",
   "execution_count": 231,
   "metadata": {
    "collapsed": true
   },
   "outputs": [],
   "source": [
    "dd = odo(xx[xx.term == 'Google'], DataFrame)"
   ]
  },
  {
   "cell_type": "code",
   "execution_count": 232,
   "metadata": {
    "collapsed": false,
    "scrolled": true
   },
   "outputs": [],
   "source": [
    "dd.set_index('n_month', inplace=True)"
   ]
  },
  {
   "cell_type": "code",
   "execution_count": 233,
   "metadata": {
    "collapsed": false
   },
   "outputs": [],
   "source": [
    "dd.index = [datetime.strptime(\"1999-01-01\", \"%Y-%m-%d\") + relativedelta(months=i) for i in dd.index]"
   ]
  },
  {
   "cell_type": "code",
   "execution_count": 234,
   "metadata": {
    "collapsed": false
   },
   "outputs": [],
   "source": [
    "dd['amount_neg_rate'] = dd['amount_neg'] / dd['total_amount']\n",
    "dd['amount_pos_rate'] = dd['amount_pos'] / dd['total_amount']"
   ]
  },
  {
   "cell_type": "code",
   "execution_count": 239,
   "metadata": {
    "collapsed": false
   },
   "outputs": [
    {
     "data": {
      "text/plain": [
       "<matplotlib.axes._subplots.AxesSubplot at 0x7fd3eb25cd68>"
      ]
     },
     "execution_count": 239,
     "metadata": {},
     "output_type": "execute_result"
    },
    {
     "data": {
      "image/png": "[encoded data removed]",
      "text/plain": [
       "<matplotlib.figure.Figure at 0x7fd3eb2604e0>"
      ]
     },
     "metadata": {},
     "output_type": "display_data"
    }
   ],
   "source": [
    "dd[['total_amount']].plot(figsize=(14,8))"
   ]
  },
  {
   "cell_type": "code",
   "execution_count": 172,
   "metadata": {
    "collapsed": true
   },
   "outputs": [],
   "source": []
  },
  {
   "cell_type": "code",
   "execution_count": 178,
   "metadata": {
    "collapsed": false
   },
   "outputs": [],
   "source": [
    "dd.index = ind"
   ]
  },
  {
   "cell_type": "code",
   "execution_count": null,
   "metadata": {
    "collapsed": true
   },
   "outputs": [],
   "source": []
  }
 ],
 "metadata": {
  "kernelspec": {
   "display_name": "Python 3",
   "language": "python",
   "name": "python3"
  },
  "language_info": {
   "codemirror_mode": {
    "name": "ipython",
    "version": 3
   },
   "file_extension": ".py",
   "mimetype": "text/x-python",
   "name": "python",
   "nbconvert_exporter": "python",
   "pygments_lexer": "ipython3",
   "version": "3.4.0"
  }
 },
 "nbformat": 4,
 "nbformat_minor": 0
}
