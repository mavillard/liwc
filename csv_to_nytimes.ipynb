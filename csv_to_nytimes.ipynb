{
 "cells": [
  {
   "cell_type": "markdown",
   "metadata": {},
   "source": [
    "#CSV analyzer for The New York Times"
   ]
  },
  {
   "cell_type": "code",
   "execution_count": 1,
   "metadata": {
    "collapsed": false
   },
   "outputs": [],
   "source": [
    "import blaze\n",
    "import pandas as pd\n",
    "from blaze import Data, DataFrame, by, join, merge, odo, into\n",
    "# from nltk.tokenize import sent_tokenize\n",
    "from pymongo import MongoClient\n",
    "# from slugify import slugify\n",
    "import pickle"
   ]
  },
  {
   "cell_type": "code",
   "execution_count": 2,
   "metadata": {
    "collapsed": false
   },
   "outputs": [],
   "source": [
    "total_data = pd.read_csv('../nytimes/rows.csv')"
   ]
  },
  {
   "cell_type": "code",
   "execution_count": 3,
   "metadata": {
    "collapsed": false
   },
   "outputs": [
    {
     "data": {
      "text/plain": [
       "article_id       1544383\n",
       "pub_date         1544383\n",
       "section_name     1544383\n",
       "web_url          1544383\n",
       "term_category    1544383\n",
       "term             1544383\n",
       "sentence         1544383\n",
       "dtype: int64"
      ]
     },
     "execution_count": 3,
     "metadata": {},
     "output_type": "execute_result"
    }
   ],
   "source": [
    "total_data.count()"
   ]
  },
  {
   "cell_type": "code",
   "execution_count": 5,
   "metadata": {
    "collapsed": false
   },
   "outputs": [],
   "source": [
    "total_data_dedup = total_data.drop_duplicates()"
   ]
  },
  {
   "cell_type": "code",
   "execution_count": 24,
   "metadata": {
    "collapsed": false
   },
   "outputs": [
    {
     "data": {
      "text/plain": [
       "article_id       1432978\n",
       "pub_date         1432978\n",
       "section_name     1432978\n",
       "web_url          1432978\n",
       "term_category    1432978\n",
       "term             1432978\n",
       "sentence         1432978\n",
       "dtype: int64"
      ]
     },
     "execution_count": 24,
     "metadata": {},
     "output_type": "execute_result"
    }
   ],
   "source": [
    "total_data_dedup.count()"
   ]
  },
  {
   "cell_type": "code",
   "execution_count": 37,
   "metadata": {
    "collapsed": true
   },
   "outputs": [],
   "source": [
    "# Remove\n",
    "remove_list = ['Become Inc', 'Indeed', 'at&t', 'Signal']"
   ]
  },
  {
   "cell_type": "code",
   "execution_count": 10,
   "metadata": {
    "collapsed": false
   },
   "outputs": [
    {
     "data": {
      "text/plain": [
       "[('executive', 296247),\n",
       " ('Become Inc', 283621),\n",
       " ('manager', 140885),\n",
       " ('founder', 81439),\n",
       " ('Indeed', 74720),\n",
       " ('at&t', 44971),\n",
       " ('apple', 40970),\n",
       " ('ford', 39614),\n",
       " ('twitter', 37697),\n",
       " ('Google', 35672),\n",
       " ('facebook', 34605),\n",
       " ('microsoft', 29673),\n",
       " ('Voices.com', 28494),\n",
       " ('Signal', 27596),\n",
       " ('general motors', 18827),\n",
       " ('amazon.com', 18529),\n",
       " ('wal-mart', 13781),\n",
       " ('entrepreneur', 13041),\n",
       " ('visa', 10721),\n",
       " ('walt disney company', 9578),\n",
       " ('intel corporation', 9208),\n",
       " ('boeing', 9075),\n",
       " ('ebay', 8978),\n",
       " ('coca-cola company', 8243),\n",
       " ('general electric', 8179),\n",
       " ('Exec', 6026),\n",
       " ('nike', 5425),\n",
       " ('samsung', 5229),\n",
       " ('exxon', 4721),\n",
       " ('BERG', 4352),\n",
       " ('omnicom group', 4260),\n",
       " ('netflix', 3928),\n",
       " ('johnson & johnson', 3432),\n",
       " ('morgan chase', 2909),\n",
       " ('berkshire hathaway', 2782),\n",
       " ('mckinsey & company', 2727),\n",
       " ('chevron', 2643),\n",
       " ('instagram', 2612),\n",
       " ('pepsico', 2558),\n",
       " ('cisco systems', 2547),\n",
       " ('pricewaterhousecoopers', 2527),\n",
       " ('halliburton company', 2319),\n",
       " ('Nordic', 2315),\n",
       " ('Stoke Inc', 2186),\n",
       " ('metlife', 2158),\n",
       " ('Uber', 2151),\n",
       " ('linkedin', 2110),\n",
       " ('caterpillar', 1966),\n",
       " ('blackrock', 1926),\n",
       " ('new venture', 1723),\n",
       " ('alcoa', 1566),\n",
       " ('startup', 1419),\n",
       " ('mattel', 1270),\n",
       " ('spotify', 1241),\n",
       " ('united parcel service', 1181),\n",
       " ('waste management', 1129),\n",
       " ('harley-davidson', 1116),\n",
       " ('emc corporation', 1030),\n",
       " ('3m company', 984),\n",
       " ('dow chemical', 965),\n",
       " ('Quicken', 956),\n",
       " ('Twitch', 872),\n",
       " ('Intuit', 866),\n",
       " ('conocophillips', 837),\n",
       " ('abbott laboratories', 772),\n",
       " ('Tesla Motors', 757),\n",
       " ('SkyRocket', 726),\n",
       " ('Duda', 695),\n",
       " ('pinterest', 676),\n",
       " ('union pacific', 632),\n",
       " ('Airbnb', 630),\n",
       " ('international paper company', 594),\n",
       " ('unitedhealth group', 592),\n",
       " ('Argyle Company', 587),\n",
       " ('exelon corporation', 555),\n",
       " ('Alfresco', 483),\n",
       " ('honeywell international', 448),\n",
       " ('dropbox', 447),\n",
       " ('SAS', 442),\n",
       " ('archer daniels midland', 412),\n",
       " ('valero', 401),\n",
       " ('new york life insurance company', 400),\n",
       " ('Salesforce', 309),\n",
       " ('nrg energy', 289),\n",
       " ('las vegas sands', 272),\n",
       " ('Looker', 263),\n",
       " ('mckesson', 255),\n",
       " ('cvs caremark', 243),\n",
       " ('state farm insurance', 215),\n",
       " ('danaher corporation', 215),\n",
       " ('costco wholesale', 199),\n",
       " ('mcdonalds corporation', 194),\n",
       " ('fluor corporation', 181),\n",
       " ('owens corning', 164),\n",
       " ('Quora', 145),\n",
       " ('Kahuna Inc', 141),\n",
       " ('autonation', 118),\n",
       " ('tjx companies', 118),\n",
       " ('Bridger', 107),\n",
       " ('Idee Inc', 105),\n",
       " ('phillips 66', 94),\n",
       " ('Klout', 75),\n",
       " ('Rogue Wave', 72),\n",
       " ('Twitpic', 70),\n",
       " ('Chango Inc', 62),\n",
       " ('Grooveshark', 61),\n",
       " ('Eventbrite', 61),\n",
       " ('energy transfer equity', 61),\n",
       " ('united continental holdings', 55),\n",
       " ('illinois tool works', 54),\n",
       " ('chs', 53),\n",
       " ('Moz', 52),\n",
       " ('Outbox', 50),\n",
       " ('Manilla', 47),\n",
       " ('TurnTable.fm', 47),\n",
       " ('manilla.com', 47),\n",
       " ('Fuh', 41),\n",
       " ('Restore Health', 38),\n",
       " ('HubSpot', 38),\n",
       " ('stanley black & decker', 38),\n",
       " ('H.Bloom', 36),\n",
       " ('ingram micro', 35),\n",
       " ('XCOR Aerospace Inc', 34),\n",
       " ('qik.com', 31),\n",
       " ('Zeta Interactive', 30),\n",
       " ('Stipple', 30),\n",
       " ('Qik', 30),\n",
       " ('Zendesk', 29),\n",
       " ('ThinkGeek', 29),\n",
       " ('hca holdings', 24),\n",
       " ('graham holdings company', 24),\n",
       " ('About.me', 23),\n",
       " ('Data Dynamics Inc', 22),\n",
       " ('MailChimp', 20),\n",
       " ('inBloom', 16),\n",
       " ('Adore Me', 14),\n",
       " ('rock tenn company', 14),\n",
       " ('Hortonworks', 13),\n",
       " ('Credit Sesame', 12),\n",
       " ('Serendip', 11),\n",
       " ('Skyhigh Networks', 11),\n",
       " ('cbre group', 10),\n",
       " ('Backchat', 10),\n",
       " ('Wantful', 10),\n",
       " ('Lumosity', 10),\n",
       " ('Applied Predictive Technologies', 9),\n",
       " ('Hudl', 9),\n",
       " ('RootMetrics', 9),\n",
       " ('Yashi', 8),\n",
       " ('Alcohol by Volume', 8),\n",
       " ('Behance', 7),\n",
       " ('Superfish', 7),\n",
       " ('world fuel services', 6),\n",
       " ('LocalResponse', 6),\n",
       " ('Skyonic Corporation', 6),\n",
       " ('Shape Security', 5),\n",
       " ('Adconion Direct', 5),\n",
       " ('springpad.com', 5),\n",
       " ('Tealium', 5),\n",
       " ('Tenable Network Security Inc', 5),\n",
       " ('Springpad', 5),\n",
       " ('Trueffect', 4),\n",
       " ('manpower group', 4),\n",
       " ('Keek Inc', 4),\n",
       " ('Zumbox', 4),\n",
       " ('ryder systems', 4),\n",
       " ('intonow.com', 4),\n",
       " ('GENBAND', 4),\n",
       " ('phillip morris international', 4),\n",
       " ('BeyondTrust', 4),\n",
       " ('IntoNow', 4),\n",
       " ('Choice Energy', 4),\n",
       " ('Scribe Software', 3),\n",
       " ('Crescendo Bioscience', 3),\n",
       " ('500px Inc', 3),\n",
       " ('Tutorspree', 3),\n",
       " ('Xactly Corporation', 3),\n",
       " ('d.r. horton', 3),\n",
       " ('Solve Media', 3),\n",
       " ('MicroGREEN Polymers Inc', 2),\n",
       " ('aramark holdings corporation', 2),\n",
       " ('Recon Instruments', 2),\n",
       " ('SpotXchange Inc', 2),\n",
       " ('ExFM', 2),\n",
       " ('Disruptive Media', 2),\n",
       " ('DigiCert Inc', 2),\n",
       " ('Adesto Technologies Corporation', 2),\n",
       " ('Nirvanix', 2),\n",
       " ('SkyCross', 2),\n",
       " ('Jigsy', 2),\n",
       " ('Retail Capital', 2),\n",
       " ('nirvanix.com', 2),\n",
       " ('Panaya', 2),\n",
       " ('MedHOK', 1),\n",
       " ('Canvas Networks', 1),\n",
       " ('T3 Motion Inc', 1),\n",
       " ('Frank and Oak', 1),\n",
       " ('Inq Mobile', 1),\n",
       " ('Minute Key', 1),\n",
       " ('Thalmic Labs', 1),\n",
       " ('lookery.com', 1),\n",
       " ('Treehouse Logic', 1),\n",
       " ('FindIt', 1),\n",
       " ('Lookery', 1),\n",
       " ('r.r donnelley & sons company', 1),\n",
       " ('Welltok', 1),\n",
       " ('Phunware', 1),\n",
       " ('AppDirect', 1),\n",
       " ('Cognitive Networks', 1),\n",
       " ('Bionym', 1),\n",
       " ('TinEye', 1),\n",
       " ('SeeChange Health', 1),\n",
       " ('Cloud Dynamics', 1),\n",
       " ('VoterTide', 1),\n",
       " ('c.h. robinson worldwide', 1),\n",
       " ('votertide.com', 1),\n",
       " ('Paxata', 1),\n",
       " ('Patient Communicator', 1),\n",
       " ('stippleit.com', 1)]"
      ]
     },
     "execution_count": 10,
     "metadata": {},
     "output_type": "execute_result"
    }
   ],
   "source": [
    "list(total_data_dedup.term.value_counts().items())"
   ]
  },
  {
   "cell_type": "code",
   "execution_count": 38,
   "metadata": {
    "collapsed": true
   },
   "outputs": [],
   "source": [
    "for term in remove_list:\n",
    "    total_data_dedup = total_data_dedup[total_data_dedup['term'] != term]"
   ]
  },
  {
   "cell_type": "code",
   "execution_count": 39,
   "metadata": {
    "collapsed": false
   },
   "outputs": [
    {
     "data": {
      "text/plain": [
       "article_id       1002070\n",
       "pub_date         1002070\n",
       "section_name     1002070\n",
       "web_url          1002070\n",
       "term_category    1002070\n",
       "term             1002070\n",
       "sentence         1002070\n",
       "dtype: int64"
      ]
     },
     "execution_count": 39,
     "metadata": {},
     "output_type": "execute_result"
    }
   ],
   "source": [
    "total_data_dedup.count()"
   ]
  },
  {
   "cell_type": "code",
   "execution_count": 70,
   "metadata": {
    "collapsed": false
   },
   "outputs": [],
   "source": [
    "# g = total_data_dedup[:100].groupby(['article_id', 'term'])['pub_date', 'section_name', 'web_url', 'term_category', 'sentence']"
   ]
  },
  {
   "cell_type": "code",
   "execution_count": 83,
   "metadata": {
    "collapsed": false
   },
   "outputs": [],
   "source": [
    "g = total_data_dedup[:10].groupby(['article_id', 'term'])['sentence']"
   ]
  },
  {
   "cell_type": "code",
   "execution_count": 84,
   "metadata": {
    "collapsed": false
   },
   "outputs": [],
   "source": [
    "def contained(series):\n",
    "    del_index_list = []\n",
    "    for i1, e1 in series.items():\n",
    "        for i2, e2 in series.items():\n",
    "            print(x.index)\n",
    "    return len(series)"
   ]
  },
  {
   "cell_type": "code",
   "execution_count": 91,
   "metadata": {
    "collapsed": false
   },
   "outputs": [],
   "source": [
    "s = total_data_dedup[:10]['sentence']\n",
    "# for x in :\n",
    "#     print(type(x))"
   ]
  },
  {
   "cell_type": "code",
   "execution_count": 97,
   "metadata": {
    "collapsed": false
   },
   "outputs": [
    {
     "data": {
      "text/plain": [
       "Int64Index([0, 1, 2, 4, 5, 6, 8, 10, 11, 12], dtype='int64')"
      ]
     },
     "execution_count": 97,
     "metadata": {},
     "output_type": "execute_result"
    }
   ],
   "source": [
    "s.index"
   ]
  },
  {
   "cell_type": "code",
   "execution_count": 85,
   "metadata": {
    "collapsed": false
   },
   "outputs": [
    {
     "name": "stdout",
     "output_type": "stream",
     "text": [
      "<built-in method index of str object at 0x7f584814c620>\n",
      "<built-in method index of str object at 0x7f580832b998>\n",
      "<built-in method index of str object at 0x7f57e8a32b58>\n",
      "<built-in method index of str object at 0x7f57e8a27710>\n",
      "<built-in method index of str object at 0x7f57e8a277c0>\n",
      "<built-in method index of str object at 0x7f57e8a277c0>\n",
      "<built-in method index of str object at 0x7f57e9102370>\n",
      "<built-in method index of str object at 0x7f57e89c91d0>\n",
      "<built-in method index of str object at 0x7f57e8a32ab0>\n",
      "<built-in method index of str object at 0x7f58081c6200>\n"
     ]
    }
   ],
   "source": [
    "dd=g.aggregate({'len':f})"
   ]
  },
  {
   "cell_type": "code",
   "execution_count": 80,
   "metadata": {
    "collapsed": false
   },
   "outputs": [
    {
     "data": {
      "text/html": [
       "<div style=\"max-height:1000px;max-width:1500px;overflow:auto;\">\n",
       "<table border=\"1\" class=\"dataframe\">\n",
       "  <thead>\n",
       "    <tr style=\"text-align: right;\">\n",
       "      <th></th>\n",
       "      <th></th>\n",
       "      <th>len</th>\n",
       "    </tr>\n",
       "    <tr>\n",
       "      <th>article_id</th>\n",
       "      <th>term</th>\n",
       "      <th></th>\n",
       "    </tr>\n",
       "  </thead>\n",
       "  <tbody>\n",
       "    <tr>\n",
       "      <th>4fd1e7fa8eb7c8105d73588a</th>\n",
       "      <th>manager</th>\n",
       "      <td>1</td>\n",
       "    </tr>\n",
       "    <tr>\n",
       "      <th>4fd1e7fc8eb7c8105d735aed</th>\n",
       "      <th>entrepreneur</th>\n",
       "      <td>1</td>\n",
       "    </tr>\n",
       "    <tr>\n",
       "      <th>4fd1e7fc8eb7c8105d735af6</th>\n",
       "      <th>executive</th>\n",
       "      <td>1</td>\n",
       "    </tr>\n",
       "    <tr>\n",
       "      <th rowspan=\"2\" valign=\"top\">4fd1e8138eb7c8105d735c4a</th>\n",
       "      <th>amazon.com</th>\n",
       "      <td>2</td>\n",
       "    </tr>\n",
       "    <tr>\n",
       "      <th>executive</th>\n",
       "      <td>1</td>\n",
       "    </tr>\n",
       "    <tr>\n",
       "      <th rowspan=\"2\" valign=\"top\">4fd1e8138eb7c8105d735c4b</th>\n",
       "      <th>Voices.com</th>\n",
       "      <td>1</td>\n",
       "    </tr>\n",
       "    <tr>\n",
       "      <th>manager</th>\n",
       "      <td>1</td>\n",
       "    </tr>\n",
       "    <tr>\n",
       "      <th>4fd1e8148eb7c8105d735c61</th>\n",
       "      <th>executive</th>\n",
       "      <td>1</td>\n",
       "    </tr>\n",
       "    <tr>\n",
       "      <th>4fd1e8188eb7c8105d735fcb</th>\n",
       "      <th>manager</th>\n",
       "      <td>2</td>\n",
       "    </tr>\n",
       "    <tr>\n",
       "      <th rowspan=\"2\" valign=\"top\">4fd1e8198eb7c8105d736109</th>\n",
       "      <th>entrepreneur</th>\n",
       "      <td>1</td>\n",
       "    </tr>\n",
       "    <tr>\n",
       "      <th>executive</th>\n",
       "      <td>1</td>\n",
       "    </tr>\n",
       "    <tr>\n",
       "      <th>4fd1e87c8eb7c8105d736cfc</th>\n",
       "      <th>manager</th>\n",
       "      <td>1</td>\n",
       "    </tr>\n",
       "    <tr>\n",
       "      <th>4fd1e87d8eb7c8105d736e6a</th>\n",
       "      <th>manager</th>\n",
       "      <td>1</td>\n",
       "    </tr>\n",
       "    <tr>\n",
       "      <th>4fd1f3fc8eb7c8105d74c524</th>\n",
       "      <th>entrepreneur</th>\n",
       "      <td>1</td>\n",
       "    </tr>\n",
       "    <tr>\n",
       "      <th>4fd1f3fc8eb7c8105d74c54a</th>\n",
       "      <th>entrepreneur</th>\n",
       "      <td>2</td>\n",
       "    </tr>\n",
       "    <tr>\n",
       "      <th>4fd1f3fe8eb7c8105d74c6be</th>\n",
       "      <th>manager</th>\n",
       "      <td>1</td>\n",
       "    </tr>\n",
       "    <tr>\n",
       "      <th>4fd1f3fe8eb7c8105d74c6bf</th>\n",
       "      <th>founder</th>\n",
       "      <td>1</td>\n",
       "    </tr>\n",
       "    <tr>\n",
       "      <th>4fd1f4018eb7c8105d74c9af</th>\n",
       "      <th>entrepreneur</th>\n",
       "      <td>1</td>\n",
       "    </tr>\n",
       "    <tr>\n",
       "      <th>4fd1f4068eb7c8105d74ccfb</th>\n",
       "      <th>manager</th>\n",
       "      <td>1</td>\n",
       "    </tr>\n",
       "    <tr>\n",
       "      <th>4fd1f4068eb7c8105d74ccfe</th>\n",
       "      <th>founder</th>\n",
       "      <td>1</td>\n",
       "    </tr>\n",
       "    <tr>\n",
       "      <th>4fd1f40b8eb7c8105d74cfbd</th>\n",
       "      <th>startup</th>\n",
       "      <td>1</td>\n",
       "    </tr>\n",
       "    <tr>\n",
       "      <th>4fd209908eb7c8105d775763</th>\n",
       "      <th>manager</th>\n",
       "      <td>1</td>\n",
       "    </tr>\n",
       "    <tr>\n",
       "      <th>4fd209908eb7c8105d775765</th>\n",
       "      <th>executive</th>\n",
       "      <td>1</td>\n",
       "    </tr>\n",
       "    <tr>\n",
       "      <th rowspan=\"3\" valign=\"top\">4fd209958eb7c8105d775ab5</th>\n",
       "      <th>founder</th>\n",
       "      <td>1</td>\n",
       "    </tr>\n",
       "    <tr>\n",
       "      <th>manager</th>\n",
       "      <td>1</td>\n",
       "    </tr>\n",
       "    <tr>\n",
       "      <th>walt disney company</th>\n",
       "      <td>1</td>\n",
       "    </tr>\n",
       "    <tr>\n",
       "      <th rowspan=\"2\" valign=\"top\">4fd209fd8eb7c8105d776551</th>\n",
       "      <th>executive</th>\n",
       "      <td>3</td>\n",
       "    </tr>\n",
       "    <tr>\n",
       "      <th>startup</th>\n",
       "      <td>1</td>\n",
       "    </tr>\n",
       "    <tr>\n",
       "      <th rowspan=\"2\" valign=\"top\">4fd20a068eb7c8105d776ade</th>\n",
       "      <th>exxon</th>\n",
       "      <td>1</td>\n",
       "    </tr>\n",
       "    <tr>\n",
       "      <th>manager</th>\n",
       "      <td>1</td>\n",
       "    </tr>\n",
       "    <tr>\n",
       "      <th>...</th>\n",
       "      <th>...</th>\n",
       "      <td>...</td>\n",
       "    </tr>\n",
       "    <tr>\n",
       "      <th>4fd218968eb7c8105d795cbd</th>\n",
       "      <th>entrepreneur</th>\n",
       "      <td>1</td>\n",
       "    </tr>\n",
       "    <tr>\n",
       "      <th>4fd218978eb7c8105d795d2b</th>\n",
       "      <th>entrepreneur</th>\n",
       "      <td>2</td>\n",
       "    </tr>\n",
       "    <tr>\n",
       "      <th rowspan=\"2\" valign=\"top\">4fd21dd98eb7c8105d79edf0</th>\n",
       "      <th>executive</th>\n",
       "      <td>1</td>\n",
       "    </tr>\n",
       "    <tr>\n",
       "      <th>founder</th>\n",
       "      <td>1</td>\n",
       "    </tr>\n",
       "    <tr>\n",
       "      <th>4fd21ddc8eb7c8105d79ef84</th>\n",
       "      <th>manager</th>\n",
       "      <td>2</td>\n",
       "    </tr>\n",
       "    <tr>\n",
       "      <th rowspan=\"2\" valign=\"top\">4fd21ddc8eb7c8105d79ef92</th>\n",
       "      <th>executive</th>\n",
       "      <td>1</td>\n",
       "    </tr>\n",
       "    <tr>\n",
       "      <th>manager</th>\n",
       "      <td>1</td>\n",
       "    </tr>\n",
       "    <tr>\n",
       "      <th rowspan=\"3\" valign=\"top\">4fd21ddc8eb7c8105d79f029</th>\n",
       "      <th>entrepreneur</th>\n",
       "      <td>1</td>\n",
       "    </tr>\n",
       "    <tr>\n",
       "      <th>executive</th>\n",
       "      <td>5</td>\n",
       "    </tr>\n",
       "    <tr>\n",
       "      <th>ford</th>\n",
       "      <td>1</td>\n",
       "    </tr>\n",
       "    <tr>\n",
       "      <th>4fd21ddf8eb7c8105d79f1c1</th>\n",
       "      <th>entrepreneur</th>\n",
       "      <td>1</td>\n",
       "    </tr>\n",
       "    <tr>\n",
       "      <th>4fd21f858eb7c8105d7a249e</th>\n",
       "      <th>manager</th>\n",
       "      <td>1</td>\n",
       "    </tr>\n",
       "    <tr>\n",
       "      <th>4fd21f878eb7c8105d7a258a</th>\n",
       "      <th>manager</th>\n",
       "      <td>1</td>\n",
       "    </tr>\n",
       "    <tr>\n",
       "      <th>4fd223d18eb7c8105d7a99f7</th>\n",
       "      <th>founder</th>\n",
       "      <td>1</td>\n",
       "    </tr>\n",
       "    <tr>\n",
       "      <th>4fd223da8eb7c8105d7a9f69</th>\n",
       "      <th>entrepreneur</th>\n",
       "      <td>1</td>\n",
       "    </tr>\n",
       "    <tr>\n",
       "      <th rowspan=\"2\" valign=\"top\">4fd292988eb7c8105d86c069</th>\n",
       "      <th>Twitpic</th>\n",
       "      <td>1</td>\n",
       "    </tr>\n",
       "    <tr>\n",
       "      <th>facebook</th>\n",
       "      <td>2</td>\n",
       "    </tr>\n",
       "    <tr>\n",
       "      <th>4fd392158eb7c8105d8c3e07</th>\n",
       "      <th>manager</th>\n",
       "      <td>1</td>\n",
       "    </tr>\n",
       "    <tr>\n",
       "      <th>4fd396f28eb7c8105d8cecea</th>\n",
       "      <th>facebook</th>\n",
       "      <td>2</td>\n",
       "    </tr>\n",
       "    <tr>\n",
       "      <th>4fd398718eb7c8105d8d2cba</th>\n",
       "      <th>facebook</th>\n",
       "      <td>1</td>\n",
       "    </tr>\n",
       "    <tr>\n",
       "      <th>4fd399128eb7c8105d8d476c</th>\n",
       "      <th>executive</th>\n",
       "      <td>1</td>\n",
       "    </tr>\n",
       "    <tr>\n",
       "      <th rowspan=\"2\" valign=\"top\">4fd399cc8eb7c8105d8d6274</th>\n",
       "      <th>executive</th>\n",
       "      <td>1</td>\n",
       "    </tr>\n",
       "    <tr>\n",
       "      <th>general motors</th>\n",
       "      <td>1</td>\n",
       "    </tr>\n",
       "    <tr>\n",
       "      <th>535b12a538f0d80f3c8b6197</th>\n",
       "      <th>apple</th>\n",
       "      <td>2</td>\n",
       "    </tr>\n",
       "    <tr>\n",
       "      <th>535bc26538f0d80f3c8b626a</th>\n",
       "      <th>inBloom</th>\n",
       "      <td>2</td>\n",
       "    </tr>\n",
       "    <tr>\n",
       "      <th rowspan=\"2\" valign=\"top\">54455cd038f0d832c813eaa3</th>\n",
       "      <th>executive</th>\n",
       "      <td>1</td>\n",
       "    </tr>\n",
       "    <tr>\n",
       "      <th>manager</th>\n",
       "      <td>1</td>\n",
       "    </tr>\n",
       "    <tr>\n",
       "      <th>5456ab1438f0d86ef22a094e</th>\n",
       "      <th>executive</th>\n",
       "      <td>2</td>\n",
       "    </tr>\n",
       "    <tr>\n",
       "      <th>5482d92a38f0d8403d9cd045</th>\n",
       "      <th>Twitch</th>\n",
       "      <td>1</td>\n",
       "    </tr>\n",
       "    <tr>\n",
       "      <th>548bb0a038f0d8482929b632</th>\n",
       "      <th>founder</th>\n",
       "      <td>1</td>\n",
       "    </tr>\n",
       "  </tbody>\n",
       "</table>\n",
       "<p>80 rows × 1 columns</p>\n",
       "</div>"
      ],
      "text/plain": [
       "                                              len\n",
       "article_id               term                    \n",
       "4fd1e7fa8eb7c8105d73588a manager                1\n",
       "4fd1e7fc8eb7c8105d735aed entrepreneur           1\n",
       "4fd1e7fc8eb7c8105d735af6 executive              1\n",
       "4fd1e8138eb7c8105d735c4a amazon.com             2\n",
       "                         executive              1\n",
       "4fd1e8138eb7c8105d735c4b Voices.com             1\n",
       "                         manager                1\n",
       "4fd1e8148eb7c8105d735c61 executive              1\n",
       "4fd1e8188eb7c8105d735fcb manager                2\n",
       "4fd1e8198eb7c8105d736109 entrepreneur           1\n",
       "                         executive              1\n",
       "4fd1e87c8eb7c8105d736cfc manager                1\n",
       "4fd1e87d8eb7c8105d736e6a manager                1\n",
       "4fd1f3fc8eb7c8105d74c524 entrepreneur           1\n",
       "4fd1f3fc8eb7c8105d74c54a entrepreneur           2\n",
       "4fd1f3fe8eb7c8105d74c6be manager                1\n",
       "4fd1f3fe8eb7c8105d74c6bf founder                1\n",
       "4fd1f4018eb7c8105d74c9af entrepreneur           1\n",
       "4fd1f4068eb7c8105d74ccfb manager                1\n",
       "4fd1f4068eb7c8105d74ccfe founder                1\n",
       "4fd1f40b8eb7c8105d74cfbd startup                1\n",
       "4fd209908eb7c8105d775763 manager                1\n",
       "4fd209908eb7c8105d775765 executive              1\n",
       "4fd209958eb7c8105d775ab5 founder                1\n",
       "                         manager                1\n",
       "                         walt disney company    1\n",
       "4fd209fd8eb7c8105d776551 executive              3\n",
       "                         startup                1\n",
       "4fd20a068eb7c8105d776ade exxon                  1\n",
       "                         manager                1\n",
       "...                                           ...\n",
       "4fd218968eb7c8105d795cbd entrepreneur           1\n",
       "4fd218978eb7c8105d795d2b entrepreneur           2\n",
       "4fd21dd98eb7c8105d79edf0 executive              1\n",
       "                         founder                1\n",
       "4fd21ddc8eb7c8105d79ef84 manager                2\n",
       "4fd21ddc8eb7c8105d79ef92 executive              1\n",
       "                         manager                1\n",
       "4fd21ddc8eb7c8105d79f029 entrepreneur           1\n",
       "                         executive              5\n",
       "                         ford                   1\n",
       "4fd21ddf8eb7c8105d79f1c1 entrepreneur           1\n",
       "4fd21f858eb7c8105d7a249e manager                1\n",
       "4fd21f878eb7c8105d7a258a manager                1\n",
       "4fd223d18eb7c8105d7a99f7 founder                1\n",
       "4fd223da8eb7c8105d7a9f69 entrepreneur           1\n",
       "4fd292988eb7c8105d86c069 Twitpic                1\n",
       "                         facebook               2\n",
       "4fd392158eb7c8105d8c3e07 manager                1\n",
       "4fd396f28eb7c8105d8cecea facebook               2\n",
       "4fd398718eb7c8105d8d2cba facebook               1\n",
       "4fd399128eb7c8105d8d476c executive              1\n",
       "4fd399cc8eb7c8105d8d6274 executive              1\n",
       "                         general motors         1\n",
       "535b12a538f0d80f3c8b6197 apple                  2\n",
       "535bc26538f0d80f3c8b626a inBloom                2\n",
       "54455cd038f0d832c813eaa3 executive              1\n",
       "                         manager                1\n",
       "5456ab1438f0d86ef22a094e executive              2\n",
       "5482d92a38f0d8403d9cd045 Twitch                 1\n",
       "548bb0a038f0d8482929b632 founder                1\n",
       "\n",
       "[80 rows x 1 columns]"
      ]
     },
     "execution_count": 80,
     "metadata": {},
     "output_type": "execute_result"
    }
   ],
   "source": [
    "dd"
   ]
  },
  {
   "cell_type": "code",
   "execution_count": null,
   "metadata": {
    "collapsed": true
   },
   "outputs": [],
   "source": []
  },
  {
   "cell_type": "code",
   "execution_count": null,
   "metadata": {
    "collapsed": true
   },
   "outputs": [],
   "source": []
  },
  {
   "cell_type": "code",
   "execution_count": null,
   "metadata": {
    "collapsed": true
   },
   "outputs": [],
   "source": []
  },
  {
   "cell_type": "code",
   "execution_count": 28,
   "metadata": {
    "collapsed": false
   },
   "outputs": [
    {
     "data": {
      "text/plain": [
       "338522"
      ]
     },
     "execution_count": 28,
     "metadata": {},
     "output_type": "execute_result"
    }
   ],
   "source": [
    "sum(total_data_dedup.article_id.value_counts() > 1)"
   ]
  },
  {
   "cell_type": "code",
   "execution_count": null,
   "metadata": {
    "collapsed": true
   },
   "outputs": [],
   "source": []
  },
  {
   "cell_type": "code",
   "execution_count": null,
   "metadata": {
    "collapsed": true
   },
   "outputs": [],
   "source": []
  },
  {
   "cell_type": "code",
   "execution_count": null,
   "metadata": {
    "collapsed": true
   },
   "outputs": [],
   "source": []
  },
  {
   "cell_type": "code",
   "execution_count": null,
   "metadata": {
    "collapsed": true
   },
   "outputs": [],
   "source": []
  },
  {
   "cell_type": "code",
   "execution_count": null,
   "metadata": {
    "collapsed": true
   },
   "outputs": [],
   "source": []
  },
  {
   "cell_type": "code",
   "execution_count": 13,
   "metadata": {
    "collapsed": false
   },
   "outputs": [
    {
     "data": {
      "text/html": [
       "<div style=\"max-height:1000px;max-width:1500px;overflow:auto;\">\n",
       "<table border=\"1\" class=\"dataframe\">\n",
       "  <thead>\n",
       "    <tr style=\"text-align: right;\">\n",
       "      <th></th>\n",
       "      <th>article_id</th>\n",
       "      <th>pub_date</th>\n",
       "      <th>section_name</th>\n",
       "      <th>web_url</th>\n",
       "      <th>term_category</th>\n",
       "      <th>term</th>\n",
       "      <th>sentence</th>\n",
       "    </tr>\n",
       "  </thead>\n",
       "  <tbody>\n",
       "    <tr>\n",
       "      <th>124</th>\n",
       "      <td>535b12a538f0d80f3c8b6197</td>\n",
       "      <td>2014-04-26T00:00:00Z</td>\n",
       "      <td>Technology</td>\n",
       "      <td>http://www.nytimes.com/2014/04/26/technology/a...</td>\n",
       "      <td>2</td>\n",
       "      <td>apple</td>\n",
       "      <td>Apple offers to replace faulty on-off buttons ...</td>\n",
       "    </tr>\n",
       "    <tr>\n",
       "      <th>125</th>\n",
       "      <td>535b12a538f0d80f3c8b6197</td>\n",
       "      <td>2014-04-26T00:00:00Z</td>\n",
       "      <td>Technology</td>\n",
       "      <td>http://www.nytimes.com/2014/04/26/technology/a...</td>\n",
       "      <td>2</td>\n",
       "      <td>apple</td>\n",
       "      <td>Apple Will Replace Faulty Switches on iPhone 5</td>\n",
       "    </tr>\n",
       "    <tr>\n",
       "      <th>126</th>\n",
       "      <td>535b12a538f0d80f3c8b6197</td>\n",
       "      <td>2014-04-26T00:00:00Z</td>\n",
       "      <td>Technology</td>\n",
       "      <td>http://www.nytimes.com/2014/04/26/technology/a...</td>\n",
       "      <td>2</td>\n",
       "      <td>apple</td>\n",
       "      <td>Apple has offered to replace faulty on-off but...</td>\n",
       "    </tr>\n",
       "    <tr>\n",
       "      <th>128</th>\n",
       "      <td>535b12a538f0d80f3c8b6197</td>\n",
       "      <td>2014-04-26T00:00:00Z</td>\n",
       "      <td>Technology</td>\n",
       "      <td>http://www.nytimes.com/2014/04/26/technology/a...</td>\n",
       "      <td>2</td>\n",
       "      <td>apple</td>\n",
       "      <td>Apple said on its user-support page</td>\n",
       "    </tr>\n",
       "    <tr>\n",
       "      <th>514</th>\n",
       "      <td>4fd399e48eb7c8105d8d6632</td>\n",
       "      <td>2010-03-23T15:23:14Z</td>\n",
       "      <td>Technology</td>\n",
       "      <td>http://gadgetwise.blogs.nytimes.com/2010/03/23...</td>\n",
       "      <td>2</td>\n",
       "      <td>apple</td>\n",
       "      <td>Two popular sites for travel information have ...</td>\n",
       "    </tr>\n",
       "    <tr>\n",
       "      <th>515</th>\n",
       "      <td>4fd399e48eb7c8105d8d6632</td>\n",
       "      <td>2010-03-23T15:23:14Z</td>\n",
       "      <td>Technology</td>\n",
       "      <td>http://gadgetwise.blogs.nytimes.com/2010/03/23...</td>\n",
       "      <td>2</td>\n",
       "      <td>apple</td>\n",
       "      <td>iPhone apps -- welcome aids to people who are ...</td>\n",
       "    </tr>\n",
       "    <tr>\n",
       "      <th>749</th>\n",
       "      <td>4fd20a078eb7c8105d776b4e</td>\n",
       "      <td>1999-02-22T00:00:00Z</td>\n",
       "      <td>Technology; Business</td>\n",
       "      <td>http://www.nytimes.com/1999/02/22/business/tec...</td>\n",
       "      <td>2</td>\n",
       "      <td>apple</td>\n",
       "      <td>That can mean for instance that a client who a...</td>\n",
       "    </tr>\n",
       "    <tr>\n",
       "      <th>796</th>\n",
       "      <td>4fd20a068eb7c8105d776a58</td>\n",
       "      <td>1999-02-25T00:00:00Z</td>\n",
       "      <td>Technology</td>\n",
       "      <td>http://www.nytimes.com/1999/02/25/technology/y...</td>\n",
       "      <td>2</td>\n",
       "      <td>apple</td>\n",
       "      <td>Mr. Leifer of Borough Park Brooklyn is about f...</td>\n",
       "    </tr>\n",
       "    <tr>\n",
       "      <th>866</th>\n",
       "      <td>4fd245428eb7c8105d7dfcd2</td>\n",
       "      <td>2000-09-08T00:00:00Z</td>\n",
       "      <td>Movies; Arts; Theater</td>\n",
       "      <td>http://www.nytimes.com/2000/09/08/movies/theat...</td>\n",
       "      <td>2</td>\n",
       "      <td>apple</td>\n",
       "      <td>of the Henson International Festival of Puppet...</td>\n",
       "    </tr>\n",
       "    <tr>\n",
       "      <th>890</th>\n",
       "      <td>4fd1e7fa8eb7c8105d7358f0</td>\n",
       "      <td>1999-01-14T00:00:00Z</td>\n",
       "      <td>Technology; Business</td>\n",
       "      <td>http://www.nytimes.com/1999/01/14/business/com...</td>\n",
       "      <td>2</td>\n",
       "      <td>apple</td>\n",
       "      <td>Apple Computer Inc reports earnings gain in fi...</td>\n",
       "    </tr>\n",
       "    <tr>\n",
       "      <th>891</th>\n",
       "      <td>4fd1e7fa8eb7c8105d7358f0</td>\n",
       "      <td>1999-01-14T00:00:00Z</td>\n",
       "      <td>Technology; Business</td>\n",
       "      <td>http://www.nytimes.com/1999/01/14/business/com...</td>\n",
       "      <td>2</td>\n",
       "      <td>apple</td>\n",
       "      <td>Apple Reports Earnings Gain That Beat The Esti...</td>\n",
       "    </tr>\n",
       "    <tr>\n",
       "      <th>892</th>\n",
       "      <td>4fd1e7fa8eb7c8105d7358f0</td>\n",
       "      <td>1999-01-14T00:00:00Z</td>\n",
       "      <td>Technology; Business</td>\n",
       "      <td>http://www.nytimes.com/1999/01/14/business/com...</td>\n",
       "      <td>2</td>\n",
       "      <td>apple</td>\n",
       "      <td>A resurgent Apple Computer Inc. today reported...</td>\n",
       "    </tr>\n",
       "    <tr>\n",
       "      <th>893</th>\n",
       "      <td>4fd1e7fa8eb7c8105d7358f0</td>\n",
       "      <td>1999-01-14T00:00:00Z</td>\n",
       "      <td>Technology; Business</td>\n",
       "      <td>http://www.nytimes.com/1999/01/14/business/com...</td>\n",
       "      <td>2</td>\n",
       "      <td>apple</td>\n",
       "      <td>Excluding a one-time gain Apple earnings excee...</td>\n",
       "    </tr>\n",
       "    <tr>\n",
       "      <th>894</th>\n",
       "      <td>4fd1e7fa8eb7c8105d7358f0</td>\n",
       "      <td>1999-01-14T00:00:00Z</td>\n",
       "      <td>Technology; Business</td>\n",
       "      <td>http://www.nytimes.com/1999/01/14/business/com...</td>\n",
       "      <td>2</td>\n",
       "      <td>apple</td>\n",
       "      <td>Apple's unit sales grew by 49 percent in the q...</td>\n",
       "    </tr>\n",
       "    <tr>\n",
       "      <th>895</th>\n",
       "      <td>4fd1e7fa8eb7c8105d7358f0</td>\n",
       "      <td>1999-01-14T00:00:00Z</td>\n",
       "      <td>Technology; Business</td>\n",
       "      <td>http://www.nytimes.com/1999/01/14/business/com...</td>\n",
       "      <td>2</td>\n",
       "      <td>apple</td>\n",
       "      <td>Apple sold 519000 of its translucent teal iMac...</td>\n",
       "    </tr>\n",
       "    <tr>\n",
       "      <th>896</th>\n",
       "      <td>4fd1e7fa8eb7c8105d7358f0</td>\n",
       "      <td>1999-01-14T00:00:00Z</td>\n",
       "      <td>Technology; Business</td>\n",
       "      <td>http://www.nytimes.com/1999/01/14/business/com...</td>\n",
       "      <td>2</td>\n",
       "      <td>apple</td>\n",
       "      <td>Apple also had strong sales of its G3 Macintos...</td>\n",
       "    </tr>\n",
       "    <tr>\n",
       "      <th>899</th>\n",
       "      <td>4fd1e7fa8eb7c8105d7358f0</td>\n",
       "      <td>1999-01-14T00:00:00Z</td>\n",
       "      <td>Technology; Business</td>\n",
       "      <td>http://www.nytimes.com/1999/01/14/business/com...</td>\n",
       "      <td>2</td>\n",
       "      <td>apple</td>\n",
       "      <td>Apple's unit sales grew by</td>\n",
       "    </tr>\n",
       "    <tr>\n",
       "      <th>1010</th>\n",
       "      <td>4fd1f8f28eb7c8105d755ada</td>\n",
       "      <td>1999-01-04T00:00:00Z</td>\n",
       "      <td>Technology; Business</td>\n",
       "      <td>http://www.nytimes.com/1999/01/04/business/out...</td>\n",
       "      <td>2</td>\n",
       "      <td>apple</td>\n",
       "      <td>followed soon by a similar wireless Internet d...</td>\n",
       "    </tr>\n",
       "    <tr>\n",
       "      <th>1011</th>\n",
       "      <td>4fd1f8f28eb7c8105d755ada</td>\n",
       "      <td>1999-01-04T00:00:00Z</td>\n",
       "      <td>Technology; Business</td>\n",
       "      <td>http://www.nytimes.com/1999/01/04/business/out...</td>\n",
       "      <td>2</td>\n",
       "      <td>apple</td>\n",
       "      <td>The computer industry is keeping a careful eye...</td>\n",
       "    </tr>\n",
       "    <tr>\n",
       "      <th>1020</th>\n",
       "      <td>4fd2005f8eb7c8105d76387a</td>\n",
       "      <td>1999-06-13T00:00:00Z</td>\n",
       "      <td>New York and Region</td>\n",
       "      <td>http://www.nytimes.com/1999/06/13/nyregion/din...</td>\n",
       "      <td>2</td>\n",
       "      <td>apple</td>\n",
       "      <td>Tops were the luscious apple pie with homemade...</td>\n",
       "    </tr>\n",
       "    <tr>\n",
       "      <th>1263</th>\n",
       "      <td>4fd20d7a8eb7c8105d77d96a</td>\n",
       "      <td>1999-01-21T00:00:00Z</td>\n",
       "      <td>Technology; Education; New York and Region</td>\n",
       "      <td>http://www.nytimes.com/1999/01/21/nyregion/cab...</td>\n",
       "      <td>2</td>\n",
       "      <td>apple</td>\n",
       "      <td>Last March a group of alumni led by the chairm...</td>\n",
       "    </tr>\n",
       "    <tr>\n",
       "      <th>1271</th>\n",
       "      <td>4fd21e128eb7c8105d79fafb</td>\n",
       "      <td>1999-01-09T00:00:00Z</td>\n",
       "      <td>New York and Region</td>\n",
       "      <td>http://www.nytimes.com/1999/01/09/nyregion/a-m...</td>\n",
       "      <td>2</td>\n",
       "      <td>apple</td>\n",
       "      <td>Ed Kesler of Tree-licious Farms in Port Marine...</td>\n",
       "    </tr>\n",
       "    <tr>\n",
       "      <th>1379</th>\n",
       "      <td>4fd2162b8eb7c8105d7905af</td>\n",
       "      <td>2001-08-26T00:00:00Z</td>\n",
       "      <td>Arts; Books</td>\n",
       "      <td>http://www.nytimes.com/2001/08/26/books/everyb...</td>\n",
       "      <td>2</td>\n",
       "      <td>apple</td>\n",
       "      <td>himself engage in varying degrees of deception...</td>\n",
       "    </tr>\n",
       "    <tr>\n",
       "      <th>1432</th>\n",
       "      <td>4fd2124d8eb7c8105d788888</td>\n",
       "      <td>2001-11-01T00:00:00Z</td>\n",
       "      <td>Home and Garden; Style; Books</td>\n",
       "      <td>http://www.nytimes.com/2001/11/01/garden/human...</td>\n",
       "      <td>2</td>\n",
       "      <td>apple</td>\n",
       "      <td>Still she left the deer part of the woods and ...</td>\n",
       "    </tr>\n",
       "    <tr>\n",
       "      <th>1610</th>\n",
       "      <td>4fd1fbdc8eb7c8105d75a803</td>\n",
       "      <td>1999-04-11T00:00:00Z</td>\n",
       "      <td>Technology; Business</td>\n",
       "      <td>http://www.nytimes.com/1999/04/11/business/pri...</td>\n",
       "      <td>2</td>\n",
       "      <td>apple</td>\n",
       "      <td>''He did it with Apple; he did it with Pixar''...</td>\n",
       "    </tr>\n",
       "    <tr>\n",
       "      <th>1719</th>\n",
       "      <td>4fd209968eb7c8105d775ba5</td>\n",
       "      <td>1999-01-06T00:00:00Z</td>\n",
       "      <td>Technology; Business</td>\n",
       "      <td>http://www.nytimes.com/1999/01/06/business/new...</td>\n",
       "      <td>2</td>\n",
       "      <td>apple</td>\n",
       "      <td>Apple Computer Inc's interim chief executive S...</td>\n",
       "    </tr>\n",
       "    <tr>\n",
       "      <th>1720</th>\n",
       "      <td>4fd209968eb7c8105d775ba5</td>\n",
       "      <td>1999-01-06T00:00:00Z</td>\n",
       "      <td>Technology; Business</td>\n",
       "      <td>http://www.nytimes.com/1999/01/06/business/new...</td>\n",
       "      <td>2</td>\n",
       "      <td>apple</td>\n",
       "      <td>Unveiling a colorful array of sleek machines t...</td>\n",
       "    </tr>\n",
       "    <tr>\n",
       "      <th>1721</th>\n",
       "      <td>4fd209968eb7c8105d775ba5</td>\n",
       "      <td>1999-01-06T00:00:00Z</td>\n",
       "      <td>Technology; Business</td>\n",
       "      <td>http://www.nytimes.com/1999/01/06/business/new...</td>\n",
       "      <td>2</td>\n",
       "      <td>apple</td>\n",
       "      <td>Unveiling a colorful array of sleek machines t...</td>\n",
       "    </tr>\n",
       "    <tr>\n",
       "      <th>1885</th>\n",
       "      <td>4fd1ea308eb7c8105d739a04</td>\n",
       "      <td>1999-05-07T00:00:00Z</td>\n",
       "      <td>Arts</td>\n",
       "      <td>http://www.nytimes.com/1999/05/07/arts/eating-...</td>\n",
       "      <td>2</td>\n",
       "      <td>apple</td>\n",
       "      <td>The roasted apple stuffed with foie gras is ev...</td>\n",
       "    </tr>\n",
       "    <tr>\n",
       "      <th>1887</th>\n",
       "      <td>5420e93638f0d81f7a600bdc</td>\n",
       "      <td>2010-12-05T00:00:00Z</td>\n",
       "      <td>Travel</td>\n",
       "      <td>http://www.nytimes.com/2010/12/05/travel/05ind...</td>\n",
       "      <td>2</td>\n",
       "      <td>apple</td>\n",
       "      <td>Though our order of fresh orange juice ($2) a ...</td>\n",
       "    </tr>\n",
       "    <tr>\n",
       "      <th>...</th>\n",
       "      <td>...</td>\n",
       "      <td>...</td>\n",
       "      <td>...</td>\n",
       "      <td>...</td>\n",
       "      <td>...</td>\n",
       "      <td>...</td>\n",
       "      <td>...</td>\n",
       "    </tr>\n",
       "    <tr>\n",
       "      <th>1542125</th>\n",
       "      <td>5110cbf700315214fbb8938e</td>\n",
       "      <td>2011-01-19T00:00:00Z</td>\n",
       "      <td>Business Day</td>\n",
       "      <td>http://www.nytimes.com/2011/01/19/business/med...</td>\n",
       "      <td>2</td>\n",
       "      <td>apple</td>\n",
       "      <td>example if Apple were to reach a deal with Via...</td>\n",
       "    </tr>\n",
       "    <tr>\n",
       "      <th>1542148</th>\n",
       "      <td>4fd39e8d8eb7c8105d8e1645</td>\n",
       "      <td>2011-02-18T17:31:23Z</td>\n",
       "      <td>Technology</td>\n",
       "      <td>http://bits.blogs.nytimes.com/2011/02/18/the-m...</td>\n",
       "      <td>2</td>\n",
       "      <td>apple</td>\n",
       "      <td>Oracle Netflix Apple Facebook and Yahoo whose ...</td>\n",
       "    </tr>\n",
       "    <tr>\n",
       "      <th>1542197</th>\n",
       "      <td>4fd39f098eb7c8105d8e2777</td>\n",
       "      <td>2011-03-10T06:04:37Z</td>\n",
       "      <td>Technology</td>\n",
       "      <td>http://gadgetwise.blogs.nytimes.com/2011/03/10...</td>\n",
       "      <td>2</td>\n",
       "      <td>apple</td>\n",
       "      <td>Friday Apple will start taking orders for its ...</td>\n",
       "    </tr>\n",
       "    <tr>\n",
       "      <th>1542253</th>\n",
       "      <td>4fd39f1d8eb7c8105d8e2a95</td>\n",
       "      <td>2011-04-21T14:20:57Z</td>\n",
       "      <td>Business Day</td>\n",
       "      <td>http://dealbook.nytimes.com/2011/04/21/a-shopp...</td>\n",
       "      <td>2</td>\n",
       "      <td>apple</td>\n",
       "      <td>With $65.8 billion in cash — more than any oth...</td>\n",
       "    </tr>\n",
       "    <tr>\n",
       "      <th>1542254</th>\n",
       "      <td>4fd39f1d8eb7c8105d8e2a95</td>\n",
       "      <td>2011-04-21T14:20:57Z</td>\n",
       "      <td>Business Day</td>\n",
       "      <td>http://dealbook.nytimes.com/2011/04/21/a-shopp...</td>\n",
       "      <td>2</td>\n",
       "      <td>apple</td>\n",
       "      <td>A Shopping List for Apple’s Growing War Chest</td>\n",
       "    </tr>\n",
       "    <tr>\n",
       "      <th>1542255</th>\n",
       "      <td>4fd39f1d8eb7c8105d8e2a95</td>\n",
       "      <td>2011-04-21T14:20:57Z</td>\n",
       "      <td>Business Day</td>\n",
       "      <td>http://dealbook.nytimes.com/2011/04/21/a-shopp...</td>\n",
       "      <td>2</td>\n",
       "      <td>apple</td>\n",
       "      <td>“Excessive” “untenable” simply “ridiculous” — ...</td>\n",
       "    </tr>\n",
       "    <tr>\n",
       "      <th>1542256</th>\n",
       "      <td>4fd39f1d8eb7c8105d8e2a95</td>\n",
       "      <td>2011-04-21T14:20:57Z</td>\n",
       "      <td>Business Day</td>\n",
       "      <td>http://dealbook.nytimes.com/2011/04/21/a-shopp...</td>\n",
       "      <td>2</td>\n",
       "      <td>apple</td>\n",
       "      <td>analysts are using to describe Apple‘s giganti...</td>\n",
       "    </tr>\n",
       "    <tr>\n",
       "      <th>1542328</th>\n",
       "      <td>4fd3a01b8eb7c8105d8e4faa</td>\n",
       "      <td>2011-06-15T09:32:58Z</td>\n",
       "      <td>Business Day</td>\n",
       "      <td>http://dealbook.nytimes.com/2011/06/15/morning...</td>\n",
       "      <td>2</td>\n",
       "      <td>apple</td>\n",
       "      <td>The demand for Pandora a company from Oakland ...</td>\n",
       "    </tr>\n",
       "    <tr>\n",
       "      <th>1542595</th>\n",
       "      <td>4fd3a1f18eb7c8105d8e938b</td>\n",
       "      <td>2011-11-15T18:58:05Z</td>\n",
       "      <td>Technology</td>\n",
       "      <td>http://bits.blogs.nytimes.com/2011/11/15/netfl...</td>\n",
       "      <td>2</td>\n",
       "      <td>apple</td>\n",
       "      <td>The move isn't a great sign for Apple which be...</td>\n",
       "    </tr>\n",
       "    <tr>\n",
       "      <th>1542596</th>\n",
       "      <td>4fd3a1f18eb7c8105d8e938b</td>\n",
       "      <td>2011-11-15T18:58:05Z</td>\n",
       "      <td>Technology</td>\n",
       "      <td>http://bits.blogs.nytimes.com/2011/11/15/netfl...</td>\n",
       "      <td>2</td>\n",
       "      <td>apple</td>\n",
       "      <td>The bounty of apps for iPad and iPhone are one...</td>\n",
       "    </tr>\n",
       "    <tr>\n",
       "      <th>1542597</th>\n",
       "      <td>4fd3a1f18eb7c8105d8e938b</td>\n",
       "      <td>2011-11-15T18:58:05Z</td>\n",
       "      <td>Technology</td>\n",
       "      <td>http://bits.blogs.nytimes.com/2011/11/15/netfl...</td>\n",
       "      <td>2</td>\n",
       "      <td>apple</td>\n",
       "      <td>Other apps makers like Rovio the maker of Angr...</td>\n",
       "    </tr>\n",
       "    <tr>\n",
       "      <th>1542664</th>\n",
       "      <td>4fd3a2a48eb7c8105d8eaccc</td>\n",
       "      <td>2011-12-27T14:16:16Z</td>\n",
       "      <td>Business Day</td>\n",
       "      <td>http://dealbook.nytimes.com/2011/12/27/the-wor...</td>\n",
       "      <td>2</td>\n",
       "      <td>apple</td>\n",
       "      <td>Rather than take heed of the winds of change y...</td>\n",
       "    </tr>\n",
       "    <tr>\n",
       "      <th>1542778</th>\n",
       "      <td>4fd3a3878eb7c8105d8ecc9f</td>\n",
       "      <td>2012-03-08T11:12:17Z</td>\n",
       "      <td>Business</td>\n",
       "      <td>http://mediadecoder.blogs.nytimes.com/2012/03/...</td>\n",
       "      <td>2</td>\n",
       "      <td>apple</td>\n",
       "      <td>Also Justice rattles its saber at Apple and bo...</td>\n",
       "    </tr>\n",
       "    <tr>\n",
       "      <th>1542779</th>\n",
       "      <td>4fd3a3878eb7c8105d8ecc9f</td>\n",
       "      <td>2012-03-08T11:12:17Z</td>\n",
       "      <td>Business</td>\n",
       "      <td>http://mediadecoder.blogs.nytimes.com/2012/03/...</td>\n",
       "      <td>2</td>\n",
       "      <td>apple</td>\n",
       "      <td>Apple unveiled its newest version of the iPad ...</td>\n",
       "    </tr>\n",
       "    <tr>\n",
       "      <th>1542889</th>\n",
       "      <td>50008db11c22dfde670af5d7</td>\n",
       "      <td>2012-07-05T09:55:43Z</td>\n",
       "      <td>Technology</td>\n",
       "      <td>http://pogue.blogs.nytimes.com/2012/07/05/the-...</td>\n",
       "      <td>2</td>\n",
       "      <td>apple</td>\n",
       "      <td>There are lots of boxes that connect to your T...</td>\n",
       "    </tr>\n",
       "    <tr>\n",
       "      <th>1542915</th>\n",
       "      <td>50172d741c22dfde670b345e</td>\n",
       "      <td>2012-07-30T20:53:27Z</td>\n",
       "      <td>Business Day</td>\n",
       "      <td>http://dealbook.nytimes.com/2012/07/30/suggest...</td>\n",
       "      <td>2</td>\n",
       "      <td>apple</td>\n",
       "      <td>Tim Cook Apple's chief executive has a cash su...</td>\n",
       "    </tr>\n",
       "    <tr>\n",
       "      <th>1542916</th>\n",
       "      <td>50172d741c22dfde670b345e</td>\n",
       "      <td>2012-07-30T20:53:27Z</td>\n",
       "      <td>Business Day</td>\n",
       "      <td>http://dealbook.nytimes.com/2012/07/30/suggest...</td>\n",
       "      <td>2</td>\n",
       "      <td>apple</td>\n",
       "      <td>Suggestions for an Apple Shopping List</td>\n",
       "    </tr>\n",
       "    <tr>\n",
       "      <th>1542917</th>\n",
       "      <td>50172d741c22dfde670b345e</td>\n",
       "      <td>2012-07-30T20:53:27Z</td>\n",
       "      <td>Business Day</td>\n",
       "      <td>http://dealbook.nytimes.com/2012/07/30/suggest...</td>\n",
       "      <td>2</td>\n",
       "      <td>apple</td>\n",
       "      <td>real question is whether Mr. Cook would ever s...</td>\n",
       "    </tr>\n",
       "    <tr>\n",
       "      <th>1542918</th>\n",
       "      <td>50172d741c22dfde670b345e</td>\n",
       "      <td>2012-07-30T20:53:27Z</td>\n",
       "      <td>Business Day</td>\n",
       "      <td>http://dealbook.nytimes.com/2012/07/30/suggest...</td>\n",
       "      <td>2</td>\n",
       "      <td>apple</td>\n",
       "      <td>Apple denizens often say that the company is n...</td>\n",
       "    </tr>\n",
       "    <tr>\n",
       "      <th>1542974</th>\n",
       "      <td>508726c495e998af71187ff6</td>\n",
       "      <td>2012-10-22T00:00:00Z</td>\n",
       "      <td>Business Day</td>\n",
       "      <td>http://www.nytimes.com/2012/10/22/business/eco...</td>\n",
       "      <td>2</td>\n",
       "      <td>apple</td>\n",
       "      <td>Governments reports will include third-quarter...</td>\n",
       "    </tr>\n",
       "    <tr>\n",
       "      <th>1542975</th>\n",
       "      <td>508726c495e998af71187ff6</td>\n",
       "      <td>2012-10-22T00:00:00Z</td>\n",
       "      <td>Business Day</td>\n",
       "      <td>http://www.nytimes.com/2012/10/22/business/eco...</td>\n",
       "      <td>2</td>\n",
       "      <td>apple</td>\n",
       "      <td>Chemical Eastman Chemical International Paper ...</td>\n",
       "    </tr>\n",
       "    <tr>\n",
       "      <th>1542993</th>\n",
       "      <td>5094165295e998af7118aefe</td>\n",
       "      <td>2012-11-02T14:38:20Z</td>\n",
       "      <td>Technology</td>\n",
       "      <td>http://gadgetwise.blogs.nytimes.com/2012/11/02...</td>\n",
       "      <td>2</td>\n",
       "      <td>apple</td>\n",
       "      <td>Also worth remembering is the fact that Apple ...</td>\n",
       "    </tr>\n",
       "    <tr>\n",
       "      <th>1543015</th>\n",
       "      <td>50bf4a5800315214fbb7d9f1</td>\n",
       "      <td>2012-12-05T08:15:09Z</td>\n",
       "      <td>Business Day</td>\n",
       "      <td>http://dealbook.nytimes.com/2012/12/05/hsbcs-b...</td>\n",
       "      <td>2</td>\n",
       "      <td>apple</td>\n",
       "      <td>Former Trader at Rochdale Is Arrested After $1...</td>\n",
       "    </tr>\n",
       "    <tr>\n",
       "      <th>1543023</th>\n",
       "      <td>50c2078500315214fbb7e2de</td>\n",
       "      <td>2012-12-07T10:06:08Z</td>\n",
       "      <td>Business Day</td>\n",
       "      <td>http://dealbook.nytimes.com/2012/12/07/netflix...</td>\n",
       "      <td>2</td>\n",
       "      <td>apple</td>\n",
       "      <td>APPLE TO BRING SOME PRODUCTION HOME  |  Facing...</td>\n",
       "    </tr>\n",
       "    <tr>\n",
       "      <th>1543079</th>\n",
       "      <td>51014ca800315214fbb86de5</td>\n",
       "      <td>2013-01-25T00:00:00Z</td>\n",
       "      <td>Business Day</td>\n",
       "      <td>http://www.nytimes.com/2013/01/25/business/dai...</td>\n",
       "      <td>2</td>\n",
       "      <td>apple</td>\n",
       "      <td>Stocks remain steady as strong economic data l...</td>\n",
       "    </tr>\n",
       "    <tr>\n",
       "      <th>1543080</th>\n",
       "      <td>51014ca800315214fbb86de5</td>\n",
       "      <td>2013-01-25T00:00:00Z</td>\n",
       "      <td>Business Day</td>\n",
       "      <td>http://www.nytimes.com/2013/01/25/business/dai...</td>\n",
       "      <td>2</td>\n",
       "      <td>apple</td>\n",
       "      <td>Apple shares lost 12 percent.</td>\n",
       "    </tr>\n",
       "    <tr>\n",
       "      <th>1543081</th>\n",
       "      <td>51014ca800315214fbb86de5</td>\n",
       "      <td>2013-01-25T00:00:00Z</td>\n",
       "      <td>Business Day</td>\n",
       "      <td>http://www.nytimes.com/2013/01/25/business/dai...</td>\n",
       "      <td>2</td>\n",
       "      <td>apple</td>\n",
       "      <td>Apple slid $63.51 or 12.35 percent to $450.50 ...</td>\n",
       "    </tr>\n",
       "    <tr>\n",
       "      <th>1543103</th>\n",
       "      <td>51360236cf28d009de003839</td>\n",
       "      <td>2013-03-05T06:59:50Z</td>\n",
       "      <td>Technology</td>\n",
       "      <td>http://gadgetwise.blogs.nytimes.com/2013/03/05...</td>\n",
       "      <td>2</td>\n",
       "      <td>apple</td>\n",
       "      <td>like Netflix and YouTube but this is hardly en...</td>\n",
       "    </tr>\n",
       "    <tr>\n",
       "      <th>1543122</th>\n",
       "      <td>51549d5bfdc59278db0004c3</td>\n",
       "      <td>2013-03-28T15:37:58Z</td>\n",
       "      <td>Technology</td>\n",
       "      <td>http://pogue.blogs.nytimes.com/2013/03/28/an-e...</td>\n",
       "      <td>2</td>\n",
       "      <td>apple</td>\n",
       "      <td>(Your TV requires an Apple TV box about $100.)</td>\n",
       "    </tr>\n",
       "    <tr>\n",
       "      <th>1543123</th>\n",
       "      <td>51549d5bfdc59278db0004c3</td>\n",
       "      <td>2013-03-28T15:37:58Z</td>\n",
       "      <td>Technology</td>\n",
       "      <td>http://pogue.blogs.nytimes.com/2013/03/28/an-e...</td>\n",
       "      <td>2</td>\n",
       "      <td>apple</td>\n",
       "      <td>It tricks the iPhone into thinking that your M...</td>\n",
       "    </tr>\n",
       "  </tbody>\n",
       "</table>\n",
       "<p>40970 rows × 7 columns</p>\n",
       "</div>"
      ],
      "text/plain": [
       "                       article_id              pub_date  \\\n",
       "124      535b12a538f0d80f3c8b6197  2014-04-26T00:00:00Z   \n",
       "125      535b12a538f0d80f3c8b6197  2014-04-26T00:00:00Z   \n",
       "126      535b12a538f0d80f3c8b6197  2014-04-26T00:00:00Z   \n",
       "128      535b12a538f0d80f3c8b6197  2014-04-26T00:00:00Z   \n",
       "514      4fd399e48eb7c8105d8d6632  2010-03-23T15:23:14Z   \n",
       "515      4fd399e48eb7c8105d8d6632  2010-03-23T15:23:14Z   \n",
       "749      4fd20a078eb7c8105d776b4e  1999-02-22T00:00:00Z   \n",
       "796      4fd20a068eb7c8105d776a58  1999-02-25T00:00:00Z   \n",
       "866      4fd245428eb7c8105d7dfcd2  2000-09-08T00:00:00Z   \n",
       "890      4fd1e7fa8eb7c8105d7358f0  1999-01-14T00:00:00Z   \n",
       "891      4fd1e7fa8eb7c8105d7358f0  1999-01-14T00:00:00Z   \n",
       "892      4fd1e7fa8eb7c8105d7358f0  1999-01-14T00:00:00Z   \n",
       "893      4fd1e7fa8eb7c8105d7358f0  1999-01-14T00:00:00Z   \n",
       "894      4fd1e7fa8eb7c8105d7358f0  1999-01-14T00:00:00Z   \n",
       "895      4fd1e7fa8eb7c8105d7358f0  1999-01-14T00:00:00Z   \n",
       "896      4fd1e7fa8eb7c8105d7358f0  1999-01-14T00:00:00Z   \n",
       "899      4fd1e7fa8eb7c8105d7358f0  1999-01-14T00:00:00Z   \n",
       "1010     4fd1f8f28eb7c8105d755ada  1999-01-04T00:00:00Z   \n",
       "1011     4fd1f8f28eb7c8105d755ada  1999-01-04T00:00:00Z   \n",
       "1020     4fd2005f8eb7c8105d76387a  1999-06-13T00:00:00Z   \n",
       "1263     4fd20d7a8eb7c8105d77d96a  1999-01-21T00:00:00Z   \n",
       "1271     4fd21e128eb7c8105d79fafb  1999-01-09T00:00:00Z   \n",
       "1379     4fd2162b8eb7c8105d7905af  2001-08-26T00:00:00Z   \n",
       "1432     4fd2124d8eb7c8105d788888  2001-11-01T00:00:00Z   \n",
       "1610     4fd1fbdc8eb7c8105d75a803  1999-04-11T00:00:00Z   \n",
       "1719     4fd209968eb7c8105d775ba5  1999-01-06T00:00:00Z   \n",
       "1720     4fd209968eb7c8105d775ba5  1999-01-06T00:00:00Z   \n",
       "1721     4fd209968eb7c8105d775ba5  1999-01-06T00:00:00Z   \n",
       "1885     4fd1ea308eb7c8105d739a04  1999-05-07T00:00:00Z   \n",
       "1887     5420e93638f0d81f7a600bdc  2010-12-05T00:00:00Z   \n",
       "...                           ...                   ...   \n",
       "1542125  5110cbf700315214fbb8938e  2011-01-19T00:00:00Z   \n",
       "1542148  4fd39e8d8eb7c8105d8e1645  2011-02-18T17:31:23Z   \n",
       "1542197  4fd39f098eb7c8105d8e2777  2011-03-10T06:04:37Z   \n",
       "1542253  4fd39f1d8eb7c8105d8e2a95  2011-04-21T14:20:57Z   \n",
       "1542254  4fd39f1d8eb7c8105d8e2a95  2011-04-21T14:20:57Z   \n",
       "1542255  4fd39f1d8eb7c8105d8e2a95  2011-04-21T14:20:57Z   \n",
       "1542256  4fd39f1d8eb7c8105d8e2a95  2011-04-21T14:20:57Z   \n",
       "1542328  4fd3a01b8eb7c8105d8e4faa  2011-06-15T09:32:58Z   \n",
       "1542595  4fd3a1f18eb7c8105d8e938b  2011-11-15T18:58:05Z   \n",
       "1542596  4fd3a1f18eb7c8105d8e938b  2011-11-15T18:58:05Z   \n",
       "1542597  4fd3a1f18eb7c8105d8e938b  2011-11-15T18:58:05Z   \n",
       "1542664  4fd3a2a48eb7c8105d8eaccc  2011-12-27T14:16:16Z   \n",
       "1542778  4fd3a3878eb7c8105d8ecc9f  2012-03-08T11:12:17Z   \n",
       "1542779  4fd3a3878eb7c8105d8ecc9f  2012-03-08T11:12:17Z   \n",
       "1542889  50008db11c22dfde670af5d7  2012-07-05T09:55:43Z   \n",
       "1542915  50172d741c22dfde670b345e  2012-07-30T20:53:27Z   \n",
       "1542916  50172d741c22dfde670b345e  2012-07-30T20:53:27Z   \n",
       "1542917  50172d741c22dfde670b345e  2012-07-30T20:53:27Z   \n",
       "1542918  50172d741c22dfde670b345e  2012-07-30T20:53:27Z   \n",
       "1542974  508726c495e998af71187ff6  2012-10-22T00:00:00Z   \n",
       "1542975  508726c495e998af71187ff6  2012-10-22T00:00:00Z   \n",
       "1542993  5094165295e998af7118aefe  2012-11-02T14:38:20Z   \n",
       "1543015  50bf4a5800315214fbb7d9f1  2012-12-05T08:15:09Z   \n",
       "1543023  50c2078500315214fbb7e2de  2012-12-07T10:06:08Z   \n",
       "1543079  51014ca800315214fbb86de5  2013-01-25T00:00:00Z   \n",
       "1543080  51014ca800315214fbb86de5  2013-01-25T00:00:00Z   \n",
       "1543081  51014ca800315214fbb86de5  2013-01-25T00:00:00Z   \n",
       "1543103  51360236cf28d009de003839  2013-03-05T06:59:50Z   \n",
       "1543122  51549d5bfdc59278db0004c3  2013-03-28T15:37:58Z   \n",
       "1543123  51549d5bfdc59278db0004c3  2013-03-28T15:37:58Z   \n",
       "\n",
       "                                       section_name  \\\n",
       "124                                      Technology   \n",
       "125                                      Technology   \n",
       "126                                      Technology   \n",
       "128                                      Technology   \n",
       "514                                      Technology   \n",
       "515                                      Technology   \n",
       "749                            Technology; Business   \n",
       "796                                      Technology   \n",
       "866                           Movies; Arts; Theater   \n",
       "890                            Technology; Business   \n",
       "891                            Technology; Business   \n",
       "892                            Technology; Business   \n",
       "893                            Technology; Business   \n",
       "894                            Technology; Business   \n",
       "895                            Technology; Business   \n",
       "896                            Technology; Business   \n",
       "899                            Technology; Business   \n",
       "1010                           Technology; Business   \n",
       "1011                           Technology; Business   \n",
       "1020                            New York and Region   \n",
       "1263     Technology; Education; New York and Region   \n",
       "1271                            New York and Region   \n",
       "1379                                    Arts; Books   \n",
       "1432                  Home and Garden; Style; Books   \n",
       "1610                           Technology; Business   \n",
       "1719                           Technology; Business   \n",
       "1720                           Technology; Business   \n",
       "1721                           Technology; Business   \n",
       "1885                                           Arts   \n",
       "1887                                         Travel   \n",
       "...                                             ...   \n",
       "1542125                                Business Day   \n",
       "1542148                                  Technology   \n",
       "1542197                                  Technology   \n",
       "1542253                                Business Day   \n",
       "1542254                                Business Day   \n",
       "1542255                                Business Day   \n",
       "1542256                                Business Day   \n",
       "1542328                                Business Day   \n",
       "1542595                                  Technology   \n",
       "1542596                                  Technology   \n",
       "1542597                                  Technology   \n",
       "1542664                                Business Day   \n",
       "1542778                                    Business   \n",
       "1542779                                    Business   \n",
       "1542889                                  Technology   \n",
       "1542915                                Business Day   \n",
       "1542916                                Business Day   \n",
       "1542917                                Business Day   \n",
       "1542918                                Business Day   \n",
       "1542974                                Business Day   \n",
       "1542975                                Business Day   \n",
       "1542993                                  Technology   \n",
       "1543015                                Business Day   \n",
       "1543023                                Business Day   \n",
       "1543079                                Business Day   \n",
       "1543080                                Business Day   \n",
       "1543081                                Business Day   \n",
       "1543103                                  Technology   \n",
       "1543122                                  Technology   \n",
       "1543123                                  Technology   \n",
       "\n",
       "                                                   web_url  term_category  \\\n",
       "124      http://www.nytimes.com/2014/04/26/technology/a...              2   \n",
       "125      http://www.nytimes.com/2014/04/26/technology/a...              2   \n",
       "126      http://www.nytimes.com/2014/04/26/technology/a...              2   \n",
       "128      http://www.nytimes.com/2014/04/26/technology/a...              2   \n",
       "514      http://gadgetwise.blogs.nytimes.com/2010/03/23...              2   \n",
       "515      http://gadgetwise.blogs.nytimes.com/2010/03/23...              2   \n",
       "749      http://www.nytimes.com/1999/02/22/business/tec...              2   \n",
       "796      http://www.nytimes.com/1999/02/25/technology/y...              2   \n",
       "866      http://www.nytimes.com/2000/09/08/movies/theat...              2   \n",
       "890      http://www.nytimes.com/1999/01/14/business/com...              2   \n",
       "891      http://www.nytimes.com/1999/01/14/business/com...              2   \n",
       "892      http://www.nytimes.com/1999/01/14/business/com...              2   \n",
       "893      http://www.nytimes.com/1999/01/14/business/com...              2   \n",
       "894      http://www.nytimes.com/1999/01/14/business/com...              2   \n",
       "895      http://www.nytimes.com/1999/01/14/business/com...              2   \n",
       "896      http://www.nytimes.com/1999/01/14/business/com...              2   \n",
       "899      http://www.nytimes.com/1999/01/14/business/com...              2   \n",
       "1010     http://www.nytimes.com/1999/01/04/business/out...              2   \n",
       "1011     http://www.nytimes.com/1999/01/04/business/out...              2   \n",
       "1020     http://www.nytimes.com/1999/06/13/nyregion/din...              2   \n",
       "1263     http://www.nytimes.com/1999/01/21/nyregion/cab...              2   \n",
       "1271     http://www.nytimes.com/1999/01/09/nyregion/a-m...              2   \n",
       "1379     http://www.nytimes.com/2001/08/26/books/everyb...              2   \n",
       "1432     http://www.nytimes.com/2001/11/01/garden/human...              2   \n",
       "1610     http://www.nytimes.com/1999/04/11/business/pri...              2   \n",
       "1719     http://www.nytimes.com/1999/01/06/business/new...              2   \n",
       "1720     http://www.nytimes.com/1999/01/06/business/new...              2   \n",
       "1721     http://www.nytimes.com/1999/01/06/business/new...              2   \n",
       "1885     http://www.nytimes.com/1999/05/07/arts/eating-...              2   \n",
       "1887     http://www.nytimes.com/2010/12/05/travel/05ind...              2   \n",
       "...                                                    ...            ...   \n",
       "1542125  http://www.nytimes.com/2011/01/19/business/med...              2   \n",
       "1542148  http://bits.blogs.nytimes.com/2011/02/18/the-m...              2   \n",
       "1542197  http://gadgetwise.blogs.nytimes.com/2011/03/10...              2   \n",
       "1542253  http://dealbook.nytimes.com/2011/04/21/a-shopp...              2   \n",
       "1542254  http://dealbook.nytimes.com/2011/04/21/a-shopp...              2   \n",
       "1542255  http://dealbook.nytimes.com/2011/04/21/a-shopp...              2   \n",
       "1542256  http://dealbook.nytimes.com/2011/04/21/a-shopp...              2   \n",
       "1542328  http://dealbook.nytimes.com/2011/06/15/morning...              2   \n",
       "1542595  http://bits.blogs.nytimes.com/2011/11/15/netfl...              2   \n",
       "1542596  http://bits.blogs.nytimes.com/2011/11/15/netfl...              2   \n",
       "1542597  http://bits.blogs.nytimes.com/2011/11/15/netfl...              2   \n",
       "1542664  http://dealbook.nytimes.com/2011/12/27/the-wor...              2   \n",
       "1542778  http://mediadecoder.blogs.nytimes.com/2012/03/...              2   \n",
       "1542779  http://mediadecoder.blogs.nytimes.com/2012/03/...              2   \n",
       "1542889  http://pogue.blogs.nytimes.com/2012/07/05/the-...              2   \n",
       "1542915  http://dealbook.nytimes.com/2012/07/30/suggest...              2   \n",
       "1542916  http://dealbook.nytimes.com/2012/07/30/suggest...              2   \n",
       "1542917  http://dealbook.nytimes.com/2012/07/30/suggest...              2   \n",
       "1542918  http://dealbook.nytimes.com/2012/07/30/suggest...              2   \n",
       "1542974  http://www.nytimes.com/2012/10/22/business/eco...              2   \n",
       "1542975  http://www.nytimes.com/2012/10/22/business/eco...              2   \n",
       "1542993  http://gadgetwise.blogs.nytimes.com/2012/11/02...              2   \n",
       "1543015  http://dealbook.nytimes.com/2012/12/05/hsbcs-b...              2   \n",
       "1543023  http://dealbook.nytimes.com/2012/12/07/netflix...              2   \n",
       "1543079  http://www.nytimes.com/2013/01/25/business/dai...              2   \n",
       "1543080  http://www.nytimes.com/2013/01/25/business/dai...              2   \n",
       "1543081  http://www.nytimes.com/2013/01/25/business/dai...              2   \n",
       "1543103  http://gadgetwise.blogs.nytimes.com/2013/03/05...              2   \n",
       "1543122  http://pogue.blogs.nytimes.com/2013/03/28/an-e...              2   \n",
       "1543123  http://pogue.blogs.nytimes.com/2013/03/28/an-e...              2   \n",
       "\n",
       "          term                                           sentence  \n",
       "124      apple  Apple offers to replace faulty on-off buttons ...  \n",
       "125      apple     Apple Will Replace Faulty Switches on iPhone 5  \n",
       "126      apple  Apple has offered to replace faulty on-off but...  \n",
       "128      apple                Apple said on its user-support page  \n",
       "514      apple  Two popular sites for travel information have ...  \n",
       "515      apple  iPhone apps -- welcome aids to people who are ...  \n",
       "749      apple  That can mean for instance that a client who a...  \n",
       "796      apple  Mr. Leifer of Borough Park Brooklyn is about f...  \n",
       "866      apple  of the Henson International Festival of Puppet...  \n",
       "890      apple  Apple Computer Inc reports earnings gain in fi...  \n",
       "891      apple  Apple Reports Earnings Gain That Beat The Esti...  \n",
       "892      apple  A resurgent Apple Computer Inc. today reported...  \n",
       "893      apple  Excluding a one-time gain Apple earnings excee...  \n",
       "894      apple  Apple's unit sales grew by 49 percent in the q...  \n",
       "895      apple  Apple sold 519000 of its translucent teal iMac...  \n",
       "896      apple  Apple also had strong sales of its G3 Macintos...  \n",
       "899      apple                         Apple's unit sales grew by  \n",
       "1010     apple  followed soon by a similar wireless Internet d...  \n",
       "1011     apple  The computer industry is keeping a careful eye...  \n",
       "1020     apple  Tops were the luscious apple pie with homemade...  \n",
       "1263     apple  Last March a group of alumni led by the chairm...  \n",
       "1271     apple  Ed Kesler of Tree-licious Farms in Port Marine...  \n",
       "1379     apple  himself engage in varying degrees of deception...  \n",
       "1432     apple  Still she left the deer part of the woods and ...  \n",
       "1610     apple  ''He did it with Apple; he did it with Pixar''...  \n",
       "1719     apple  Apple Computer Inc's interim chief executive S...  \n",
       "1720     apple  Unveiling a colorful array of sleek machines t...  \n",
       "1721     apple  Unveiling a colorful array of sleek machines t...  \n",
       "1885     apple  The roasted apple stuffed with foie gras is ev...  \n",
       "1887     apple  Though our order of fresh orange juice ($2) a ...  \n",
       "...        ...                                                ...  \n",
       "1542125  apple  example if Apple were to reach a deal with Via...  \n",
       "1542148  apple  Oracle Netflix Apple Facebook and Yahoo whose ...  \n",
       "1542197  apple  Friday Apple will start taking orders for its ...  \n",
       "1542253  apple  With $65.8 billion in cash — more than any oth...  \n",
       "1542254  apple      A Shopping List for Apple’s Growing War Chest  \n",
       "1542255  apple  “Excessive” “untenable” simply “ridiculous” — ...  \n",
       "1542256  apple  analysts are using to describe Apple‘s giganti...  \n",
       "1542328  apple  The demand for Pandora a company from Oakland ...  \n",
       "1542595  apple  The move isn't a great sign for Apple which be...  \n",
       "1542596  apple  The bounty of apps for iPad and iPhone are one...  \n",
       "1542597  apple  Other apps makers like Rovio the maker of Angr...  \n",
       "1542664  apple  Rather than take heed of the winds of change y...  \n",
       "1542778  apple  Also Justice rattles its saber at Apple and bo...  \n",
       "1542779  apple  Apple unveiled its newest version of the iPad ...  \n",
       "1542889  apple  There are lots of boxes that connect to your T...  \n",
       "1542915  apple  Tim Cook Apple's chief executive has a cash su...  \n",
       "1542916  apple             Suggestions for an Apple Shopping List  \n",
       "1542917  apple  real question is whether Mr. Cook would ever s...  \n",
       "1542918  apple  Apple denizens often say that the company is n...  \n",
       "1542974  apple  Governments reports will include third-quarter...  \n",
       "1542975  apple  Chemical Eastman Chemical International Paper ...  \n",
       "1542993  apple  Also worth remembering is the fact that Apple ...  \n",
       "1543015  apple  Former Trader at Rochdale Is Arrested After $1...  \n",
       "1543023  apple  APPLE TO BRING SOME PRODUCTION HOME  |  Facing...  \n",
       "1543079  apple  Stocks remain steady as strong economic data l...  \n",
       "1543080  apple                      Apple shares lost 12 percent.  \n",
       "1543081  apple  Apple slid $63.51 or 12.35 percent to $450.50 ...  \n",
       "1543103  apple  like Netflix and YouTube but this is hardly en...  \n",
       "1543122  apple     (Your TV requires an Apple TV box about $100.)  \n",
       "1543123  apple  It tricks the iPhone into thinking that your M...  \n",
       "\n",
       "[40970 rows x 7 columns]"
      ]
     },
     "execution_count": 13,
     "metadata": {},
     "output_type": "execute_result"
    }
   ],
   "source": [
    "total_data_dedup[total_data_dedup.term == 'apple']"
   ]
  },
  {
   "cell_type": "code",
   "execution_count": 14,
   "metadata": {
    "collapsed": true
   },
   "outputs": [],
   "source": [
    "r_1720 = total_data_dedup.ix[1720]"
   ]
  },
  {
   "cell_type": "code",
   "execution_count": 15,
   "metadata": {
    "collapsed": true
   },
   "outputs": [],
   "source": [
    "r_1721 = total_data_dedup.ix[1721]"
   ]
  },
  {
   "cell_type": "code",
   "execution_count": 16,
   "metadata": {
    "collapsed": false
   },
   "outputs": [
    {
     "data": {
      "text/plain": [
       "article_id                                4fd209968eb7c8105d775ba5\n",
       "pub_date                                      1999-01-06T00:00:00Z\n",
       "section_name                                  Technology; Business\n",
       "web_url          http://www.nytimes.com/1999/01/06/business/new...\n",
       "term_category                                                    2\n",
       "term                                                         apple\n",
       "sentence         Unveiling a colorful array of sleek machines t...\n",
       "Name: 1720, dtype: object"
      ]
     },
     "execution_count": 16,
     "metadata": {},
     "output_type": "execute_result"
    }
   ],
   "source": [
    "r_1720"
   ]
  },
  {
   "cell_type": "code",
   "execution_count": 17,
   "metadata": {
    "collapsed": false
   },
   "outputs": [
    {
     "data": {
      "text/plain": [
       "article_id                                4fd209968eb7c8105d775ba5\n",
       "pub_date                                      1999-01-06T00:00:00Z\n",
       "section_name                                  Technology; Business\n",
       "web_url          http://www.nytimes.com/1999/01/06/business/new...\n",
       "term_category                                                    2\n",
       "term                                                         apple\n",
       "sentence         Unveiling a colorful array of sleek machines t...\n",
       "Name: 1721, dtype: object"
      ]
     },
     "execution_count": 17,
     "metadata": {},
     "output_type": "execute_result"
    }
   ],
   "source": [
    "r_1721"
   ]
  },
  {
   "cell_type": "code",
   "execution_count": 20,
   "metadata": {
    "collapsed": false
   },
   "outputs": [
    {
     "name": "stdout",
     "output_type": "stream",
     "text": [
      "Unveiling a colorful array of sleek machines that more closely resemble a pack of Life Savers than a new computer line Apple Computer's interim chief executive Steven P. Jobs today introduced the second generation of the company's popular iMac computers.\n",
      "Unveiling a colorful array of sleek machines that more closely resemble a pack of Life Savers than a new computer line Apple Computer's interim chief executive Steven P. Jobs today introduced the second generation of the\n"
     ]
    }
   ],
   "source": [
    "for i in r_1720.index:\n",
    "    if r_1720[i] != r_1721[i]:\n",
    "        print(r_1720[i])\n",
    "        print(r_1721[i])"
   ]
  },
  {
   "cell_type": "code",
   "execution_count": null,
   "metadata": {
    "collapsed": true
   },
   "outputs": [],
   "source": []
  },
  {
   "cell_type": "code",
   "execution_count": null,
   "metadata": {
    "collapsed": true
   },
   "outputs": [],
   "source": []
  },
  {
   "cell_type": "code",
   "execution_count": 304,
   "metadata": {
    "collapsed": false
   },
   "outputs": [],
   "source": [
    "xx=pd.Series([1,2,3], index=['a','b','c'])"
   ]
  },
  {
   "cell_type": "code",
   "execution_count": 305,
   "metadata": {
    "collapsed": false
   },
   "outputs": [
    {
     "data": {
      "text/plain": [
       "a    1\n",
       "b    2\n",
       "c    3\n",
       "dtype: int64"
      ]
     },
     "execution_count": 305,
     "metadata": {},
     "output_type": "execute_result"
    }
   ],
   "source": [
    "xx"
   ]
  },
  {
   "cell_type": "code",
   "execution_count": 311,
   "metadata": {
    "collapsed": false
   },
   "outputs": [
    {
     "data": {
      "text/plain": [
       "[('a', 1), ('b', 2), ('c', 3)]"
      ]
     },
     "execution_count": 311,
     "metadata": {},
     "output_type": "execute_result"
    }
   ],
   "source": [
    "list(xx.items())"
   ]
  },
  {
   "cell_type": "code",
   "execution_count": 312,
   "metadata": {
    "collapsed": false
   },
   "outputs": [
    {
     "name": "stdout",
     "output_type": "stream",
     "text": [
      "('a', 1)\n",
      "('b', 2)\n",
      "('c', 3)\n"
     ]
    }
   ],
   "source": [
    "for x in xx.items():\n",
    "    print(x)"
   ]
  },
  {
   "cell_type": "code",
   "execution_count": null,
   "metadata": {
    "collapsed": true
   },
   "outputs": [],
   "source": []
  },
  {
   "cell_type": "code",
   "execution_count": null,
   "metadata": {
    "collapsed": true
   },
   "outputs": [],
   "source": []
  },
  {
   "cell_type": "code",
   "execution_count": null,
   "metadata": {
    "collapsed": true
   },
   "outputs": [],
   "source": []
  },
  {
   "cell_type": "code",
   "execution_count": null,
   "metadata": {
    "collapsed": true
   },
   "outputs": [],
   "source": []
  },
  {
   "cell_type": "code",
   "execution_count": null,
   "metadata": {
    "collapsed": true
   },
   "outputs": [],
   "source": []
  },
  {
   "cell_type": "code",
   "execution_count": null,
   "metadata": {
    "collapsed": true
   },
   "outputs": [],
   "source": []
  },
  {
   "cell_type": "code",
   "execution_count": null,
   "metadata": {
    "collapsed": true
   },
   "outputs": [],
   "source": []
  },
  {
   "cell_type": "code",
   "execution_count": null,
   "metadata": {
    "collapsed": true
   },
   "outputs": [],
   "source": []
  },
  {
   "cell_type": "code",
   "execution_count": 18,
   "metadata": {
    "collapsed": false
   },
   "outputs": [],
   "source": [
    "# total_rows_data = Data('total_rows_26.csv', delimiter=',')"
   ]
  },
  {
   "cell_type": "code",
   "execution_count": 260,
   "metadata": {
    "collapsed": false
   },
   "outputs": [
    {
     "data": {
      "text/plain": [
       "datashape.coretypes.DataShape"
      ]
     },
     "execution_count": 260,
     "metadata": {},
     "output_type": "execute_result"
    }
   ],
   "source": [
    "type(total_rows_data.dshape)"
   ]
  },
  {
   "cell_type": "code",
   "execution_count": null,
   "metadata": {
    "collapsed": true
   },
   "outputs": [],
   "source": []
  },
  {
   "cell_type": "code",
   "execution_count": 20,
   "metadata": {
    "collapsed": false
   },
   "outputs": [],
   "source": [
    "total_rows_distinct = total_rows_data.distinct()"
   ]
  },
  {
   "cell_type": "code",
   "execution_count": 19,
   "metadata": {
    "collapsed": false
   },
   "outputs": [
    {
     "data": {
      "text/html": [
       "452654"
      ],
      "text/plain": [
       "452654"
      ]
     },
     "execution_count": 19,
     "metadata": {},
     "output_type": "execute_result"
    }
   ],
   "source": [
    "total_rows_data.count()"
   ]
  },
  {
   "cell_type": "code",
   "execution_count": 21,
   "metadata": {
    "collapsed": false
   },
   "outputs": [
    {
     "data": {
      "text/html": [
       "411204"
      ],
      "text/plain": [
       "411204"
      ]
     },
     "execution_count": 21,
     "metadata": {},
     "output_type": "execute_result"
    }
   ],
   "source": [
    "total_rows_distinct.count()"
   ]
  },
  {
   "cell_type": "code",
   "execution_count": 22,
   "metadata": {
    "collapsed": false
   },
   "outputs": [
    {
     "data": {
      "text/html": [
       "<table border=\"1\" class=\"dataframe\">\n",
       "  <thead>\n",
       "    <tr style=\"text-align: right;\">\n",
       "      <th></th>\n",
       "      <th>term</th>\n",
       "      <th>count</th>\n",
       "    </tr>\n",
       "  </thead>\n",
       "  <tbody>\n",
       "    <tr>\n",
       "      <th>108</th>\n",
       "      <td>executive</td>\n",
       "      <td>81788</td>\n",
       "    </tr>\n",
       "    <tr>\n",
       "      <th>131</th>\n",
       "      <td>manager</td>\n",
       "      <td>51197</td>\n",
       "    </tr>\n",
       "    <tr>\n",
       "      <th>10</th>\n",
       "      <td>Become Inc</td>\n",
       "      <td>44908</td>\n",
       "    </tr>\n",
       "    <tr>\n",
       "      <th>114</th>\n",
       "      <td>founder</td>\n",
       "      <td>41676</td>\n",
       "    </tr>\n",
       "    <tr>\n",
       "      <th>113</th>\n",
       "      <td>ford</td>\n",
       "      <td>19257</td>\n",
       "    </tr>\n",
       "    <tr>\n",
       "      <th>25</th>\n",
       "      <td>Google</td>\n",
       "      <td>18508</td>\n",
       "    </tr>\n",
       "    <tr>\n",
       "      <th>84</th>\n",
       "      <td>apple</td>\n",
       "      <td>12465</td>\n",
       "    </tr>\n",
       "    <tr>\n",
       "      <th>83</th>\n",
       "      <td>amazon.com</td>\n",
       "      <td>11780</td>\n",
       "    </tr>\n",
       "    <tr>\n",
       "      <th>86</th>\n",
       "      <td>at&amp;t</td>\n",
       "      <td>9454</td>\n",
       "    </tr>\n",
       "    <tr>\n",
       "      <th>31</th>\n",
       "      <td>Indeed</td>\n",
       "      <td>8825</td>\n",
       "    </tr>\n",
       "    <tr>\n",
       "      <th>107</th>\n",
       "      <td>entrepreneur</td>\n",
       "      <td>8484</td>\n",
       "    </tr>\n",
       "  </tbody>\n",
       "</table>"
      ],
      "text/plain": [
       "             term  count\n",
       "108     executive  81788\n",
       "131       manager  51197\n",
       "10     Become Inc  44908\n",
       "114       founder  41676\n",
       "113          ford  19257\n",
       "25         Google  18508\n",
       "84          apple  12465\n",
       "83     amazon.com  11780\n",
       "86           at&t   9454\n",
       "31         Indeed   8825\n",
       "..."
      ]
     },
     "execution_count": 22,
     "metadata": {},
     "output_type": "execute_result"
    }
   ],
   "source": [
    "total_rows_distinct.term.count_values()"
   ]
  },
  {
   "cell_type": "code",
   "execution_count": 26,
   "metadata": {
    "collapsed": true
   },
   "outputs": [],
   "source": [
    "data = total_rows_distinct"
   ]
  },
  {
   "cell_type": "code",
   "execution_count": 34,
   "metadata": {
    "collapsed": true
   },
   "outputs": [],
   "source": [
    "data = data[data.term != 'Become Inc']\n",
    "data = data[data.term != 'Indeed']\n",
    "data = data[data.term != 'ebay'] # change term_category from 3 to 2"
   ]
  },
  {
   "cell_type": "code",
   "execution_count": 35,
   "metadata": {
    "collapsed": false
   },
   "outputs": [
    {
     "data": {
      "text/html": [
       "<table border=\"1\" class=\"dataframe\">\n",
       "  <thead>\n",
       "    <tr style=\"text-align: right;\">\n",
       "      <th></th>\n",
       "      <th>article_id</th>\n",
       "      <th>pub_date</th>\n",
       "      <th>section_name</th>\n",
       "      <th>web_url</th>\n",
       "      <th>term_category</th>\n",
       "      <th>term</th>\n",
       "      <th>sentence</th>\n",
       "    </tr>\n",
       "  </thead>\n",
       "  <tbody>\n",
       "    <tr>\n",
       "      <th>0</th>\n",
       "      <td>4fd20d7d8eb7c8105d77daf9</td>\n",
       "      <td>1999-01-16</td>\n",
       "      <td>Sports</td>\n",
       "      <td>http://www.nytimes.com/1999/01/16/sports/plus-...</td>\n",
       "      <td>1</td>\n",
       "      <td>new venture</td>\n",
       "      <td>Keeneland's new venture came as a surprise to ...</td>\n",
       "    </tr>\n",
       "    <tr>\n",
       "      <th>1</th>\n",
       "      <td>4fd20db88eb7c8105d77e511</td>\n",
       "      <td>1999-01-03</td>\n",
       "      <td>Arts; Books</td>\n",
       "      <td>http://www.nytimes.com/1999/01/03/books/heartb...</td>\n",
       "      <td>1</td>\n",
       "      <td>manager</td>\n",
       "      <td>The plan Presley and his hucksterish business ...</td>\n",
       "    </tr>\n",
       "    <tr>\n",
       "      <th>3</th>\n",
       "      <td>5482d92a38f0d8403d9cd045</td>\n",
       "      <td>2008-07-08</td>\n",
       "      <td>Science</td>\n",
       "      <td>http://www.nytimes.com/2008/07/08/science/08an...</td>\n",
       "      <td>2</td>\n",
       "      <td>Twitch</td>\n",
       "      <td>In the male toadfish the swimbladder has been ...</td>\n",
       "    </tr>\n",
       "    <tr>\n",
       "      <th>4</th>\n",
       "      <td>5456ab1438f0d86ef22a094e</td>\n",
       "      <td>2009-10-04</td>\n",
       "      <td>Real Estate</td>\n",
       "      <td>http://www.nytimes.com/2009/10/04/realestate/c...</td>\n",
       "      <td>1</td>\n",
       "      <td>executive</td>\n",
       "      <td>Mr. Pozycki is the chief executive of SJP Prop...</td>\n",
       "    </tr>\n",
       "    <tr>\n",
       "      <th>5</th>\n",
       "      <td>5456ab1438f0d86ef22a094e</td>\n",
       "      <td>2009-10-04</td>\n",
       "      <td>Real Estate</td>\n",
       "      <td>http://www.nytimes.com/2009/10/04/realestate/c...</td>\n",
       "      <td>1</td>\n",
       "      <td>executive</td>\n",
       "      <td>Mr. Pozycki 59 is the chief executive of SJP P...</td>\n",
       "    </tr>\n",
       "    <tr>\n",
       "      <th>6</th>\n",
       "      <td>4fd20db88eb7c8105d77e4c8</td>\n",
       "      <td>1999-01-07</td>\n",
       "      <td>Paid Death Notices</td>\n",
       "      <td>http://www.nytimes.com/1999/01/07/classified/p...</td>\n",
       "      <td>1</td>\n",
       "      <td>startup</td>\n",
       "      <td>A pioneering entrepreneur he was successful in...</td>\n",
       "    </tr>\n",
       "    <tr>\n",
       "      <th>7</th>\n",
       "      <td>4fd20db88eb7c8105d77e4c8</td>\n",
       "      <td>1999-01-07</td>\n",
       "      <td>Paid Death Notices</td>\n",
       "      <td>http://www.nytimes.com/1999/01/07/classified/p...</td>\n",
       "      <td>1</td>\n",
       "      <td>entrepreneur</td>\n",
       "      <td>A pioneering entrepreneur he was successful in...</td>\n",
       "    </tr>\n",
       "    <tr>\n",
       "      <th>8</th>\n",
       "      <td>4fd209fd8eb7c8105d776551</td>\n",
       "      <td>1999-01-10</td>\n",
       "      <td>New York and Region</td>\n",
       "      <td>http://www.nytimes.com/1999/01/10/nyregion/roa...</td>\n",
       "      <td>1</td>\n",
       "      <td>startup</td>\n",
       "      <td>There are also startup costs which Governor Wh...</td>\n",
       "    </tr>\n",
       "    <tr>\n",
       "      <th>9</th>\n",
       "      <td>4fd209fd8eb7c8105d776551</td>\n",
       "      <td>1999-01-10</td>\n",
       "      <td>New York and Region</td>\n",
       "      <td>http://www.nytimes.com/1999/01/10/nyregion/roa...</td>\n",
       "      <td>1</td>\n",
       "      <td>executive</td>\n",
       "      <td>There are two chief and two executive director...</td>\n",
       "    </tr>\n",
       "    <tr>\n",
       "      <th>10</th>\n",
       "      <td>4fd209fd8eb7c8105d776551</td>\n",
       "      <td>1999-01-10</td>\n",
       "      <td>New York and Region</td>\n",
       "      <td>http://www.nytimes.com/1999/01/10/nyregion/roa...</td>\n",
       "      <td>1</td>\n",
       "      <td>executive</td>\n",
       "      <td>When the newly formed North Hudson Regional Fi...</td>\n",
       "    </tr>\n",
       "    <tr>\n",
       "      <th>11</th>\n",
       "      <td>4fd209fd8eb7c8105d776551</td>\n",
       "      <td>1999-01-10</td>\n",
       "      <td>New York and Region</td>\n",
       "      <td>http://www.nytimes.com/1999/01/10/nyregion/roa...</td>\n",
       "      <td>1</td>\n",
       "      <td>executive</td>\n",
       "      <td>Guttenberg -- swore in its leaders last Monday...</td>\n",
       "    </tr>\n",
       "  </tbody>\n",
       "</table>"
      ],
      "text/plain": [
       "                  article_id   pub_date         section_name  \\\n",
       "0   4fd20d7d8eb7c8105d77daf9 1999-01-16               Sports   \n",
       "1   4fd20db88eb7c8105d77e511 1999-01-03          Arts; Books   \n",
       "3   5482d92a38f0d8403d9cd045 2008-07-08              Science   \n",
       "4   5456ab1438f0d86ef22a094e 2009-10-04          Real Estate   \n",
       "5   5456ab1438f0d86ef22a094e 2009-10-04          Real Estate   \n",
       "6   4fd20db88eb7c8105d77e4c8 1999-01-07   Paid Death Notices   \n",
       "7   4fd20db88eb7c8105d77e4c8 1999-01-07   Paid Death Notices   \n",
       "8   4fd209fd8eb7c8105d776551 1999-01-10  New York and Region   \n",
       "9   4fd209fd8eb7c8105d776551 1999-01-10  New York and Region   \n",
       "10  4fd209fd8eb7c8105d776551 1999-01-10  New York and Region   \n",
       "11  4fd209fd8eb7c8105d776551 1999-01-10  New York and Region   \n",
       "\n",
       "                                              web_url  term_category  \\\n",
       "0   http://www.nytimes.com/1999/01/16/sports/plus-...              1   \n",
       "1   http://www.nytimes.com/1999/01/03/books/heartb...              1   \n",
       "3   http://www.nytimes.com/2008/07/08/science/08an...              2   \n",
       "4   http://www.nytimes.com/2009/10/04/realestate/c...              1   \n",
       "5   http://www.nytimes.com/2009/10/04/realestate/c...              1   \n",
       "6   http://www.nytimes.com/1999/01/07/classified/p...              1   \n",
       "7   http://www.nytimes.com/1999/01/07/classified/p...              1   \n",
       "8   http://www.nytimes.com/1999/01/10/nyregion/roa...              1   \n",
       "9   http://www.nytimes.com/1999/01/10/nyregion/roa...              1   \n",
       "10  http://www.nytimes.com/1999/01/10/nyregion/roa...              1   \n",
       "11  http://www.nytimes.com/1999/01/10/nyregion/roa...              1   \n",
       "\n",
       "            term                                           sentence  \n",
       "0    new venture  Keeneland's new venture came as a surprise to ...  \n",
       "1        manager  The plan Presley and his hucksterish business ...  \n",
       "3         Twitch  In the male toadfish the swimbladder has been ...  \n",
       "4      executive  Mr. Pozycki is the chief executive of SJP Prop...  \n",
       "5      executive  Mr. Pozycki 59 is the chief executive of SJP P...  \n",
       "6        startup  A pioneering entrepreneur he was successful in...  \n",
       "7   entrepreneur  A pioneering entrepreneur he was successful in...  \n",
       "8        startup  There are also startup costs which Governor Wh...  \n",
       "9      executive  There are two chief and two executive director...  \n",
       "10     executive  When the newly formed North Hudson Regional Fi...  \n",
       "..."
      ]
     },
     "execution_count": 35,
     "metadata": {},
     "output_type": "execute_result"
    }
   ],
   "source": [
    "data"
   ]
  },
  {
   "cell_type": "code",
   "execution_count": 36,
   "metadata": {
    "collapsed": false
   },
   "outputs": [
    {
     "data": {
      "text/html": [
       "354705"
      ],
      "text/plain": [
       "354705"
      ]
     },
     "execution_count": 36,
     "metadata": {},
     "output_type": "execute_result"
    }
   ],
   "source": [
    "data.count()"
   ]
  },
  {
   "cell_type": "code",
   "execution_count": 29,
   "metadata": {
    "collapsed": false
   },
   "outputs": [
    {
     "data": {
      "text/html": [
       "<table border=\"1\" class=\"dataframe\">\n",
       "  <thead>\n",
       "    <tr style=\"text-align: right;\">\n",
       "      <th></th>\n",
       "      <th>term</th>\n",
       "      <th>count</th>\n",
       "    </tr>\n",
       "  </thead>\n",
       "  <tbody>\n",
       "    <tr>\n",
       "      <th>106</th>\n",
       "      <td>executive</td>\n",
       "      <td>81788</td>\n",
       "    </tr>\n",
       "    <tr>\n",
       "      <th>129</th>\n",
       "      <td>manager</td>\n",
       "      <td>51197</td>\n",
       "    </tr>\n",
       "    <tr>\n",
       "      <th>112</th>\n",
       "      <td>founder</td>\n",
       "      <td>41676</td>\n",
       "    </tr>\n",
       "    <tr>\n",
       "      <th>111</th>\n",
       "      <td>ford</td>\n",
       "      <td>19257</td>\n",
       "    </tr>\n",
       "    <tr>\n",
       "      <th>24</th>\n",
       "      <td>Google</td>\n",
       "      <td>18508</td>\n",
       "    </tr>\n",
       "    <tr>\n",
       "      <th>82</th>\n",
       "      <td>apple</td>\n",
       "      <td>12465</td>\n",
       "    </tr>\n",
       "    <tr>\n",
       "      <th>81</th>\n",
       "      <td>amazon.com</td>\n",
       "      <td>11780</td>\n",
       "    </tr>\n",
       "    <tr>\n",
       "      <th>84</th>\n",
       "      <td>at&amp;t</td>\n",
       "      <td>9454</td>\n",
       "    </tr>\n",
       "    <tr>\n",
       "      <th>105</th>\n",
       "      <td>entrepreneur</td>\n",
       "      <td>8484</td>\n",
       "    </tr>\n",
       "    <tr>\n",
       "      <th>169</th>\n",
       "      <td>visa</td>\n",
       "      <td>8398</td>\n",
       "    </tr>\n",
       "    <tr>\n",
       "      <th>137</th>\n",
       "      <td>microsoft</td>\n",
       "      <td>7899</td>\n",
       "    </tr>\n",
       "  </tbody>\n",
       "</table>"
      ],
      "text/plain": [
       "             term  count\n",
       "106     executive  81788\n",
       "129       manager  51197\n",
       "112       founder  41676\n",
       "111          ford  19257\n",
       "24         Google  18508\n",
       "82          apple  12465\n",
       "81     amazon.com  11780\n",
       "84           at&t   9454\n",
       "105  entrepreneur   8484\n",
       "169          visa   8398\n",
       "..."
      ]
     },
     "execution_count": 29,
     "metadata": {},
     "output_type": "execute_result"
    }
   ],
   "source": [
    "data.term.count_values()"
   ]
  },
  {
   "cell_type": "code",
   "execution_count": 60,
   "metadata": {
    "collapsed": false
   },
   "outputs": [
    {
     "data": {
      "text/html": [
       "<table border=\"1\" class=\"dataframe\">\n",
       "  <thead>\n",
       "    <tr style=\"text-align: right;\">\n",
       "      <th></th>\n",
       "      <th>sentence</th>\n",
       "      <th>unique</th>\n",
       "    </tr>\n",
       "  </thead>\n",
       "  <tbody>\n",
       "    <tr>\n",
       "      <th>0</th>\n",
       "      <td>\\t  International Paper posted a better-than-e...</td>\n",
       "      <td>True</td>\n",
       "    </tr>\n",
       "    <tr>\n",
       "      <th>1</th>\n",
       "      <td>\"Poor Aim\" (Sophie Morner) With Liza Minnell...</td>\n",
       "      <td>True</td>\n",
       "    </tr>\n",
       "    <tr>\n",
       "      <th>2</th>\n",
       "      <td>ALL IS FAIR IN LOVE AND TWITTER If there’s o...</td>\n",
       "      <td>True</td>\n",
       "    </tr>\n",
       "    <tr>\n",
       "      <th>3</th>\n",
       "      <td>Hedge-crickets sing; and now with treble sof...</td>\n",
       "      <td>True</td>\n",
       "    </tr>\n",
       "    <tr>\n",
       "      <th>4</th>\n",
       "      <td>Q. I sometimes need to type foot and inch ma...</td>\n",
       "      <td>True</td>\n",
       "    </tr>\n",
       "    <tr>\n",
       "      <th>5</th>\n",
       "      <td>YOU want a trip to Kellogg — the birthplace ...</td>\n",
       "      <td>True</td>\n",
       "    </tr>\n",
       "    <tr>\n",
       "      <th>6</th>\n",
       "      <td>\"Angel investors typically earn 5 to 10 times...</td>\n",
       "      <td>True</td>\n",
       "    </tr>\n",
       "    <tr>\n",
       "      <th>7</th>\n",
       "      <td>\"Celebration Day\" depicts the tribute concert...</td>\n",
       "      <td>True</td>\n",
       "    </tr>\n",
       "    <tr>\n",
       "      <th>8</th>\n",
       "      <td>\"It looks like Congressman Knollenberg is run...</td>\n",
       "      <td>True</td>\n",
       "    </tr>\n",
       "    <tr>\n",
       "      <th>9</th>\n",
       "      <td>\"It's a poor man's dinner eaten with eggs or ...</td>\n",
       "      <td>True</td>\n",
       "    </tr>\n",
       "    <tr>\n",
       "      <th>10</th>\n",
       "      <td>\"The brothers looked all over the world for a...</td>\n",
       "      <td>True</td>\n",
       "    </tr>\n",
       "  </tbody>\n",
       "</table>"
      ],
      "text/plain": [
       "                                             sentence unique\n",
       "0   \\t  International Paper posted a better-than-e...   True\n",
       "1     \"Poor Aim\" (Sophie Morner) With Liza Minnell...   True\n",
       "2     ALL IS FAIR IN LOVE AND TWITTER If there’s o...   True\n",
       "3     Hedge-crickets sing; and now with treble sof...   True\n",
       "4     Q. I sometimes need to type foot and inch ma...   True\n",
       "5     YOU want a trip to Kellogg — the birthplace ...   True\n",
       "6    \"Angel investors typically earn 5 to 10 times...   True\n",
       "7    \"Celebration Day\" depicts the tribute concert...   True\n",
       "8    \"It looks like Congressman Knollenberg is run...   True\n",
       "9    \"It's a poor man's dinner eaten with eggs or ...   True\n",
       "..."
      ]
     },
     "execution_count": 60,
     "metadata": {},
     "output_type": "execute_result"
    }
   ],
   "source": [
    "by(data.sentence, unique=data.term.nunique() == 1)"
   ]
  },
  {
   "cell_type": "code",
   "execution_count": 41,
   "metadata": {
    "collapsed": false
   },
   "outputs": [
    {
     "data": {
      "text/plain": [
       "<odo.backends.csv.CSV at 0x7fd41202ff98>"
      ]
     },
     "execution_count": 41,
     "metadata": {},
     "output_type": "execute_result"
    }
   ],
   "source": [
    "odo(data, 'curated_data.csv')"
   ]
  },
  {
   "cell_type": "code",
   "execution_count": 76,
   "metadata": {
    "collapsed": true
   },
   "outputs": [],
   "source": [
    "curated_data = Data('curated_data.csv', delimiter=',')"
   ]
  },
  {
   "cell_type": "code",
   "execution_count": 77,
   "metadata": {
    "collapsed": false
   },
   "outputs": [
    {
     "data": {
      "text/html": [
       "<table border=\"1\" class=\"dataframe\">\n",
       "  <thead>\n",
       "    <tr style=\"text-align: right;\">\n",
       "      <th></th>\n",
       "      <th>article_id</th>\n",
       "      <th>pub_date</th>\n",
       "      <th>section_name</th>\n",
       "      <th>web_url</th>\n",
       "      <th>term_category</th>\n",
       "      <th>term</th>\n",
       "      <th>sentence</th>\n",
       "    </tr>\n",
       "  </thead>\n",
       "  <tbody>\n",
       "    <tr>\n",
       "      <th>0</th>\n",
       "      <td>4fd20d7d8eb7c8105d77daf9</td>\n",
       "      <td>1999-01-16</td>\n",
       "      <td>Sports</td>\n",
       "      <td>http://www.nytimes.com/1999/01/16/sports/plus-...</td>\n",
       "      <td>1</td>\n",
       "      <td>new venture</td>\n",
       "      <td>Keeneland's new venture came as a surprise to ...</td>\n",
       "    </tr>\n",
       "    <tr>\n",
       "      <th>1</th>\n",
       "      <td>4fd20db88eb7c8105d77e511</td>\n",
       "      <td>1999-01-03</td>\n",
       "      <td>Arts; Books</td>\n",
       "      <td>http://www.nytimes.com/1999/01/03/books/heartb...</td>\n",
       "      <td>1</td>\n",
       "      <td>manager</td>\n",
       "      <td>The plan Presley and his hucksterish business ...</td>\n",
       "    </tr>\n",
       "    <tr>\n",
       "      <th>2</th>\n",
       "      <td>5482d92a38f0d8403d9cd045</td>\n",
       "      <td>2008-07-08</td>\n",
       "      <td>Science</td>\n",
       "      <td>http://www.nytimes.com/2008/07/08/science/08an...</td>\n",
       "      <td>2</td>\n",
       "      <td>Twitch</td>\n",
       "      <td>In the male toadfish the swimbladder has been ...</td>\n",
       "    </tr>\n",
       "    <tr>\n",
       "      <th>3</th>\n",
       "      <td>5456ab1438f0d86ef22a094e</td>\n",
       "      <td>2009-10-04</td>\n",
       "      <td>Real Estate</td>\n",
       "      <td>http://www.nytimes.com/2009/10/04/realestate/c...</td>\n",
       "      <td>1</td>\n",
       "      <td>executive</td>\n",
       "      <td>Mr. Pozycki is the chief executive of SJP Prop...</td>\n",
       "    </tr>\n",
       "    <tr>\n",
       "      <th>4</th>\n",
       "      <td>5456ab1438f0d86ef22a094e</td>\n",
       "      <td>2009-10-04</td>\n",
       "      <td>Real Estate</td>\n",
       "      <td>http://www.nytimes.com/2009/10/04/realestate/c...</td>\n",
       "      <td>1</td>\n",
       "      <td>executive</td>\n",
       "      <td>Mr. Pozycki 59 is the chief executive of SJP P...</td>\n",
       "    </tr>\n",
       "    <tr>\n",
       "      <th>5</th>\n",
       "      <td>4fd20db88eb7c8105d77e4c8</td>\n",
       "      <td>1999-01-07</td>\n",
       "      <td>Paid Death Notices</td>\n",
       "      <td>http://www.nytimes.com/1999/01/07/classified/p...</td>\n",
       "      <td>1</td>\n",
       "      <td>startup</td>\n",
       "      <td>A pioneering entrepreneur he was successful in...</td>\n",
       "    </tr>\n",
       "    <tr>\n",
       "      <th>6</th>\n",
       "      <td>4fd20db88eb7c8105d77e4c8</td>\n",
       "      <td>1999-01-07</td>\n",
       "      <td>Paid Death Notices</td>\n",
       "      <td>http://www.nytimes.com/1999/01/07/classified/p...</td>\n",
       "      <td>1</td>\n",
       "      <td>entrepreneur</td>\n",
       "      <td>A pioneering entrepreneur he was successful in...</td>\n",
       "    </tr>\n",
       "    <tr>\n",
       "      <th>7</th>\n",
       "      <td>4fd209fd8eb7c8105d776551</td>\n",
       "      <td>1999-01-10</td>\n",
       "      <td>New York and Region</td>\n",
       "      <td>http://www.nytimes.com/1999/01/10/nyregion/roa...</td>\n",
       "      <td>1</td>\n",
       "      <td>startup</td>\n",
       "      <td>There are also startup costs which Governor Wh...</td>\n",
       "    </tr>\n",
       "    <tr>\n",
       "      <th>8</th>\n",
       "      <td>4fd209fd8eb7c8105d776551</td>\n",
       "      <td>1999-01-10</td>\n",
       "      <td>New York and Region</td>\n",
       "      <td>http://www.nytimes.com/1999/01/10/nyregion/roa...</td>\n",
       "      <td>1</td>\n",
       "      <td>executive</td>\n",
       "      <td>There are two chief and two executive director...</td>\n",
       "    </tr>\n",
       "    <tr>\n",
       "      <th>9</th>\n",
       "      <td>4fd209fd8eb7c8105d776551</td>\n",
       "      <td>1999-01-10</td>\n",
       "      <td>New York and Region</td>\n",
       "      <td>http://www.nytimes.com/1999/01/10/nyregion/roa...</td>\n",
       "      <td>1</td>\n",
       "      <td>executive</td>\n",
       "      <td>When the newly formed North Hudson Regional Fi...</td>\n",
       "    </tr>\n",
       "    <tr>\n",
       "      <th>10</th>\n",
       "      <td>4fd209fd8eb7c8105d776551</td>\n",
       "      <td>1999-01-10</td>\n",
       "      <td>New York and Region</td>\n",
       "      <td>http://www.nytimes.com/1999/01/10/nyregion/roa...</td>\n",
       "      <td>1</td>\n",
       "      <td>executive</td>\n",
       "      <td>Guttenberg -- swore in its leaders last Monday...</td>\n",
       "    </tr>\n",
       "  </tbody>\n",
       "</table>"
      ],
      "text/plain": [
       "                  article_id   pub_date         section_name  \\\n",
       "0   4fd20d7d8eb7c8105d77daf9 1999-01-16               Sports   \n",
       "1   4fd20db88eb7c8105d77e511 1999-01-03          Arts; Books   \n",
       "2   5482d92a38f0d8403d9cd045 2008-07-08              Science   \n",
       "3   5456ab1438f0d86ef22a094e 2009-10-04          Real Estate   \n",
       "4   5456ab1438f0d86ef22a094e 2009-10-04          Real Estate   \n",
       "5   4fd20db88eb7c8105d77e4c8 1999-01-07   Paid Death Notices   \n",
       "6   4fd20db88eb7c8105d77e4c8 1999-01-07   Paid Death Notices   \n",
       "7   4fd209fd8eb7c8105d776551 1999-01-10  New York and Region   \n",
       "8   4fd209fd8eb7c8105d776551 1999-01-10  New York and Region   \n",
       "9   4fd209fd8eb7c8105d776551 1999-01-10  New York and Region   \n",
       "10  4fd209fd8eb7c8105d776551 1999-01-10  New York and Region   \n",
       "\n",
       "                                              web_url  term_category  \\\n",
       "0   http://www.nytimes.com/1999/01/16/sports/plus-...              1   \n",
       "1   http://www.nytimes.com/1999/01/03/books/heartb...              1   \n",
       "2   http://www.nytimes.com/2008/07/08/science/08an...              2   \n",
       "3   http://www.nytimes.com/2009/10/04/realestate/c...              1   \n",
       "4   http://www.nytimes.com/2009/10/04/realestate/c...              1   \n",
       "5   http://www.nytimes.com/1999/01/07/classified/p...              1   \n",
       "6   http://www.nytimes.com/1999/01/07/classified/p...              1   \n",
       "7   http://www.nytimes.com/1999/01/10/nyregion/roa...              1   \n",
       "8   http://www.nytimes.com/1999/01/10/nyregion/roa...              1   \n",
       "9   http://www.nytimes.com/1999/01/10/nyregion/roa...              1   \n",
       "10  http://www.nytimes.com/1999/01/10/nyregion/roa...              1   \n",
       "\n",
       "            term                                           sentence  \n",
       "0    new venture  Keeneland's new venture came as a surprise to ...  \n",
       "1        manager  The plan Presley and his hucksterish business ...  \n",
       "2         Twitch  In the male toadfish the swimbladder has been ...  \n",
       "3      executive  Mr. Pozycki is the chief executive of SJP Prop...  \n",
       "4      executive  Mr. Pozycki 59 is the chief executive of SJP P...  \n",
       "5        startup  A pioneering entrepreneur he was successful in...  \n",
       "6   entrepreneur  A pioneering entrepreneur he was successful in...  \n",
       "7        startup  There are also startup costs which Governor Wh...  \n",
       "8      executive  There are two chief and two executive director...  \n",
       "9      executive  When the newly formed North Hudson Regional Fi...  \n",
       "..."
      ]
     },
     "execution_count": 77,
     "metadata": {},
     "output_type": "execute_result"
    }
   ],
   "source": [
    "curated_data"
   ]
  },
  {
   "cell_type": "code",
   "execution_count": 46,
   "metadata": {
    "collapsed": false
   },
   "outputs": [],
   "source": [
    "with open('sentiment/be.pickle', 'rb') as be_file:\n",
    "    be = pickle.load(be_file)"
   ]
  },
  {
   "cell_type": "code",
   "execution_count": 52,
   "metadata": {
    "collapsed": false
   },
   "outputs": [
    {
     "data": {
      "text/plain": [
       "array(['pos', 'neg', 'pos'], dtype=object)"
      ]
     },
     "execution_count": 52,
     "metadata": {},
     "output_type": "execute_result"
    }
   ],
   "source": [
    "be.predict(['My puppy is cute.', 'People die in war.', 'I love my family.'])"
   ]
  },
  {
   "cell_type": "code",
   "execution_count": null,
   "metadata": {
    "collapsed": true
   },
   "outputs": [],
   "source": []
  },
  {
   "cell_type": "code",
   "execution_count": null,
   "metadata": {
    "collapsed": true
   },
   "outputs": [],
   "source": []
  },
  {
   "cell_type": "code",
   "execution_count": null,
   "metadata": {
    "collapsed": true
   },
   "outputs": [],
   "source": []
  },
  {
   "cell_type": "code",
   "execution_count": 72,
   "metadata": {
    "collapsed": false
   },
   "outputs": [],
   "source": [
    "sents_df = odo(data.sentence.map(lambda x: be.predict([x])[0], '?string'), DataFrame)"
   ]
  },
  {
   "cell_type": "code",
   "execution_count": 83,
   "metadata": {
    "collapsed": false
   },
   "outputs": [],
   "source": [
    "data_df = odo(data, DataFrame)"
   ]
  },
  {
   "cell_type": "code",
   "execution_count": 73,
   "metadata": {
    "collapsed": true
   },
   "outputs": [],
   "source": [
    "# sents_df.to_csv('26_sentiments.csv')"
   ]
  },
  {
   "cell_type": "code",
   "execution_count": 84,
   "metadata": {
    "collapsed": false
   },
   "outputs": [
    {
     "data": {
      "text/plain": [
       "sentence    354705\n",
       "dtype: int64"
      ]
     },
     "execution_count": 84,
     "metadata": {},
     "output_type": "execute_result"
    }
   ],
   "source": [
    "sents_df.count()"
   ]
  },
  {
   "cell_type": "code",
   "execution_count": 85,
   "metadata": {
    "collapsed": false
   },
   "outputs": [
    {
     "data": {
      "text/plain": [
       "article_id       354705\n",
       "pub_date         354705\n",
       "section_name     350989\n",
       "web_url          354705\n",
       "term_category    354705\n",
       "term             354705\n",
       "sentence         354705\n",
       "dtype: int64"
      ]
     },
     "execution_count": 85,
     "metadata": {},
     "output_type": "execute_result"
    }
   ],
   "source": [
    "data_df.count()"
   ]
  },
  {
   "cell_type": "code",
   "execution_count": 86,
   "metadata": {
    "collapsed": false
   },
   "outputs": [],
   "source": [
    "data_df['sentiment'] = sents_df"
   ]
  },
  {
   "cell_type": "code",
   "execution_count": 88,
   "metadata": {
    "collapsed": false
   },
   "outputs": [
    {
     "data": {
      "text/html": [
       "<div style=\"max-height:1000px;max-width:1500px;overflow:auto;\">\n",
       "<table border=\"1\" class=\"dataframe\">\n",
       "  <thead>\n",
       "    <tr style=\"text-align: right;\">\n",
       "      <th></th>\n",
       "      <th>article_id</th>\n",
       "      <th>pub_date</th>\n",
       "      <th>section_name</th>\n",
       "      <th>web_url</th>\n",
       "      <th>term_category</th>\n",
       "      <th>term</th>\n",
       "      <th>sentence</th>\n",
       "      <th>sentiment</th>\n",
       "    </tr>\n",
       "  </thead>\n",
       "  <tbody>\n",
       "    <tr>\n",
       "      <th>0</th>\n",
       "      <td>4fd20d7d8eb7c8105d77daf9</td>\n",
       "      <td>1999-01-16</td>\n",
       "      <td>Sports</td>\n",
       "      <td>http://www.nytimes.com/1999/01/16/sports/plus-...</td>\n",
       "      <td>1</td>\n",
       "      <td>new venture</td>\n",
       "      <td>Keeneland's new venture came as a surprise to ...</td>\n",
       "      <td>pos</td>\n",
       "    </tr>\n",
       "    <tr>\n",
       "      <th>1</th>\n",
       "      <td>4fd20db88eb7c8105d77e511</td>\n",
       "      <td>1999-01-03</td>\n",
       "      <td>Arts; Books</td>\n",
       "      <td>http://www.nytimes.com/1999/01/03/books/heartb...</td>\n",
       "      <td>1</td>\n",
       "      <td>manager</td>\n",
       "      <td>The plan Presley and his hucksterish business ...</td>\n",
       "      <td>pos</td>\n",
       "    </tr>\n",
       "    <tr>\n",
       "      <th>3</th>\n",
       "      <td>5482d92a38f0d8403d9cd045</td>\n",
       "      <td>2008-07-08</td>\n",
       "      <td>Science</td>\n",
       "      <td>http://www.nytimes.com/2008/07/08/science/08an...</td>\n",
       "      <td>2</td>\n",
       "      <td>Twitch</td>\n",
       "      <td>In the male toadfish the swimbladder has been ...</td>\n",
       "      <td>pos</td>\n",
       "    </tr>\n",
       "    <tr>\n",
       "      <th>4</th>\n",
       "      <td>5456ab1438f0d86ef22a094e</td>\n",
       "      <td>2009-10-04</td>\n",
       "      <td>Real Estate</td>\n",
       "      <td>http://www.nytimes.com/2009/10/04/realestate/c...</td>\n",
       "      <td>1</td>\n",
       "      <td>executive</td>\n",
       "      <td>Mr. Pozycki is the chief executive of SJP Prop...</td>\n",
       "      <td>pos</td>\n",
       "    </tr>\n",
       "    <tr>\n",
       "      <th>5</th>\n",
       "      <td>5456ab1438f0d86ef22a094e</td>\n",
       "      <td>2009-10-04</td>\n",
       "      <td>Real Estate</td>\n",
       "      <td>http://www.nytimes.com/2009/10/04/realestate/c...</td>\n",
       "      <td>1</td>\n",
       "      <td>executive</td>\n",
       "      <td>Mr. Pozycki 59 is the chief executive of SJP P...</td>\n",
       "      <td>pos</td>\n",
       "    </tr>\n",
       "  </tbody>\n",
       "</table>\n",
       "</div>"
      ],
      "text/plain": [
       "                 article_id   pub_date section_name  \\\n",
       "0  4fd20d7d8eb7c8105d77daf9 1999-01-16       Sports   \n",
       "1  4fd20db88eb7c8105d77e511 1999-01-03  Arts; Books   \n",
       "3  5482d92a38f0d8403d9cd045 2008-07-08      Science   \n",
       "4  5456ab1438f0d86ef22a094e 2009-10-04  Real Estate   \n",
       "5  5456ab1438f0d86ef22a094e 2009-10-04  Real Estate   \n",
       "\n",
       "                                             web_url  term_category  \\\n",
       "0  http://www.nytimes.com/1999/01/16/sports/plus-...              1   \n",
       "1  http://www.nytimes.com/1999/01/03/books/heartb...              1   \n",
       "3  http://www.nytimes.com/2008/07/08/science/08an...              2   \n",
       "4  http://www.nytimes.com/2009/10/04/realestate/c...              1   \n",
       "5  http://www.nytimes.com/2009/10/04/realestate/c...              1   \n",
       "\n",
       "          term                                           sentence sentiment  \n",
       "0  new venture  Keeneland's new venture came as a surprise to ...       pos  \n",
       "1      manager  The plan Presley and his hucksterish business ...       pos  \n",
       "3       Twitch  In the male toadfish the swimbladder has been ...       pos  \n",
       "4    executive  Mr. Pozycki is the chief executive of SJP Prop...       pos  \n",
       "5    executive  Mr. Pozycki 59 is the chief executive of SJP P...       pos  "
      ]
     },
     "execution_count": 88,
     "metadata": {},
     "output_type": "execute_result"
    }
   ],
   "source": [
    "data_df.head()"
   ]
  },
  {
   "cell_type": "code",
   "execution_count": null,
   "metadata": {
    "collapsed": true
   },
   "outputs": [],
   "source": []
  },
  {
   "cell_type": "code",
   "execution_count": null,
   "metadata": {
    "collapsed": true
   },
   "outputs": [],
   "source": []
  },
  {
   "cell_type": "code",
   "execution_count": 105,
   "metadata": {
    "collapsed": false
   },
   "outputs": [],
   "source": [
    "# resamp = data_df.set_index('pub_date').groupby('term_category').resample('M', how='sum')"
   ]
  },
  {
   "cell_type": "code",
   "execution_count": 122,
   "metadata": {
    "collapsed": false
   },
   "outputs": [],
   "source": [
    "# resamp"
   ]
  },
  {
   "cell_type": "code",
   "execution_count": null,
   "metadata": {
    "collapsed": true
   },
   "outputs": [],
   "source": []
  },
  {
   "cell_type": "code",
   "execution_count": null,
   "metadata": {
    "collapsed": true
   },
   "outputs": [],
   "source": []
  },
  {
   "cell_type": "code",
   "execution_count": 139,
   "metadata": {
    "collapsed": false
   },
   "outputs": [],
   "source": [
    "from datetime import datetime\n",
    "\n",
    "def diff_month(d1, d2):\n",
    "    return (d2.year - d1.year) * 12 + d2.month - d1.month\n",
    "\n",
    "assert diff_month(datetime(2010,9,1), datetime(2010,10,1)) == 1\n",
    "assert diff_month(datetime(2009,10,1), datetime(2010,10,1)) == 12\n",
    "assert diff_month(datetime(2009,11,1), datetime(2010,10,1)) == 11\n",
    "assert diff_month(datetime(2009,8,1), datetime(2010,10,1)) == 14"
   ]
  },
  {
   "cell_type": "code",
   "execution_count": 140,
   "metadata": {
    "collapsed": false
   },
   "outputs": [
    {
     "data": {
      "text/plain": [
       "1"
      ]
     },
     "execution_count": 140,
     "metadata": {},
     "output_type": "execute_result"
    }
   ],
   "source": [
    "diff_month(datetime(2010,10,1), datetime(2010,11,30))"
   ]
  },
  {
   "cell_type": "code",
   "execution_count": 121,
   "metadata": {
    "collapsed": false
   },
   "outputs": [
    {
     "data": {
      "text/plain": [
       "datetime.datetime(2010, 10, 1, 0, 0)"
      ]
     },
     "execution_count": 121,
     "metadata": {},
     "output_type": "execute_result"
    }
   ],
   "source": [
    "datetime.strptime('2010-10-1', '%Y-%m-%d')"
   ]
  },
  {
   "cell_type": "code",
   "execution_count": null,
   "metadata": {
    "collapsed": true
   },
   "outputs": [],
   "source": []
  },
  {
   "cell_type": "code",
   "execution_count": 137,
   "metadata": {
    "collapsed": false
   },
   "outputs": [],
   "source": [
    "data_df['n_month'] = data_df['pub_date'].apply(lambda x: diff_month(datetime(1999, 1, 1), x.date()))"
   ]
  },
  {
   "cell_type": "code",
   "execution_count": 138,
   "metadata": {
    "collapsed": false
   },
   "outputs": [
    {
     "data": {
      "text/html": [
       "<div style=\"max-height:1000px;max-width:1500px;overflow:auto;\">\n",
       "<table border=\"1\" class=\"dataframe\">\n",
       "  <thead>\n",
       "    <tr style=\"text-align: right;\">\n",
       "      <th></th>\n",
       "      <th>article_id</th>\n",
       "      <th>pub_date</th>\n",
       "      <th>section_name</th>\n",
       "      <th>web_url</th>\n",
       "      <th>term_category</th>\n",
       "      <th>term</th>\n",
       "      <th>sentence</th>\n",
       "      <th>sentiment</th>\n",
       "      <th>n_month</th>\n",
       "    </tr>\n",
       "  </thead>\n",
       "  <tbody>\n",
       "    <tr>\n",
       "      <th>0</th>\n",
       "      <td>4fd20d7d8eb7c8105d77daf9</td>\n",
       "      <td>1999-01-16</td>\n",
       "      <td>Sports</td>\n",
       "      <td>http://www.nytimes.com/1999/01/16/sports/plus-...</td>\n",
       "      <td>1</td>\n",
       "      <td>new venture</td>\n",
       "      <td>Keeneland's new venture came as a surprise to ...</td>\n",
       "      <td>pos</td>\n",
       "      <td>0</td>\n",
       "    </tr>\n",
       "    <tr>\n",
       "      <th>1</th>\n",
       "      <td>4fd20db88eb7c8105d77e511</td>\n",
       "      <td>1999-01-03</td>\n",
       "      <td>Arts; Books</td>\n",
       "      <td>http://www.nytimes.com/1999/01/03/books/heartb...</td>\n",
       "      <td>1</td>\n",
       "      <td>manager</td>\n",
       "      <td>The plan Presley and his hucksterish business ...</td>\n",
       "      <td>pos</td>\n",
       "      <td>0</td>\n",
       "    </tr>\n",
       "    <tr>\n",
       "      <th>3</th>\n",
       "      <td>5482d92a38f0d8403d9cd045</td>\n",
       "      <td>2008-07-08</td>\n",
       "      <td>Science</td>\n",
       "      <td>http://www.nytimes.com/2008/07/08/science/08an...</td>\n",
       "      <td>2</td>\n",
       "      <td>Twitch</td>\n",
       "      <td>In the male toadfish the swimbladder has been ...</td>\n",
       "      <td>pos</td>\n",
       "      <td>114</td>\n",
       "    </tr>\n",
       "    <tr>\n",
       "      <th>4</th>\n",
       "      <td>5456ab1438f0d86ef22a094e</td>\n",
       "      <td>2009-10-04</td>\n",
       "      <td>Real Estate</td>\n",
       "      <td>http://www.nytimes.com/2009/10/04/realestate/c...</td>\n",
       "      <td>1</td>\n",
       "      <td>executive</td>\n",
       "      <td>Mr. Pozycki is the chief executive of SJP Prop...</td>\n",
       "      <td>pos</td>\n",
       "      <td>129</td>\n",
       "    </tr>\n",
       "    <tr>\n",
       "      <th>5</th>\n",
       "      <td>5456ab1438f0d86ef22a094e</td>\n",
       "      <td>2009-10-04</td>\n",
       "      <td>Real Estate</td>\n",
       "      <td>http://www.nytimes.com/2009/10/04/realestate/c...</td>\n",
       "      <td>1</td>\n",
       "      <td>executive</td>\n",
       "      <td>Mr. Pozycki 59 is the chief executive of SJP P...</td>\n",
       "      <td>pos</td>\n",
       "      <td>129</td>\n",
       "    </tr>\n",
       "  </tbody>\n",
       "</table>\n",
       "</div>"
      ],
      "text/plain": [
       "                 article_id   pub_date section_name  \\\n",
       "0  4fd20d7d8eb7c8105d77daf9 1999-01-16       Sports   \n",
       "1  4fd20db88eb7c8105d77e511 1999-01-03  Arts; Books   \n",
       "3  5482d92a38f0d8403d9cd045 2008-07-08      Science   \n",
       "4  5456ab1438f0d86ef22a094e 2009-10-04  Real Estate   \n",
       "5  5456ab1438f0d86ef22a094e 2009-10-04  Real Estate   \n",
       "\n",
       "                                             web_url  term_category  \\\n",
       "0  http://www.nytimes.com/1999/01/16/sports/plus-...              1   \n",
       "1  http://www.nytimes.com/1999/01/03/books/heartb...              1   \n",
       "3  http://www.nytimes.com/2008/07/08/science/08an...              2   \n",
       "4  http://www.nytimes.com/2009/10/04/realestate/c...              1   \n",
       "5  http://www.nytimes.com/2009/10/04/realestate/c...              1   \n",
       "\n",
       "          term                                           sentence sentiment  \\\n",
       "0  new venture  Keeneland's new venture came as a surprise to ...       pos   \n",
       "1      manager  The plan Presley and his hucksterish business ...       pos   \n",
       "3       Twitch  In the male toadfish the swimbladder has been ...       pos   \n",
       "4    executive  Mr. Pozycki is the chief executive of SJP Prop...       pos   \n",
       "5    executive  Mr. Pozycki 59 is the chief executive of SJP P...       pos   \n",
       "\n",
       "   n_month  \n",
       "0        0  \n",
       "1        0  \n",
       "3      114  \n",
       "4      129  \n",
       "5      129  "
      ]
     },
     "execution_count": 138,
     "metadata": {},
     "output_type": "execute_result"
    }
   ],
   "source": [
    "data_df.head()"
   ]
  },
  {
   "cell_type": "code",
   "execution_count": null,
   "metadata": {
    "collapsed": true
   },
   "outputs": [],
   "source": []
  },
  {
   "cell_type": "code",
   "execution_count": 141,
   "metadata": {
    "collapsed": true
   },
   "outputs": [],
   "source": [
    "data2 = Data(data_df)"
   ]
  },
  {
   "cell_type": "code",
   "execution_count": 142,
   "metadata": {
    "collapsed": false
   },
   "outputs": [
    {
     "data": {
      "text/html": [
       "<table border=\"1\" class=\"dataframe\">\n",
       "  <thead>\n",
       "    <tr style=\"text-align: right;\">\n",
       "      <th></th>\n",
       "      <th>term_category</th>\n",
       "      <th>amount_neg</th>\n",
       "      <th>amount_pos</th>\n",
       "      <th>total_amount</th>\n",
       "    </tr>\n",
       "  </thead>\n",
       "  <tbody>\n",
       "    <tr>\n",
       "      <th>0</th>\n",
       "      <td>1</td>\n",
       "      <td>72041</td>\n",
       "      <td>113193</td>\n",
       "      <td>185234</td>\n",
       "    </tr>\n",
       "    <tr>\n",
       "      <th>1</th>\n",
       "      <td>2</td>\n",
       "      <td>48605</td>\n",
       "      <td>109181</td>\n",
       "      <td>157786</td>\n",
       "    </tr>\n",
       "    <tr>\n",
       "      <th>2</th>\n",
       "      <td>3</td>\n",
       "      <td>3063</td>\n",
       "      <td>8622</td>\n",
       "      <td>11685</td>\n",
       "    </tr>\n",
       "  </tbody>\n",
       "</table>"
      ],
      "text/plain": [
       "   term_category  amount_neg  amount_pos  total_amount\n",
       "0              1       72041      113193        185234\n",
       "1              2       48605      109181        157786\n",
       "2              3        3063        8622         11685"
      ]
     },
     "execution_count": 142,
     "metadata": {},
     "output_type": "execute_result"
    }
   ],
   "source": [
    "by(data2.term_category,\n",
    "   total_amount=data2.sentiment.count(),\n",
    "   amount_pos=data2[data2.sentiment == 'pos'].sentiment.count(),\n",
    "   amount_neg=data2[data2.sentiment == 'neg'].sentiment.count()\n",
    ")"
   ]
  },
  {
   "cell_type": "code",
   "execution_count": 195,
   "metadata": {
    "collapsed": true
   },
   "outputs": [],
   "source": [
    "%matplotlib inline"
   ]
  },
  {
   "cell_type": "code",
   "execution_count": 201,
   "metadata": {
    "collapsed": false
   },
   "outputs": [],
   "source": [
    "xx = by(merge(data2.term, data2.n_month),\n",
    "   total_amount=data2.sentiment.count(),\n",
    "   amount_pos=data2[data2.sentiment == 'pos'].sentiment.count(),\n",
    "   amount_neg=data2[data2.sentiment == 'neg'].sentiment.count()\n",
    ")"
   ]
  },
  {
   "cell_type": "code",
   "execution_count": 231,
   "metadata": {
    "collapsed": true
   },
   "outputs": [],
   "source": [
    "dd = odo(xx[xx.term == 'Google'], DataFrame)"
   ]
  },
  {
   "cell_type": "code",
   "execution_count": 232,
   "metadata": {
    "collapsed": false,
    "scrolled": true
   },
   "outputs": [],
   "source": [
    "dd.set_index('n_month', inplace=True)"
   ]
  },
  {
   "cell_type": "code",
   "execution_count": 233,
   "metadata": {
    "collapsed": false
   },
   "outputs": [],
   "source": [
    "dd.index = [datetime.strptime(\"1999-01-01\", \"%Y-%m-%d\") + relativedelta(months=i) for i in dd.index]"
   ]
  },
  {
   "cell_type": "code",
   "execution_count": 234,
   "metadata": {
    "collapsed": false
   },
   "outputs": [],
   "source": [
    "dd['amount_neg_rate'] = dd['amount_neg'] / dd['total_amount']\n",
    "dd['amount_pos_rate'] = dd['amount_pos'] / dd['total_amount']"
   ]
  },
  {
   "cell_type": "code",
   "execution_count": 239,
   "metadata": {
    "collapsed": false
   },
   "outputs": [
    {
     "data": {
      "text/plain": [
       "<matplotlib.axes._subplots.AxesSubplot at 0x7fd3eb25cd68>"
      ]
     },
     "execution_count": 239,
     "metadata": {},
     "output_type": "execute_result"
    },
    {
     "data": {
      "image/png": "[encoded data removed]",
      "text/plain": [
       "<matplotlib.figure.Figure at 0x7fd3eb2604e0>"
      ]
     },
     "metadata": {},
     "output_type": "display_data"
    }
   ],
   "source": [
    "dd[['total_amount']].plot(figsize=(14,8))"
   ]
  },
  {
   "cell_type": "code",
   "execution_count": 172,
   "metadata": {
    "collapsed": true
   },
   "outputs": [],
   "source": [
    "from dateutil.relativedelta import relativedelta"
   ]
  },
  {
   "cell_type": "code",
   "execution_count": 178,
   "metadata": {
    "collapsed": false
   },
   "outputs": [],
   "source": [
    "dd.index = ind"
   ]
  },
  {
   "cell_type": "code",
   "execution_count": null,
   "metadata": {
    "collapsed": true
   },
   "outputs": [],
   "source": []
  }
 ],
 "metadata": {
  "kernelspec": {
   "display_name": "Python 3",
   "language": "python",
   "name": "python3"
  },
  "language_info": {
   "codemirror_mode": {
    "name": "ipython",
    "version": 3
   },
   "file_extension": ".py",
   "mimetype": "text/x-python",
   "name": "python",
   "nbconvert_exporter": "python",
   "pygments_lexer": "ipython3",
   "version": "3.4.0"
  }
 },
 "nbformat": 4,
 "nbformat_minor": 0
}
