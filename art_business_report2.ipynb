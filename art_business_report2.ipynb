{
 "cells": [
  {
   "cell_type": "markdown",
   "metadata": {},
   "source": [
    "# Art and keywords"
   ]
  },
  {
   "cell_type": "markdown",
   "metadata": {},
   "source": [
    "## The New York Times vs. The Financial Times"
   ]
  },
  {
   "cell_type": "markdown",
   "metadata": {},
   "source": [
    "### 1. Top 50 1/2/3-grams bsolute values"
   ]
  },
  {
   "cell_type": "markdown",
   "metadata": {},
   "source": [
    "### 2. The Financial Times"
   ]
  },
  {
   "cell_type": "markdown",
   "metadata": {},
   "source": [
    "<table>\n",
    "    <caption>Data size</caption>\n",
    "    <thead>\n",
    "    </thead>\n",
    "    <tbody>\n",
    "        <tr><td>Total sentences</td><td>749,162</td></tr>\n",
    "        <tr><td>Sentences on art</td><td>2,853</td></tr>\n",
    "        <tr><td>Percentage of sentences on art</td><td>0.4%</td></tr>\n",
    "    </tbody>\n",
    "</table>"
   ]
  },
  {
   "cell_type": "markdown",
   "metadata": {},
   "source": [
    "<div style=\"display: inline-block;\">\n",
    "<table>\n",
    "    <caption>a) General sentiment polarity by term category (total sentences)</caption>\n",
    "    <thead>\n",
    "        <th>category</th><th>negative</th><th>positive</th><td>% neg</td><td>% pos</td><th>total</th>\n",
    "    </thead>\n",
    "    <tbody>\n",
    "        <tr><td>executive/manager</td><td>188,155</td><td>221,574</td><td>46%</td><td>54%</td><td>409,729</td></tr>\n",
    "        <tr><td>entrepreneur/founder</td><td>12,703</td><td>35,343</td><td>26%</td><td>74%</td><td>48,046</td></tr>\n",
    "        <tr><td>big companies</td><td>106,342</td><td>156,621</td><td>40%</td><td>60%</td><td>262,963</td></tr>\n",
    "        <tr><td>new companies</td><td>8,780</td><td>19,644</td><td>31%</td><td>69%</td><td>28,424</td></tr>\n",
    "    </tbody>\n",
    "</table>\n",
    "</div>\n",
    "<div style=\"display: inline-block;\">\n",
    "<table>\n",
    "    <caption>b) General sentiment polarity by term category (sentences on art)</caption>\n",
    "    <thead>\n",
    "        <th>category</th><th>negative</th><th>positive</th><td>% neg</td><td>% pos</td><th>total</th>\n",
    "    </thead>\n",
    "    <tbody>\n",
    "        <tr><td>executive/manager</td><td>396</td><td>872</td><td>31%</td><td>69%</td><td>1,268</td></tr>\n",
    "        <tr><td>entrepreneur/founder</td><td>72</td><td>521</td><td>12%</td><td>88%</td><td>593</td></tr>\n",
    "        <tr><td>big companies</td><td>241</td><td>620</td><td>28%</td><td>72%</td><td>861</td></tr>\n",
    "        <tr><td>new companies</td><td>37</td><td>94</td><td>28%</td><td>72%</td><td>131</td></tr>\n",
    "    </tbody>\n",
    "</table>\n",
    "</div>"
   ]
  },
  {
   "cell_type": "markdown",
   "metadata": {},
   "source": [
    "## Visualizations"
   ]
  },
  {
   "cell_type": "markdown",
   "metadata": {},
   "source": [
    "### 1. The New York Times: distribution of sentences by category over the period 1999 to 2014"
   ]
  },
  {
   "cell_type": "markdown",
   "metadata": {},
   "source": [
    "#### executive/manager"
   ]
  },
  {
   "cell_type": "markdown",
   "metadata": {},
   "source": [
    "<div align=\"center\">\n",
    "    <figure>\n",
    "        <img src=\"nyt/executive_manager_total.png\" width=\"800\"/>\n",
    "        <img src=\"art_nyt/executive_manager_total.png\" width=\"800\"/>\n",
    "        <figcaption>Fig.1 executive/manager: total (up) vs. art (down)</figcaption>\n",
    "    </figure>\n",
    "</div>"
   ]
  },
  {
   "cell_type": "markdown",
   "metadata": {},
   "source": [
    "#### entrepreneur/founder"
   ]
  },
  {
   "cell_type": "markdown",
   "metadata": {},
   "source": [
    "<div align=\"center\">\n",
    "    <figure>\n",
    "        <img src=\"nyt/entrepreneur_founder_total.png\" width=\"800\"/>\n",
    "        <img src=\"art_nyt/entrepreneur_founder_total.png\" width=\"800\"/>\n",
    "        <figcaption>Fig.2 entrepreneur/founder: total (up) vs. art (down)</figcaption>\n",
    "    </figure>\n",
    "</div>"
   ]
  },
  {
   "cell_type": "markdown",
   "metadata": {},
   "source": [
    "#### big companies"
   ]
  },
  {
   "cell_type": "markdown",
   "metadata": {},
   "source": [
    "<div align=\"center\">\n",
    "    <figure>\n",
    "        <img src=\"nyt/big_companies_total.png\" width=\"800\"/>\n",
    "        <img src=\"art_nyt/big_companies_total.png\" width=\"800\"/>\n",
    "        <figcaption>Fig.3 big companies: total (up) vs. art (down)</figcaption>\n",
    "    </figure>\n",
    "</div>"
   ]
  },
  {
   "cell_type": "markdown",
   "metadata": {},
   "source": [
    "#### new companies"
   ]
  },
  {
   "cell_type": "markdown",
   "metadata": {},
   "source": [
    "<div align=\"center\">\n",
    "    <figure>\n",
    "        <img src=\"nyt/new_companies_total.png\" width=\"800\"/>\n",
    "        <img src=\"art_nyt/new_companies_total.png\" width=\"800\"/>\n",
    "        <figcaption>Fig.4 new companies: total (up) vs. art (down)</figcaption>\n",
    "    </figure>\n",
    "</div>"
   ]
  },
  {
   "cell_type": "markdown",
   "metadata": {},
   "source": [
    "#### Positive rate of sentences by category"
   ]
  },
  {
   "cell_type": "markdown",
   "metadata": {},
   "source": [
    "<div align=\"center\">\n",
    "    <figure>\n",
    "        <div style=\"display: inline-block;\"><img src=\"nyt/categories_pos_rate.png\" width=\"480\"/></div>\n",
    "        <div style=\"display: inline-block;\"><img src=\"art_nyt/categories_pos_rate.png\" width=\"480\"/></div>\n",
    "        <figcaption>Fig.5 Positive rate of categories: total (left) vs. art (right)</figcaption>\n",
    "    </figure>\n",
    "</div>"
   ]
  },
  {
   "cell_type": "markdown",
   "metadata": {},
   "source": [
    "### 2. The Financial Times: distribution of sentences by category over the period 2003 to 2014"
   ]
  },
  {
   "cell_type": "markdown",
   "metadata": {},
   "source": [
    "#### executive/manager"
   ]
  },
  {
   "cell_type": "markdown",
   "metadata": {},
   "source": [
    "<div align=\"center\">\n",
    "    <figure>\n",
    "        <img src=\"ft/executive_manager_total.png\" width=\"800\"/>\n",
    "        <img src=\"art_ft/executive_manager_total.png\" width=\"800\"/>\n",
    "        <figcaption>Fig.6 executive/manager: total (up) vs. art (down)</figcaption>\n",
    "    </figure>\n",
    "</div>"
   ]
  },
  {
   "cell_type": "markdown",
   "metadata": {},
   "source": [
    "#### entrepreneur/founder"
   ]
  },
  {
   "cell_type": "markdown",
   "metadata": {},
   "source": [
    "<div align=\"center\">\n",
    "    <figure>\n",
    "        <img src=\"ft/entrepreneur_founder_total.png\" width=\"800\"/>\n",
    "        <img src=\"art_ft/entrepreneur_founder_total.png\" width=\"800\"/>\n",
    "        <figcaption>Fig.7 entrepreneur/founder: total (up) vs. art (down)</figcaption>\n",
    "    </figure>\n",
    "</div>"
   ]
  },
  {
   "cell_type": "markdown",
   "metadata": {},
   "source": [
    "#### big companies"
   ]
  },
  {
   "cell_type": "markdown",
   "metadata": {},
   "source": [
    "<div align=\"center\">\n",
    "    <figure>\n",
    "        <img src=\"ft/big_companies_total.png\" width=\"800\"/>\n",
    "        <img src=\"art_ft/big_companies_total.png\" width=\"800\"/>\n",
    "        <figcaption>Fig.8 big companies: total (up) vs. art (down)</figcaption>\n",
    "    </figure>\n",
    "</div>"
   ]
  },
  {
   "cell_type": "markdown",
   "metadata": {},
   "source": [
    "#### new companies"
   ]
  },
  {
   "cell_type": "markdown",
   "metadata": {},
   "source": [
    "<div align=\"center\">\n",
    "    <figure>\n",
    "        <img src=\"ft/new_companies_total.png\" width=\"800\"/>\n",
    "        <img src=\"art_ft/new_companies_total.png\" width=\"800\"/>\n",
    "        <figcaption>Fig.9 new companies: total (up) vs. art (down)</figcaption>\n",
    "    </figure>\n",
    "</div>"
   ]
  },
  {
   "cell_type": "markdown",
   "metadata": {},
   "source": [
    "#### Positive rate of sentences by category"
   ]
  },
  {
   "cell_type": "markdown",
   "metadata": {},
   "source": [
    "<div align=\"center\">\n",
    "    <figure>\n",
    "        <div style=\"display: inline-block;\"><img src=\"ft/categories_pos_rate.png\" width=\"480\"/></div>\n",
    "        <div style=\"display: inline-block;\"><img src=\"art_ft/categories_pos_rate.png\" width=\"480\"/></div>\n",
    "        <figcaption>Fig.10 Positive rate of categories: total (left) vs. art (right)</figcaption>\n",
    "    </figure>\n",
    "</div>"
   ]
  }
 ],
 "metadata": {
  "kernelspec": {
   "display_name": "Python 3",
   "language": "python",
   "name": "python3"
  },
  "language_info": {
   "codemirror_mode": {
    "name": "ipython",
    "version": 3
   },
   "file_extension": ".py",
   "mimetype": "text/x-python",
   "name": "python",
   "nbconvert_exporter": "python",
   "pygments_lexer": "ipython3",
   "version": "3.4.3"
  }
 },
 "nbformat": 4,
 "nbformat_minor": 0
}
