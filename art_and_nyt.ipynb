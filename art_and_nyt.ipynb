{
 "cells": [
  {
   "cell_type": "markdown",
   "metadata": {},
   "source": [
    "# Art &The New York Times"
   ]
  },
  {
   "cell_type": "code",
   "execution_count": 1,
   "metadata": {
    "collapsed": false
   },
   "outputs": [],
   "source": [
    "import math\n",
    "import pickle\n",
    "from datetime import datetime\n",
    "\n",
    "import blaze\n",
    "import matplotlib\n",
    "import pandas as pd\n",
    "from dateutil.relativedelta import relativedelta\n",
    "from joblib import Parallel, delayed\n",
    "from matplotlib import pyplot as plt\n",
    "from pymongo import MongoClient"
   ]
  },
  {
   "cell_type": "code",
   "execution_count": 2,
   "metadata": {
    "collapsed": true
   },
   "outputs": [],
   "source": [
    "%matplotlib inline"
   ]
  },
  {
   "cell_type": "code",
   "execution_count": 3,
   "metadata": {
    "collapsed": true
   },
   "outputs": [],
   "source": [
    "matplotlib.rcParams['figure.max_open_warning'] = 300"
   ]
  },
  {
   "cell_type": "code",
   "execution_count": 4,
   "metadata": {
    "collapsed": true
   },
   "outputs": [],
   "source": [
    "import seaborn as sns"
   ]
  },
  {
   "cell_type": "code",
   "execution_count": 5,
   "metadata": {
    "collapsed": true
   },
   "outputs": [],
   "source": [
    "import numpy\n",
    "\n",
    "def smooth(x,window_len=11,window='hanning'):\n",
    "    \"\"\"smooth the data using a window with requested size.\n",
    "    \n",
    "    This method is based on the convolution of a scaled window with the signal.\n",
    "    The signal is prepared by introducing reflected copies of the signal \n",
    "    (with the window size) in both ends so that transient parts are minimized\n",
    "    in the begining and end part of the output signal.\n",
    "    \n",
    "    input:\n",
    "        x: the input signal \n",
    "        window_len: the dimension of the smoothing window; should be an odd integer\n",
    "        window: the type of window from 'flat', 'hanning', 'hamming', 'bartlett', 'blackman'\n",
    "            flat window will produce a moving average smoothing.\n",
    "\n",
    "    output:\n",
    "        the smoothed signal\n",
    "        \n",
    "    example:\n",
    "\n",
    "    t=linspace(-2,2,0.1)\n",
    "    x=sin(t)+randn(len(t))*0.1\n",
    "    y=smooth(x)\n",
    "    \n",
    "    see also: \n",
    "    \n",
    "    numpy.hanning, numpy.hamming, numpy.bartlett, numpy.blackman, numpy.convolve\n",
    "    scipy.signal.lfilter\n",
    " \n",
    "    TODO: the window parameter could be the window itself if an array instead of a string\n",
    "    NOTE: length(output) != length(input), to correct this: return y[(window_len/2-1):-(window_len/2)] instead of just y.\n",
    "    \"\"\"\n",
    "\n",
    "    if x.ndim != 1:\n",
    "        raise ValueError(\"smooth only accepts 1 dimension arrays.\")\n",
    "\n",
    "    if x.size < window_len:\n",
    "        raise ValueError (\"Input vector needs to be bigger than window size.\")\n",
    "\n",
    "\n",
    "    if window_len<3:\n",
    "        return x\n",
    "\n",
    "\n",
    "    if not window in ['flat', 'hanning', 'hamming', 'bartlett', 'blackman']:\n",
    "        raise ValueError(\"Window is on of 'flat', 'hanning', 'hamming', 'bartlett', 'blackman'\")\n",
    "\n",
    "\n",
    "    s=numpy.r_[x[window_len-1:0:-1],x,x[-1:-window_len:-1]]\n",
    "    #print(len(s))\n",
    "    if window == 'flat': #moving average\n",
    "        w=numpy.ones(window_len,'d')\n",
    "    else:\n",
    "        w=eval('numpy.'+window+'(window_len)')\n",
    "\n",
    "    y=numpy.convolve(w/w.sum(),s,mode='valid')\n",
    "    return y[(window_len/2-1):-(window_len/2)]\n"
   ]
  },
  {
   "cell_type": "code",
   "execution_count": 6,
   "metadata": {
    "collapsed": false
   },
   "outputs": [],
   "source": [
    "with open('sentiment/pipeline_nc.pickle', 'rb') as be_file:\n",
    "    be = pickle.load(be_file)"
   ]
  },
  {
   "cell_type": "code",
   "execution_count": 7,
   "metadata": {
    "collapsed": false
   },
   "outputs": [
    {
     "data": {
      "text/plain": [
       "array(['pos', 'neg', 'pos'], dtype=object)"
      ]
     },
     "execution_count": 7,
     "metadata": {},
     "output_type": "execute_result"
    }
   ],
   "source": [
    "be.predict(['My puppy is cute.', 'People die in war.', 'I love my family.'])"
   ]
  },
  {
   "cell_type": "code",
   "execution_count": 8,
   "metadata": {
    "collapsed": false
   },
   "outputs": [],
   "source": [
    "# 8 csv files previously built on another machine. Sentiment included.\n",
    "data_blaze = blaze.Data('../nytimes/nyt_data/data_*.csv', delimiter=',')"
   ]
  },
  {
   "cell_type": "code",
   "execution_count": 9,
   "metadata": {
    "collapsed": false
   },
   "outputs": [],
   "source": [
    "# sentiment_data_ind = blaze.odo(data_blaze, pd.DataFrame)\n",
    "# sentiment_data = sentiment_data_ind.drop('Unnamed: 0', axis=1) #comentar esta linea\n",
    "sentiment_data = blaze.odo(data_blaze, pd.DataFrame)"
   ]
  },
  {
   "cell_type": "code",
   "execution_count": 10,
   "metadata": {
    "collapsed": true
   },
   "outputs": [],
   "source": [
    "# Delete startup\n",
    "sentiment_data = sentiment_data[sentiment_data.term != 'startup']"
   ]
  },
  {
   "cell_type": "code",
   "execution_count": 11,
   "metadata": {
    "collapsed": false
   },
   "outputs": [
    {
     "data": {
      "text/plain": [
       "529903"
      ]
     },
     "execution_count": 11,
     "metadata": {},
     "output_type": "execute_result"
    }
   ],
   "source": [
    "# Total number of articles\n",
    "sentiment_data.article_id.value_counts().count()"
   ]
  },
  {
   "cell_type": "code",
   "execution_count": 12,
   "metadata": {
    "collapsed": false
   },
   "outputs": [
    {
     "data": {
      "text/plain": [
       "214"
      ]
     },
     "execution_count": 12,
     "metadata": {},
     "output_type": "execute_result"
    }
   ],
   "source": [
    "# Total number of terms\n",
    "sentiment_data.term.value_counts().count()"
   ]
  },
  {
   "cell_type": "code",
   "execution_count": 13,
   "metadata": {
    "collapsed": false
   },
   "outputs": [
    {
     "data": {
      "text/plain": [
       "845184"
      ]
     },
     "execution_count": 13,
     "metadata": {},
     "output_type": "execute_result"
    }
   ],
   "source": [
    "# Total number of sentences\n",
    "sentiment_data.sentence.value_counts().count()"
   ]
  },
  {
   "cell_type": "code",
   "execution_count": 14,
   "metadata": {
    "collapsed": false
   },
   "outputs": [],
   "source": [
    "# sentiments_df = blaze.odo(data_blaze.sentence.map(lambda x: be.predict([x])[0], '?string'), pd.DataFrame)"
   ]
  },
  {
   "cell_type": "markdown",
   "metadata": {},
   "source": [
    "## Art"
   ]
  },
  {
   "cell_type": "code",
   "execution_count": 73,
   "metadata": {
    "collapsed": true
   },
   "outputs": [],
   "source": [
    "import nltk\n",
    "from nltk.stem.lancaster import LancasterStemmer"
   ]
  },
  {
   "cell_type": "code",
   "execution_count": 97,
   "metadata": {
    "collapsed": true
   },
   "outputs": [],
   "source": [
    "lancaster_stemmer = LancasterStemmer()\n",
    "\n",
    "def stemmer(word):\n",
    "    return lancaster_stemmer.stem(word)"
   ]
  },
  {
   "cell_type": "code",
   "execution_count": 98,
   "metadata": {
    "collapsed": true
   },
   "outputs": [],
   "source": [
    "def contains_art(sentence):\n",
    "    tokens = nltk.word_tokenize(sentence)\n",
    "    stems = map(stemmer, tokens)\n",
    "    return any(map(lambda x: x == 'art', stems))"
   ]
  },
  {
   "cell_type": "code",
   "execution_count": 90,
   "metadata": {
    "collapsed": false
   },
   "outputs": [
    {
     "data": {
      "text/html": [
       "<div>\n",
       "<table border=\"1\" class=\"dataframe\">\n",
       "  <thead>\n",
       "    <tr style=\"text-align: right;\">\n",
       "      <th></th>\n",
       "      <th>article_id</th>\n",
       "      <th>pub_date</th>\n",
       "      <th>section_name</th>\n",
       "      <th>web_url</th>\n",
       "      <th>term_category</th>\n",
       "      <th>term</th>\n",
       "      <th>sentence</th>\n",
       "      <th>sentiment</th>\n",
       "    </tr>\n",
       "  </thead>\n",
       "  <tbody>\n",
       "    <tr>\n",
       "      <th>0</th>\n",
       "      <td>4fd20d7d8eb7c8105d77daf9</td>\n",
       "      <td>1999-01-16</td>\n",
       "      <td>Sports</td>\n",
       "      <td>http://www.nytimes.com/1999/01/16/sports/plus-...</td>\n",
       "      <td>12</td>\n",
       "      <td>new venture</td>\n",
       "      <td>Keeneland's new venture came as a surprise to ...</td>\n",
       "      <td>pos</td>\n",
       "    </tr>\n",
       "    <tr>\n",
       "      <th>1</th>\n",
       "      <td>4fd20db88eb7c8105d77e511</td>\n",
       "      <td>1999-01-03</td>\n",
       "      <td>Arts; Books</td>\n",
       "      <td>http://www.nytimes.com/1999/01/03/books/heartb...</td>\n",
       "      <td>11</td>\n",
       "      <td>manager</td>\n",
       "      <td>The plan Presley and his hucksterish business ...</td>\n",
       "      <td>neg</td>\n",
       "    </tr>\n",
       "    <tr>\n",
       "      <th>2</th>\n",
       "      <td>5482d92a38f0d8403d9cd045</td>\n",
       "      <td>2008-07-08</td>\n",
       "      <td>Science</td>\n",
       "      <td>http://www.nytimes.com/2008/07/08/science/08an...</td>\n",
       "      <td>2</td>\n",
       "      <td>Twitch</td>\n",
       "      <td>In the male toadfish the swimbladder has been ...</td>\n",
       "      <td>pos</td>\n",
       "    </tr>\n",
       "    <tr>\n",
       "      <th>3</th>\n",
       "      <td>5456ab1438f0d86ef22a094e</td>\n",
       "      <td>2009-10-04</td>\n",
       "      <td>Real Estate</td>\n",
       "      <td>http://www.nytimes.com/2009/10/04/realestate/c...</td>\n",
       "      <td>11</td>\n",
       "      <td>executive</td>\n",
       "      <td>Mr. Pozycki is the chief executive of SJP Prop...</td>\n",
       "      <td>pos</td>\n",
       "    </tr>\n",
       "    <tr>\n",
       "      <th>4</th>\n",
       "      <td>5456ab1438f0d86ef22a094e</td>\n",
       "      <td>2009-10-04</td>\n",
       "      <td>Real Estate</td>\n",
       "      <td>http://www.nytimes.com/2009/10/04/realestate/c...</td>\n",
       "      <td>11</td>\n",
       "      <td>executive</td>\n",
       "      <td>Mr. Pozycki 59 is the chief executive of SJP P...</td>\n",
       "      <td>pos</td>\n",
       "    </tr>\n",
       "  </tbody>\n",
       "</table>\n",
       "</div>"
      ],
      "text/plain": [
       "                 article_id   pub_date section_name  \\\n",
       "0  4fd20d7d8eb7c8105d77daf9 1999-01-16       Sports   \n",
       "1  4fd20db88eb7c8105d77e511 1999-01-03  Arts; Books   \n",
       "2  5482d92a38f0d8403d9cd045 2008-07-08      Science   \n",
       "3  5456ab1438f0d86ef22a094e 2009-10-04  Real Estate   \n",
       "4  5456ab1438f0d86ef22a094e 2009-10-04  Real Estate   \n",
       "\n",
       "                                             web_url  term_category  \\\n",
       "0  http://www.nytimes.com/1999/01/16/sports/plus-...             12   \n",
       "1  http://www.nytimes.com/1999/01/03/books/heartb...             11   \n",
       "2  http://www.nytimes.com/2008/07/08/science/08an...              2   \n",
       "3  http://www.nytimes.com/2009/10/04/realestate/c...             11   \n",
       "4  http://www.nytimes.com/2009/10/04/realestate/c...             11   \n",
       "\n",
       "          term                                           sentence sentiment  \n",
       "0  new venture  Keeneland's new venture came as a surprise to ...       pos  \n",
       "1      manager  The plan Presley and his hucksterish business ...       neg  \n",
       "2       Twitch  In the male toadfish the swimbladder has been ...       pos  \n",
       "3    executive  Mr. Pozycki is the chief executive of SJP Prop...       pos  \n",
       "4    executive  Mr. Pozycki 59 is the chief executive of SJP P...       pos  "
      ]
     },
     "execution_count": 90,
     "metadata": {},
     "output_type": "execute_result"
    }
   ],
   "source": [
    "sentiment_data.head()"
   ]
  },
  {
   "cell_type": "code",
   "execution_count": 99,
   "metadata": {
    "collapsed": false
   },
   "outputs": [],
   "source": [
    "art_data = sentiment_data[sentiment_data.sentence.apply(contains_art) == True]"
   ]
  },
  {
   "cell_type": "code",
   "execution_count": 100,
   "metadata": {
    "collapsed": false
   },
   "outputs": [
    {
     "data": {
      "text/plain": [
       "14282"
      ]
     },
     "execution_count": 100,
     "metadata": {},
     "output_type": "execute_result"
    }
   ],
   "source": [
    "len(art_data)"
   ]
  },
  {
   "cell_type": "code",
   "execution_count": 102,
   "metadata": {
    "collapsed": false
   },
   "outputs": [
    {
     "data": {
      "text/plain": [
       "12582"
      ]
     },
     "execution_count": 102,
     "metadata": {},
     "output_type": "execute_result"
    }
   ],
   "source": [
    "# Unique number of art sentences\n",
    "art_data.sentence.value_counts().count()"
   ]
  },
  {
   "cell_type": "code",
   "execution_count": 105,
   "metadata": {
    "collapsed": false
   },
   "outputs": [
    {
     "data": {
      "text/plain": [
       "1.4886699227623807"
      ]
     },
     "execution_count": 105,
     "metadata": {},
     "output_type": "execute_result"
    }
   ],
   "source": [
    "# % of art sentences: ~ 1.5%\n",
    "art_data.sentence.value_counts().count() * 100 / sentiment_data.sentence.value_counts().count()"
   ]
  },
  {
   "cell_type": "code",
   "execution_count": 15,
   "metadata": {
    "collapsed": true
   },
   "outputs": [],
   "source": [
    "# def split_dataframe(df, n):\n",
    "#     d = {}\n",
    "#     length = len(df)\n",
    "#     chunk_size = math.ceil(length / n)\n",
    "#     n_max = math.ceil(length / chunk_size)\n",
    "#     for i in range(min(n, n_max)):\n",
    "#         d[i] = df[chunk_size * i: chunk_size * (i + 1)]\n",
    "#     return d"
   ]
  },
  {
   "cell_type": "code",
   "execution_count": 17,
   "metadata": {
    "collapsed": true
   },
   "outputs": [],
   "source": [
    "# def analyze_sentiment(df, i):\n",
    "#     df['sentiment'] = df.sentence.map(lambda x: be.predict([x])[0])\n",
    "#     df.to_csv('../nytimes/data_{}.csv'.format(i))\n",
    "#     print('DataFrame saved in data_{}.csv'.format(i))"
   ]
  },
  {
   "cell_type": "code",
   "execution_count": 18,
   "metadata": {
    "collapsed": false
   },
   "outputs": [],
   "source": [
    "# N = 8\n",
    "# data_dict = split_dataframe(data, N)\n",
    "# # for i in range(N):\n",
    "# #     analyze_sentiment(data_dict[i], i)\n",
    "# Parallel(n_jobs=8)(delayed(analyze_sentiment)(data_dict[i], i) for i in range(N))"
   ]
  },
  {
   "cell_type": "code",
   "execution_count": 106,
   "metadata": {
    "collapsed": false
   },
   "outputs": [],
   "source": [
    "def diff_month(d1, d2):\n",
    "    return (d2.year - d1.year) * 12 + d2.month - d1.month\n",
    "\n",
    "# assert diff_month(datetime(2010,9,1), datetime(2010,10,1)) == 1\n",
    "# assert diff_month(datetime(2009,10,1), datetime(2010,10,1)) == 12\n",
    "# assert diff_month(datetime(2009,11,1), datetime(2010,10,1)) == 11\n",
    "# assert diff_month(datetime(2009,8,1), datetime(2010,10,1)) == 14"
   ]
  },
  {
   "cell_type": "code",
   "execution_count": 108,
   "metadata": {
    "collapsed": false
   },
   "outputs": [
    {
     "name": "stderr",
     "output_type": "stream",
     "text": [
      "/home/antonio/.virtualenvs/nytimes/lib/python3.4/site-packages/ipykernel/__main__.py:1: SettingWithCopyWarning: \n",
      "A value is trying to be set on a copy of a slice from a DataFrame.\n",
      "Try using .loc[row_indexer,col_indexer] = value instead\n",
      "\n",
      "See the the caveats in the documentation: http://pandas.pydata.org/pandas-docs/stable/indexing.html#indexing-view-versus-copy\n",
      "  if __name__ == '__main__':\n"
     ]
    }
   ],
   "source": [
    "art_data['n_month'] = art_data.pub_date.apply(lambda x: diff_month(datetime(1999, 1, 1), x.date()))"
   ]
  },
  {
   "cell_type": "code",
   "execution_count": 109,
   "metadata": {
    "collapsed": false
   },
   "outputs": [],
   "source": [
    "data2 = blaze.Data(art_data)"
   ]
  },
  {
   "cell_type": "code",
   "execution_count": 110,
   "metadata": {
    "collapsed": false
   },
   "outputs": [
    {
     "data": {
      "text/html": [
       "<table border=\"1\" class=\"dataframe\">\n",
       "  <thead>\n",
       "    <tr style=\"text-align: right;\">\n",
       "      <th></th>\n",
       "      <th>term_category</th>\n",
       "      <th>amount_neg</th>\n",
       "      <th>amount_pos</th>\n",
       "      <th>total_amount</th>\n",
       "    </tr>\n",
       "  </thead>\n",
       "  <tbody>\n",
       "    <tr>\n",
       "      <th>0</th>\n",
       "      <td>2</td>\n",
       "      <td>747</td>\n",
       "      <td>2999</td>\n",
       "      <td>3746</td>\n",
       "    </tr>\n",
       "    <tr>\n",
       "      <th>1</th>\n",
       "      <td>3</td>\n",
       "      <td>150</td>\n",
       "      <td>439</td>\n",
       "      <td>589</td>\n",
       "    </tr>\n",
       "    <tr>\n",
       "      <th>2</th>\n",
       "      <td>11</td>\n",
       "      <td>1954</td>\n",
       "      <td>4775</td>\n",
       "      <td>6729</td>\n",
       "    </tr>\n",
       "    <tr>\n",
       "      <th>3</th>\n",
       "      <td>12</td>\n",
       "      <td>283</td>\n",
       "      <td>2935</td>\n",
       "      <td>3218</td>\n",
       "    </tr>\n",
       "  </tbody>\n",
       "</table>"
      ],
      "text/plain": [
       "   term_category  amount_neg  amount_pos  total_amount\n",
       "0              2         747        2999          3746\n",
       "1              3         150         439           589\n",
       "2             11        1954        4775          6729\n",
       "3             12         283        2935          3218"
      ]
     },
     "execution_count": 110,
     "metadata": {},
     "output_type": "execute_result"
    }
   ],
   "source": [
    "blaze.by(data2.term_category,\n",
    "   total_amount=data2.sentiment.count(),\n",
    "   amount_pos=data2[data2.sentiment == 'pos'].sentiment.count(),\n",
    "   amount_neg=data2[data2.sentiment == 'neg'].sentiment.count()\n",
    ")"
   ]
  },
  {
   "cell_type": "code",
   "execution_count": 111,
   "metadata": {
    "collapsed": false
   },
   "outputs": [],
   "source": [
    "# Old classifier --> more positive\n",
    "\n",
    "# blaze.by(data2.term_category,\n",
    "#    total_amount=data2.sentiment.count(),\n",
    "#    amount_pos=data2[data2.sentiment == 'pos'].sentiment.count(),\n",
    "#    amount_neg=data2[data2.sentiment == 'neg'].sentiment.count()\n",
    "# )\n",
    "\n",
    "#  \tterm_category \tamount_neg \tamount_pos \ttotal_amount\n",
    "# 0 \t2 \t106075 \t251088 \t357163\n",
    "# 1 \t3 \t18546 \t62625 \t81171\n",
    "# 2 \t11 \t206396 \t200361 \t406757\n",
    "# 3 \t12 \t9900 \t79663 \t89563"
   ]
  },
  {
   "cell_type": "markdown",
   "metadata": {},
   "source": [
    "## Visualizations"
   ]
  },
  {
   "cell_type": "code",
   "execution_count": 112,
   "metadata": {
    "collapsed": false
   },
   "outputs": [],
   "source": [
    "grouped_by_category = blaze.by(blaze.merge(data2.term_category, data2.n_month),\n",
    "    total_amount=data2.sentiment.count(),\n",
    "    amount_pos=data2[data2.sentiment == 'pos'].sentiment.count(),\n",
    "    amount_neg=data2[data2.sentiment == 'neg'].sentiment.count(),\n",
    ")\n",
    "\n",
    "grouped_by_term = blaze.by(blaze.merge(data2.term, data2.n_month),\n",
    "   total_amount=data2.sentiment.count(),\n",
    "   amount_pos=data2[data2.sentiment == 'pos'].sentiment.count(),\n",
    "   amount_neg=data2[data2.sentiment == 'neg'].sentiment.count()\n",
    ")"
   ]
  },
  {
   "cell_type": "code",
   "execution_count": 113,
   "metadata": {
    "collapsed": false
   },
   "outputs": [
    {
     "data": {
      "text/html": [
       "<table border=\"1\" class=\"dataframe\">\n",
       "  <thead>\n",
       "    <tr style=\"text-align: right;\">\n",
       "      <th></th>\n",
       "      <th>term_category</th>\n",
       "      <th>n_month</th>\n",
       "      <th>amount_neg</th>\n",
       "      <th>amount_pos</th>\n",
       "      <th>total_amount</th>\n",
       "    </tr>\n",
       "  </thead>\n",
       "  <tbody>\n",
       "    <tr>\n",
       "      <th>0</th>\n",
       "      <td>2</td>\n",
       "      <td>0</td>\n",
       "      <td>6</td>\n",
       "      <td>12</td>\n",
       "      <td>18</td>\n",
       "    </tr>\n",
       "    <tr>\n",
       "      <th>1</th>\n",
       "      <td>2</td>\n",
       "      <td>1</td>\n",
       "      <td>1</td>\n",
       "      <td>12</td>\n",
       "      <td>13</td>\n",
       "    </tr>\n",
       "    <tr>\n",
       "      <th>2</th>\n",
       "      <td>2</td>\n",
       "      <td>2</td>\n",
       "      <td>5</td>\n",
       "      <td>13</td>\n",
       "      <td>18</td>\n",
       "    </tr>\n",
       "    <tr>\n",
       "      <th>3</th>\n",
       "      <td>2</td>\n",
       "      <td>3</td>\n",
       "      <td>2</td>\n",
       "      <td>7</td>\n",
       "      <td>9</td>\n",
       "    </tr>\n",
       "    <tr>\n",
       "      <th>4</th>\n",
       "      <td>2</td>\n",
       "      <td>4</td>\n",
       "      <td>1</td>\n",
       "      <td>18</td>\n",
       "      <td>19</td>\n",
       "    </tr>\n",
       "    <tr>\n",
       "      <th>5</th>\n",
       "      <td>2</td>\n",
       "      <td>5</td>\n",
       "      <td>6</td>\n",
       "      <td>14</td>\n",
       "      <td>20</td>\n",
       "    </tr>\n",
       "    <tr>\n",
       "      <th>6</th>\n",
       "      <td>2</td>\n",
       "      <td>6</td>\n",
       "      <td>2</td>\n",
       "      <td>13</td>\n",
       "      <td>15</td>\n",
       "    </tr>\n",
       "    <tr>\n",
       "      <th>7</th>\n",
       "      <td>2</td>\n",
       "      <td>7</td>\n",
       "      <td>8</td>\n",
       "      <td>11</td>\n",
       "      <td>19</td>\n",
       "    </tr>\n",
       "    <tr>\n",
       "      <th>8</th>\n",
       "      <td>2</td>\n",
       "      <td>8</td>\n",
       "      <td>7</td>\n",
       "      <td>19</td>\n",
       "      <td>26</td>\n",
       "    </tr>\n",
       "    <tr>\n",
       "      <th>9</th>\n",
       "      <td>2</td>\n",
       "      <td>9</td>\n",
       "      <td>4</td>\n",
       "      <td>25</td>\n",
       "      <td>29</td>\n",
       "    </tr>\n",
       "    <tr>\n",
       "      <th>10</th>\n",
       "      <td>2</td>\n",
       "      <td>10</td>\n",
       "      <td>7</td>\n",
       "      <td>21</td>\n",
       "      <td>28</td>\n",
       "    </tr>\n",
       "  </tbody>\n",
       "</table>"
      ],
      "text/plain": [
       "    term_category  n_month  amount_neg  amount_pos  total_amount\n",
       "0               2        0           6          12            18\n",
       "1               2        1           1          12            13\n",
       "2               2        2           5          13            18\n",
       "3               2        3           2           7             9\n",
       "4               2        4           1          18            19\n",
       "5               2        5           6          14            20\n",
       "6               2        6           2          13            15\n",
       "7               2        7           8          11            19\n",
       "8               2        8           7          19            26\n",
       "9               2        9           4          25            29\n",
       "..."
      ]
     },
     "execution_count": 113,
     "metadata": {},
     "output_type": "execute_result"
    }
   ],
   "source": [
    "grouped_by_category"
   ]
  },
  {
   "cell_type": "code",
   "execution_count": 118,
   "metadata": {
    "collapsed": true
   },
   "outputs": [],
   "source": [
    "def calc_xlim(start_from, df):\n",
    "    return (max(datetime.strptime(start_from, \"%Y-%m-%d\"), df.index[0]), df.index[-1]) if start_from else None\n",
    "\n",
    "def plot(term_list=None, same=False, info='total', category_list=None, figsize=(16, 8), window_len=20, window='hanning',\n",
    "         start_from=None):\n",
    "    if term_list and not same:\n",
    "        for term in term_list:\n",
    "            df = blaze.odo(grouped_by_term[grouped_by_term.original_term == term], pd.DataFrame)\n",
    "            df.set_index('n_month', inplace=True)\n",
    "            df.index = [datetime.strptime(\"1999-01-01\", \"%Y-%m-%d\") + relativedelta(months=i) for i in df.index]\n",
    "            df['pos_rate'] = df['amount_pos'] / df['total_amount']\n",
    "            y1_df = df[['total_amount', 'amount_pos', 'amount_neg']]\n",
    "            y1_df.plot(title=term, figsize=figsize, xlim=calc_xlim(start_from, y1_df))\n",
    "            y2 = smooth(\n",
    "                    df['pos_rate'].values,\n",
    "                    window_len=window_len,\n",
    "                    window=window\n",
    "            )\n",
    "            y2_df = pd.DataFrame(y2, columns=['pos_rate'], index=df.index)\n",
    "            y2_df.plot(title=term, ylim=[0, 1], color='green', figsize=figsize, xlim=calc_xlim(start_from, y2_df))\n",
    "    elif term_list and same:\n",
    "        ax = plt.figure(figsize=figsize).add_subplot(1, 1, 1)\n",
    "        for term in term_list:\n",
    "            df = blaze.odo(grouped_by_term[grouped_by_term.original_term == term], pd.DataFrame)\n",
    "            df.set_index('n_month', inplace=True)\n",
    "            df.index = [datetime.strptime(\"1999-01-01\", \"%Y-%m-%d\") + relativedelta(months=i) for i in df.index]\n",
    "            df['pos_rate'] = df['amount_pos'] / df['total_amount']\n",
    "            if info == 'total':\n",
    "                y = smooth(\n",
    "                    df['total_amount'].values,\n",
    "                    window_len=window_len,\n",
    "                    window=window\n",
    "                )\n",
    "                y_df = pd.DataFrame(y, columns=['total_amount'], index=df.index)\n",
    "                y_df.plot(title='All together', figsize=figsize, ax=ax, xlim=calc_xlim(start_from, y_df))\n",
    "            else:\n",
    "                y = smooth(\n",
    "                    df['pos_rate'].values,\n",
    "                    window_len=window_len,\n",
    "                    window=window\n",
    "                )\n",
    "                y_df = pd.DataFrame(y, columns=['pos_rate'], index=df.index)\n",
    "                y_df.plot(title='All together', ylim=[0, 1], figsize=figsize, ax=ax, xlim=calc_xlim(start_from, y_df))\n",
    "        ax.legend(term_list)\n",
    "    elif category_list:\n",
    "        category_dict = {\n",
    "            11: 'executive/manager',\n",
    "            12: 'entrepreneur/founder/new venture',\n",
    "            2: 'big companies',\n",
    "            3: 'new companies',\n",
    "        }\n",
    "        if not same:\n",
    "            for category in category_list:\n",
    "                df = blaze.odo(grouped_by_category[grouped_by_category.term_category == category], pd.DataFrame)\n",
    "                df.set_index('n_month', inplace=True)\n",
    "                df.index = [datetime.strptime(\"1999-01-01\", \"%Y-%m-%d\") + relativedelta(months=i) for i in df.index]\n",
    "                df['pos_rate'] = df['amount_pos'] / df['total_amount']\n",
    "                y1_df = df[['total_amount', 'amount_pos', 'amount_neg']]\n",
    "                y1_df.plot(title=category_dict[category], figsize=figsize, xlim=calc_xlim(start_from, y1_df))\n",
    "        else:\n",
    "            ax = plt.figure(figsize=figsize).add_subplot(1, 1, 1)\n",
    "            for category in category_list:\n",
    "                df = blaze.odo(grouped_by_category[grouped_by_category.term_category == category], pd.DataFrame)\n",
    "                df.set_index('n_month', inplace=True)\n",
    "                df.index = [datetime.strptime(\"1999-01-01\", \"%Y-%m-%d\") + relativedelta(months=i) for i in df.index]\n",
    "                df['pos_rate'] = df['amount_pos'] / df['total_amount']\n",
    "                y2 = smooth(\n",
    "                        df['pos_rate'].values,\n",
    "                        window_len=window_len,\n",
    "                        window=window\n",
    "                )\n",
    "                y2_df = pd.DataFrame(y2, columns=['pos_rate'], index=df.index)\n",
    "                y2_df.plot(title='All together', ylim=[0, 1], figsize=figsize, ax=ax, xlim=calc_xlim(start_from, y2_df))\n",
    "            ax.legend(['new companies', 'big companies', 'entrepreneur/founder', 'executive/manager'])"
   ]
  },
  {
   "cell_type": "markdown",
   "metadata": {},
   "source": [
    "### Categories"
   ]
  },
  {
   "cell_type": "markdown",
   "metadata": {},
   "source": [
    "## Fig.1 Distribution of sentences by category over the period 1999 to 2014"
   ]
  },
  {
   "cell_type": "code",
   "execution_count": null,
   "metadata": {
    "collapsed": true
   },
   "outputs": [],
   "source": []
  },
  {
   "cell_type": "code",
   "execution_count": null,
   "metadata": {
    "collapsed": true
   },
   "outputs": [],
   "source": []
  },
  {
   "cell_type": "code",
   "execution_count": null,
   "metadata": {
    "collapsed": true
   },
   "outputs": [],
   "source": []
  },
  {
   "cell_type": "code",
   "execution_count": null,
   "metadata": {
    "collapsed": true
   },
   "outputs": [],
   "source": []
  },
  {
   "cell_type": "code",
   "execution_count": null,
   "metadata": {
    "collapsed": true
   },
   "outputs": [],
   "source": []
  },
  {
   "cell_type": "code",
   "execution_count": null,
   "metadata": {
    "collapsed": true
   },
   "outputs": [],
   "source": []
  },
  {
   "cell_type": "code",
   "execution_count": null,
   "metadata": {
    "collapsed": true
   },
   "outputs": [],
   "source": []
  },
  {
   "cell_type": "code",
   "execution_count": null,
   "metadata": {
    "collapsed": true
   },
   "outputs": [],
   "source": []
  },
  {
   "cell_type": "code",
   "execution_count": null,
   "metadata": {
    "collapsed": true
   },
   "outputs": [],
   "source": []
  }
 ],
 "metadata": {
  "kernelspec": {
   "display_name": "Python 3",
   "language": "python",
   "name": "python3"
  },
  "language_info": {
   "codemirror_mode": {
    "name": "ipython",
    "version": 3
   },
   "file_extension": ".py",
   "mimetype": "text/x-python",
   "name": "python",
   "nbconvert_exporter": "python",
   "pygments_lexer": "ipython3",
   "version": "3.4.3"
  }
 },
 "nbformat": 4,
 "nbformat_minor": 0
}
