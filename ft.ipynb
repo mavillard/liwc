{
 "cells": [
  {
   "cell_type": "markdown",
   "metadata": {},
   "source": [
    "#Sentence extractor for The New York Times"
   ]
  },
  {
   "cell_type": "code",
   "execution_count": 1,
   "metadata": {
    "collapsed": false
   },
   "outputs": [],
   "source": [
    "import logging\n",
    "import math\n",
    "import os\n",
    "from collections import defaultdict\n",
    "from datetime import timedelta, date, datetime\n",
    "from dateutil import parser\n",
    "from time import sleep, time\n",
    "\n",
    "import requests\n",
    "import yaml\n",
    "from joblib import Parallel, delayed\n",
    "from pymongo import MongoClient\n",
    "from pymongo.errors import BulkWriteError, DuplicateKeyError"
   ]
  },
  {
   "cell_type": "markdown",
   "metadata": {},
   "source": [
    "##Logging"
   ]
  },
  {
   "cell_type": "code",
   "execution_count": 2,
   "metadata": {
    "collapsed": false
   },
   "outputs": [],
   "source": [
    "try:\n",
    "    os.remove('search_ft.log')\n",
    "except:\n",
    "    pass"
   ]
  },
  {
   "cell_type": "code",
   "execution_count": 3,
   "metadata": {
    "collapsed": false
   },
   "outputs": [],
   "source": [
    "logging.getLogger().handlers = []\n",
    "logging.getLogger('requests.packages.urllib3').setLevel(logging.WARNING)\n",
    "logging.basicConfig(filename='search_ft.log', level=logging.INFO, format='%(asctime)s %(message)s')"
   ]
  },
  {
   "cell_type": "code",
   "execution_count": 4,
   "metadata": {
    "collapsed": false
   },
   "outputs": [],
   "source": [
    "def write_log(*args, status=None):\n",
    "    record = '{} ==> {}'.format(args, status)\n",
    "    logging.info(record)"
   ]
  },
  {
   "cell_type": "markdown",
   "metadata": {},
   "source": [
    "##MongoDB"
   ]
  },
  {
   "cell_type": "code",
   "execution_count": 5,
   "metadata": {
    "collapsed": false
   },
   "outputs": [],
   "source": [
    "client = MongoClient()\n",
    "client.drop_database('ft')\n",
    "db = client.ft"
   ]
  },
  {
   "cell_type": "code",
   "execution_count": 6,
   "metadata": {
    "collapsed": false
   },
   "outputs": [],
   "source": [
    "def insert_documents(docs, q):\n",
    "    try:\n",
    "        inserted = db.articles.insert_many(docs, ordered=False)\n",
    "        total_inserted = len(inserted.inserted_ids)\n",
    "        write_log(q, status='INSERTION OK {}'.format(total_inserted))\n",
    "    except BulkWriteError as e:\n",
    "        for err in e.details['writeErrors']:\n",
    "            write_log(q, status='INSERTION EXCEPTION {}'.format(err['errmsg']))\n",
    "        write_log(q, status='INSERTION OK {}'.format(e.details['nInserted']))\n",
    "    except Exception as e:\n",
    "        write_log(q, status='INSERTION EXCEPTION {}'.format(e))"
   ]
  },
  {
   "cell_type": "markdown",
   "metadata": {},
   "source": [
    "##Search terms"
   ]
  },
  {
   "cell_type": "code",
   "execution_count": 7,
   "metadata": {
    "collapsed": false
   },
   "outputs": [],
   "source": [
    "def preprocess_term(term):\n",
    "    terms = []\n",
    "    \n",
    "    curated_term = term.lower()\n",
    "    curated_term = curated_term.replace(' & ', ' ')\n",
    "    curated_term = curated_term.replace(' and ', ' ')\n",
    "    terms.append(curated_term)\n",
    "    if '-' in curated_term:\n",
    "        terms.append(curated_term.replace('-', ''))\n",
    "#         terms.append(curated_term.replace('-', ' ')) # same result\n",
    "\n",
    "    for term in terms:\n",
    "        if term.endswith('corporation'):\n",
    "            terms.append(term[:-12])\n",
    "        elif term.endswith('corp'):\n",
    "            terms.append(term[:-5])\n",
    "        elif term.endswith('company'):\n",
    "            terms.append(term[:-8])\n",
    "        elif term.endswith('inc.'):\n",
    "            terms.append(term[:-5])\n",
    "        elif term.endswith('inc'):\n",
    "            terms.append(term[:-4])\n",
    "        elif term.endswith('.com'):\n",
    "            terms.append(term[:-4])\n",
    "    \n",
    "#     terms = list(map(lambda x: '\"{}\"'.format(x), terms))\n",
    "    return terms"
   ]
  },
  {
   "cell_type": "code",
   "execution_count": 8,
   "metadata": {
    "collapsed": true
   },
   "outputs": [],
   "source": [
    "term_dict = {}\n",
    "for i in range(1, 4):\n",
    "    term_dict[i] = {}\n",
    "    st_file = open('search_terms_{}.txt'.format(i))\n",
    "    term_list = map(lambda x: x.strip(), st_file.readlines())\n",
    "    for term in term_list:\n",
    "        term_dict[i][term] = preprocess_term(term)"
   ]
  },
  {
   "cell_type": "code",
   "execution_count": 9,
   "metadata": {
    "collapsed": false
   },
   "outputs": [],
   "source": [
    "with open('search_terms.yml', 'w') as search_term_file:\n",
    "    search_term_file.write(yaml.dump(term_dict, default_flow_style=False))"
   ]
  },
  {
   "cell_type": "code",
   "execution_count": 10,
   "metadata": {
    "collapsed": false
   },
   "outputs": [],
   "source": [
    "with open('search_terms.yml') as search_term_file:\n",
    "    term_yaml = yaml.load(search_term_file.read())\n",
    "    #\n",
    "    for key in term_yaml:\n",
    "        d = term_yaml[key]\n",
    "        for k in d:\n",
    "            d[k] = list(map(lambda x: '\"{}\"'.format(x), d[k]))"
   ]
  },
  {
   "cell_type": "markdown",
   "metadata": {},
   "source": [
    "##NYTimes API keys"
   ]
  },
  {
   "cell_type": "code",
   "execution_count": 11,
   "metadata": {
    "collapsed": true
   },
   "outputs": [],
   "source": [
    "# One API key for each core\n",
    "api_keys = [\n",
    "        \"mtqjgqpd63c5aky6ujz7mfe4\",\n",
    "]"
   ]
  },
  {
   "cell_type": "code",
   "execution_count": 12,
   "metadata": {
    "collapsed": true
   },
   "outputs": [],
   "source": [
    "def next_multiple(n, m):\n",
    "    # 4, 17 ==> 20\n",
    "    rest = m % n\n",
    "    return m if rest == 0 else m + n - rest\n",
    "\n",
    "def chunks(l, n_chunks):\n",
    "    l = list(l)\n",
    "    size = len(l)\n",
    "    n = next_multiple(n_chunks, size) // n_chunks\n",
    "    for i in range(0, size, n):\n",
    "        yield l[i:i + n]"
   ]
  },
  {
   "cell_type": "code",
   "execution_count": 13,
   "metadata": {
    "collapsed": true
   },
   "outputs": [],
   "source": [
    "# [(search_term, original_term, term_type)]\n",
    "search_terms = [(t, k2, k1)\n",
    "                   for k1 in term_yaml\n",
    "                       for k2 in term_yaml[k1]\n",
    "                           for t in term_yaml[k1][k2]\n",
    "              ]"
   ]
  },
  {
   "cell_type": "code",
   "execution_count": 14,
   "metadata": {
    "collapsed": true
   },
   "outputs": [],
   "source": [
    "# TEST\n",
    "\n",
    "# api_keys = [\n",
    "#     \"3439a9084efa80c4f5fb1d290dfc1b44:11:70233981\", # my api key\n",
    "#     \"a5c709f3168b829711241b243457e9d6:13:70235641\", # the other api key\n",
    "# ]\n",
    "\n",
    "# search_terms = [\n",
    "#     ('\"entrepreneur\"', 'entrepreneur', 1),\n",
    "#     ('\"executive\"', 'executive', 1),\n",
    "#     ('\"google\"', 'google', 2),\n",
    "#     ('\"amazon\"', 'amazon.com', 2),\n",
    "#     ('\"ebay\"', 'e-bay', 3),\n",
    "#     ('\"facebook\"', 'facebook', 3),\n",
    "# ]"
   ]
  },
  {
   "cell_type": "code",
   "execution_count": 15,
   "metadata": {
    "collapsed": false
   },
   "outputs": [],
   "source": [
    "search_terms_by_api_key = defaultdict(list)\n",
    "for i in range(1, 4):\n",
    "    search_terms_i = list(filter(lambda x: x[2] == i, search_terms))\n",
    "    for t in zip(api_keys, chunks(search_terms_i, len(api_keys))):\n",
    "        search_terms_by_api_key[t[0]].extend(t[1])"
   ]
  },
  {
   "cell_type": "markdown",
   "metadata": {},
   "source": [
    "##Dates"
   ]
  },
  {
   "cell_type": "code",
   "execution_count": 16,
   "metadata": {
    "collapsed": false
   },
   "outputs": [],
   "source": [
    "def month_duration(d):\n",
    "    if d.month in [1, 3, 5, 7, 8, 10, 12]:\n",
    "        ndays = 31\n",
    "    elif d.month in [4, 6, 9, 11]:\n",
    "        ndays = 30\n",
    "    else: # d.month == 2\n",
    "        if d.year % 400 == 0 or d.year % 4 == 0 and d.year % 100 != 0: # lap-year\n",
    "            ndays = 29\n",
    "        else:\n",
    "            ndays = 28\n",
    "    return ndays\n",
    "\n",
    "def n_days(d, n_months):\n",
    "    ndays = 0\n",
    "    new_d = d\n",
    "    for _ in range(n_months):\n",
    "        m_duration = month_duration(d)\n",
    "        d += timedelta(m_duration)\n",
    "        ndays += m_duration\n",
    "    return ndays - 1\n",
    "\n",
    "def date_ranges(begin_date, end_date, n_months=1):\n",
    "    aux_date = begin_date\n",
    "    while aux_date < end_date:\n",
    "        ndays = n_days(aux_date, n_months)\n",
    "        yield (aux_date, min(aux_date + timedelta(ndays), end_date))\n",
    "        aux_date += timedelta(ndays + 1)"
   ]
  },
  {
   "cell_type": "markdown",
   "metadata": {},
   "source": [
    "##Timer"
   ]
  },
  {
   "cell_type": "code",
   "execution_count": 17,
   "metadata": {
    "collapsed": true
   },
   "outputs": [],
   "source": [
    "LAST_REQUEST = time()"
   ]
  },
  {
   "cell_type": "code",
   "execution_count": 18,
   "metadata": {
    "collapsed": false
   },
   "outputs": [],
   "source": [
    "def wait(f, *args, t=9):\n",
    "    global LAST_REQUEST\n",
    "    now = time()\n",
    "    elapsed_time = now - LAST_REQUEST\n",
    "    if elapsed_time < t:\n",
    "        sleep(t - elapsed_time)\n",
    "    LAST_REQUEST = time()\n",
    "    return f(*args)"
   ]
  },
  {
   "cell_type": "markdown",
   "metadata": {},
   "source": [
    "##Query"
   ]
  },
  {
   "cell_type": "code",
   "execution_count": 19,
   "metadata": {
    "collapsed": true
   },
   "outputs": [],
   "source": [
    "class Query:\n",
    "    def __init__(self, term, begin_date, end_date, page, api_key):\n",
    "        self.term = term\n",
    "        self.begin_date = begin_date\n",
    "        self.end_date = end_date\n",
    "        self.page = page\n",
    "        self.api_key =api_key\n",
    "    \n",
    "    def __repr__(self):\n",
    "        return 'Q<{}, {}, {}, {}, {}>'.format(self.term, self.begin_date, self.end_date, self.page, self.api_key)"
   ]
  },
  {
   "cell_type": "markdown",
   "metadata": {},
   "source": [
    "##Downloader"
   ]
  },
  {
   "cell_type": "code",
   "execution_count": 20,
   "metadata": {
    "collapsed": true
   },
   "outputs": [],
   "source": [
    "BEGIN_DATE = date(1999, 1, 1)\n",
    "END_DATE = date(2014, 12, 31)"
   ]
  },
  {
   "cell_type": "code",
   "execution_count": 41,
   "metadata": {
    "collapsed": false
   },
   "outputs": [
    {
     "data": {
      "text/plain": [
       "<Response [200]>"
      ]
     },
     "execution_count": 41,
     "metadata": {},
     "output_type": "execute_result"
    }
   ],
   "source": [
    "url = 'http://api.ft.com/content/search/v1?apiKey=mtqjgqpd63c5aky6ujz7mfe4'\n",
    "r1 = requests.post(url, json={'queryString': 'executive'})\n",
    "r1"
   ]
  },
  {
   "cell_type": "code",
   "execution_count": 62,
   "metadata": {
    "collapsed": false
   },
   "outputs": [
    {
     "data": {
      "text/plain": [
       "<Response [200]>"
      ]
     },
     "execution_count": 62,
     "metadata": {},
     "output_type": "execute_result"
    }
   ],
   "source": [
    "url = 'http://api.ft.com/content/search/v1'\n",
    "r2 = requests.post(url, params={'apiKey': 'mtqjgqpd63c5aky6ujz7mfe4'}, json={'queryString': 'entrepreneur'})\n",
    "r2"
   ]
  },
  {
   "cell_type": "code",
   "execution_count": 63,
   "metadata": {
    "collapsed": false
   },
   "outputs": [
    {
     "data": {
      "text/plain": [
       "False"
      ]
     },
     "execution_count": 63,
     "metadata": {},
     "output_type": "execute_result"
    }
   ],
   "source": [
    "r1.json() == r2.json()"
   ]
  },
  {
   "cell_type": "code",
   "execution_count": 67,
   "metadata": {
    "collapsed": false
   },
   "outputs": [],
   "source": [
    "r = r2.json()"
   ]
  },
  {
   "cell_type": "code",
   "execution_count": 68,
   "metadata": {
    "collapsed": false
   },
   "outputs": [
    {
     "data": {
      "text/plain": [
       "{'queryContext': {'curations': ['ARTICLES',\n",
       "   'BLOGS',\n",
       "   'PAGES',\n",
       "   'PODCASTS',\n",
       "   'VIDEOS']},\n",
       " 'queryString': 'entrepreneur',\n",
       " 'resultContext': {'contextual': False,\n",
       "  'highlight': False,\n",
       "  'maxResults': 100,\n",
       "  'offset': 0}}"
      ]
     },
     "execution_count": 68,
     "metadata": {},
     "output_type": "execute_result"
    }
   ],
   "source": [
    "r['query']"
   ]
  },
  {
   "cell_type": "code",
   "execution_count": 69,
   "metadata": {
    "collapsed": false
   },
   "outputs": [
    {
     "data": {
      "text/plain": [
       "[{'curations': ['ARTICLES', 'BLOGS', 'PAGES', 'PODCASTS', 'VIDEOS'],\n",
       "  'indexCount': 13726,\n",
       "  'results': [{'apiUrl': 'http://api.ft.com/content/items/v1/38cbda75-8990-3eac-87cc-646cff44f122',\n",
       "    'aspectSet': 'blogPost',\n",
       "    'id': '38cbda75-8990-3eac-87cc-646cff44f122',\n",
       "    'modelVersion': '1'},\n",
       "   {'apiUrl': 'http://api.ft.com/content/items/v1/c58e4b5c-1fda-11e5-ab0f-6bb9974f25d0',\n",
       "    'aspectSet': 'article',\n",
       "    'id': 'c58e4b5c-1fda-11e5-ab0f-6bb9974f25d0',\n",
       "    'modelVersion': '1'},\n",
       "   {'apiUrl': 'http://api.ft.com/content/items/v1/21c5c7f2-20b1-11e5-ab0f-6bb9974f25d0',\n",
       "    'aspectSet': 'article',\n",
       "    'id': '21c5c7f2-20b1-11e5-ab0f-6bb9974f25d0',\n",
       "    'modelVersion': '1'},\n",
       "   {'apiUrl': 'http://api.ft.com/content/items/v1/5c451b04-215f-11e5-ab0f-6bb9974f25d0',\n",
       "    'aspectSet': 'article',\n",
       "    'id': '5c451b04-215f-11e5-ab0f-6bb9974f25d0',\n",
       "    'modelVersion': '1'},\n",
       "   {'apiUrl': 'http://api.ft.com/content/items/v1/ad3df9d6-20ce-11e5-ab0f-6bb9974f25d0',\n",
       "    'aspectSet': 'article',\n",
       "    'id': 'ad3df9d6-20ce-11e5-ab0f-6bb9974f25d0',\n",
       "    'modelVersion': '1'},\n",
       "   {'apiUrl': 'http://api.ft.com/content/items/v1/dde7f170-1a22-11e5-a130-2e7db721f996',\n",
       "    'aspectSet': 'article',\n",
       "    'id': 'dde7f170-1a22-11e5-a130-2e7db721f996',\n",
       "    'modelVersion': '1'},\n",
       "   {'apiUrl': 'http://api.ft.com/content/items/v1/8dff1068-1f08-11e5-ab0f-6bb9974f25d0',\n",
       "    'aspectSet': 'article',\n",
       "    'id': '8dff1068-1f08-11e5-ab0f-6bb9974f25d0',\n",
       "    'modelVersion': '1'},\n",
       "   {'aspectSet': 'page',\n",
       "    'id': 'db1630ba-94d6-11e3-af71-00144feab7de',\n",
       "    'modelVersion': '1'},\n",
       "   {'aspectSet': 'page',\n",
       "    'id': '8440ff12-7ab1-11e2-915b-00144feabdc0',\n",
       "    'modelVersion': '1'},\n",
       "   {'aspectSet': 'page',\n",
       "    'id': '78f1e49a-648d-11e1-9aa1-00144feabdc0',\n",
       "    'modelVersion': '1'},\n",
       "   {'aspectSet': 'page',\n",
       "    'id': 'd043b0f0-3b9f-11e1-a09a-00144feabdc0',\n",
       "    'modelVersion': '1'},\n",
       "   {'aspectSet': 'page',\n",
       "    'id': 'cfe25ee0-7a82-11e2-9cc2-00144feabdc0',\n",
       "    'modelVersion': '1'},\n",
       "   {'aspectSet': 'page',\n",
       "    'id': 'e900741c-f7e8-11df-8d91-00144feab49a',\n",
       "    'modelVersion': '1'},\n",
       "   {'aspectSet': 'page',\n",
       "    'id': 'cb1a51e8-f7e3-11df-8d91-00144feab49a',\n",
       "    'modelVersion': '1'},\n",
       "   {'aspectSet': 'page',\n",
       "    'id': '34bc7f1e-3b99-11e1-a09a-00144feabdc0',\n",
       "    'modelVersion': '1'},\n",
       "   {'aspectSet': 'page',\n",
       "    'id': '6b0dd84c-f7e8-11df-8d91-00144feab49a',\n",
       "    'modelVersion': '1'},\n",
       "   {'aspectSet': 'page',\n",
       "    'id': '3ae3df40-a883-11e4-bd17-00144feab7de',\n",
       "    'modelVersion': '1'},\n",
       "   {'aspectSet': 'page',\n",
       "    'id': 'fb268f96-fba3-11df-b79a-00144feab49a',\n",
       "    'modelVersion': '1'},\n",
       "   {'aspectSet': 'page',\n",
       "    'id': 'fa6dacf6-f7e3-11df-8d91-00144feab49a',\n",
       "    'modelVersion': '1'},\n",
       "   {'aspectSet': 'page',\n",
       "    'id': '9c4c8dc2-3c3e-11e1-8d72-00144feabdc0',\n",
       "    'modelVersion': '1'},\n",
       "   {'aspectSet': 'page',\n",
       "    'id': '9d1caae8-d1c1-11e1-badb-00144feabdc0',\n",
       "    'modelVersion': '1'},\n",
       "   {'aspectSet': 'page',\n",
       "    'id': '0c4e3756-f71c-11df-9b06-00144feab49a',\n",
       "    'modelVersion': '1'},\n",
       "   {'aspectSet': 'page',\n",
       "    'id': 'd035c162-f7e3-11df-8d91-00144feab49a',\n",
       "    'modelVersion': '1'},\n",
       "   {'aspectSet': 'page',\n",
       "    'id': 'bcff3c24-fbbf-11df-b79a-00144feab49a',\n",
       "    'modelVersion': '1'},\n",
       "   {'aspectSet': 'page',\n",
       "    'id': 'c3eadcdc-fbbf-11df-b79a-00144feab49a',\n",
       "    'modelVersion': '1'},\n",
       "   {'aspectSet': 'page',\n",
       "    'id': '25642f70-cb41-11e1-b896-00144feabdc0',\n",
       "    'modelVersion': '1'},\n",
       "   {'aspectSet': 'page',\n",
       "    'id': 'cec106aa-cd25-11de-a748-00144feabdc0',\n",
       "    'modelVersion': '1'},\n",
       "   {'aspectSet': 'page',\n",
       "    'id': '5d8ea834-aaf6-11e4-91d2-00144feab7de',\n",
       "    'modelVersion': '1'},\n",
       "   {'aspectSet': 'page',\n",
       "    'id': 'f3edb646-f7e3-11df-8d91-00144feab49a',\n",
       "    'modelVersion': '1'},\n",
       "   {'aspectSet': 'page',\n",
       "    'id': 'c857baf8-4e94-11de-8d4c-00144feabdc0',\n",
       "    'modelVersion': '1'},\n",
       "   {'aspectSet': 'page',\n",
       "    'id': 'fcdae4e8-cd25-11de-a748-00144feabdc0',\n",
       "    'modelVersion': '1'},\n",
       "   {'aspectSet': 'page',\n",
       "    'id': '9d364384-fbbe-11df-b79a-00144feab49a',\n",
       "    'modelVersion': '1'},\n",
       "   {'aspectSet': 'page',\n",
       "    'id': '14aefa1c-25c6-11e3-aee8-00144feab7de',\n",
       "    'modelVersion': '1'},\n",
       "   {'aspectSet': 'page',\n",
       "    'id': 'efdac59c-cd25-11de-a748-00144feabdc0',\n",
       "    'modelVersion': '1'},\n",
       "   {'aspectSet': 'page',\n",
       "    'id': '77b68d96-f7e8-11df-8d91-00144feab49a',\n",
       "    'modelVersion': '1'},\n",
       "   {'aspectSet': 'page',\n",
       "    'id': 'd9a6b832-fbbc-11df-b79a-00144feab49a',\n",
       "    'modelVersion': '1'},\n",
       "   {'aspectSet': 'page',\n",
       "    'id': 'f1174c20-f7e3-11df-8d91-00144feab49a',\n",
       "    'modelVersion': '1'},\n",
       "   {'aspectSet': 'page',\n",
       "    'id': '0442a548-f7e3-11df-b770-00144feab49a',\n",
       "    'modelVersion': '1'},\n",
       "   {'aspectSet': 'page',\n",
       "    'id': 'be74042e-4e94-11de-8d4c-00144feabdc0',\n",
       "    'modelVersion': '1'},\n",
       "   {'aspectSet': 'page',\n",
       "    'id': 'c13b9c36-f7e3-11df-8d91-00144feab49a',\n",
       "    'modelVersion': '1'},\n",
       "   {'aspectSet': 'page',\n",
       "    'id': 'f3814088-fba3-11df-b79a-00144feab49a',\n",
       "    'modelVersion': '1'},\n",
       "   {'aspectSet': 'page',\n",
       "    'id': '042d77d4-fbbe-11df-b79a-00144feab49a',\n",
       "    'modelVersion': '1'},\n",
       "   {'aspectSet': 'page',\n",
       "    'id': 'd75e0fc0-2e56-11e2-8f7a-00144feabdc0',\n",
       "    'modelVersion': '1'},\n",
       "   {'aspectSet': 'page',\n",
       "    'id': 'd83a0ae4-f7e3-11df-8d91-00144feab49a',\n",
       "    'modelVersion': '1'},\n",
       "   {'aspectSet': 'page',\n",
       "    'id': '0c219750-f7df-11df-b770-00144feab49a',\n",
       "    'modelVersion': '1'},\n",
       "   {'aspectSet': 'page',\n",
       "    'id': '0e57f582-f7e4-11df-8d91-00144feab49a',\n",
       "    'modelVersion': '1'},\n",
       "   {'aspectSet': 'page',\n",
       "    'id': 'e7bf5258-cb40-11e1-b896-00144feabdc0',\n",
       "    'modelVersion': '1'},\n",
       "   {'apiUrl': 'http://api.ft.com/content/items/v1/1c8045c6-1fec-11e5-ab0f-6bb9974f25d0',\n",
       "    'aspectSet': 'article',\n",
       "    'id': '1c8045c6-1fec-11e5-ab0f-6bb9974f25d0',\n",
       "    'modelVersion': '1'},\n",
       "   {'apiUrl': 'http://api.ft.com/content/items/v1/5af98a8a-1c25-11e5-8201-cbdb03d71480',\n",
       "    'aspectSet': 'article',\n",
       "    'id': '5af98a8a-1c25-11e5-8201-cbdb03d71480',\n",
       "    'modelVersion': '1'},\n",
       "   {'aspectSet': 'page',\n",
       "    'id': 'ce6d7b5e-1328-11e4-925a-00144feabdc0',\n",
       "    'modelVersion': '1'},\n",
       "   {'aspectSet': 'page',\n",
       "    'id': '41241350-fed4-11df-ae87-00144feab49a',\n",
       "    'modelVersion': '1'},\n",
       "   {'aspectSet': 'page',\n",
       "    'id': '5c34aaa0-f638-11df-a313-00144feab49a',\n",
       "    'modelVersion': '1'},\n",
       "   {'aspectSet': 'page',\n",
       "    'id': 'a9606d6c-a0cf-11e1-851f-00144feabdc0',\n",
       "    'modelVersion': '1'},\n",
       "   {'aspectSet': 'page',\n",
       "    'id': '10f72cfe-f7e4-11df-8d91-00144feab49a',\n",
       "    'modelVersion': '1'},\n",
       "   {'aspectSet': 'page',\n",
       "    'id': '04597038-f7e4-11df-8d91-00144feab49a',\n",
       "    'modelVersion': '1'},\n",
       "   {'aspectSet': 'page',\n",
       "    'id': '172fe95e-69ab-11e2-8d07-00144feab49a',\n",
       "    'modelVersion': '1'},\n",
       "   {'aspectSet': 'page',\n",
       "    'id': 'dc6fea66-fba3-11df-b79a-00144feab49a',\n",
       "    'modelVersion': '1'},\n",
       "   {'aspectSet': 'page',\n",
       "    'id': '3e33a45e-3ba4-11e1-a09a-00144feabdc0',\n",
       "    'modelVersion': '1'},\n",
       "   {'aspectSet': 'page',\n",
       "    'id': 'a43cb7fe-fbbd-11df-b79a-00144feab49a',\n",
       "    'modelVersion': '1'},\n",
       "   {'aspectSet': 'page',\n",
       "    'id': '569850bc-4ed9-11e4-b205-00144feab7de',\n",
       "    'modelVersion': '1'},\n",
       "   {'aspectSet': 'page',\n",
       "    'id': '14ca72b8-ca9d-11e1-8872-00144feabdc0',\n",
       "    'modelVersion': '1'},\n",
       "   {'aspectSet': 'page',\n",
       "    'id': '9f82bd80-fbbd-11df-b79a-00144feab49a',\n",
       "    'modelVersion': '1'},\n",
       "   {'aspectSet': 'page',\n",
       "    'id': 'c273b382-3ba7-11e1-a09a-00144feabdc0',\n",
       "    'modelVersion': '1'},\n",
       "   {'aspectSet': 'page',\n",
       "    'id': '06728b1a-f402-11e4-bd16-00144feab7de',\n",
       "    'modelVersion': '1'},\n",
       "   {'aspectSet': 'page',\n",
       "    'id': '71e8d4de-e0f4-11e3-a934-00144feabdc0',\n",
       "    'modelVersion': '1'},\n",
       "   {'aspectSet': 'page',\n",
       "    'id': 'efeb111a-bd7a-11e2-890a-00144feab7de',\n",
       "    'modelVersion': '1'},\n",
       "   {'aspectSet': 'page',\n",
       "    'id': '191e6dd0-fba3-11df-b79a-00144feab49a',\n",
       "    'modelVersion': '1'},\n",
       "   {'aspectSet': 'page',\n",
       "    'id': 'ee5b45ce-fbc4-11df-b79a-00144feab49a',\n",
       "    'modelVersion': '1'},\n",
       "   {'apiUrl': 'http://api.ft.com/content/items/v1/bf1a4890-1be1-11e5-8201-cbdb03d71480',\n",
       "    'aspectSet': 'article',\n",
       "    'id': 'bf1a4890-1be1-11e5-8201-cbdb03d71480',\n",
       "    'modelVersion': '1'},\n",
       "   {'apiUrl': 'http://api.ft.com/content/items/v1/423828ce-1a4c-11e5-a130-2e7db721f996',\n",
       "    'aspectSet': 'article',\n",
       "    'id': '423828ce-1a4c-11e5-a130-2e7db721f996',\n",
       "    'modelVersion': '1'},\n",
       "   {'apiUrl': 'http://api.ft.com/content/items/v1/966d2c40-1a52-11e5-a130-2e7db721f996',\n",
       "    'aspectSet': 'article',\n",
       "    'id': '966d2c40-1a52-11e5-a130-2e7db721f996',\n",
       "    'modelVersion': '1'},\n",
       "   {'apiUrl': 'http://api.ft.com/content/items/v1/fbdd37a7-0af6-332d-b694-a63dab4cd481',\n",
       "    'aspectSet': 'blogPost',\n",
       "    'id': 'fbdd37a7-0af6-332d-b694-a63dab4cd481',\n",
       "    'modelVersion': '1'},\n",
       "   {'apiUrl': 'http://api.ft.com/content/items/v1/4c35f196-1dd3-11e5-ab0f-6bb9974f25d0',\n",
       "    'aspectSet': 'article',\n",
       "    'id': '4c35f196-1dd3-11e5-ab0f-6bb9974f25d0',\n",
       "    'modelVersion': '1'},\n",
       "   {'apiUrl': 'http://api.ft.com/content/items/v1/2a127262-1b24-11e5-a130-2e7db721f996',\n",
       "    'aspectSet': 'article',\n",
       "    'id': '2a127262-1b24-11e5-a130-2e7db721f996',\n",
       "    'modelVersion': '1'},\n",
       "   {'apiUrl': 'http://api.ft.com/content/items/v1/c604ed87-5b0c-3b22-ac9e-4eec7bbbf976',\n",
       "    'aspectSet': 'blogPost',\n",
       "    'id': 'c604ed87-5b0c-3b22-ac9e-4eec7bbbf976',\n",
       "    'modelVersion': '1'},\n",
       "   {'aspectSet': 'page',\n",
       "    'id': '7610f454-387e-11e1-9f07-00144feabdc0',\n",
       "    'modelVersion': '1'},\n",
       "   {'aspectSet': 'page',\n",
       "    'id': '9ae7d766-508b-11e4-9822-00144feab7de',\n",
       "    'modelVersion': '1'},\n",
       "   {'aspectSet': 'page',\n",
       "    'id': '6c5e7226-f638-11df-a313-00144feab49a',\n",
       "    'modelVersion': '1'},\n",
       "   {'aspectSet': 'page',\n",
       "    'id': '83fc8f98-fe18-11df-853b-00144feab49a',\n",
       "    'modelVersion': '1'},\n",
       "   {'aspectSet': 'page',\n",
       "    'id': 'f83c22ea-e002-11e3-9534-00144feabdc0',\n",
       "    'modelVersion': '1'},\n",
       "   {'aspectSet': 'page',\n",
       "    'id': '53e6d20a-e46d-11e0-844d-00144feabdc0',\n",
       "    'modelVersion': '1'},\n",
       "   {'aspectSet': 'page',\n",
       "    'id': 'dec1205a-6ae6-11e2-9670-00144feab49a',\n",
       "    'modelVersion': '1'},\n",
       "   {'aspectSet': 'page',\n",
       "    'id': '6b98a888-ef54-11e4-87dc-00144feab7de',\n",
       "    'modelVersion': '1'},\n",
       "   {'aspectSet': 'page',\n",
       "    'id': 'f212bd26-f7de-11df-b770-00144feab49a',\n",
       "    'modelVersion': '1'},\n",
       "   {'aspectSet': 'page',\n",
       "    'id': 'dceba75a-60c7-11e3-b7f1-00144feabdc0',\n",
       "    'modelVersion': '1'},\n",
       "   {'aspectSet': 'page',\n",
       "    'id': '03a3faa2-60c6-11e3-b7f1-00144feabdc0',\n",
       "    'modelVersion': '1'},\n",
       "   {'aspectSet': 'page',\n",
       "    'id': '61e68b02-f362-11e1-9ca6-00144feabdc0',\n",
       "    'modelVersion': '1'},\n",
       "   {'aspectSet': 'page',\n",
       "    'id': '154ec1c2-f7e4-11df-8d91-00144feab49a',\n",
       "    'modelVersion': '1'},\n",
       "   {'aspectSet': 'page',\n",
       "    'id': 'e8252a42-60c7-11e3-b7f1-00144feabdc0',\n",
       "    'modelVersion': '1'},\n",
       "   {'aspectSet': 'page',\n",
       "    'id': '8600f014-779f-11e3-807e-00144feabdc0',\n",
       "    'modelVersion': '1'},\n",
       "   {'aspectSet': 'page',\n",
       "    'id': '29ecacb2-fba3-11df-b79a-00144feab49a',\n",
       "    'modelVersion': '1'},\n",
       "   {'aspectSet': 'page',\n",
       "    'id': 'be95c250-d4b3-11e1-bb88-00144feabdc0',\n",
       "    'modelVersion': '1'},\n",
       "   {'aspectSet': 'page',\n",
       "    'id': 'fea1a0c0-f7de-11df-b770-00144feab49a',\n",
       "    'modelVersion': '1'},\n",
       "   {'aspectSet': 'page',\n",
       "    'id': '60a1ae3a-3ba6-11e1-a09a-00144feabdc0',\n",
       "    'modelVersion': '1'},\n",
       "   {'aspectSet': 'page',\n",
       "    'id': 'd7831a34-20e9-11e1-816d-00144feabdc0',\n",
       "    'modelVersion': '1'},\n",
       "   {'aspectSet': 'page',\n",
       "    'id': '13dfe1c6-fc7c-11df-a9c5-00144feab49a',\n",
       "    'modelVersion': '1'},\n",
       "   {'aspectSet': 'page',\n",
       "    'id': 'a0534a48-fbbf-11df-b79a-00144feab49a',\n",
       "    'modelVersion': '1'},\n",
       "   {'aspectSet': 'page',\n",
       "    'id': 'cade2486-fbbf-11df-b79a-00144feab49a',\n",
       "    'modelVersion': '1'},\n",
       "   {'aspectSet': 'page',\n",
       "    'id': '6b2818a8-3ba6-11e1-a09a-00144feabdc0',\n",
       "    'modelVersion': '1'},\n",
       "   {'aspectSet': 'page',\n",
       "    'id': '0d2df2b6-a247-11e0-bb06-00144feabdc0',\n",
       "    'modelVersion': '1'}]}]"
      ]
     },
     "execution_count": 69,
     "metadata": {},
     "output_type": "execute_result"
    }
   ],
   "source": [
    "r['results']"
   ]
  },
  {
   "cell_type": "code",
   "execution_count": 21,
   "metadata": {
    "collapsed": true
   },
   "outputs": [],
   "source": [
    "def search(q):\n",
    "    try:\n",
    "        base_url = 'http://api.ft.com/content/search/v1'\n",
    "        payload = {'apiKey': q.api_key}\n",
    "        data = {'queryString': q.term}\n",
    "        r = requests.post(base_url, params=payload, json=data)\n",
    "        response = r.json()\n",
    "        \n",
    "        if response['status'] == 'OK':\n",
    "            write_log(q, status='SEARCH OK {}'.format(response['response']['meta']['hits']))\n",
    "        elif response['status'] == 'ERROR':\n",
    "            write_log(q, status='SEARCH ERROR {}'.format(response['errors']))\n",
    "        else:\n",
    "            write_log(q, status='SEARCH {}'.format(response['status']))\n",
    "    except ValueError as e:\n",
    "        if str(e) == 'Expecting value: line 1 column 1 (char 0)':\n",
    "            write_log(q, status='SEARCH ERROR api-key')\n",
    "        else:\n",
    "            write_log(q, status='SEARCH EXCEPTION {}'.format(e))\n",
    "        response = {'status': 'ERROR'}\n",
    "    except Exception as e:\n",
    "        write_log(q, status='SEARCH EXCEPTION {}'.format(e))\n",
    "        response = {'status': 'ERROR'}\n",
    "    return response"
   ]
  },
  {
   "cell_type": "code",
   "execution_count": 22,
   "metadata": {
    "collapsed": false
   },
   "outputs": [],
   "source": [
    "def get_documents_by_page(q, term, total_results):\n",
    "    n_pages = math.ceil(total_results / 10)\n",
    "    for page in range(n_pages):\n",
    "        q.page = page\n",
    "        response = wait(search, q)\n",
    "        \n",
    "        if response['status'] == 'OK':\n",
    "            docs = response['response']['docs']\n",
    "            for doc in docs:\n",
    "                doc.update({'q': q.__dict__, 'original_term': term[1], 'term_type': term[2]})\n",
    "            insert_documents(docs, q)"
   ]
  },
  {
   "cell_type": "code",
   "execution_count": 23,
   "metadata": {
    "collapsed": false
   },
   "outputs": [],
   "source": [
    "def get_documents_by_query(q, term):\n",
    "    response = wait(search, q)\n",
    "    \n",
    "    if response['status'] == 'OK':\n",
    "        total_results = response['response']['meta']['hits']\n",
    "        if total_results <= 1010:\n",
    "            get_documents_by_page(q, term, total_results)\n",
    "        else:\n",
    "            bd = parser.parse(q.begin_date)\n",
    "            ed = parser.parse(q.end_date)\n",
    "            half = (ed - bd) // 2\n",
    "            \n",
    "            begin_date1 = q.begin_date\n",
    "            end_date1 = (bd + timedelta(half.days)).strftime(\"%Y%m%d\")\n",
    "            q1 = Query(q.term, begin_date1, end_date1, 0, q.api_key)\n",
    "            get_documents_by_query(q1, term)\n",
    "            \n",
    "            begin_date2 = (bd + timedelta(half.days + 1)).strftime(\"%Y%m%d\")\n",
    "            end_date2 = q.end_date\n",
    "            q2 = Query(q.term, begin_date2, end_date2, 0, q.api_key)\n",
    "            get_documents_by_query(q2, term)"
   ]
  },
  {
   "cell_type": "code",
   "execution_count": 24,
   "metadata": {
    "collapsed": true
   },
   "outputs": [],
   "source": [
    "def download_by_date_ranges(term, api_key):\n",
    "    for r in date_ranges(BEGIN_DATE, END_DATE, 1):\n",
    "        begin_date = r[0].strftime(\"%Y%m%d\")\n",
    "        end_date = r[1].strftime(\"%Y%m%d\")\n",
    "        q = Query(term[0], begin_date, end_date, 0, api_key)\n",
    "        get_documents_by_query(q, term)"
   ]
  },
  {
   "cell_type": "code",
   "execution_count": 25,
   "metadata": {
    "collapsed": false
   },
   "outputs": [],
   "source": [
    "def download_by_term(term, api_key):\n",
    "    begin_date = BEGIN_DATE.strftime(\"%Y%m%d\")\n",
    "    end_date = END_DATE.strftime(\"%Y%m%d\")\n",
    "    q = Query(term[0], begin_date, end_date, 0, api_key)\n",
    "    response = wait(search, q)\n",
    "    \n",
    "    if response['status'] == 'OK':\n",
    "        total_results = response['response']['meta']['hits']\n",
    "        if total_results <= 1010:\n",
    "            get_documents_by_page(q, term, total_results)\n",
    "        else:\n",
    "            download_by_date_ranges(term, api_key)"
   ]
  },
  {
   "cell_type": "code",
   "execution_count": 26,
   "metadata": {
    "collapsed": true
   },
   "outputs": [],
   "source": [
    "def download_by_key(terms, api_key):\n",
    "    for term in terms:\n",
    "        try:\n",
    "            download_by_term(term, api_key)\n",
    "        except Exception as e:\n",
    "            write_log(e, status='DOWNLOAD EXCEPTION {} {}'.format(term, api_key))"
   ]
  },
  {
   "cell_type": "code",
   "execution_count": 27,
   "metadata": {
    "collapsed": false
   },
   "outputs": [],
   "source": [
    "def downloader(search_terms_by_api_key, api_keys):\n",
    "    # Version parallel\n",
    "    Parallel(n_jobs=8)(delayed(download_by_key)(search_terms_by_api_key[api_key], api_key) for api_key in api_keys)\n",
    "\n",
    "    # Version sequencial\n",
    "#     for api_key in api_keys:\n",
    "#         download_by_key(search_terms_by_api_key[api_key], api_key)"
   ]
  },
  {
   "cell_type": "code",
   "execution_count": null,
   "metadata": {
    "collapsed": true
   },
   "outputs": [],
   "source": [
    "downloader(search_terms_by_api_key, api_keys)"
   ]
  }
 ],
 "metadata": {
  "kernelspec": {
   "display_name": "Python 3",
   "language": "python",
   "name": "python3"
  },
  "language_info": {
   "codemirror_mode": {
    "name": "ipython",
    "version": 3
   },
   "file_extension": ".py",
   "mimetype": "text/x-python",
   "name": "python",
   "nbconvert_exporter": "python",
   "pygments_lexer": "ipython3",
   "version": "3.4.0"
  }
 },
 "nbformat": 4,
 "nbformat_minor": 0
}
