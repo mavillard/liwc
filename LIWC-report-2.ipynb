{
 "cells": [
  {
   "cell_type": "markdown",
   "metadata": {},
   "source": [
    "#Developing the Western Business Sentiment Dictionary - Report II"
   ]
  },
  {
   "cell_type": "markdown",
   "metadata": {},
   "source": [
    "##1. Introduction"
   ]
  },
  {
   "cell_type": "markdown",
   "metadata": {},
   "source": [
    "In order to answer the question *\"Do the media convey predominantly positive or negative messages about entrepreneurship, and if so, does that matter?\"*, we analyzed the sentiment associated to business-related textual excerpts. These excerpts were sentences extracted from the New York Times for the period January 1999 to December 2014 that contained certain keywords related to the business world. Upon completing the analysis, our conclusion is *\"Yes, the media convey positive messages.\"* \n",
    "\n",
    "This part of the project was performed in three main steps:\n",
    "\n",
    "1. Classifier design\n",
    "2. Sentence extraction\n",
    "3. Sentiment analysis\n",
    "\n",
    "Firstly, a nearest centroid classifier was trained with the dataset consisted of 8,996 sentences that our 190 participants had previously assessed. Secondly, we coded a Python script to search for articles, via the NYT API, that contained the business-related keywords. Finally, the classifier assigned a (positive or negative) value to the sentences extracted from the articles.\n",
    "\n",
    "This work was performed by the [CulturePlex Lab](http://www.cultureplex.ca/) with the contributions of Antonio Jiménez-Mavillard, Javier de la Rosa, Adriana Soto-Corominas, and Juan Luis Suárez. The code of this work can be found [here](https://github.com/mavillard/liwc)."
   ]
  },
  {
   "cell_type": "markdown",
   "metadata": {},
   "source": [
    "##2. Methodology"
   ]
  },
  {
   "cell_type": "markdown",
   "metadata": {},
   "source": [
    "###a) Classifier design"
   ]
  },
  {
   "cell_type": "markdown",
   "metadata": {},
   "source": [
    "Sentiment analysis is a classification task, where the classifier (when it is a binary classifier) decides between two classes: positive or negative. We used scikit-learn, a Python library for machine learning that provides multiple classifiers and tools for data mining and data analysis.\n",
    "\n",
    "For this task, the feature extractor turned every sentence from the 8,996 sentences in the dataset into a vector that counted the frequency of each word in the sentence. Next, this set of feature vectors was splitted into two: training and test sets. In the end, a variety of classifiers, in order to select the most accurate for this case study, were trained and tested with these two sets. Some of these classifiers were:\n",
    "* Nearest centroid\n",
    "* Ridge\n",
    "* Perceptron\n",
    "* Passive-aggressive\n",
    "* K-Neighbors\n",
    "* Random forest\n",
    "* Linear SVC (support vector machine)\n",
    "* SGD (stochastic gradient descent)\n",
    "* Naive Bayes\n",
    "\n",
    "It turned out that the best classifier was the nearest centroid (Euclidean distance and no shrink threshold) with the next results:\n",
    "```\n",
    "accuracy:   0.716\n",
    "matthews:   0.397\n",
    "classification report:\n",
    "             precision    recall  f1-score\n",
    "\n",
    "        neg       0.61      0.64      0.63\n",
    "        pos       0.79      0.76      0.77\n",
    "\n",
    "avg / total       0.72      0.72      0.72\n",
    "```\n",
    "This classifier reflects the natural bias towards positiveness."
   ]
  },
  {
   "cell_type": "markdown",
   "metadata": {},
   "source": [
    "###b) Sentence extraction"
   ]
  },
  {
   "cell_type": "markdown",
   "metadata": {},
   "source": [
    "The NYT API gives access, through HTTP requests, to the articles that match a specific search query. We coded a program in Python that requested the articles containing our business-related keywords. We searched term by term, and month by month from January 1999 to December 2014, and collected all the articles returned by the API. This process was parallelized on an 8-core machine at the Lab.\n",
    "\n",
    "For each article, we stored relevant fields such as:\n",
    "* publication date\n",
    "* section name\n",
    "* web url\n",
    "* snippet\n",
    "* abstract\n",
    "* headline\n",
    "* lead paragraph\n",
    "\n",
    "The four last fields (snippet, abstract, headline, and lead paragraph) are excerpts from the original article that contain the sentences that we were looking for. The final result was a ~1 million sentences organized in a data frame with four columns: the sentence itself, the publication date of the article that the sentence came from, the search term, and the category of the term (business vocabulary, big company, or new company)"
   ]
  },
  {
   "cell_type": "markdown",
   "metadata": {},
   "source": [
    "###c) Sentiment analysis"
   ]
  },
  {
   "cell_type": "markdown",
   "metadata": {},
   "source": [
    "In this phase, we used the nearest centroid classifier obtained to analyze the sentiment of the whole sentence dataset. The sentiment polarity (positive or negative) was added to the data frame in a fifth column."
   ]
  },
  {
   "cell_type": "markdown",
   "metadata": {},
   "source": [
    "##3. Results"
   ]
  },
  {
   "cell_type": "markdown",
   "metadata": {},
   "source": [
    "Figure 1 shows the total amount of sentences, grouped by term category, and the evolution of positive and negative sentences over the period 1999 to 2014."
   ]
  },
  {
   "cell_type": "markdown",
   "metadata": {},
   "source": [
    "<div align=\"center\">\n",
    "    <figure>\n",
    "        <img src=\"nyt/executive_manager_total.png\" width=\"600\"/>\n",
    "        <img src=\"nyt/entrepreneur_founder_total.png\" width=\"600\"/>\n",
    "        <img src=\"nyt/big_companies_total.png\" width=\"600\"/>\n",
    "        <img src=\"nyt/new_companies_total.png\" width=\"600\"/>\n",
    "        <figcaption>Fig.1 Distribution of sentences by category over the period 1999 to 2014</figcaption>\n",
    "    </figure>\n",
    "</div>"
   ]
  },
  {
   "cell_type": "markdown",
   "metadata": {},
   "source": [
    "Figure 2 shows their respective positive rate."
   ]
  },
  {
   "cell_type": "markdown",
   "metadata": {},
   "source": [
    "<div align=\"center\">\n",
    "    <figure>\n",
    "        <img src=\"nyt/categories_pos_rate.png\" width=\"600\"/>\n",
    "        <figcaption>Fig.2 Positive rate of sentences by category over the period 1999 to 2014</figcaption>\n",
    "    </figure>\n",
    "</div>"
   ]
  },
  {
   "cell_type": "markdown",
   "metadata": {},
   "source": [
    "Figure 3 shows the total amount of sentences, the number of positive, and negative sentences by profession."
   ]
  },
  {
   "cell_type": "markdown",
   "metadata": {},
   "source": [
    "<div align=\"center\">\n",
    "    <figure>\n",
    "        <img src=\"nyt/executive_total.png\" width=\"600\"/>\n",
    "        <img src=\"nyt/manager_total.png\" width=\"600\"/>\n",
    "        <img src=\"nyt/entrepreneur_total.png\" width=\"600\"/>\n",
    "        <img src=\"nyt/founder_total.png\" width=\"600\"/>\n",
    "        <figcaption>Fig.3 Distribution of sentences by profession over the period 1999 to 2014</figcaption>\n",
    "    </figure>\n",
    "</div>"
   ]
  },
  {
   "cell_type": "markdown",
   "metadata": {},
   "source": [
    "Figure 4 shows their respective positive rate."
   ]
  },
  {
   "cell_type": "markdown",
   "metadata": {},
   "source": [
    "<div align=\"center\">\n",
    "    <figure>\n",
    "        <img src=\"nyt/professions_pos_rate.png\" width=\"600\"/>\n",
    "        <figcaption>Fig.4 Positive rate of sentences by profession over the period 1999 to 2014</figcaption>\n",
    "    </figure>\n",
    "</div>"
   ]
  },
  {
   "cell_type": "markdown",
   "metadata": {},
   "source": [
    "Figure 5 shows the total amount of sentences, the number of positive, and negative sentences for some big companies."
   ]
  },
  {
   "cell_type": "markdown",
   "metadata": {},
   "source": [
    "<div align=\"center\">\n",
    "    <figure>\n",
    "        <img src=\"nyt/chevron_total.png\" width=\"600\"/>\n",
    "        <img src=\"nyt/cocacola_total.png\" width=\"600\"/>\n",
    "        <img src=\"nyt/ford_total.png\" width=\"600\"/>\n",
    "        <img src=\"nyt/general_motors_total.png\" width=\"600\"/>\n",
    "        <img src=\"nyt/microsoft_total.png\" width=\"600\"/>\n",
    "        <img src=\"nyt/mckinsey_total.png\" width=\"600\"/>\n",
    "        <figcaption>Fig.5 Distribution of sentences for big companies over the period 1999 to 2014</figcaption>\n",
    "    </figure>\n",
    "</div>"
   ]
  },
  {
   "cell_type": "markdown",
   "metadata": {},
   "source": [
    "Figure 6 shows their respective positive rate."
   ]
  },
  {
   "cell_type": "markdown",
   "metadata": {},
   "source": [
    "<div align=\"center\">\n",
    "    <figure>\n",
    "        <img src=\"nyt/some_big_companies_pos_rate.png\" width=\"600\"/>\n",
    "        <figcaption>Fig.6 Positive rate of sentences for big companies over the period 1999 to 2014</figcaption>\n",
    "    </figure>\n",
    "</div>"
   ]
  },
  {
   "cell_type": "markdown",
   "metadata": {},
   "source": [
    "Figure 7 shows the total amount of sentences, the number of positive, and negative sentences for some new companies."
   ]
  },
  {
   "cell_type": "markdown",
   "metadata": {},
   "source": [
    "<div align=\"center\">\n",
    "    <figure>\n",
    "        <img src=\"nyt/facebook_total.png\" width=\"600\"/>\n",
    "        <img src=\"nyt/instagram_total.png\" width=\"600\"/>\n",
    "        <img src=\"nyt/linkedin_total.png\" width=\"600\"/>\n",
    "        <img src=\"nyt/netflix_total.png\" width=\"600\"/>\n",
    "        <img src=\"nyt/spotify_total.png\" width=\"600\"/>\n",
    "        <img src=\"nyt/twitter_total.png\" width=\"600\"/>\n",
    "        <figcaption>Fig.7 Distribution of sentences for new companies over the period 1999 to 2014</figcaption>\n",
    "    </figure>\n",
    "</div>"
   ]
  },
  {
   "cell_type": "markdown",
   "metadata": {},
   "source": [
    "Figure 8 shows their respective positive rate."
   ]
  },
  {
   "cell_type": "markdown",
   "metadata": {},
   "source": [
    "<div align=\"center\">\n",
    "    <figure>\n",
    "        <img src=\"nyt/some_new_companies_pos_rate.png\" width=\"600\"/>\n",
    "        <figcaption>Fig.8 Positive rate of sentences for new companies over the period 1999 to 2014</figcaption>\n",
    "    </figure>\n",
    "</div>"
   ]
  },
  {
   "cell_type": "markdown",
   "metadata": {},
   "source": [
    "##4. Conclusions"
   ]
  },
  {
   "cell_type": "markdown",
   "metadata": {},
   "source": [
    "The previous figures show the amount of sentences that contain certain business-related keywords extracted from the NYT. They also show their sentiment polarity, performed by a nearest centroid classifier with a high accuracy (71%).\n",
    "\n",
    "The image 2 show that the sentiment associated to new companies is more positive than the associated to the old ones. The sentiment associated to professions like entrepreneur or founder are more positive than the associated to executive or manager. This can be seen in more detail in the image 4.\n",
    "\n",
    "The images 6 and 8 reveal that old companies range from very low (0.2) to very high (0.9) values of positiveness, while new companies remain steady in high levels of positiveness, around 0.7-0.8.\n",
    "\n",
    "Our conclusion is that the media convey a predominantly possitive sentiment about entrepreneurship."
   ]
  },
  {
   "cell_type": "code",
   "execution_count": null,
   "metadata": {
    "collapsed": true
   },
   "outputs": [],
   "source": []
  }
 ],
 "metadata": {
  "kernelspec": {
   "display_name": "Python 3",
   "language": "python",
   "name": "python3"
  },
  "language_info": {
   "codemirror_mode": {
    "name": "ipython",
    "version": 3
   },
   "file_extension": ".py",
   "mimetype": "text/x-python",
   "name": "python",
   "nbconvert_exporter": "python",
   "pygments_lexer": "ipython3",
   "version": "3.4.0"
  }
 },
 "nbformat": 4,
 "nbformat_minor": 0
}
