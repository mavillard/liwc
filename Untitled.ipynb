{
 "cells": [
  {
   "cell_type": "code",
   "execution_count": 2,
   "metadata": {
    "collapsed": false
   },
   "outputs": [
    {
     "name": "stdout",
     "output_type": "stream",
     "text": [
      "3\n"
     ]
    }
   ],
   "source": [
    "#Escribe un programa que lea un fichero línea a línea e imprima el número total de líneas. Por ejemplo, para el fichero anterior, el resultado sería 3.\n",
    "\n",
    "\n",
    "def ficheros(ruta):\n",
    "    man_archivo=open(ruta)#ruta del archivo\n",
    "    \n",
    "    for i,linea in enumerate(man_archivo):\n",
    "        i\n",
    "          \n",
    "    print(i)\n",
    "    man_archivo.close()\n",
    "        \n",
    "rut=\"/home/antonio/Downloads/archivo1.txt\" #ruta del archivo, preferible  que se encuentre dentro de la carpeta del programa \n",
    "ficheros(rut)\n",
    "    \n",
    "\n"
   ]
  },
  {
   "cell_type": "code",
   "execution_count": 6,
   "metadata": {
    "collapsed": false
   },
   "outputs": [
    {
     "name": "stdout",
     "output_type": "stream",
     "text": [
      "{0: 'Esto es un ejemplo muy sencillo de\\n', 1: 'un fichero de texto para el ejercicio 1 de la clase de\\n', 2: 'ficheros\\n'}\n"
     ]
    }
   ],
   "source": [
    "#Escribe un programa (no hace falta que sea una función, puede ser directamente código en una celda de IPython) que lea un fichero línea a línea e imprima cada línea seguida del número de palabras que contiene la línea. Por ejemplo:\n",
    "#fichero.txt:\n",
    "#Esto es un ejemplo muy sencillo de un fichero de texto para el ejercicio 1 de la clase de  ficheros\n",
    "#El resultado sería:\n",
    "\n",
    "#Esto es un ejemplo muy sencillo de 7 un fichero de texto para el ejercicio 1 de la clase de 12 ficheros 1\n",
    "\n",
    "#Pruébalo con un fichero propio.\n",
    "\n",
    "\n",
    "def ficheros(ruta):\n",
    "    man_archivo=open(ruta)#ruta del archivo\n",
    "    diccionario={}\n",
    "    for i,linea in enumerate(man_archivo):\n",
    "        diccionario[i]= linea\n",
    "    print(diccionario)\n",
    "    man_archivo.close()\n",
    "        \n",
    "rut=\"/home/antonio/Downloads/archivo1.txt\"\n",
    "ficheros(rut)"
   ]
  },
  {
   "cell_type": "code",
   "execution_count": 11,
   "metadata": {
    "collapsed": false
   },
   "outputs": [
    {
     "name": "stdout",
     "output_type": "stream",
     "text": [
      "[1, 9, 25, 49]\n"
     ]
    }
   ],
   "source": [
    "#Escribe una función llamada squares que reciba un número n y devuelva una lista de los cuadrados de los números impares comprendidos entre 1 y n. Por ejemplo, para el número 3, el resultado sería [1, 9]; para 8, [1, 9, 25, 49].\n",
    "\n",
    "def squares(s):\n",
    "    lista_impares = []\n",
    "    for x in range(1,s+1):\n",
    "       if(x%2 != 0):\n",
    "           cuadrado = x*x\n",
    "           lista_impares.append(cuadrado)\n",
    "    print(lista_impares)\n",
    "       \n",
    "squares(8)\n",
    "    \n",
    "\n"
   ]
  },
  {
   "cell_type": "code",
   "execution_count": 20,
   "metadata": {
    "collapsed": false
   },
   "outputs": [
    {
     "name": "stdout",
     "output_type": "stream",
     "text": [
      "True\n",
      "[True, True, True, True, True, True]\n"
     ]
    }
   ],
   "source": [
    "#2.Escribe una función llamada all_greater_or_equals_than_threshold que reciba dos argumentos: una lista lisde números y un threshold, y devuelva True si todos los elementos de la lista son mayores o iguales que el threshold, y False en caso contrario. Por ejemplo:\n",
    "#oall_greater_or_equals_than_threshold([8, 9, 6, 9, 5, 7], 4) => True\n",
    "#oall_greater_or_equals_than_threshold([8, 9, 6, 9, 5, 7], 6) => False\n",
    "\n",
    "\n",
    "def all_greater_or_equals_than_threshold(l,th):\n",
    "    lista=[]\n",
    "    rt= True\n",
    "    rf= False\n",
    "    for t in l:\n",
    "        n=t\n",
    "        if n>=th:\n",
    "            rt\n",
    "            lista.append(rt)\n",
    "        else:\n",
    "            rf\n",
    "            lista.append(rf)\n",
    "    \n",
    "    if rf in lista:\n",
    "        print(rf)\n",
    "    else:\n",
    "        print(rt)\n",
    "    print(lista)\n",
    "\n",
    "lista_numeros=[8, 9, 6, 9, 5, 7]\n",
    "threshold= 5\n",
    "all_greater_or_equals_than_threshold(lista_numeros,threshold)\n",
    "\n",
    "\n"
   ]
  },
  {
   "cell_type": "code",
   "execution_count": 22,
   "metadata": {
    "collapsed": false
   },
   "outputs": [
    {
     "name": "stdout",
     "output_type": "stream",
     "text": [
      "True\n"
     ]
    }
   ],
   "source": [
    "#Escribe una función llamada any_less_than_threshold que reciba dos argumentos: una lista lis de números y un threshold, y devuelva True si algún elemento de la lista es menor que el threshold, y False en caso contrario.\n",
    "#oany_less_than_threshold([8, 9, 6, 9, 5, 7], 6) => True\n",
    "#oany_less_than_threshold([8, 9, 6, 9, 5, 7], 4) => False\n",
    "\n",
    "\n",
    "\n",
    "def any_less_than_threshold(l,th):\n",
    "    lista=[]\n",
    "    rt= True\n",
    "    rf= False\n",
    "    for t in l:\n",
    "        n=t\n",
    "        if n<th:\n",
    "            rt\n",
    "            lista.append(rt)\n",
    "        else:\n",
    "            rf\n",
    "            lista.append(rf)\n",
    "    \n",
    "    if rt in lista:\n",
    "        print(rt)\n",
    "    else:\n",
    "        print(rf)\n",
    "\n",
    "lista_numeros=[8, 9, 6, 9, 5, 7]\n",
    "threshold= 6\n",
    "any_less_than_threshold(lista_numeros,threshold)\n",
    "\n",
    "\n",
    "\n"
   ]
  },
  {
   "cell_type": "code",
   "execution_count": 24,
   "metadata": {
    "collapsed": false
   },
   "outputs": [
    {
     "name": "stdout",
     "output_type": "stream",
     "text": [
      "['My', 'friend', 'is', 'very', 'good', 'looking']\n"
     ]
    }
   ],
   "source": [
    "#Escribe una función llamada string2words que reciba un string s y devuelva una lista que contenga todas las palabras del string. Si alguna palabra es compuesta (separada por un \"-\", por ejemplo, good-looking, separar esa palabra en sus dos palabras y añadirlas a la lista de palabras por separado. Por ejemplo:\n",
    "#ostring2words('My friend is very good-looking') => ['My', 'friend', 'is', 'very', 'good', 'looking']\n",
    "\n",
    "def string2words (s,l):\n",
    "    nuevcadena = s.replace('-',l)\n",
    "    print(nuevcadena.split())\n",
    "    \n",
    "palabra='My friend is very good-looking'\n",
    "limitador=\" \"\n",
    "\n",
    "string2words(palabra,limitador)\n",
    "    \n",
    "\n"
   ]
  },
  {
   "cell_type": "code",
   "execution_count": 28,
   "metadata": {
    "collapsed": false
   },
   "outputs": [
    {
     "name": "stdout",
     "output_type": "stream",
     "text": [
      "82\n"
     ]
    }
   ],
   "source": [
    "#Copia y pega lo siguiente un fichero de texto y guárdalo. Si al copiar y pegar se desajusta el contenido, arréglalo manualmente para que cada línea del fichero coincida con esto:\n",
    "#10 11 12\n",
    "#08 20 60\n",
    "#99 50 16\n",
    "#30 01 02\n",
    "#Escribe una función llamada suma_columna_medio que lea el fichero que has creado y devuelva la suma de todos los números de la columna del medio. En este caso, debería devolver 82.\n",
    "\n",
    "rut=\"/home/antonio/Downloads/archivo1.txt\"\n",
    "\n",
    "archivo = open(rut)\n",
    "def media(lista):\n",
    "    suma = sum(lista)\n",
    "    return suma\n",
    "  \n",
    "valores = [] \n",
    "for l in archivo:\n",
    "    if '#' not in l:\n",
    "        l = l.replace('\\n','')\n",
    "        leidos = l.split('\\t')\n",
    "        valores.append(int(leidos[1]))\n",
    " \n",
    "print(media(valores))\n",
    "\n",
    "\n"
   ]
  },
  {
   "cell_type": "code",
   "execution_count": 57,
   "metadata": {
    "collapsed": false
   },
   "outputs": [],
   "source": [
    "def f(x, *args, **kwargs):\n",
    "    print('x')\n",
    "    print(x)\n",
    "    print('args')\n",
    "    print(*args)\n",
    "    print('kwargs')\n",
    "    print(kwargs)"
   ]
  },
  {
   "cell_type": "code",
   "execution_count": 58,
   "metadata": {
    "collapsed": false,
    "scrolled": true
   },
   "outputs": [
    {
     "name": "stdout",
     "output_type": "stream",
     "text": [
      "x\n",
      "1\n",
      "args\n",
      "2 3 4\n",
      "kwargs\n",
      "{'q': 5}\n"
     ]
    }
   ],
   "source": [
    "f(1, 2, 3, 4, q=5)"
   ]
  },
  {
   "cell_type": "code",
   "execution_count": 62,
   "metadata": {
    "collapsed": false
   },
   "outputs": [
    {
     "name": "stdout",
     "output_type": "stream",
     "text": [
      "x\n",
      "1\n",
      "args\n",
      "2 3 4\n",
      "kwargs\n",
      "{'q': 5}\n"
     ]
    }
   ],
   "source": [
    "f(1, 2, 3, 4, **{'q': 5})"
   ]
  },
  {
   "cell_type": "code",
   "execution_count": 63,
   "metadata": {
    "collapsed": true
   },
   "outputs": [],
   "source": [
    "import requests"
   ]
  },
  {
   "cell_type": "code",
   "execution_count": 103,
   "metadata": {
    "collapsed": true
   },
   "outputs": [],
   "source": [
    "r = requests.get('http://api.nytimes.com/svc/search/v2/articlesearch.json?q=kitchen&begin_date=19990101&end_date=20141231&sort=oldest&api-key=sample-key&page=4678')"
   ]
  },
  {
   "cell_type": "code",
   "execution_count": 104,
   "metadata": {
    "collapsed": false
   },
   "outputs": [],
   "source": [
    "d = r.json()"
   ]
  },
  {
   "cell_type": "code",
   "execution_count": 105,
   "metadata": {
    "collapsed": false
   },
   "outputs": [
    {
     "data": {
      "text/plain": [
       "dict_keys(['results', 'status', 'copyright', 'errors'])"
      ]
     },
     "execution_count": 105,
     "metadata": {},
     "output_type": "execute_result"
    }
   ],
   "source": [
    "d.keys()"
   ]
  },
  {
   "cell_type": "code",
   "execution_count": 106,
   "metadata": {
    "collapsed": false
   },
   "outputs": [
    {
     "data": {
      "text/plain": [
       "'ERROR'"
      ]
     },
     "execution_count": 106,
     "metadata": {},
     "output_type": "execute_result"
    }
   ],
   "source": [
    "d['status']"
   ]
  },
  {
   "cell_type": "code",
   "execution_count": 98,
   "metadata": {
    "collapsed": false
   },
   "outputs": [
    {
     "data": {
      "text/plain": [
       "'Copyright (c) 2013 The New York Times Company.  All Rights Reserved.'"
      ]
     },
     "execution_count": 98,
     "metadata": {},
     "output_type": "execute_result"
    }
   ],
   "source": [
    "d['copyright']"
   ]
  },
  {
   "cell_type": "code",
   "execution_count": 99,
   "metadata": {
    "collapsed": false
   },
   "outputs": [
    {
     "data": {
      "text/plain": [
       "dict_keys(['docs', 'meta'])"
      ]
     },
     "execution_count": 99,
     "metadata": {},
     "output_type": "execute_result"
    }
   ],
   "source": [
    "d['response'].keys()"
   ]
  },
  {
   "cell_type": "code",
   "execution_count": 100,
   "metadata": {
    "collapsed": false
   },
   "outputs": [
    {
     "data": {
      "text/plain": [
       "{'hits': 46786, 'offset': 20, 'time': 44}"
      ]
     },
     "execution_count": 100,
     "metadata": {},
     "output_type": "execute_result"
    }
   ],
   "source": [
    "d['response']['meta']"
   ]
  },
  {
   "cell_type": "code",
   "execution_count": 101,
   "metadata": {
    "collapsed": false
   },
   "outputs": [
    {
     "data": {
      "text/plain": [
       "10"
      ]
     },
     "execution_count": 101,
     "metadata": {},
     "output_type": "execute_result"
    }
   ],
   "source": [
    "len(d['response']['docs'])"
   ]
  },
  {
   "cell_type": "code",
   "execution_count": 102,
   "metadata": {
    "collapsed": false
   },
   "outputs": [
    {
     "data": {
      "text/plain": [
       "{'_id': '4fd20dfe8eb7c8105d77ef34',\n",
       " 'abstract': 'Richard Jay Scholem reviews Painters, a Brookhaven Hamlet, LI, restaurant (M)0',\n",
       " 'blog': [],\n",
       " 'byline': {'original': 'By RICHARD JAY SCHOLEM',\n",
       "  'person': [{'firstname': 'Richard',\n",
       "    'lastname': 'SCHOLEM',\n",
       "    'middlename': 'Jay',\n",
       "    'organization': '',\n",
       "    'rank': 1,\n",
       "    'role': 'reported'}]},\n",
       " 'document_type': 'article',\n",
       " 'headline': {'kicker': 'A LA CARTE',\n",
       "  'main': 'Where the Choices Are Almost Limitless'},\n",
       " 'keywords': [{'name': 'organizations', 'value': 'PAINTERS'},\n",
       "  {'name': 'subject', 'value': 'REVIEWS'},\n",
       "  {'name': 'subject', 'value': 'RESTAURANTS'}],\n",
       " 'lead_paragraph': \"TAKE one of Greenwich Village's biggest, funkiest basement restaurants, plunk it down in tiny Brookhaven Hamlet and you have Painters. This rustic, spare, 175-seat, 10,000-square-foot former catering hall, with its casual barny charm, is as much an art gallery as a restaurant. Its white brick walls are covered by paintings for sale by local artists. Sculptures hang from dark wood overhead beams. Nearby Long Island Rail Road trains rumble through this one-of-a-kind, city-like spot at 416 South Country Road (286-6264). It is an eclectic venue with french doors, dried flowers, candles, bare tables, a piano and a cavernous open kitchen in its two dining rooms and sofas, pool tables and a big television in its bar and lounge. Patrons can order everything from American comfort food to Creole, Mexican, Italian, Cuban, Belgian, French, Southern, Southwestern and California dishes. The evening menu offers 8 appetizers, 6 salads, 5 nacho possibilities, 6 small plate picks, 11 entrees (plus specials) and 10 desserts. The lunch menu lists soup, nine sandwiches, five po'boys, eight salads and six entrees.\",\n",
       " 'multimedia': [],\n",
       " 'news_desk': 'Long Island Weekly Desk',\n",
       " 'print_page': '11',\n",
       " 'pub_date': '1999-01-03T00:00:00Z',\n",
       " 'section_name': 'New York and Region',\n",
       " 'snippet': \"TAKE one of Greenwich Village's biggest, funkiest basement restaurants, plunk it down in tiny Brookhaven Hamlet and you have Painters. This rustic, spare, 175-seat, 10,000-square-foot former catering hall, with its casual barny charm, is as much an...\",\n",
       " 'source': 'The New York Times',\n",
       " 'subsection_name': None,\n",
       " 'type_of_material': 'Review',\n",
       " 'web_url': 'http://www.nytimes.com/1999/01/03/nyregion/a-la-carte-where-the-choices-are-almost-limitless.html',\n",
       " 'word_count': 985}"
      ]
     },
     "execution_count": 102,
     "metadata": {},
     "output_type": "execute_result"
    }
   ],
   "source": [
    "d['response']['docs'][0]"
   ]
  },
  {
   "cell_type": "code",
   "execution_count": 110,
   "metadata": {
    "collapsed": false
   },
   "outputs": [
    {
     "data": {
      "text/plain": [
       "[0.0, 1.0, 2.0, 3.0, 4.0, 5.0, 6.0, 7.0, 8.0, 9.0]"
      ]
     },
     "execution_count": 110,
     "metadata": {},
     "output_type": "execute_result"
    }
   ],
   "source": [
    "from joblib import Parallel, delayed\n",
    "from math import sqrt\n",
    "Parallel(n_jobs=-1)(delayed(sqrt)(i**2) for i in range(10))"
   ]
  },
  {
   "cell_type": "code",
   "execution_count": 120,
   "metadata": {
    "collapsed": false
   },
   "outputs": [
    {
     "name": "stdout",
     "output_type": "stream",
     "text": [
      "0 0\n",
      "1 1\n",
      "2 2\n",
      "3 3\n",
      "4 4\n",
      "5 5\n",
      "6 6\n",
      "7 7\n",
      "8 8\n",
      "9 9\n"
     ]
    },
    {
     "data": {
      "text/plain": [
       "[None, None, None, None, None, None, None, None, None, None]"
      ]
     },
     "execution_count": 120,
     "metadata": {},
     "output_type": "execute_result"
    }
   ],
   "source": [
    "Parallel(n_jobs=1)(delayed(print)(i, j) for i, j in zip(range(10), range(10)))"
   ]
  },
  {
   "cell_type": "code",
   "execution_count": 117,
   "metadata": {
    "collapsed": false
   },
   "outputs": [
    {
     "ename": "TypeError",
     "evalue": "'int' object is not iterable",
     "output_type": "error",
     "traceback": [
      "\u001b[1;31m---------------------------------------------------------------------------\u001b[0m",
      "\u001b[1;31mTypeError\u001b[0m                                 Traceback (most recent call last)",
      "\u001b[1;32m<ipython-input-117-758a65b6478a>\u001b[0m in \u001b[0;36m<module>\u001b[1;34m()\u001b[0m\n\u001b[1;32m----> 1\u001b[1;33m \u001b[1;32mfor\u001b[0m \u001b[0mi\u001b[0m\u001b[1;33m,\u001b[0m \u001b[0mj\u001b[0m \u001b[1;32min\u001b[0m \u001b[0mzip\u001b[0m\u001b[1;33m(\u001b[0m\u001b[0mrange\u001b[0m\u001b[1;33m(\u001b[0m\u001b[1;36m10\u001b[0m\u001b[1;33m)\u001b[0m\u001b[1;33m,\u001b[0m \u001b[0mrange\u001b[0m\u001b[1;33m(\u001b[0m\u001b[1;36m10\u001b[0m\u001b[1;33m)\u001b[0m\u001b[1;33m)\u001b[0m\u001b[1;33m:\u001b[0m \u001b[0mprint\u001b[0m\u001b[1;33m(\u001b[0m\u001b[0msum\u001b[0m\u001b[1;33m(\u001b[0m\u001b[0mi\u001b[0m\u001b[1;33m,\u001b[0m\u001b[0mj\u001b[0m\u001b[1;33m)\u001b[0m\u001b[1;33m)\u001b[0m\u001b[1;33m\u001b[0m\u001b[0m\n\u001b[0m",
      "\u001b[1;31mTypeError\u001b[0m: 'int' object is not iterable"
     ]
    }
   ],
   "source": [
    "for i, j in zip(range(10), range(10)):\n",
    "    (sum(i,j))"
   ]
  },
  {
   "cell_type": "code",
   "execution_count": null,
   "metadata": {
    "collapsed": true
   },
   "outputs": [],
   "source": []
  }
 ],
 "metadata": {
  "kernelspec": {
   "display_name": "Python 3",
   "language": "python",
   "name": "python3"
  },
  "language_info": {
   "codemirror_mode": {
    "name": "ipython",
    "version": 3
   },
   "file_extension": ".py",
   "mimetype": "text/x-python",
   "name": "python",
   "nbconvert_exporter": "python",
   "pygments_lexer": "ipython3",
   "version": "3.4.0"
  }
 },
 "nbformat": 4,
 "nbformat_minor": 0
}
