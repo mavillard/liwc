{
 "cells": [
  {
   "cell_type": "markdown",
   "metadata": {},
   "source": [
    "# Preparing NYT and FT dataframes"
   ]
  },
  {
   "cell_type": "code",
   "execution_count": 1,
   "metadata": {
    "collapsed": true
   },
   "outputs": [],
   "source": [
    "from datetime import datetime\n",
    "\n",
    "import blaze\n",
    "import pandas as pd"
   ]
  },
  {
   "cell_type": "markdown",
   "metadata": {},
   "source": [
    "## NYT"
   ]
  },
  {
   "cell_type": "code",
   "execution_count": 2,
   "metadata": {
    "collapsed": false
   },
   "outputs": [],
   "source": [
    "# 8 csv files previously built on another machine. Sentiment included.\n",
    "nyt_data_blaze = blaze.Data('../nytimes/nyt_data/data_*.csv', delimiter=',')"
   ]
  },
  {
   "cell_type": "code",
   "execution_count": 3,
   "metadata": {
    "collapsed": false
   },
   "outputs": [
    {
     "data": {
      "text/plain": [
       "934654"
      ]
     },
     "execution_count": 3,
     "metadata": {},
     "output_type": "execute_result"
    }
   ],
   "source": [
    "len(nyt_data_blaze)"
   ]
  },
  {
   "cell_type": "code",
   "execution_count": 4,
   "metadata": {
    "collapsed": false
   },
   "outputs": [],
   "source": [
    "nyt_sentiment_data_df = blaze.odo(nyt_data_blaze, pd.DataFrame)"
   ]
  },
  {
   "cell_type": "code",
   "execution_count": 5,
   "metadata": {
    "collapsed": false
   },
   "outputs": [],
   "source": [
    "nyt_sent_data_df = nyt_sentiment_data_df[['article_id', 'pub_date', 'term', 'sentence', 'sentiment']].copy()\n",
    "nyt_sent_data_df = nyt_sent_data_df.rename(index=str, columns={'pub_date': 'date'})\n",
    "nyt_sent_data_df['source'] = 'nyt'"
   ]
  },
  {
   "cell_type": "code",
   "execution_count": 6,
   "metadata": {
    "collapsed": false
   },
   "outputs": [
    {
     "data": {
      "text/html": [
       "<div>\n",
       "<table border=\"1\" class=\"dataframe\">\n",
       "  <thead>\n",
       "    <tr style=\"text-align: right;\">\n",
       "      <th></th>\n",
       "      <th>article_id</th>\n",
       "      <th>date</th>\n",
       "      <th>term</th>\n",
       "      <th>sentence</th>\n",
       "      <th>sentiment</th>\n",
       "      <th>source</th>\n",
       "    </tr>\n",
       "  </thead>\n",
       "  <tbody>\n",
       "    <tr>\n",
       "      <th>0</th>\n",
       "      <td>4fd20d7d8eb7c8105d77daf9</td>\n",
       "      <td>1999-01-16</td>\n",
       "      <td>new venture</td>\n",
       "      <td>Keeneland's new venture came as a surprise to ...</td>\n",
       "      <td>pos</td>\n",
       "      <td>nyt</td>\n",
       "    </tr>\n",
       "    <tr>\n",
       "      <th>1</th>\n",
       "      <td>4fd20db88eb7c8105d77e511</td>\n",
       "      <td>1999-01-03</td>\n",
       "      <td>manager</td>\n",
       "      <td>The plan Presley and his hucksterish business ...</td>\n",
       "      <td>neg</td>\n",
       "      <td>nyt</td>\n",
       "    </tr>\n",
       "    <tr>\n",
       "      <th>2</th>\n",
       "      <td>5482d92a38f0d8403d9cd045</td>\n",
       "      <td>2008-07-08</td>\n",
       "      <td>Twitch</td>\n",
       "      <td>In the male toadfish the swimbladder has been ...</td>\n",
       "      <td>pos</td>\n",
       "      <td>nyt</td>\n",
       "    </tr>\n",
       "    <tr>\n",
       "      <th>3</th>\n",
       "      <td>5456ab1438f0d86ef22a094e</td>\n",
       "      <td>2009-10-04</td>\n",
       "      <td>executive</td>\n",
       "      <td>Mr. Pozycki is the chief executive of SJP Prop...</td>\n",
       "      <td>pos</td>\n",
       "      <td>nyt</td>\n",
       "    </tr>\n",
       "    <tr>\n",
       "      <th>4</th>\n",
       "      <td>5456ab1438f0d86ef22a094e</td>\n",
       "      <td>2009-10-04</td>\n",
       "      <td>executive</td>\n",
       "      <td>Mr. Pozycki 59 is the chief executive of SJP P...</td>\n",
       "      <td>pos</td>\n",
       "      <td>nyt</td>\n",
       "    </tr>\n",
       "  </tbody>\n",
       "</table>\n",
       "</div>"
      ],
      "text/plain": [
       "                 article_id       date         term  \\\n",
       "0  4fd20d7d8eb7c8105d77daf9 1999-01-16  new venture   \n",
       "1  4fd20db88eb7c8105d77e511 1999-01-03      manager   \n",
       "2  5482d92a38f0d8403d9cd045 2008-07-08       Twitch   \n",
       "3  5456ab1438f0d86ef22a094e 2009-10-04    executive   \n",
       "4  5456ab1438f0d86ef22a094e 2009-10-04    executive   \n",
       "\n",
       "                                            sentence sentiment source  \n",
       "0  Keeneland's new venture came as a surprise to ...       pos    nyt  \n",
       "1  The plan Presley and his hucksterish business ...       neg    nyt  \n",
       "2  In the male toadfish the swimbladder has been ...       pos    nyt  \n",
       "3  Mr. Pozycki is the chief executive of SJP Prop...       pos    nyt  \n",
       "4  Mr. Pozycki 59 is the chief executive of SJP P...       pos    nyt  "
      ]
     },
     "execution_count": 6,
     "metadata": {},
     "output_type": "execute_result"
    }
   ],
   "source": [
    "nyt_sent_data_df.head()"
   ]
  },
  {
   "cell_type": "markdown",
   "metadata": {},
   "source": [
    "## FT"
   ]
  },
  {
   "cell_type": "code",
   "execution_count": 7,
   "metadata": {
    "collapsed": false
   },
   "outputs": [],
   "source": [
    "# 8 csv files previously built on another machine. Sentiment included.\n",
    "ft_data_blaze = blaze.Data('../nytimes/new_ft_data_*.csv', delimiter=',')"
   ]
  },
  {
   "cell_type": "code",
   "execution_count": 8,
   "metadata": {
    "collapsed": false
   },
   "outputs": [
    {
     "data": {
      "text/plain": [
       "749475"
      ]
     },
     "execution_count": 8,
     "metadata": {},
     "output_type": "execute_result"
    }
   ],
   "source": [
    "len(ft_data_blaze)"
   ]
  },
  {
   "cell_type": "code",
   "execution_count": 9,
   "metadata": {
    "collapsed": false
   },
   "outputs": [],
   "source": [
    "ft_sentiment_data_df = blaze.odo(ft_data_blaze, pd.DataFrame)"
   ]
  },
  {
   "cell_type": "code",
   "execution_count": 10,
   "metadata": {
    "collapsed": true
   },
   "outputs": [],
   "source": [
    "ft_sent_data_df = ft_sentiment_data_df[['article_id', 'date', 'search_term', 'sentence', 'sentiment']].copy()\n",
    "ft_sent_data_df = ft_sent_data_df.rename(index=str, columns={'search_term': 'term'})\n",
    "ft_sent_data_df['source'] = 'ft'"
   ]
  },
  {
   "cell_type": "code",
   "execution_count": 11,
   "metadata": {
    "collapsed": false
   },
   "outputs": [
    {
     "name": "stdout",
     "output_type": "stream",
     "text": [
      "CPU times: user 2min 21s, sys: 3.56 s, total: 2min 25s\n",
      "Wall time: 2min 16s\n"
     ]
    }
   ],
   "source": [
    "%%time\n",
    "\n",
    "ft_sent_data_df['date'] = ft_sent_data_df.date.apply(lambda x: pd.to_datetime(x, format='%Y%m%d'))"
   ]
  },
  {
   "cell_type": "code",
   "execution_count": 12,
   "metadata": {
    "collapsed": false
   },
   "outputs": [
    {
     "data": {
      "text/html": [
       "<div>\n",
       "<table border=\"1\" class=\"dataframe\">\n",
       "  <thead>\n",
       "    <tr style=\"text-align: right;\">\n",
       "      <th></th>\n",
       "      <th>article_id</th>\n",
       "      <th>date</th>\n",
       "      <th>term</th>\n",
       "      <th>sentence</th>\n",
       "      <th>sentiment</th>\n",
       "      <th>source</th>\n",
       "    </tr>\n",
       "  </thead>\n",
       "  <tbody>\n",
       "    <tr>\n",
       "      <th>0</th>\n",
       "      <td>040429008280</td>\n",
       "      <td>2004-04-29</td>\n",
       "      <td>microsoft</td>\n",
       "      <td>and Microsoft.</td>\n",
       "      <td>pos</td>\n",
       "      <td>ft</td>\n",
       "    </tr>\n",
       "    <tr>\n",
       "      <th>1</th>\n",
       "      <td>040429008280</td>\n",
       "      <td>2004-04-29</td>\n",
       "      <td>google</td>\n",
       "      <td>has pulled off a series of acquisitions, inclu...</td>\n",
       "      <td>pos</td>\n",
       "      <td>ft</td>\n",
       "    </tr>\n",
       "    <tr>\n",
       "      <th>2</th>\n",
       "      <td>040429008280</td>\n",
       "      <td>2004-04-29</td>\n",
       "      <td>google</td>\n",
       "      <td>Earlier this year it dropped the Google search...</td>\n",
       "      <td>pos</td>\n",
       "      <td>ft</td>\n",
       "    </tr>\n",
       "    <tr>\n",
       "      <th>3</th>\n",
       "      <td>040429008280</td>\n",
       "      <td>2004-04-29</td>\n",
       "      <td>google</td>\n",
       "      <td>Yahoo could now be better placed than Google t...</td>\n",
       "      <td>pos</td>\n",
       "      <td>ft</td>\n",
       "    </tr>\n",
       "    <tr>\n",
       "      <th>4</th>\n",
       "      <td>040429008280</td>\n",
       "      <td>2004-04-29</td>\n",
       "      <td>google</td>\n",
       "      <td>user spends nearly three hours a month on the ...</td>\n",
       "      <td>pos</td>\n",
       "      <td>ft</td>\n",
       "    </tr>\n",
       "  </tbody>\n",
       "</table>\n",
       "</div>"
      ],
      "text/plain": [
       "     article_id       date       term  \\\n",
       "0  040429008280 2004-04-29  microsoft   \n",
       "1  040429008280 2004-04-29     google   \n",
       "2  040429008280 2004-04-29     google   \n",
       "3  040429008280 2004-04-29     google   \n",
       "4  040429008280 2004-04-29     google   \n",
       "\n",
       "                                            sentence sentiment source  \n",
       "0                                     and Microsoft.       pos     ft  \n",
       "1  has pulled off a series of acquisitions, inclu...       pos     ft  \n",
       "2  Earlier this year it dropped the Google search...       pos     ft  \n",
       "3  Yahoo could now be better placed than Google t...       pos     ft  \n",
       "4  user spends nearly three hours a month on the ...       pos     ft  "
      ]
     },
     "execution_count": 12,
     "metadata": {},
     "output_type": "execute_result"
    }
   ],
   "source": [
    "ft_sent_data_df.head()"
   ]
  },
  {
   "cell_type": "markdown",
   "metadata": {},
   "source": [
    "## Together"
   ]
  },
  {
   "cell_type": "code",
   "execution_count": 13,
   "metadata": {
    "collapsed": false
   },
   "outputs": [],
   "source": [
    "sent_data_df = nyt_sent_data_df.append(ft_sent_data_df, ignore_index=True)"
   ]
  },
  {
   "cell_type": "code",
   "execution_count": 14,
   "metadata": {
    "collapsed": false
   },
   "outputs": [
    {
     "data": {
      "text/plain": [
       "1684129"
      ]
     },
     "execution_count": 14,
     "metadata": {},
     "output_type": "execute_result"
    }
   ],
   "source": [
    "len(sent_data_df)"
   ]
  },
  {
   "cell_type": "code",
   "execution_count": 15,
   "metadata": {
    "collapsed": false
   },
   "outputs": [
    {
     "data": {
      "text/html": [
       "<div>\n",
       "<table border=\"1\" class=\"dataframe\">\n",
       "  <thead>\n",
       "    <tr style=\"text-align: right;\">\n",
       "      <th></th>\n",
       "      <th>article_id</th>\n",
       "      <th>date</th>\n",
       "      <th>term</th>\n",
       "      <th>sentence</th>\n",
       "      <th>sentiment</th>\n",
       "      <th>source</th>\n",
       "    </tr>\n",
       "  </thead>\n",
       "  <tbody>\n",
       "    <tr>\n",
       "      <th>0</th>\n",
       "      <td>4fd20d7d8eb7c8105d77daf9</td>\n",
       "      <td>1999-01-16</td>\n",
       "      <td>new venture</td>\n",
       "      <td>Keeneland's new venture came as a surprise to ...</td>\n",
       "      <td>pos</td>\n",
       "      <td>nyt</td>\n",
       "    </tr>\n",
       "    <tr>\n",
       "      <th>1</th>\n",
       "      <td>4fd20db88eb7c8105d77e511</td>\n",
       "      <td>1999-01-03</td>\n",
       "      <td>manager</td>\n",
       "      <td>The plan Presley and his hucksterish business ...</td>\n",
       "      <td>neg</td>\n",
       "      <td>nyt</td>\n",
       "    </tr>\n",
       "    <tr>\n",
       "      <th>2</th>\n",
       "      <td>5482d92a38f0d8403d9cd045</td>\n",
       "      <td>2008-07-08</td>\n",
       "      <td>Twitch</td>\n",
       "      <td>In the male toadfish the swimbladder has been ...</td>\n",
       "      <td>pos</td>\n",
       "      <td>nyt</td>\n",
       "    </tr>\n",
       "    <tr>\n",
       "      <th>3</th>\n",
       "      <td>5456ab1438f0d86ef22a094e</td>\n",
       "      <td>2009-10-04</td>\n",
       "      <td>executive</td>\n",
       "      <td>Mr. Pozycki is the chief executive of SJP Prop...</td>\n",
       "      <td>pos</td>\n",
       "      <td>nyt</td>\n",
       "    </tr>\n",
       "    <tr>\n",
       "      <th>4</th>\n",
       "      <td>5456ab1438f0d86ef22a094e</td>\n",
       "      <td>2009-10-04</td>\n",
       "      <td>executive</td>\n",
       "      <td>Mr. Pozycki 59 is the chief executive of SJP P...</td>\n",
       "      <td>pos</td>\n",
       "      <td>nyt</td>\n",
       "    </tr>\n",
       "  </tbody>\n",
       "</table>\n",
       "</div>"
      ],
      "text/plain": [
       "                 article_id       date         term  \\\n",
       "0  4fd20d7d8eb7c8105d77daf9 1999-01-16  new venture   \n",
       "1  4fd20db88eb7c8105d77e511 1999-01-03      manager   \n",
       "2  5482d92a38f0d8403d9cd045 2008-07-08       Twitch   \n",
       "3  5456ab1438f0d86ef22a094e 2009-10-04    executive   \n",
       "4  5456ab1438f0d86ef22a094e 2009-10-04    executive   \n",
       "\n",
       "                                            sentence sentiment source  \n",
       "0  Keeneland's new venture came as a surprise to ...       pos    nyt  \n",
       "1  The plan Presley and his hucksterish business ...       neg    nyt  \n",
       "2  In the male toadfish the swimbladder has been ...       pos    nyt  \n",
       "3  Mr. Pozycki is the chief executive of SJP Prop...       pos    nyt  \n",
       "4  Mr. Pozycki 59 is the chief executive of SJP P...       pos    nyt  "
      ]
     },
     "execution_count": 15,
     "metadata": {},
     "output_type": "execute_result"
    }
   ],
   "source": [
    "sent_data_df.head()"
   ]
  },
  {
   "cell_type": "code",
   "execution_count": 16,
   "metadata": {
    "collapsed": true
   },
   "outputs": [],
   "source": [
    "def diff_month(d1, d2):\n",
    "    return (d2.year - d1.year) * 12 + d2.month - d1.month"
   ]
  },
  {
   "cell_type": "code",
   "execution_count": 17,
   "metadata": {
    "collapsed": false
   },
   "outputs": [
    {
     "name": "stdout",
     "output_type": "stream",
     "text": [
      "CPU times: user 8.12 s, sys: 78.8 ms, total: 8.2 s\n",
      "Wall time: 8.11 s\n"
     ]
    }
   ],
   "source": [
    "%%time\n",
    "\n",
    "sent_data_df['n_months'] = sent_data_df.date.apply(lambda x: diff_month(datetime(1999, 1, 1), x.date()))"
   ]
  },
  {
   "cell_type": "code",
   "execution_count": 18,
   "metadata": {
    "collapsed": false
   },
   "outputs": [
    {
     "data": {
      "text/html": [
       "<div>\n",
       "<table border=\"1\" class=\"dataframe\">\n",
       "  <thead>\n",
       "    <tr style=\"text-align: right;\">\n",
       "      <th></th>\n",
       "      <th>article_id</th>\n",
       "      <th>date</th>\n",
       "      <th>term</th>\n",
       "      <th>sentence</th>\n",
       "      <th>sentiment</th>\n",
       "      <th>source</th>\n",
       "      <th>n_months</th>\n",
       "    </tr>\n",
       "  </thead>\n",
       "  <tbody>\n",
       "    <tr>\n",
       "      <th>0</th>\n",
       "      <td>4fd20d7d8eb7c8105d77daf9</td>\n",
       "      <td>1999-01-16</td>\n",
       "      <td>new venture</td>\n",
       "      <td>Keeneland's new venture came as a surprise to ...</td>\n",
       "      <td>pos</td>\n",
       "      <td>nyt</td>\n",
       "      <td>0</td>\n",
       "    </tr>\n",
       "    <tr>\n",
       "      <th>1</th>\n",
       "      <td>4fd20db88eb7c8105d77e511</td>\n",
       "      <td>1999-01-03</td>\n",
       "      <td>manager</td>\n",
       "      <td>The plan Presley and his hucksterish business ...</td>\n",
       "      <td>neg</td>\n",
       "      <td>nyt</td>\n",
       "      <td>0</td>\n",
       "    </tr>\n",
       "    <tr>\n",
       "      <th>2</th>\n",
       "      <td>5482d92a38f0d8403d9cd045</td>\n",
       "      <td>2008-07-08</td>\n",
       "      <td>Twitch</td>\n",
       "      <td>In the male toadfish the swimbladder has been ...</td>\n",
       "      <td>pos</td>\n",
       "      <td>nyt</td>\n",
       "      <td>114</td>\n",
       "    </tr>\n",
       "    <tr>\n",
       "      <th>3</th>\n",
       "      <td>5456ab1438f0d86ef22a094e</td>\n",
       "      <td>2009-10-04</td>\n",
       "      <td>executive</td>\n",
       "      <td>Mr. Pozycki is the chief executive of SJP Prop...</td>\n",
       "      <td>pos</td>\n",
       "      <td>nyt</td>\n",
       "      <td>129</td>\n",
       "    </tr>\n",
       "    <tr>\n",
       "      <th>4</th>\n",
       "      <td>5456ab1438f0d86ef22a094e</td>\n",
       "      <td>2009-10-04</td>\n",
       "      <td>executive</td>\n",
       "      <td>Mr. Pozycki 59 is the chief executive of SJP P...</td>\n",
       "      <td>pos</td>\n",
       "      <td>nyt</td>\n",
       "      <td>129</td>\n",
       "    </tr>\n",
       "  </tbody>\n",
       "</table>\n",
       "</div>"
      ],
      "text/plain": [
       "                 article_id       date         term  \\\n",
       "0  4fd20d7d8eb7c8105d77daf9 1999-01-16  new venture   \n",
       "1  4fd20db88eb7c8105d77e511 1999-01-03      manager   \n",
       "2  5482d92a38f0d8403d9cd045 2008-07-08       Twitch   \n",
       "3  5456ab1438f0d86ef22a094e 2009-10-04    executive   \n",
       "4  5456ab1438f0d86ef22a094e 2009-10-04    executive   \n",
       "\n",
       "                                            sentence sentiment source  \\\n",
       "0  Keeneland's new venture came as a surprise to ...       pos    nyt   \n",
       "1  The plan Presley and his hucksterish business ...       neg    nyt   \n",
       "2  In the male toadfish the swimbladder has been ...       pos    nyt   \n",
       "3  Mr. Pozycki is the chief executive of SJP Prop...       pos    nyt   \n",
       "4  Mr. Pozycki 59 is the chief executive of SJP P...       pos    nyt   \n",
       "\n",
       "   n_months  \n",
       "0         0  \n",
       "1         0  \n",
       "2       114  \n",
       "3       129  \n",
       "4       129  "
      ]
     },
     "execution_count": 18,
     "metadata": {},
     "output_type": "execute_result"
    }
   ],
   "source": [
    "sent_data_df.head()"
   ]
  },
  {
   "cell_type": "markdown",
   "metadata": {},
   "source": [
    "## Save results"
   ]
  },
  {
   "cell_type": "code",
   "execution_count": 19,
   "metadata": {
    "collapsed": true
   },
   "outputs": [],
   "source": [
    "sent_data_df.to_csv('nyt_ft_sent_data.csv', index=False)"
   ]
  },
  {
   "cell_type": "code",
   "execution_count": null,
   "metadata": {
    "collapsed": true
   },
   "outputs": [],
   "source": []
  }
 ],
 "metadata": {
  "kernelspec": {
   "display_name": "Python 3",
   "language": "python",
   "name": "python3"
  },
  "language_info": {
   "codemirror_mode": {
    "name": "ipython",
    "version": 3
   },
   "file_extension": ".py",
   "mimetype": "text/x-python",
   "name": "python",
   "nbconvert_exporter": "python",
   "pygments_lexer": "ipython3",
   "version": "3.4.3"
  }
 },
 "nbformat": 4,
 "nbformat_minor": 0
}
