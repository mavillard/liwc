{
 "cells": [
  {
   "cell_type": "markdown",
   "metadata": {},
   "source": [
    "# Art &The New York Times &The Financial Times & keywords"
   ]
  },
  {
   "cell_type": "code",
   "execution_count": 1,
   "metadata": {
    "collapsed": false
   },
   "outputs": [],
   "source": [
    "import string\n",
    "\n",
    "import nltk\n",
    "from nltk.corpus import stopwords\n",
    "from nltk.util import ngrams\n",
    "\n",
    "import blaze\n",
    "import matplotlib\n",
    "import pandas as pd\n",
    "import seaborn as sns\n",
    "from matplotlib import pyplot as plt"
   ]
  },
  {
   "cell_type": "code",
   "execution_count": 2,
   "metadata": {
    "collapsed": true
   },
   "outputs": [],
   "source": [
    "%matplotlib inline"
   ]
  },
  {
   "cell_type": "markdown",
   "metadata": {},
   "source": [
    "## NYT & FT"
   ]
  },
  {
   "cell_type": "code",
   "execution_count": 3,
   "metadata": {
    "collapsed": false
   },
   "outputs": [],
   "source": [
    "nyt_data = pd.read_csv('art_nyt_data.csv')"
   ]
  },
  {
   "cell_type": "code",
   "execution_count": 4,
   "metadata": {
    "collapsed": true
   },
   "outputs": [],
   "source": [
    "ft_data = pd.read_csv('art_ft_data.csv')"
   ]
  },
  {
   "cell_type": "code",
   "execution_count": 5,
   "metadata": {
    "collapsed": true
   },
   "outputs": [],
   "source": [
    "def get_ngrams(sentence):\n",
    "    result = []\n",
    "    tokens = nltk.word_tokenize(sentence.lower())\n",
    "    tokens = [t for t in tokens if t not in string.punctuation]\n",
    "    for n in range(1, 4):\n",
    "        result.extend(ngrams(tokens, n))\n",
    "    result = [' '.join(r) for r in result]\n",
    "    return result"
   ]
  },
  {
   "cell_type": "code",
   "execution_count": 6,
   "metadata": {
    "collapsed": true
   },
   "outputs": [],
   "source": [
    "def get_ngrams_df(df, sentiment=None): # sentiment = pos, neg\n",
    "    result = []\n",
    "    for index, row in df.iterrows():\n",
    "        if not sentiment:\n",
    "            result.extend(get_ngrams(row['sentence']))\n",
    "        if sentiment == 'pos' and row['sentiment'] == 'pos':\n",
    "            result.extend(get_ngrams(row['sentence']))\n",
    "        if sentiment == 'neg' and row['sentiment'] == 'neg':\n",
    "            result.extend(get_ngrams(row['sentence']))\n",
    "    return result"
   ]
  },
  {
   "cell_type": "code",
   "execution_count": 7,
   "metadata": {
    "collapsed": false
   },
   "outputs": [],
   "source": [
    "nytt = get_ngrams_df(nyt_data)"
   ]
  },
  {
   "cell_type": "code",
   "execution_count": 8,
   "metadata": {
    "collapsed": false
   },
   "outputs": [
    {
     "data": {
      "text/plain": [
       "1260867"
      ]
     },
     "execution_count": 8,
     "metadata": {},
     "output_type": "execute_result"
    }
   ],
   "source": [
    "len(nytt)"
   ]
  },
  {
   "cell_type": "code",
   "execution_count": 9,
   "metadata": {
    "collapsed": false
   },
   "outputs": [],
   "source": [
    "# nytp = get_ngrams_df(nyt_data, 'pos')"
   ]
  },
  {
   "cell_type": "code",
   "execution_count": 11,
   "metadata": {
    "collapsed": false
   },
   "outputs": [
    {
     "data": {
      "text/plain": [
       "983391"
      ]
     },
     "execution_count": 11,
     "metadata": {},
     "output_type": "execute_result"
    }
   ],
   "source": [
    "# len(nytp)"
   ]
  },
  {
   "cell_type": "code",
   "execution_count": 10,
   "metadata": {
    "collapsed": false
   },
   "outputs": [],
   "source": [
    "# nytn = get_ngrams_df(nyt_data, 'neg')"
   ]
  },
  {
   "cell_type": "code",
   "execution_count": 13,
   "metadata": {
    "collapsed": false
   },
   "outputs": [
    {
     "data": {
      "text/plain": [
       "277476"
      ]
     },
     "execution_count": 13,
     "metadata": {},
     "output_type": "execute_result"
    }
   ],
   "source": [
    "# len(nytn)"
   ]
  },
  {
   "cell_type": "code",
   "execution_count": 11,
   "metadata": {
    "collapsed": false
   },
   "outputs": [],
   "source": [
    "ftt = get_ngrams_df(ft_data)"
   ]
  },
  {
   "cell_type": "code",
   "execution_count": 12,
   "metadata": {
    "collapsed": false
   },
   "outputs": [
    {
     "data": {
      "text/plain": [
       "318960"
      ]
     },
     "execution_count": 12,
     "metadata": {},
     "output_type": "execute_result"
    }
   ],
   "source": [
    "len(ftt)"
   ]
  },
  {
   "cell_type": "code",
   "execution_count": 13,
   "metadata": {
    "collapsed": false
   },
   "outputs": [],
   "source": [
    "# ftp = get_ngrams_df(ft_data, 'pos')"
   ]
  },
  {
   "cell_type": "code",
   "execution_count": 17,
   "metadata": {
    "collapsed": false
   },
   "outputs": [
    {
     "data": {
      "text/plain": [
       "237084"
      ]
     },
     "execution_count": 17,
     "metadata": {},
     "output_type": "execute_result"
    }
   ],
   "source": [
    "# len(ftp)"
   ]
  },
  {
   "cell_type": "code",
   "execution_count": 14,
   "metadata": {
    "collapsed": false
   },
   "outputs": [],
   "source": [
    "# ftn = get_ngrams_df(ft_data, 'neg')"
   ]
  },
  {
   "cell_type": "code",
   "execution_count": 19,
   "metadata": {
    "collapsed": false
   },
   "outputs": [
    {
     "data": {
      "text/plain": [
       "81876"
      ]
     },
     "execution_count": 19,
     "metadata": {},
     "output_type": "execute_result"
    }
   ],
   "source": [
    "# len(ftn)"
   ]
  },
  {
   "cell_type": "code",
   "execution_count": 84,
   "metadata": {
    "collapsed": false
   },
   "outputs": [
    {
     "data": {
      "text/plain": [
       "3.9530568096313017"
      ]
     },
     "execution_count": 84,
     "metadata": {},
     "output_type": "execute_result"
    }
   ],
   "source": [
    "len(nytt) / len(ftt)"
   ]
  },
  {
   "cell_type": "code",
   "execution_count": 15,
   "metadata": {
    "collapsed": true
   },
   "outputs": [],
   "source": [
    "def all_are_stopwords(ngr):\n",
    "    tokens = set(nltk.word_tokenize(ngr))\n",
    "    return tokens.intersection(stopwords.words('english')) == tokens\n",
    "\n",
    "def top_words(data, n):\n",
    "    result = []\n",
    "    fd = nltk.FreqDist(data)\n",
    "    most_common = fd.most_common()\n",
    "    count = 0\n",
    "    for w, f in most_common:\n",
    "        if not all_are_stopwords(w):\n",
    "            result.append(w)\n",
    "            count += 1\n",
    "        if count >= n:\n",
    "            break\n",
    "    return result\n",
    "\n",
    "def top_words_freq(data, n):\n",
    "    result = []\n",
    "    fd = nltk.FreqDist(data)\n",
    "    most_common = fd.most_common()\n",
    "    count = 0\n",
    "    for w, f in most_common:\n",
    "        if not all_are_stopwords(w):\n",
    "            result.append((w, f))\n",
    "            count += 1\n",
    "        if count >= n:\n",
    "            break\n",
    "    return result"
   ]
  },
  {
   "cell_type": "code",
   "execution_count": 16,
   "metadata": {
    "collapsed": false
   },
   "outputs": [],
   "source": [
    "nyttt = top_words(nytt, 50)"
   ]
  },
  {
   "cell_type": "code",
   "execution_count": 17,
   "metadata": {
    "collapsed": false
   },
   "outputs": [
    {
     "data": {
      "text/plain": [
       "50"
      ]
     },
     "execution_count": 17,
     "metadata": {},
     "output_type": "execute_result"
    }
   ],
   "source": [
    "len(nyttt)"
   ]
  },
  {
   "cell_type": "code",
   "execution_count": 18,
   "metadata": {
    "collapsed": true
   },
   "outputs": [],
   "source": [
    "fttt = top_words(ftt, 50)"
   ]
  },
  {
   "cell_type": "code",
   "execution_count": 19,
   "metadata": {
    "collapsed": false
   },
   "outputs": [
    {
     "data": {
      "text/plain": [
       "50"
      ]
     },
     "execution_count": 19,
     "metadata": {},
     "output_type": "execute_result"
    }
   ],
   "source": [
    "len(fttt)"
   ]
  },
  {
   "cell_type": "code",
   "execution_count": 20,
   "metadata": {
    "collapsed": false
   },
   "outputs": [],
   "source": [
    "inter = set(nyttt).intersection(fttt)"
   ]
  },
  {
   "cell_type": "code",
   "execution_count": 21,
   "metadata": {
    "collapsed": false
   },
   "outputs": [
    {
     "data": {
      "text/plain": [
       "22"
      ]
     },
     "execution_count": 21,
     "metadata": {},
     "output_type": "execute_result"
    }
   ],
   "source": [
    "len(inter)"
   ]
  },
  {
   "cell_type": "code",
   "execution_count": 22,
   "metadata": {
    "collapsed": false
   },
   "outputs": [],
   "source": [
    "nyttt = top_words_freq(nytt, 50)"
   ]
  },
  {
   "cell_type": "code",
   "execution_count": 23,
   "metadata": {
    "collapsed": false
   },
   "outputs": [
    {
     "data": {
      "text/plain": [
       "[('director', 5547),\n",
       " ('art', 5453),\n",
       " ('executive', 4857),\n",
       " ('arts', 3693),\n",
       " (\"'s\", 3092),\n",
       " ('artistic', 2976),\n",
       " ('manager', 2647),\n",
       " ('founder', 2493),\n",
       " ('new', 2446),\n",
       " ('artistic director', 2415),\n",
       " ('said', 2229),\n",
       " ('executive director', 2054),\n",
       " ('director of', 1863),\n",
       " ('artists', 1861),\n",
       " (\"''\", 1859),\n",
       " ('m', 1599),\n",
       " ('artist', 1395),\n",
       " ('museum', 1378),\n",
       " ('center', 1307),\n",
       " ('theater', 1217),\n",
       " ('founder of', 1206),\n",
       " ('mr.', 1152),\n",
       " ('york', 1137),\n",
       " ('company', 1112),\n",
       " ('new york', 1106),\n",
       " ('director of the', 1090),\n",
       " ('chief', 1016),\n",
       " ('executive director of', 981),\n",
       " ('president', 962),\n",
       " ('chief executive', 878),\n",
       " ('music', 834),\n",
       " ('general', 812),\n",
       " ('and artistic', 809),\n",
       " ('museum of', 807),\n",
       " ('the arts', 798),\n",
       " ('founder and', 787),\n",
       " ('and artistic director', 780),\n",
       " ('chairman', 752),\n",
       " ('of art', 740),\n",
       " ('--', 737),\n",
       " ('the art', 707),\n",
       " ('the founder', 656),\n",
       " ('producer', 654),\n",
       " ('the executive', 650),\n",
       " ('like', 648),\n",
       " ('founder of the', 640),\n",
       " ('production', 632),\n",
       " ('presented', 619),\n",
       " ('f', 618),\n",
       " ('american', 615)]"
      ]
     },
     "execution_count": 23,
     "metadata": {},
     "output_type": "execute_result"
    }
   ],
   "source": [
    "nyttt"
   ]
  },
  {
   "cell_type": "code",
   "execution_count": 24,
   "metadata": {
    "collapsed": false
   },
   "outputs": [],
   "source": [
    "nyttt = [\n",
    "    ('director', 5547),\n",
    "    ('art', 5453),\n",
    "    ('executive', 4857),\n",
    "    ('arts', 3693),\n",
    "    ('artistic', 2976),\n",
    "    ('manager', 2647),\n",
    "    ('founder', 2493),\n",
    "    ('new', 2446),\n",
    "    ('artistic director', 2415),\n",
    "    ('said', 2229),\n",
    "    ('executive director', 2054),\n",
    "    ('artists', 1861),\n",
    "    ('artist', 1395),\n",
    "    ('museum', 1378),\n",
    "    ('center', 1307),\n",
    "    ('theater', 1217),\n",
    "    ('mr.', 1152),\n",
    "    ('york', 1137),\n",
    "    ('company', 1112),\n",
    "    ('new york', 1106),\n",
    "    ('chief', 1016),\n",
    "    ('president', 962),\n",
    "    ('chief executive', 878),\n",
    "    ('music', 834),\n",
    "    ('general', 812),\n",
    "    ('chairman', 752),\n",
    "    ('producer', 654),\n",
    "    ('like', 648),\n",
    "    ('production', 632),\n",
    "    ('presented', 619),\n",
    "    ('american', 615)\n",
    "]"
   ]
  },
  {
   "cell_type": "code",
   "execution_count": 25,
   "metadata": {
    "collapsed": false
   },
   "outputs": [
    {
     "data": {
      "text/plain": [
       "31"
      ]
     },
     "execution_count": 25,
     "metadata": {},
     "output_type": "execute_result"
    }
   ],
   "source": [
    "len(nyttt)"
   ]
  },
  {
   "cell_type": "code",
   "execution_count": 26,
   "metadata": {
    "collapsed": false
   },
   "outputs": [],
   "source": [
    "fttt = top_words_freq(ftt, 50)"
   ]
  },
  {
   "cell_type": "code",
   "execution_count": 27,
   "metadata": {
    "collapsed": false
   },
   "outputs": [
    {
     "data": {
      "text/plain": [
       "[(\"'s\", 1337),\n",
       " ('art', 1307),\n",
       " ('executive', 1128),\n",
       " ('``', 968),\n",
       " (\"''\", 891),\n",
       " ('chief', 860),\n",
       " ('chief executive', 805),\n",
       " ('arts', 628),\n",
       " ('artists', 488),\n",
       " ('founder', 483),\n",
       " ('executive of', 448),\n",
       " ('chairman', 440),\n",
       " ('chief executive of', 439),\n",
       " ('new', 392),\n",
       " ('says', 367),\n",
       " ('said', 358),\n",
       " ('artist', 340),\n",
       " ('manager', 285),\n",
       " ('director', 283),\n",
       " ('company', 279),\n",
       " ('former', 257),\n",
       " ('group', 253),\n",
       " ('music', 248),\n",
       " ('ceo', 237),\n",
       " ('founder of', 235),\n",
       " ('one', 222),\n",
       " ('business', 217),\n",
       " ('year', 206),\n",
       " ('president', 203),\n",
       " (\"'' says\", 185),\n",
       " ('chairman and', 185),\n",
       " ('and ceo', 173),\n",
       " ('co-founder', 168),\n",
       " ('london', 167),\n",
       " ('artistic', 162),\n",
       " ('electronic', 159),\n",
       " ('quot', 158),\n",
       " ('mr', 155),\n",
       " ('the art', 155),\n",
       " ('electronic arts', 154),\n",
       " ('would', 154),\n",
       " ('first', 144),\n",
       " ('also', 144),\n",
       " ('us', 140),\n",
       " ('contemporary', 137),\n",
       " ('of art', 136),\n",
       " ('last', 136),\n",
       " ('apple', 136),\n",
       " ('google', 136),\n",
       " ('entrepreneur', 133)]"
      ]
     },
     "execution_count": 27,
     "metadata": {},
     "output_type": "execute_result"
    }
   ],
   "source": [
    "fttt"
   ]
  },
  {
   "cell_type": "code",
   "execution_count": 256,
   "metadata": {
    "collapsed": true
   },
   "outputs": [],
   "source": [
    "fttt = [\n",
    "    ('art', 1307),\n",
    "    ('executive', 1128),\n",
    "    ('chief', 860),\n",
    "    ('chief executive', 805),\n",
    "    ('arts', 628),\n",
    "    ('artists', 488),\n",
    "    ('founder', 483),\n",
    "    ('chairman', 440),\n",
    "    ('new', 392),\n",
    "    ('says', 367),\n",
    "    ('said', 358),\n",
    "    ('artist', 340),\n",
    "    ('manager', 285),\n",
    "    ('director', 283),\n",
    "    ('company', 279),\n",
    "    ('former', 257),\n",
    "    ('group', 253),\n",
    "    ('music', 248),\n",
    "    ('ceo', 237),\n",
    "    ('one', 222),\n",
    "    ('business', 217),\n",
    "    ('year', 206),\n",
    "    ('president', 203),\n",
    "    ('co-founder', 168),\n",
    "    ('london', 167),\n",
    "    ('artistic', 162),\n",
    "    ('electronic', 159),\n",
    "    ('quot', 158),\n",
    "    ('mr.', 155),\n",
    "    ('would', 154),\n",
    "    ('electronic arts', 154),\n",
    "    ('also', 144),\n",
    "    ('first', 144),\n",
    "    ('us', 140),\n",
    "    ('contemporary', 137),\n",
    "    ('last', 136),\n",
    "    ('google', 136),\n",
    "    ('apple', 136),\n",
    "    ('entrepreneur', 133)\n",
    "]"
   ]
  },
  {
   "cell_type": "code",
   "execution_count": 257,
   "metadata": {
    "collapsed": false
   },
   "outputs": [
    {
     "data": {
      "text/plain": [
       "39"
      ]
     },
     "execution_count": 257,
     "metadata": {},
     "output_type": "execute_result"
    }
   ],
   "source": [
    "len(fttt)"
   ]
  },
  {
   "cell_type": "code",
   "execution_count": 258,
   "metadata": {
    "collapsed": false
   },
   "outputs": [
    {
     "data": {
      "text/plain": [
       "{'american': 615,\n",
       " 'art': 5453,\n",
       " 'artist': 1395,\n",
       " 'artistic': 2976,\n",
       " 'artistic director': 2415,\n",
       " 'artists': 1861,\n",
       " 'arts': 3693,\n",
       " 'center': 1307,\n",
       " 'chairman': 752,\n",
       " 'chief': 1016,\n",
       " 'chief executive': 878,\n",
       " 'company': 1112,\n",
       " 'director': 5547,\n",
       " 'executive': 4857,\n",
       " 'executive director': 2054,\n",
       " 'founder': 2493,\n",
       " 'general': 812,\n",
       " 'like': 648,\n",
       " 'manager': 2647,\n",
       " 'mr.': 1152,\n",
       " 'museum': 1378,\n",
       " 'music': 834,\n",
       " 'new': 2446,\n",
       " 'new york': 1106,\n",
       " 'presented': 619,\n",
       " 'president': 962,\n",
       " 'producer': 654,\n",
       " 'production': 632,\n",
       " 'said': 2229,\n",
       " 'theater': 1217,\n",
       " 'york': 1137}"
      ]
     },
     "execution_count": 258,
     "metadata": {},
     "output_type": "execute_result"
    }
   ],
   "source": [
    "nyt_dict = dict(nyttt)\n",
    "nyt_dict"
   ]
  },
  {
   "cell_type": "code",
   "execution_count": 259,
   "metadata": {
    "collapsed": false
   },
   "outputs": [
    {
     "data": {
      "text/plain": [
       "{'also': 144,\n",
       " 'apple': 136,\n",
       " 'art': 1307,\n",
       " 'artist': 340,\n",
       " 'artistic': 162,\n",
       " 'artists': 488,\n",
       " 'arts': 628,\n",
       " 'business': 217,\n",
       " 'ceo': 237,\n",
       " 'chairman': 440,\n",
       " 'chief': 860,\n",
       " 'chief executive': 805,\n",
       " 'co-founder': 168,\n",
       " 'company': 279,\n",
       " 'contemporary': 137,\n",
       " 'director': 283,\n",
       " 'electronic': 159,\n",
       " 'electronic arts': 154,\n",
       " 'entrepreneur': 133,\n",
       " 'executive': 1128,\n",
       " 'first': 144,\n",
       " 'former': 257,\n",
       " 'founder': 483,\n",
       " 'google': 136,\n",
       " 'group': 253,\n",
       " 'last': 136,\n",
       " 'london': 167,\n",
       " 'manager': 285,\n",
       " 'mr.': 155,\n",
       " 'music': 248,\n",
       " 'new': 392,\n",
       " 'one': 222,\n",
       " 'president': 203,\n",
       " 'quot': 158,\n",
       " 'said': 358,\n",
       " 'says': 367,\n",
       " 'us': 140,\n",
       " 'would': 154,\n",
       " 'year': 206}"
      ]
     },
     "execution_count": 259,
     "metadata": {},
     "output_type": "execute_result"
    }
   ],
   "source": [
    "ft_dict = dict(fttt)\n",
    "ft_dict"
   ]
  },
  {
   "cell_type": "code",
   "execution_count": 260,
   "metadata": {
    "collapsed": false
   },
   "outputs": [],
   "source": [
    "nyt_dict = dict(nyttt)\n",
    "ft_dict = dict(fttt)"
   ]
  },
  {
   "cell_type": "code",
   "execution_count": 261,
   "metadata": {
    "collapsed": false
   },
   "outputs": [],
   "source": [
    "nyt_sr = pd.Series(nyt_dict)"
   ]
  },
  {
   "cell_type": "code",
   "execution_count": 262,
   "metadata": {
    "collapsed": false
   },
   "outputs": [],
   "source": [
    "ft_sr = pd.Series(ft_dict)"
   ]
  },
  {
   "cell_type": "code",
   "execution_count": 263,
   "metadata": {
    "collapsed": false
   },
   "outputs": [],
   "source": [
    "news_df = pd.DataFrame({\n",
    "        'The New York Times': nyt_sr,\n",
    "        'The Financial Times': ft_sr,\n",
    "})"
   ]
  },
  {
   "cell_type": "code",
   "execution_count": 264,
   "metadata": {
    "collapsed": false
   },
   "outputs": [],
   "source": [
    "matplotlib.rcParams['figure.figsize'] = (12, 6)\n",
    "matplotlib.rcParams.update({'figure.autolayout': True})\n",
    "font = {'size': 12}\n",
    "matplotlib.rc('font', **font)"
   ]
  },
  {
   "cell_type": "code",
   "execution_count": 265,
   "metadata": {
    "collapsed": false
   },
   "outputs": [
    {
     "data": {
      "text/plain": [
       "<matplotlib.axes._subplots.AxesSubplot at 0x7ff2a27207b8>"
      ]
     },
     "execution_count": 265,
     "metadata": {},
     "output_type": "execute_result"
    },
    {
     "name": "stderr",
     "output_type": "stream",
     "text": [
      "/home/antonio/.virtualenvs/nytimes/lib/python3.4/site-packages/matplotlib/figure.py:1653: UserWarning: This figure includes Axes that are not compatible with tight_layout, so its results might be incorrect.\n",
      "  warnings.warn(\"This figure includes Axes that are not \"\n"
     ]
    },
    {
     "data": {
      "image/png": "[encoded data removed]",
      "text/plain": [
       "<matplotlib.figure.Figure at 0x7ff2a26f3198>"
      ]
     },
     "metadata": {},
     "output_type": "display_data"
    }
   ],
   "source": [
    "news_df.plot(kind='bar', color=['r', 'b'], title='The New York Times vs. The Financial Times: top 50 keywords (absolute values)')"
   ]
  },
  {
   "cell_type": "code",
   "execution_count": 266,
   "metadata": {
    "collapsed": false
   },
   "outputs": [],
   "source": [
    "norm_ft_dict = {}\n",
    "for k in ft_dict:\n",
    "    norm_ft_dict[k] = ft_dict[k] * 4 / 6000\n",
    "\n",
    "norm_nyt_dict = {}\n",
    "for k in nyt_dict:\n",
    "    norm_nyt_dict[k] = nyt_dict[k] / 6000"
   ]
  },
  {
   "cell_type": "code",
   "execution_count": 267,
   "metadata": {
    "collapsed": false
   },
   "outputs": [],
   "source": [
    "norm_nyt_sr = pd.Series(norm_nyt_dict)"
   ]
  },
  {
   "cell_type": "code",
   "execution_count": 268,
   "metadata": {
    "collapsed": false
   },
   "outputs": [],
   "source": [
    "norm_ft_sr = pd.Series(norm_ft_dict)"
   ]
  },
  {
   "cell_type": "code",
   "execution_count": 269,
   "metadata": {
    "collapsed": false
   },
   "outputs": [],
   "source": [
    "norm_news_df = pd.DataFrame({\n",
    "        'The New York Times': norm_nyt_sr,\n",
    "        'The Financial Times': norm_ft_sr,\n",
    "})"
   ]
  },
  {
   "cell_type": "code",
   "execution_count": 270,
   "metadata": {
    "collapsed": false
   },
   "outputs": [
    {
     "data": {
      "text/plain": [
       "<matplotlib.axes._subplots.AxesSubplot at 0x7ff2a24e16d8>"
      ]
     },
     "execution_count": 270,
     "metadata": {},
     "output_type": "execute_result"
    },
    {
     "name": "stderr",
     "output_type": "stream",
     "text": [
      "/home/antonio/.virtualenvs/nytimes/lib/python3.4/site-packages/matplotlib/figure.py:1653: UserWarning: This figure includes Axes that are not compatible with tight_layout, so its results might be incorrect.\n",
      "  warnings.warn(\"This figure includes Axes that are not \"\n"
     ]
    },
    {
     "data": {
      "image/png": "[encoded data removed]",
      "text/plain": [
       "<matplotlib.figure.Figure at 0x7ff2a2521978>"
      ]
     },
     "metadata": {},
     "output_type": "display_data"
    }
   ],
   "source": [
    "norm_news_df.plot(kind='bar', color=['r', 'b'], title='The New York Times vs. The Financial Times: top 50 keywords (normalized values)')"
   ]
  },
  {
   "cell_type": "code",
   "execution_count": 114,
   "metadata": {
    "collapsed": false
   },
   "outputs": [
    {
     "data": {
      "text/plain": [
       "53"
      ]
     },
     "execution_count": 114,
     "metadata": {},
     "output_type": "execute_result"
    }
   ],
   "source": [
    "len(set(nyt_dict.keys()).union(ft_dict.keys()))"
   ]
  },
  {
   "cell_type": "markdown",
   "metadata": {
    "collapsed": true
   },
   "source": [
    "## ARTSY & TWITTER"
   ]
  },
  {
   "cell_type": "code",
   "execution_count": 115,
   "metadata": {
    "collapsed": true
   },
   "outputs": [],
   "source": [
    "import pickle"
   ]
  },
  {
   "cell_type": "code",
   "execution_count": 116,
   "metadata": {
    "collapsed": true
   },
   "outputs": [],
   "source": [
    "hashtags_data = pd.read_csv('art_twitter_top_hashtags.csv')"
   ]
  },
  {
   "cell_type": "code",
   "execution_count": 117,
   "metadata": {
    "collapsed": false
   },
   "outputs": [
    {
     "data": {
      "text/html": [
       "<div>\n",
       "<table border=\"1\" class=\"dataframe\">\n",
       "  <thead>\n",
       "    <tr style=\"text-align: right;\">\n",
       "      <th></th>\n",
       "      <th>hashtag</th>\n",
       "      <th>deg</th>\n",
       "    </tr>\n",
       "  </thead>\n",
       "  <tbody>\n",
       "    <tr>\n",
       "      <th>0</th>\n",
       "      <td>art</td>\n",
       "      <td>1900909</td>\n",
       "    </tr>\n",
       "    <tr>\n",
       "      <th>1</th>\n",
       "      <td>photography</td>\n",
       "      <td>242065</td>\n",
       "    </tr>\n",
       "    <tr>\n",
       "      <th>2</th>\n",
       "      <td>painting</td>\n",
       "      <td>226498</td>\n",
       "    </tr>\n",
       "    <tr>\n",
       "      <th>3</th>\n",
       "      <td>photo</td>\n",
       "      <td>148847</td>\n",
       "    </tr>\n",
       "    <tr>\n",
       "      <th>4</th>\n",
       "      <td>streetart</td>\n",
       "      <td>126865</td>\n",
       "    </tr>\n",
       "  </tbody>\n",
       "</table>\n",
       "</div>"
      ],
      "text/plain": [
       "       hashtag      deg\n",
       "0          art  1900909\n",
       "1  photography   242065\n",
       "2     painting   226498\n",
       "3        photo   148847\n",
       "4    streetart   126865"
      ]
     },
     "execution_count": 117,
     "metadata": {},
     "output_type": "execute_result"
    }
   ],
   "source": [
    "hashtags_data.head()"
   ]
  },
  {
   "cell_type": "code",
   "execution_count": 207,
   "metadata": {
    "collapsed": true
   },
   "outputs": [],
   "source": [
    "with open('gene_freqs.pickle', 'rb') as f:\n",
    "    gene_freqs = pickle.load(f)"
   ]
  },
  {
   "cell_type": "code",
   "execution_count": 208,
   "metadata": {
    "collapsed": true
   },
   "outputs": [],
   "source": [
    "with open('total_gene_freqs.pickle', 'rb') as f:\n",
    "    total_gene_freqs = pickle.load(f)"
   ]
  },
  {
   "cell_type": "code",
   "execution_count": 219,
   "metadata": {
    "collapsed": false
   },
   "outputs": [
    {
     "data": {
      "text/plain": [
       "443"
      ]
     },
     "execution_count": 219,
     "metadata": {},
     "output_type": "execute_result"
    }
   ],
   "source": [
    "len(gene_freqs)"
   ]
  },
  {
   "cell_type": "code",
   "execution_count": 220,
   "metadata": {
    "collapsed": false
   },
   "outputs": [
    {
     "data": {
      "text/plain": [
       "560"
      ]
     },
     "execution_count": 220,
     "metadata": {},
     "output_type": "execute_result"
    }
   ],
   "source": [
    "len(total_gene_freqs)"
   ]
  },
  {
   "cell_type": "code",
   "execution_count": 223,
   "metadata": {
    "collapsed": false
   },
   "outputs": [
    {
     "data": {
      "text/plain": [
       "560"
      ]
     },
     "execution_count": 223,
     "metadata": {},
     "output_type": "execute_result"
    }
   ],
   "source": [
    "len(set(total_gene_freqs.keys()).union(gene_freqs.keys()))"
   ]
  },
  {
   "cell_type": "code",
   "execution_count": 209,
   "metadata": {
    "collapsed": true
   },
   "outputs": [],
   "source": [
    "with open('gene_list.pickle', 'rb') as f:\n",
    "    gene_list = pickle.load(f)"
   ]
  },
  {
   "cell_type": "code",
   "execution_count": 224,
   "metadata": {
    "collapsed": false
   },
   "outputs": [],
   "source": [
    "gene_freqs_data = pd.DataFrame(list(gene_freqs.items()))"
   ]
  },
  {
   "cell_type": "code",
   "execution_count": 225,
   "metadata": {
    "collapsed": false
   },
   "outputs": [
    {
     "data": {
      "text/plain": [
       "443"
      ]
     },
     "execution_count": 225,
     "metadata": {},
     "output_type": "execute_result"
    }
   ],
   "source": [
    "len(gene_freqs_data)"
   ]
  },
  {
   "cell_type": "code",
   "execution_count": 226,
   "metadata": {
    "collapsed": false
   },
   "outputs": [
    {
     "data": {
      "text/html": [
       "<div>\n",
       "<table border=\"1\" class=\"dataframe\">\n",
       "  <thead>\n",
       "    <tr style=\"text-align: right;\">\n",
       "      <th></th>\n",
       "      <th>0</th>\n",
       "      <th>1</th>\n",
       "    </tr>\n",
       "  </thead>\n",
       "  <tbody>\n",
       "    <tr>\n",
       "      <th>0</th>\n",
       "      <td>Classical Mythology</td>\n",
       "      <td>58</td>\n",
       "    </tr>\n",
       "    <tr>\n",
       "      <th>1</th>\n",
       "      <td>Earth Tones</td>\n",
       "      <td>14</td>\n",
       "    </tr>\n",
       "    <tr>\n",
       "      <th>2</th>\n",
       "      <td>Northern Renaissance</td>\n",
       "      <td>139</td>\n",
       "    </tr>\n",
       "    <tr>\n",
       "      <th>3</th>\n",
       "      <td>Silver</td>\n",
       "      <td>2</td>\n",
       "    </tr>\n",
       "    <tr>\n",
       "      <th>4</th>\n",
       "      <td>History Painting</td>\n",
       "      <td>27</td>\n",
       "    </tr>\n",
       "  </tbody>\n",
       "</table>\n",
       "</div>"
      ],
      "text/plain": [
       "                      0    1\n",
       "0   Classical Mythology   58\n",
       "1           Earth Tones   14\n",
       "2  Northern Renaissance  139\n",
       "3                Silver    2\n",
       "4      History Painting   27"
      ]
     },
     "execution_count": 226,
     "metadata": {},
     "output_type": "execute_result"
    }
   ],
   "source": [
    "gene_freqs_data.head()"
   ]
  },
  {
   "cell_type": "code",
   "execution_count": 227,
   "metadata": {
    "collapsed": false
   },
   "outputs": [],
   "source": [
    "hashtag_dict = {}\n",
    "for index, row in hashtags_data[1:51].iterrows():\n",
    "    hashtag_dict[row['hashtag']] = row['deg']"
   ]
  },
  {
   "cell_type": "code",
   "execution_count": 228,
   "metadata": {
    "collapsed": false
   },
   "outputs": [],
   "source": [
    "gene_dict = {}\n",
    "for index, row in gene_freqs_data.sort([1], ascending=[0])[:50].iterrows():\n",
    "    gene_dict[row[0].lower()] = row[1]"
   ]
  },
  {
   "cell_type": "code",
   "execution_count": 232,
   "metadata": {
    "collapsed": false
   },
   "outputs": [
    {
     "data": {
      "text/plain": [
       "<matplotlib.axes._subplots.AxesSubplot at 0x7ff2a30da438>"
      ]
     },
     "execution_count": 232,
     "metadata": {},
     "output_type": "execute_result"
    },
    {
     "name": "stderr",
     "output_type": "stream",
     "text": [
      "/home/antonio/.virtualenvs/nytimes/lib/python3.4/site-packages/matplotlib/figure.py:1653: UserWarning: This figure includes Axes that are not compatible with tight_layout, so its results might be incorrect.\n",
      "  warnings.warn(\"This figure includes Axes that are not \"\n"
     ]
    },
    {
     "data": {
      "image/png": "[encoded data removed]",
      "text/plain": [
       "<matplotlib.figure.Figure at 0x7ff2a311edd8>"
      ]
     },
     "metadata": {},
     "output_type": "display_data"
    }
   ],
   "source": [
    "matplotlib.rcParams['figure.figsize'] = (12, 6)\n",
    "pd.Series(hashtag_dict).plot(kind='bar', title='Twitter\\'s top 50 hashtags')"
   ]
  },
  {
   "cell_type": "code",
   "execution_count": 230,
   "metadata": {
    "collapsed": false
   },
   "outputs": [
    {
     "data": {
      "text/plain": [
       "<matplotlib.axes._subplots.AxesSubplot at 0x7ff2a31ec3c8>"
      ]
     },
     "execution_count": 230,
     "metadata": {},
     "output_type": "execute_result"
    },
    {
     "name": "stderr",
     "output_type": "stream",
     "text": [
      "/home/antonio/.virtualenvs/nytimes/lib/python3.4/site-packages/matplotlib/figure.py:1653: UserWarning: This figure includes Axes that are not compatible with tight_layout, so its results might be incorrect.\n",
      "  warnings.warn(\"This figure includes Axes that are not \"\n"
     ]
    },
    {
     "data": {
      "image/png": "[encoded data removed]",
      "text/plain": [
       "<matplotlib.figure.Figure at 0x7ff2a3231cc0>"
      ]
     },
     "metadata": {},
     "output_type": "display_data"
    }
   ],
   "source": [
    "matplotlib.rcParams['figure.figsize'] = (12, 6)\n",
    "pd.Series(gene_dict).plot(kind='bar', title='Artsy\\'s top 50 genes')"
   ]
  },
  {
   "cell_type": "code",
   "execution_count": 231,
   "metadata": {
    "collapsed": false
   },
   "outputs": [
    {
     "data": {
      "text/plain": [
       "{'drawing', 'nature', 'painting', 'photography'}"
      ]
     },
     "execution_count": 231,
     "metadata": {},
     "output_type": "execute_result"
    }
   ],
   "source": [
    "set(gene_dict.keys()).intersection(hashtag_dict.keys())"
   ]
  },
  {
   "cell_type": "code",
   "execution_count": null,
   "metadata": {
    "collapsed": true
   },
   "outputs": [],
   "source": []
  }
 ],
 "metadata": {
  "kernelspec": {
   "display_name": "Python 3",
   "language": "python",
   "name": "python3"
  },
  "language_info": {
   "codemirror_mode": {
    "name": "ipython",
    "version": 3
   },
   "file_extension": ".py",
   "mimetype": "text/x-python",
   "name": "python",
   "nbconvert_exporter": "python",
   "pygments_lexer": "ipython3",
   "version": "3.4.3"
  }
 },
 "nbformat": 4,
 "nbformat_minor": 0
}
