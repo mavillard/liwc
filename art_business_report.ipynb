{
 "cells": [
  {
   "cell_type": "markdown",
   "metadata": {},
   "source": [
    "# Art in the Business world"
   ]
  },
  {
   "cell_type": "markdown",
   "metadata": {},
   "source": [
    "## 1. The New York Times"
   ]
  },
  {
   "cell_type": "markdown",
   "metadata": {},
   "source": [
    "### Overview"
   ]
  },
  {
   "cell_type": "markdown",
   "metadata": {},
   "source": [
    "<table>\n",
    "    <caption>Data size</caption>\n",
    "    <thead>\n",
    "    </thead>\n",
    "    <tbody>\n",
    "        <tr><td>Total sentences</td><td>933,344</td></tr>\n",
    "        <tr><td>Sentences on art</td><td>14,282</td></tr>\n",
    "        <tr><td>Percentage of sentences on art</td><td>1.5%</td></tr>\n",
    "    </tbody>\n",
    "</table>"
   ]
  },
  {
   "cell_type": "markdown",
   "metadata": {},
   "source": [
    "<div style=\"display: inline-block;\">\n",
    "<table>\n",
    "    <caption>a) General sentiment polarity by term category (total sentences)</caption>\n",
    "    <thead>\n",
    "        <th>category</th><th>negative</th><th>positive</th><td>% neg</td><td>% pos</td><th>total</th>\n",
    "    </thead>\n",
    "    <tbody>\n",
    "        <tr><td>executive/manager</td><td>190,580</td><td>216,177</td><td>47%</td><td>53%</td><td>406,757</td></tr>\n",
    "        <tr><td>entrepreneur/founder</td><td>16,869</td><td>71,384</td><td>19%</td><td>81%</td><td>88,253</td></tr>\n",
    "        <tr><td>big companies</td><td>123,524</td><td>233,639</td><td>35%</td><td>65%</td><td>357,163</td></tr>\n",
    "        <tr><td>new companies</td><td>23,451</td><td>57,720</td><td>29%</td><td>71%</td><td>81,171</td></tr>\n",
    "    </tbody>\n",
    "</table>\n",
    "</div>\n",
    "<div style=\"display: inline-block;\">\n",
    "<table>\n",
    "    <caption>b) General sentiment polarity by term category (sentences on art)</caption>\n",
    "    <thead>\n",
    "        <th>category</th><th>negative</th><th>positive</th><td>% neg</td><td>% pos</td><th>total</th>\n",
    "    </thead>\n",
    "    <tbody>\n",
    "        <tr><td>executive/manager</td><td>1,954</td><td>4,775</td><td>29%</td><td>71%</td><td>6,729</td></tr>\n",
    "        <tr><td>entrepreneur/founder</td><td>283</td><td>2,935</td><td>9%</td><td>91%</td><td>3,218</td></tr>\n",
    "        <tr><td>big companies</td><td>747</td><td>2,999</td><td>20%</td><td>80%</td><td>3,746</td></tr>\n",
    "        <tr><td>new companies</td><td>150</td><td>439</td><td>25%</td><td>75%</td><td>589</td></tr>\n",
    "    </tbody>\n",
    "</table>\n",
    "</div>"
   ]
  },
  {
   "cell_type": "markdown",
   "metadata": {},
   "source": [
    "### Images"
   ]
  },
  {
   "cell_type": "markdown",
   "metadata": {},
   "source": [
    "#### Distribution of sentences by category over the period 1999 to 2014"
   ]
  },
  {
   "cell_type": "markdown",
   "metadata": {},
   "source": [
    "##### executive/manager"
   ]
  },
  {
   "cell_type": "markdown",
   "metadata": {},
   "source": [
    "<div align=\"center\">\n",
    "    <figure>\n",
    "        <img src=\"nyt/executive_manager_total.png\" width=\"800\"/>\n",
    "        <img src=\"art_nyt/executive_manager_total.png\" width=\"800\"/>\n",
    "        <figcaption>Fig.1 executive/manager: total (up) vs. art (down)</figcaption>\n",
    "    </figure>\n",
    "</div>"
   ]
  },
  {
   "cell_type": "markdown",
   "metadata": {},
   "source": [
    "##### entrepreneur/founder"
   ]
  },
  {
   "cell_type": "markdown",
   "metadata": {},
   "source": [
    "<div align=\"center\">\n",
    "    <figure>\n",
    "        <img src=\"nyt/entrepreneur_founder_total.png\" width=\"800\"/>\n",
    "        <img src=\"art_nyt/entrepreneur_founder_total.png\" width=\"800\"/>\n",
    "        <figcaption>Fig.2 entrepreneur/founder: total (up) vs. art (down)</figcaption>\n",
    "    </figure>\n",
    "</div>"
   ]
  },
  {
   "cell_type": "markdown",
   "metadata": {},
   "source": [
    "##### big companies"
   ]
  },
  {
   "cell_type": "markdown",
   "metadata": {},
   "source": [
    "<div align=\"center\">\n",
    "    <figure>\n",
    "        <img src=\"nyt/big_companies_total.png\" width=\"800\"/>\n",
    "        <img src=\"art_nyt/big_companies_total.png\" width=\"800\"/>\n",
    "        <figcaption>Fig.3 big companies: total (up) vs. art (down)</figcaption>\n",
    "    </figure>\n",
    "</div>"
   ]
  },
  {
   "cell_type": "markdown",
   "metadata": {},
   "source": [
    "##### new companies"
   ]
  },
  {
   "cell_type": "markdown",
   "metadata": {},
   "source": [
    "<div align=\"center\">\n",
    "    <figure>\n",
    "        <img src=\"nyt/new_companies_total.png\" width=\"800\"/>\n",
    "        <img src=\"art_nyt/new_companies_total.png\" width=\"800\"/>\n",
    "        <figcaption>Fig.4 new companies: total (up) vs. art (down)</figcaption>\n",
    "    </figure>\n",
    "</div>"
   ]
  },
  {
   "cell_type": "markdown",
   "metadata": {},
   "source": [
    "#### Positive rate of sentences by category over the period 1999 to 2014"
   ]
  },
  {
   "cell_type": "markdown",
   "metadata": {},
   "source": [
    "<div align=\"center\">\n",
    "    <figure>\n",
    "        <div style=\"display: inline-block;\"><img src=\"nyt/categories_pos_rate.png\" width=\"480\"/></div>\n",
    "        <div style=\"display: inline-block;\"><img src=\"art_nyt/categories_pos_rate.png\" width=\"480\"/></div>\n",
    "        <figcaption>Fig.5 All categories: total (left) vs. art (right)</figcaption>\n",
    "    </figure>\n",
    "</div>"
   ]
  },
  {
   "cell_type": "code",
   "execution_count": null,
   "metadata": {
    "collapsed": true
   },
   "outputs": [],
   "source": []
  },
  {
   "cell_type": "code",
   "execution_count": null,
   "metadata": {
    "collapsed": true
   },
   "outputs": [],
   "source": []
  },
  {
   "cell_type": "code",
   "execution_count": null,
   "metadata": {
    "collapsed": true
   },
   "outputs": [],
   "source": []
  },
  {
   "cell_type": "code",
   "execution_count": null,
   "metadata": {
    "collapsed": true
   },
   "outputs": [],
   "source": []
  },
  {
   "cell_type": "code",
   "execution_count": null,
   "metadata": {
    "collapsed": true
   },
   "outputs": [],
   "source": []
  },
  {
   "cell_type": "code",
   "execution_count": null,
   "metadata": {
    "collapsed": true
   },
   "outputs": [],
   "source": []
  }
 ],
 "metadata": {
  "kernelspec": {
   "display_name": "Python 3",
   "language": "python",
   "name": "python3"
  },
  "language_info": {
   "codemirror_mode": {
    "name": "ipython",
    "version": 3
   },
   "file_extension": ".py",
   "mimetype": "text/x-python",
   "name": "python",
   "nbconvert_exporter": "python",
   "pygments_lexer": "ipython3",
   "version": "3.4.3"
  }
 },
 "nbformat": 4,
 "nbformat_minor": 0
}
