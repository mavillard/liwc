{
 "cells": [
  {
   "cell_type": "markdown",
   "metadata": {},
   "source": [
    "#Meme Ivey report"
   ]
  },
  {
   "cell_type": "markdown",
   "metadata": {},
   "source": [
    "##1. LIWC's results vs students' results"
   ]
  },
  {
   "cell_type": "markdown",
   "metadata": {},
   "source": [
    "###a) Dataset"
   ]
  },
  {
   "cell_type": "markdown",
   "metadata": {},
   "source": [
    "The dataset was formed by 8996 sentences obtained by searching specific terms from XXX and retrieving the sentences that contained those terms."
   ]
  },
  {
   "cell_type": "markdown",
   "metadata": {},
   "source": [
    "###b) Sentence scores"
   ]
  },
  {
   "cell_type": "markdown",
   "metadata": {},
   "source": [
    "####Students' scores\n",
    "The sentences were evaluated by XXX students with values from the range [-2 (very negative), -1 (negative), 0 (neutral), +1 (positive), +2 (very positive)]. Not every student evaluated all the senteces but every sentence was evaluated at least three times (by three different students).\n",
    "\n",
    "The final score per sentence was the average of its individual evaluations. Therefore, every sentence got a final score between -2 and +2. Finally, this score was normalized to the range [-1, +1]."
   ]
  },
  {
   "cell_type": "markdown",
   "metadata": {},
   "source": [
    "####LIWC scores\n",
    "In order to estimate the soundness of LIWC at analyzing the sentiment of our dataset, this software was run with the next options:\n",
    "- Metrics:\n",
    "    - posemo: % of words that express a positive emotion\n",
    "    - negemo: % of words that express a negative emotion\n",
    "- Segment delimiter:\n",
    "    - newline: original file splitted into individual lines, i. e., the analysis was performed sentence by sentence\n",
    "- Tokens:\n",
    "    - words: the words were the only type of token taken into account; numerals and punctuation marks were ignored\n",
    "\n",
    "Upon completing the analysis, every sentence got a value for posemo, between 0 and 100 (%), and another value for negemo, also between 0 and 100 (%). This two metrics were used to calculate the final score per sentence by considering two options:\n",
    "- Option 1) Subtraction:\n",
    "    - score = posemo - negemo\n",
    "- Option 2) Maximum:\n",
    "    - if posemo > negemo, then score = posemo\n",
    "    - if posemo < negemo, then score = -negemo\n",
    "    - if posemo = negemo, then score = 0\n",
    "In both cases, the final score for every sentence was between -100 and +100.\n",
    "\n",
    "In order to normalize, two different criteria were followed:\n",
    "- Option a) Normalizing from the full range:\n",
    "    - [-100, +100] -> [-1, +1]\n",
    "- Option b) Normalizing from the maximum range observed. Let mpe be the maximum value observed for posemo, mne the maximum value observed for negemo, among all the sentences, and m the maximum value between mpe and mne; then:\n",
    "    - [-m, +m] -> [-1, +1]"
   ]
  },
  {
   "cell_type": "markdown",
   "metadata": {},
   "source": [
    "###c) Tests"
   ]
  },
  {
   "cell_type": "markdown",
   "metadata": {},
   "source": [
    "Note:\n",
    "- norm_liwc = LIWC normalized score\n",
    "- norm_score = Students normalized score"
   ]
  },
  {
   "cell_type": "markdown",
   "metadata": {},
   "source": [
    "####Histograms\n",
    "The next images show the students' frequency distributions for the 8996 sentences compared to each of the four different combinations (options a) b) 1) and 2)) of LIWC's distributions. The normalized range ([-1, +1]) was splitted into 15 bins."
   ]
  },
  {
   "cell_type": "markdown",
   "metadata": {},
   "source": [
    "<div align=\"center\">\n",
    "    <figure>\n",
    "        <img src=\"histogram_a1_sep.png\"/>\n",
    "        <figcaption>Fig.1 Students (rigth) vs LIWC (left) with options a) full range 1) subtraction</figcaption>\n",
    "    </figure>\n",
    "</div>"
   ]
  },
  {
   "cell_type": "markdown",
   "metadata": {},
   "source": [
    "<div align=\"center\">\n",
    "    <figure>\n",
    "        <img src=\"histogram_a1_tog.png\"/>\n",
    "        <figcaption>Fig.2 Students vs LIWC (overlaid) with options a) full range 1) subtraction</figcaption>\n",
    "    </figure>\n",
    "</div>"
   ]
  },
  {
   "cell_type": "markdown",
   "metadata": {},
   "source": [
    "<div align=\"center\">\n",
    "    <figure>\n",
    "        <img src=\"histogram_a2_sep.png\"/>\n",
    "        <figcaption>Fig.3 Students (rigth) vs LIWC (left) with options a) full range 2) maximum</figcaption>\n",
    "    </figure>\n",
    "</div>"
   ]
  },
  {
   "cell_type": "markdown",
   "metadata": {},
   "source": [
    "<div align=\"center\">\n",
    "    <figure>\n",
    "        <img src=\"histogram_a2_tog.png\"/>\n",
    "        <figcaption>Fig.4 Students vs LIWC (overlaid) with options a) full range 2) maximum</figcaption>\n",
    "    </figure>\n",
    "</div>"
   ]
  },
  {
   "cell_type": "markdown",
   "metadata": {},
   "source": [
    "<div align=\"center\">\n",
    "    <figure>\n",
    "        <img src=\"histogram_b1_sep.png\"/>\n",
    "        <figcaption>Fig.5 Students (rigth) vs LIWC (left) with options b) maximum range observed 1) subtraction</figcaption>\n",
    "    </figure>\n",
    "</div>"
   ]
  },
  {
   "cell_type": "markdown",
   "metadata": {},
   "source": [
    "<div align=\"center\">\n",
    "    <figure>\n",
    "        <img src=\"histogram_b1_tog.png\"/>\n",
    "        <figcaption>Fig.6 Students vs LIWC (overlaid) with options b) maximum range observed 1) subtraction</figcaption>\n",
    "    </figure>\n",
    "</div>"
   ]
  },
  {
   "cell_type": "markdown",
   "metadata": {},
   "source": [
    "<div align=\"center\">\n",
    "    <figure>\n",
    "        <img src=\"histogram_b2_sep.png\"/>\n",
    "        <figcaption>Fig.7 Students (rigth) vs LIWC (left) with options b) maximum range observed 2) maximum</figcaption>\n",
    "    </figure>\n",
    "</div>"
   ]
  },
  {
   "cell_type": "markdown",
   "metadata": {},
   "source": [
    "<div align=\"center\">\n",
    "    <figure>\n",
    "        <img src=\"histogram_b2_tog.png\"/>\n",
    "        <figcaption>Fig.8 Students vs LIWC (overlaid) with options b) maximum range observed 2) maximum</figcaption>\n",
    "    </figure>\n",
    "</div>"
   ]
  },
  {
   "cell_type": "markdown",
   "metadata": {},
   "source": [
    "The previous histograms note how different are LIWC results from the student results. LIWC is strongly biased towards 0 (it evaluates a large amount of sentences as neutral). The second remarkable point is that LIWC rarely classifies the sentence as very negative or very possitive, in contrast to the students.\n",
    "\n",
    "The rest of the analysis was done considering only the option b) 2), the most favorable to LIWC as it is the one that provides the best accuracy."
   ]
  },
  {
   "cell_type": "markdown",
   "metadata": {},
   "source": [
    "####Normality tests\n",
    "Despite the fact that the images above seem to show normal distributions, normality tests reveal the opposite. The next section shows some normality performed to both distributions.\n",
    "\n",
    "<table>\n",
    "    <caption>Tab.1 Normality tests</caption>\n",
    "    <thead>\n",
    "        <th>name</th><th>provider</th><th>distribution</th><th>p-value</th>\n",
    "    </thead>\n",
    "    <tbody>\n",
    "        <tr><td>Anderson-Darling</td><td>modelstats</td><td>students</td><td>0.0</td></tr>\n",
    "        <tr><td>Anderson-Darling</td><td>modelstats</td><td>LIWC</td><td>0.0</td></tr>\n",
    "        <tr><td>KS normal</td><td>modelstats</td><td>students</td><td>4.637567858585372e-121</td></tr>\n",
    "        <tr><td>KS normal</td><td>modelstats</td><td>LIWC</td><td>0.0</td></tr>\n",
    "        <tr><td>Normal</td><td>scipy</td><td>students</td><td>1.3985933201927572e-26</td></tr>\n",
    "        <tr><td>Normal</td><td>scipy</td><td>LIWC</td><td>4.8303851447542643e-181</td></tr>\n",
    "    </tbody>\n",
    "</table>\n",
    "\n",
    "For every test, p-value < 0.05, i. e., neither of the distributions is normal. This is not a surprising result as \"data from the human social world is often not normally distributed.\" (John Canning, \"Statistics for the Humanities\", 2014)\n",
    "\n",
    "In order to quantify how different both distributions are, more analysis were done. The results are shown in the next sections."
   ]
  },
  {
   "cell_type": "markdown",
   "metadata": {},
   "source": [
    "####Kernel density estimation"
   ]
  },
  {
   "cell_type": "markdown",
   "metadata": {},
   "source": [
    "<div align=\"center\">\n",
    "    <figure>\n",
    "        <img src=\"histogram_b2_den.png\"/>\n",
    "        <figcaption>Fig.9 KDE: students' vs LIWC's kernel density estimation</figcaption>\n",
    "    </figure>\n",
    "</div>"
   ]
  },
  {
   "cell_type": "markdown",
   "metadata": {},
   "source": [
    "The figure 9 shows a result very similar to the histograms: LIWC is strongly biased towards 0 and it rarely classifies the sentence as very negative or very possitive, in contrast to the students."
   ]
  },
  {
   "cell_type": "markdown",
   "metadata": {},
   "source": [
    "####Quantile-quantile plot"
   ]
  },
  {
   "cell_type": "markdown",
   "metadata": {},
   "source": [
    "<div align=\"center\">\n",
    "    <figure>\n",
    "        <img src=\"qqplot-students.png\"/>\n",
    "        <figcaption>Fig.10 QQPlot: students' distribution (blue dots) against the normal distribution (red line)</figcaption>\n",
    "    </figure>\n",
    "</div>"
   ]
  },
  {
   "cell_type": "markdown",
   "metadata": {},
   "source": [
    "<div align=\"center\">\n",
    "    <figure>\n",
    "        <img src=\"qqplot-liwc.png\"/>\n",
    "        <figcaption>Fig.11 QQPlot: LIWC's distribution (blue dots) against the normal distribution (red line)</figcaption>\n",
    "    </figure>\n",
    "</div>"
   ]
  },
  {
   "cell_type": "markdown",
   "metadata": {},
   "source": [
    "Figures 10 and 11 show how different both distributions are: the students' distribution is very close to the normal distribution while LIWC's is very far."
   ]
  },
  {
   "cell_type": "markdown",
   "metadata": {},
   "source": [
    "####Kolmogorov-Smirnov\n",
    "The comparison of the two distributions performed with the test provided by scipy returned a value for p-value=0.0, i. e., students' and LIWC's results come from different distributions."
   ]
  },
  {
   "cell_type": "markdown",
   "metadata": {
    "collapsed": true
   },
   "source": [
    "###d) Accuracy\n",
    "The accuracy of LIWC's result with respect to the polarity assigned by the students is:\n",
    "\n",
    "<div>\n",
    "    <table>\n",
    "        <tr><td>Total sentences</td><td>8996</td></tr>\n",
    "        <tr><td>Sentences evaluated with same polarity</td><td>3202</td></tr>\n",
    "        <tr><td>Sentences evaluated with different polarity</td><td>5794</td></tr>\n",
    "        <tr><td>LIWC accuracy</td><td>35.59%</td></tr>\n",
    "        <caption>LIWC accuracy</caption>\n",
    "    </table>\n",
    "</div>\n",
    "\n",
    "LIWC accuracy (35.59%) is very below the minimum value admissible for any classificator (70%)."
   ]
  },
  {
   "cell_type": "markdown",
   "metadata": {
    "collapsed": true
   },
   "source": [
    "###e) Conclusions\n",
    "A variety of tests were performed in order to compare how similar or different were the polarities assigned to the sentences by the students and by LIWC. Both distributions are slightly biased towards a positive polarity (as the histograms and the density estimations show); however, there are much more important differences:\n",
    "1. The histograms shows that LIWC is strongly biased towards 0 (it evaluates a large amount of sentences as neutral) and it rarely classifies the sentence as very negative or very possitive, in contrast to the students.\n",
    "2. The KDE reinforces the results obtained from the histograms.\n",
    "3. The QQPlot shows how different both distributions are with respect to the normal distribution: the students' distribution is very close while LIWC's is very far from the normal distribution.\n",
    "4. Kolmogorov-Smirnov gives a definitive result: students' and LIWC's results come from different distributions.\n",
    "5. LIWC accuracy (35.59%) is very below the minimum value admissible for any classificator (70%).\n",
    "\n",
    "Therefore, the conclusion is it is necessary to create a more suitable classifier for this case study."
   ]
  },
  {
   "cell_type": "markdown",
   "metadata": {},
   "source": [
    "##2. Demographic data"
   ]
  }
 ],
 "metadata": {
  "kernelspec": {
   "display_name": "Python 2",
   "language": "python",
   "name": "python2"
  },
  "language_info": {
   "codemirror_mode": {
    "name": "ipython",
    "version": 2
   },
   "file_extension": ".py",
   "mimetype": "text/x-python",
   "name": "python",
   "nbconvert_exporter": "python",
   "pygments_lexer": "ipython2",
   "version": "2.7.6"
  }
 },
 "nbformat": 4,
 "nbformat_minor": 0
}
