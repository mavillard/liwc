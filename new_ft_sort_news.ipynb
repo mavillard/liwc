{
 "cells": [
  {
   "cell_type": "code",
   "execution_count": 30,
   "metadata": {
    "collapsed": true
   },
   "outputs": [],
   "source": [
    "import os\n",
    "import re"
   ]
  },
  {
   "cell_type": "code",
   "execution_count": 60,
   "metadata": {
    "collapsed": false
   },
   "outputs": [
    {
     "name": "stdout",
     "output_type": "stream",
     "text": [
      "Files: 281584\n",
      "Other: 0\n",
      "Total: 281584\n"
     ]
    }
   ],
   "source": [
    "# total = 0\n",
    "# files = 0\n",
    "# other = 0\n",
    "# path = '/home/antonio/git/nytimes/ft_data/all/'\n",
    "# for e in os.listdir(path):\n",
    "#     f = os.path.join(path, e)\n",
    "#     if not os.path.isfile(f):\n",
    "#         other += 1\n",
    "#     else:\n",
    "#         files += 1\n",
    "#     total += 1\n",
    "# print('Files:', files)\n",
    "# print('Other:', other)\n",
    "# print('Total:', total)"
   ]
  },
  {
   "cell_type": "code",
   "execution_count": 62,
   "metadata": {
    "collapsed": true
   },
   "outputs": [],
   "source": [
    "def is_date(s):\n",
    "    result = False\n",
    "    if len(s) == 8:\n",
    "        result = True\n",
    "        year = int(s[0:4])\n",
    "        month = int(s[4:6])\n",
    "        day = int(s[6:8])\n",
    "        result = result and 2003 <= year <= 2014\n",
    "        result = result and 1 <= month <= 12\n",
    "        result = result and 1 <= day <= 31\n",
    "    return result\n",
    "\n",
    "def get_date(s):\n",
    "    dates = []\n",
    "    numbers = re.findall('\\d+', s)\n",
    "    for n in numbers:\n",
    "        if is_date(n):\n",
    "            dates.append(n)\n",
    "    assert len(dates) == 1\n",
    "    return dates[0]"
   ]
  },
  {
   "cell_type": "code",
   "execution_count": 72,
   "metadata": {
    "collapsed": false
   },
   "outputs": [
    {
     "name": "stdout",
     "output_type": "stream",
     "text": [
      "Date: 277518\n",
      "FTNEWSPLUS_CB: 1569\n",
      "ftnewspaper: 1991\n",
      "ft.com_end: 506\n",
      "Other: 0\n",
      "Total: 281584\n"
     ]
    }
   ],
   "source": [
    "# total = 0\n",
    "# d = 0\n",
    "# ftnewsplus_cb = 0\n",
    "# ftnewspaper = 0\n",
    "# ft_com_end = 0\n",
    "# other = 0\n",
    "# path = '/home/antonio/git/nytimes/ft_data/all/'\n",
    "# for e in os.listdir(path):\n",
    "#     date = get_date(e)\n",
    "#     if e.startswith(date):\n",
    "#         d += 1\n",
    "#     elif e.startswith('FTNEWSPLUS_CB'):\n",
    "#         ftnewsplus_cb += 1\n",
    "#     elif e.startswith('ftnewspaper'):\n",
    "#         ftnewspaper += 1\n",
    "#     elif e.startswith('ft.com_end'):\n",
    "#         ft_com_end += 1\n",
    "#     else:\n",
    "#         other += 1\n",
    "#     total += 1\n",
    "# print('Date:', d)\n",
    "# print('FTNEWSPLUS_CB:', ftnewsplus_cb)\n",
    "# print('ftnewspaper:', ftnewspaper)\n",
    "# print('ft.com_end:', ft_com_end)\n",
    "# print('Other:', other)\n",
    "# print('Total:', total)"
   ]
  },
  {
   "cell_type": "code",
   "execution_count": 73,
   "metadata": {
    "collapsed": false
   },
   "outputs": [],
   "source": [
    "path = '/home/antonio/git/nytimes/ft_data/all/'\n",
    "for e in os.listdir(path):\n",
    "    date = get_date(e)\n",
    "    if not e.startswith(date):\n",
    "        f_old = os.path.join(path, e)\n",
    "        f_new = os.path.join(path, date + '_' + e)\n",
    "        os.rename(f_old, f_new)"
   ]
  },
  {
   "cell_type": "code",
   "execution_count": 75,
   "metadata": {
    "collapsed": false
   },
   "outputs": [
    {
     "name": "stdout",
     "output_type": "stream",
     "text": [
      "Date: 281584\n",
      "FTNEWSPLUS_CB: 0\n",
      "ftnewspaper: 0\n",
      "ft.com_end: 0\n",
      "Other: 0\n",
      "Total: 281584\n"
     ]
    }
   ],
   "source": [
    "# def get_date_aux(s):\n",
    "#     dates = []\n",
    "#     numbers = re.findall('\\d+', s)\n",
    "#     for n in numbers:\n",
    "#         if is_date(n):\n",
    "#             dates.append(n)\n",
    "#     return dates[0]\n",
    "\n",
    "# total = 0\n",
    "# d = 0\n",
    "# ftnewsplus_cb = 0\n",
    "# ftnewspaper = 0\n",
    "# ft_com_end = 0\n",
    "# other = 0\n",
    "# path = '/home/antonio/git/nytimes/ft_data/all/'\n",
    "# for e in os.listdir(path):\n",
    "#     date = get_date_aux(e)\n",
    "#     if e.startswith(date):\n",
    "#         d += 1\n",
    "#     elif e.startswith('FTNEWSPLUS_CB'):\n",
    "#         ftnewsplus_cb += 1\n",
    "#     elif e.startswith('ftnewspaper'):\n",
    "#         ftnewspaper += 1\n",
    "#     elif e.startswith('ft.com_end'):\n",
    "#         ft_com_end += 1\n",
    "#     else:\n",
    "#         other += 1\n",
    "#     total += 1\n",
    "# print('Date:', d)\n",
    "# print('FTNEWSPLUS_CB:', ftnewsplus_cb)\n",
    "# print('ftnewspaper:', ftnewspaper)\n",
    "# print('ft.com_end:', ft_com_end)\n",
    "# print('Other:', other)\n",
    "# print('Total:', total)"
   ]
  },
  {
   "cell_type": "code",
   "execution_count": null,
   "metadata": {
    "collapsed": true
   },
   "outputs": [],
   "source": []
  }
 ],
 "metadata": {
  "kernelspec": {
   "display_name": "Python 3",
   "language": "python",
   "name": "python3"
  },
  "language_info": {
   "codemirror_mode": {
    "name": "ipython",
    "version": 3
   },
   "file_extension": ".py",
   "mimetype": "text/x-python",
   "name": "python",
   "nbconvert_exporter": "python",
   "pygments_lexer": "ipython3",
   "version": "3.4.0"
  }
 },
 "nbformat": 4,
 "nbformat_minor": 0
}
