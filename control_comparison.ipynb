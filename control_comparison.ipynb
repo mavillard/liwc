{
 "cells": [
  {
   "cell_type": "code",
   "execution_count": 1,
   "metadata": {
    "collapsed": false
   },
   "outputs": [
    {
     "name": "stdout",
     "output_type": "stream",
     "text": [
      "Populating the interactive namespace from numpy and matplotlib\n"
     ]
    }
   ],
   "source": [
    "%pylab inline\n",
    "\n",
    "matplotlib.rcParams['figure.figsize'] = (12, 7)\n",
    "matplotlib.rcParams.update({'figure.autolayout': True})\n",
    "font = {'size': 12}\n",
    "matplotlib.rc('font', **font)"
   ]
  },
  {
   "cell_type": "code",
   "execution_count": 2,
   "metadata": {
    "collapsed": false
   },
   "outputs": [],
   "source": [
    "import csv\n",
    "import pandas as pd"
   ]
  },
  {
   "cell_type": "code",
   "execution_count": 3,
   "metadata": {
    "collapsed": false
   },
   "outputs": [],
   "source": [
    "def same_result(row):\n",
    "    res = False\n",
    "    if row['norm_score'] < 0 and row['norm_liwc'] < 0:\n",
    "        res = True\n",
    "    if row['norm_score'] > 0 and row['norm_liwc'] > 0:\n",
    "        res = True\n",
    "    if row['norm_score'] == 0 and row['norm_liwc'] == 0:\n",
    "        res = True\n",
    "    return res"
   ]
  },
  {
   "cell_type": "markdown",
   "metadata": {},
   "source": [
    "###b) 2)"
   ]
  },
  {
   "cell_type": "code",
   "execution_count": 50,
   "metadata": {
    "collapsed": true
   },
   "outputs": [],
   "source": [
    "df_b2 = pd.read_csv('control_results_minmax_minmax.csv')"
   ]
  },
  {
   "cell_type": "code",
   "execution_count": 60,
   "metadata": {
    "collapsed": false
   },
   "outputs": [
    {
     "data": {
      "text/html": [
       "<div style=\"max-height:1000px;max-width:1500px;overflow:auto;\">\n",
       "<table border=\"1\" class=\"dataframe\">\n",
       "  <thead>\n",
       "    <tr style=\"text-align: right;\">\n",
       "      <th></th>\n",
       "      <th>#s</th>\n",
       "      <th>sentence</th>\n",
       "      <th>score</th>\n",
       "      <th>liwc</th>\n",
       "      <th>norm_score</th>\n",
       "      <th>norm_liwc</th>\n",
       "      <th>same</th>\n",
       "    </tr>\n",
       "  </thead>\n",
       "  <tbody>\n",
       "    <tr>\n",
       "      <th>4</th>\n",
       "      <td>5</td>\n",
       "      <td>'I love how this blurs the lines between indoo...</td>\n",
       "      <td>1.000000</td>\n",
       "      <td>9.09</td>\n",
       "      <td>0.500000</td>\n",
       "      <td>0.381772</td>\n",
       "      <td>True</td>\n",
       "    </tr>\n",
       "    <tr>\n",
       "      <th>8</th>\n",
       "      <td>9</td>\n",
       "      <td>A Lorain man was arrested after hitting his br...</td>\n",
       "      <td>-1.000000</td>\n",
       "      <td>3.45</td>\n",
       "      <td>-0.500000</td>\n",
       "      <td>0.144897</td>\n",
       "      <td>False</td>\n",
       "    </tr>\n",
       "    <tr>\n",
       "      <th>10</th>\n",
       "      <td>11</td>\n",
       "      <td>A Moscow district court on Thursday arrested a...</td>\n",
       "      <td>-0.333333</td>\n",
       "      <td>-9.09</td>\n",
       "      <td>-0.166667</td>\n",
       "      <td>-0.381772</td>\n",
       "      <td>True</td>\n",
       "    </tr>\n",
       "    <tr>\n",
       "      <th>12</th>\n",
       "      <td>13</td>\n",
       "      <td>A Web site run by a Texas law student has remo...</td>\n",
       "      <td>1.000000</td>\n",
       "      <td>-2.50</td>\n",
       "      <td>0.500000</td>\n",
       "      <td>-0.104998</td>\n",
       "      <td>False</td>\n",
       "    </tr>\n",
       "    <tr>\n",
       "      <th>13</th>\n",
       "      <td>14</td>\n",
       "      <td>A colorful gem added to a simple white shirt a...</td>\n",
       "      <td>1.000000</td>\n",
       "      <td>4.17</td>\n",
       "      <td>0.500000</td>\n",
       "      <td>0.175136</td>\n",
       "      <td>True</td>\n",
       "    </tr>\n",
       "  </tbody>\n",
       "</table>\n",
       "</div>"
      ],
      "text/plain": [
       "    #s                                           sentence     score  liwc  \\\n",
       "4    5  'I love how this blurs the lines between indoo...  1.000000  9.09   \n",
       "8    9  A Lorain man was arrested after hitting his br... -1.000000  3.45   \n",
       "10  11  A Moscow district court on Thursday arrested a... -0.333333 -9.09   \n",
       "12  13  A Web site run by a Texas law student has remo...  1.000000 -2.50   \n",
       "13  14  A colorful gem added to a simple white shirt a...  1.000000  4.17   \n",
       "\n",
       "    norm_score  norm_liwc   same  \n",
       "4     0.500000   0.381772   True  \n",
       "8    -0.500000   0.144897  False  \n",
       "10   -0.166667  -0.381772   True  \n",
       "12    0.500000  -0.104998  False  \n",
       "13    0.500000   0.175136   True  "
      ]
     },
     "execution_count": 60,
     "metadata": {},
     "output_type": "execute_result"
    }
   ],
   "source": [
    "df_b2.head()"
   ]
  },
  {
   "cell_type": "code",
   "execution_count": 61,
   "metadata": {
    "collapsed": true
   },
   "outputs": [],
   "source": [
    "df_b2 = df_b2[df_b2.norm_liwc!=0]\n",
    "df_b2 = df_b2[df_b2.norm_score!=0]"
   ]
  },
  {
   "cell_type": "code",
   "execution_count": 62,
   "metadata": {
    "collapsed": false
   },
   "outputs": [
    {
     "data": {
      "text/plain": [
       "#s            0\n",
       "sentence      0\n",
       "score         0\n",
       "liwc          0\n",
       "norm_score    0\n",
       "norm_liwc     0\n",
       "same          0\n",
       "dtype: int64"
      ]
     },
     "execution_count": 62,
     "metadata": {},
     "output_type": "execute_result"
    }
   ],
   "source": [
    "df_b2[df_b2.norm_score==0].count()"
   ]
  },
  {
   "cell_type": "code",
   "execution_count": 63,
   "metadata": {
    "collapsed": false
   },
   "outputs": [
    {
     "data": {
      "text/plain": [
       "#s            0\n",
       "sentence      0\n",
       "score         0\n",
       "liwc          0\n",
       "norm_score    0\n",
       "norm_liwc     0\n",
       "same          0\n",
       "dtype: int64"
      ]
     },
     "execution_count": 63,
     "metadata": {},
     "output_type": "execute_result"
    }
   ],
   "source": [
    "df_b2[df_b2.norm_liwc==0].count()"
   ]
  },
  {
   "cell_type": "code",
   "execution_count": 64,
   "metadata": {
    "collapsed": false
   },
   "outputs": [
    {
     "name": "stdout",
     "output_type": "stream",
     "text": [
      "Total: 86\n",
      "Equals: 60\n",
      "Different: 26\n",
      "Accuracy: 69.7674418605\n"
     ]
    }
   ],
   "source": [
    "df_b2['same'] = df_b2.apply(same_result, axis=1)\n",
    "total = df_b2.same.count()\n",
    "equals = df_b2[df_b2.same == True].count()['same']\n",
    "different = df_b2[df_b2.same == False].count()['same']\n",
    "print 'Total:', total\n",
    "print 'Equals:', equals\n",
    "print 'Different:', different\n",
    "print 'Accuracy:', float(equals) * 100 / total"
   ]
  },
  {
   "cell_type": "code",
   "execution_count": 65,
   "metadata": {
    "collapsed": false
   },
   "outputs": [
    {
     "data": {
      "text/plain": [
       "array([[<matplotlib.axes._subplots.AxesSubplot object at 0x7f6b92cf9690>,\n",
       "        <matplotlib.axes._subplots.AxesSubplot object at 0x7f6b92b59b10>]], dtype=object)"
      ]
     },
     "execution_count": 65,
     "metadata": {},
     "output_type": "execute_result"
    },
    {
     "data": {
      "image/png": "[encoded data removed]",
      "text/plain": [
       "<matplotlib.figure.Figure at 0x7f6b931c4790>"
      ]
     },
     "metadata": {},
     "output_type": "display_data"
    }
   ],
   "source": [
    "df_b2[['norm_score', 'norm_liwc']].hist(sharey=True, sharex=True, range=[-1, 1], bins=15)"
   ]
  },
  {
   "cell_type": "code",
   "execution_count": 29,
   "metadata": {
    "collapsed": false
   },
   "outputs": [
    {
     "data": {
      "text/plain": [
       "<matplotlib.axes._subplots.AxesSubplot at 0x7f6b9372fad0>"
      ]
     },
     "execution_count": 29,
     "metadata": {},
     "output_type": "execute_result"
    },
    {
     "data": {
      "image/png": "[encoded data removed]",
      "text/plain": [
       "<matplotlib.figure.Figure at 0x7f6bcc559a90>"
      ]
     },
     "metadata": {},
     "output_type": "display_data"
    }
   ],
   "source": [
    "df_b2[['norm_score', 'norm_liwc']].plot(kind='hist', alpha=0.5, color=['b', 'r'], bins=15)"
   ]
  },
  {
   "cell_type": "code",
   "execution_count": 30,
   "metadata": {
    "collapsed": false
   },
   "outputs": [
    {
     "data": {
      "text/plain": [
       "<matplotlib.axes._subplots.AxesSubplot at 0x7f6b935fe450>"
      ]
     },
     "execution_count": 30,
     "metadata": {},
     "output_type": "execute_result"
    },
    {
     "data": {
      "image/png": "[encoded data removed]",
      "text/plain": [
       "<matplotlib.figure.Figure at 0x7f6b93622390>"
      ]
     },
     "metadata": {},
     "output_type": "display_data"
    }
   ],
   "source": [
    "df_b2[['norm_score', 'norm_liwc']].plot(kind='kde', xlim=[-1, 1])"
   ]
  },
  {
   "cell_type": "code",
   "execution_count": null,
   "metadata": {
    "collapsed": true
   },
   "outputs": [],
   "source": []
  }
 ],
 "metadata": {
  "kernelspec": {
   "display_name": "Python 2",
   "language": "python",
   "name": "python2"
  },
  "language_info": {
   "codemirror_mode": {
    "name": "ipython",
    "version": 2
   },
   "file_extension": ".py",
   "mimetype": "text/x-python",
   "name": "python",
   "nbconvert_exporter": "python",
   "pygments_lexer": "ipython2",
   "version": "2.7.6"
  }
 },
 "nbformat": 4,
 "nbformat_minor": 0
}
