{
 "cells": [
  {
   "cell_type": "code",
   "execution_count": 2,
   "metadata": {
    "collapsed": false
   },
   "outputs": [
    {
     "name": "stdout",
     "output_type": "stream",
     "text": [
      "Populating the interactive namespace from numpy and matplotlib\n"
     ]
    }
   ],
   "source": [
    "%pylab inline\n",
    "\n",
    "matplotlib.rcParams['figure.figsize'] = (12, 7)\n",
    "matplotlib.rcParams.update({'figure.autolayout': True})\n",
    "font = {'size': 12}\n",
    "matplotlib.rc('font', **font)"
   ]
  },
  {
   "cell_type": "code",
   "execution_count": 3,
   "metadata": {
    "collapsed": false
   },
   "outputs": [],
   "source": [
    "import csv\n",
    "import pandas as pd"
   ]
  },
  {
   "cell_type": "code",
   "execution_count": 4,
   "metadata": {
    "collapsed": false
   },
   "outputs": [],
   "source": [
    "def same_result(row):\n",
    "    res = False\n",
    "    if row['norm_score'] < 0 and row['norm_liwc'] < 0:\n",
    "        res = True\n",
    "    if row['norm_score'] > 0 and row['norm_liwc'] > 0:\n",
    "        res = True\n",
    "    if row['norm_score'] == 0 and row['norm_liwc'] == 0:\n",
    "        res = True\n",
    "    return res"
   ]
  },
  {
   "cell_type": "markdown",
   "metadata": {},
   "source": [
    "###a) 1)"
   ]
  },
  {
   "cell_type": "code",
   "execution_count": 11,
   "metadata": {
    "collapsed": false
   },
   "outputs": [
    {
     "data": {
      "text/plain": [
       "array([[<matplotlib.axes._subplots.AxesSubplot object at 0x7f0a392a6a10>,\n",
       "        <matplotlib.axes._subplots.AxesSubplot object at 0x7f0a38fd7a10>]], dtype=object)"
      ]
     },
     "execution_count": 11,
     "metadata": {},
     "output_type": "execute_result"
    },
    {
     "data": {
      "image/png": "[encoded data removed]",
      "text/plain": [
       "<matplotlib.figure.Figure at 0x7f0a59307e90>"
      ]
     },
     "metadata": {},
     "output_type": "display_data"
    }
   ],
   "source": [
    "df = pd.read_csv('results_subtraction_100.csv')\n",
    "df[['norm_score', 'norm_liwc']].hist(sharey=True, sharex=True)"
   ]
  },
  {
   "cell_type": "code",
   "execution_count": 45,
   "metadata": {
    "collapsed": false
   },
   "outputs": [
    {
     "ename": "AttributeError",
     "evalue": "Unknown property share_y",
     "output_type": "error",
     "traceback": [
      "\u001b[1;31m---------------------------------------------------------------------------\u001b[0m",
      "\u001b[1;31mAttributeError\u001b[0m                            Traceback (most recent call last)",
      "\u001b[1;32m<ipython-input-45-1855a984c23b>\u001b[0m in \u001b[0;36m<module>\u001b[1;34m()\u001b[0m\n\u001b[1;32m----> 1\u001b[1;33m \u001b[0mpd\u001b[0m\u001b[1;33m.\u001b[0m\u001b[0mread_csv\u001b[0m\u001b[1;33m(\u001b[0m\u001b[1;34m'results_subtraction_100.csv'\u001b[0m\u001b[1;33m)\u001b[0m\u001b[1;33m[\u001b[0m\u001b[1;33m[\u001b[0m\u001b[1;34m'norm_score'\u001b[0m\u001b[1;33m,\u001b[0m \u001b[1;34m'norm_liwc'\u001b[0m\u001b[1;33m]\u001b[0m\u001b[1;33m]\u001b[0m\u001b[1;33m.\u001b[0m\u001b[0mhist\u001b[0m\u001b[1;33m(\u001b[0m\u001b[0mbins\u001b[0m\u001b[1;33m=\u001b[0m\u001b[1;36m20\u001b[0m\u001b[1;33m,\u001b[0m \u001b[0mshare_y\u001b[0m\u001b[1;33m=\u001b[0m\u001b[0mTrue\u001b[0m\u001b[1;33m)\u001b[0m\u001b[1;33m\u001b[0m\u001b[0m\n\u001b[0m",
      "\u001b[1;32m/home/antonio/.virtualenvs/lexisnexis/local/lib/python2.7/site-packages/pandas/tools/plotting.pyc\u001b[0m in \u001b[0;36mhist_frame\u001b[1;34m(data, column, by, grid, xlabelsize, xrot, ylabelsize, yrot, ax, sharex, sharey, figsize, layout, bins, **kwds)\u001b[0m\n\u001b[0;32m   2763\u001b[0m     \u001b[1;32mfor\u001b[0m \u001b[0mi\u001b[0m\u001b[1;33m,\u001b[0m \u001b[0mcol\u001b[0m \u001b[1;32min\u001b[0m \u001b[0menumerate\u001b[0m\u001b[1;33m(\u001b[0m\u001b[0mcom\u001b[0m\u001b[1;33m.\u001b[0m\u001b[0m_try_sort\u001b[0m\u001b[1;33m(\u001b[0m\u001b[0mdata\u001b[0m\u001b[1;33m.\u001b[0m\u001b[0mcolumns\u001b[0m\u001b[1;33m)\u001b[0m\u001b[1;33m)\u001b[0m\u001b[1;33m:\u001b[0m\u001b[1;33m\u001b[0m\u001b[0m\n\u001b[0;32m   2764\u001b[0m         \u001b[0max\u001b[0m \u001b[1;33m=\u001b[0m \u001b[0m_axes\u001b[0m\u001b[1;33m[\u001b[0m\u001b[0mi\u001b[0m\u001b[1;33m]\u001b[0m\u001b[1;33m\u001b[0m\u001b[0m\n\u001b[1;32m-> 2765\u001b[1;33m         \u001b[0max\u001b[0m\u001b[1;33m.\u001b[0m\u001b[0mhist\u001b[0m\u001b[1;33m(\u001b[0m\u001b[0mdata\u001b[0m\u001b[1;33m[\u001b[0m\u001b[0mcol\u001b[0m\u001b[1;33m]\u001b[0m\u001b[1;33m.\u001b[0m\u001b[0mdropna\u001b[0m\u001b[1;33m(\u001b[0m\u001b[1;33m)\u001b[0m\u001b[1;33m.\u001b[0m\u001b[0mvalues\u001b[0m\u001b[1;33m,\u001b[0m \u001b[0mbins\u001b[0m\u001b[1;33m=\u001b[0m\u001b[0mbins\u001b[0m\u001b[1;33m,\u001b[0m \u001b[1;33m**\u001b[0m\u001b[0mkwds\u001b[0m\u001b[1;33m)\u001b[0m\u001b[1;33m\u001b[0m\u001b[0m\n\u001b[0m\u001b[0;32m   2766\u001b[0m         \u001b[0max\u001b[0m\u001b[1;33m.\u001b[0m\u001b[0mset_title\u001b[0m\u001b[1;33m(\u001b[0m\u001b[0mcol\u001b[0m\u001b[1;33m)\u001b[0m\u001b[1;33m\u001b[0m\u001b[0m\n\u001b[0;32m   2767\u001b[0m         \u001b[0max\u001b[0m\u001b[1;33m.\u001b[0m\u001b[0mgrid\u001b[0m\u001b[1;33m(\u001b[0m\u001b[0mgrid\u001b[0m\u001b[1;33m)\u001b[0m\u001b[1;33m\u001b[0m\u001b[0m\n",
      "\u001b[1;32m/home/antonio/.virtualenvs/lexisnexis/local/lib/python2.7/site-packages/matplotlib/axes/_axes.pyc\u001b[0m in \u001b[0;36mhist\u001b[1;34m(self, x, bins, range, normed, weights, cumulative, bottom, histtype, align, orientation, rwidth, log, color, label, stacked, **kwargs)\u001b[0m\n\u001b[0;32m   5886\u001b[0m             \u001b[1;32mif\u001b[0m \u001b[0mpatch\u001b[0m\u001b[1;33m:\u001b[0m\u001b[1;33m\u001b[0m\u001b[0m\n\u001b[0;32m   5887\u001b[0m                 \u001b[0mp\u001b[0m \u001b[1;33m=\u001b[0m \u001b[0mpatch\u001b[0m\u001b[1;33m[\u001b[0m\u001b[1;36m0\u001b[0m\u001b[1;33m]\u001b[0m\u001b[1;33m\u001b[0m\u001b[0m\n\u001b[1;32m-> 5888\u001b[1;33m                 \u001b[0mp\u001b[0m\u001b[1;33m.\u001b[0m\u001b[0mupdate\u001b[0m\u001b[1;33m(\u001b[0m\u001b[0mkwargs\u001b[0m\u001b[1;33m)\u001b[0m\u001b[1;33m\u001b[0m\u001b[0m\n\u001b[0m\u001b[0;32m   5889\u001b[0m                 \u001b[1;32mif\u001b[0m \u001b[0mlbl\u001b[0m \u001b[1;32mis\u001b[0m \u001b[1;32mnot\u001b[0m \u001b[0mNone\u001b[0m\u001b[1;33m:\u001b[0m\u001b[1;33m\u001b[0m\u001b[0m\n\u001b[0;32m   5890\u001b[0m                     \u001b[0mp\u001b[0m\u001b[1;33m.\u001b[0m\u001b[0mset_label\u001b[0m\u001b[1;33m(\u001b[0m\u001b[0mlbl\u001b[0m\u001b[1;33m)\u001b[0m\u001b[1;33m\u001b[0m\u001b[0m\n",
      "\u001b[1;32m/home/antonio/.virtualenvs/lexisnexis/local/lib/python2.7/site-packages/matplotlib/artist.pyc\u001b[0m in \u001b[0;36mupdate\u001b[1;34m(self, props)\u001b[0m\n\u001b[0;32m    755\u001b[0m             \u001b[0mfunc\u001b[0m \u001b[1;33m=\u001b[0m \u001b[0mgetattr\u001b[0m\u001b[1;33m(\u001b[0m\u001b[0mself\u001b[0m\u001b[1;33m,\u001b[0m \u001b[1;34m'set_'\u001b[0m \u001b[1;33m+\u001b[0m \u001b[0mk\u001b[0m\u001b[1;33m,\u001b[0m \u001b[0mNone\u001b[0m\u001b[1;33m)\u001b[0m\u001b[1;33m\u001b[0m\u001b[0m\n\u001b[0;32m    756\u001b[0m             \u001b[1;32mif\u001b[0m \u001b[0mfunc\u001b[0m \u001b[1;32mis\u001b[0m \u001b[0mNone\u001b[0m \u001b[1;32mor\u001b[0m \u001b[1;32mnot\u001b[0m \u001b[0msix\u001b[0m\u001b[1;33m.\u001b[0m\u001b[0mcallable\u001b[0m\u001b[1;33m(\u001b[0m\u001b[0mfunc\u001b[0m\u001b[1;33m)\u001b[0m\u001b[1;33m:\u001b[0m\u001b[1;33m\u001b[0m\u001b[0m\n\u001b[1;32m--> 757\u001b[1;33m                 \u001b[1;32mraise\u001b[0m \u001b[0mAttributeError\u001b[0m\u001b[1;33m(\u001b[0m\u001b[1;34m'Unknown property %s'\u001b[0m \u001b[1;33m%\u001b[0m \u001b[0mk\u001b[0m\u001b[1;33m)\u001b[0m\u001b[1;33m\u001b[0m\u001b[0m\n\u001b[0m\u001b[0;32m    758\u001b[0m             \u001b[0mfunc\u001b[0m\u001b[1;33m(\u001b[0m\u001b[0mv\u001b[0m\u001b[1;33m)\u001b[0m\u001b[1;33m\u001b[0m\u001b[0m\n\u001b[0;32m    759\u001b[0m             \u001b[0mchanged\u001b[0m \u001b[1;33m=\u001b[0m \u001b[0mTrue\u001b[0m\u001b[1;33m\u001b[0m\u001b[0m\n",
      "\u001b[1;31mAttributeError\u001b[0m: Unknown property share_y"
     ]
    },
    {
     "data": {
      "image/png": "[encoded data removed]",
      "text/plain": [
       "<matplotlib.figure.Figure at 0x7f085539dc90>"
      ]
     },
     "metadata": {},
     "output_type": "display_data"
    }
   ],
   "source": [
    "pd.read_csv('results_subtraction_100.csv')[['norm_score', 'norm_liwc']].hist(bins=20, share_y=True)"
   ]
  },
  {
   "cell_type": "code",
   "execution_count": 44,
   "metadata": {
    "collapsed": false
   },
   "outputs": [
    {
     "ename": "ImportError",
     "evalue": "No module named scipy.stats",
     "output_type": "error",
     "traceback": [
      "\u001b[1;31m---------------------------------------------------------------------------\u001b[0m",
      "\u001b[1;31mImportError\u001b[0m                               Traceback (most recent call last)",
      "\u001b[1;32m<ipython-input-44-5462654f6986>\u001b[0m in \u001b[0;36m<module>\u001b[1;34m()\u001b[0m\n\u001b[1;32m----> 1\u001b[1;33m \u001b[0mpd\u001b[0m\u001b[1;33m.\u001b[0m\u001b[0mread_csv\u001b[0m\u001b[1;33m(\u001b[0m\u001b[1;34m'results_subtraction_100.csv'\u001b[0m\u001b[1;33m)\u001b[0m\u001b[1;33m[\u001b[0m\u001b[1;33m[\u001b[0m\u001b[1;34m'norm_score'\u001b[0m\u001b[1;33m,\u001b[0m \u001b[1;34m'norm_liwc'\u001b[0m\u001b[1;33m]\u001b[0m\u001b[1;33m]\u001b[0m\u001b[1;33m.\u001b[0m\u001b[0mplot\u001b[0m\u001b[1;33m(\u001b[0m\u001b[0mkind\u001b[0m\u001b[1;33m=\u001b[0m\u001b[1;34m'kde'\u001b[0m\u001b[1;33m)\u001b[0m\u001b[1;33m\u001b[0m\u001b[0m\n\u001b[0m",
      "\u001b[1;32m/home/antonio/.virtualenvs/lexisnexis/local/lib/python2.7/site-packages/pandas/tools/plotting.pyc\u001b[0m in \u001b[0;36mplot_frame\u001b[1;34m(data, x, y, kind, ax, subplots, sharex, sharey, layout, figsize, use_index, title, grid, legend, style, logx, logy, loglog, xticks, yticks, xlim, ylim, rot, fontsize, colormap, table, yerr, xerr, secondary_y, sort_columns, **kwds)\u001b[0m\n\u001b[0;32m   2483\u001b[0m                  \u001b[0myerr\u001b[0m\u001b[1;33m=\u001b[0m\u001b[0myerr\u001b[0m\u001b[1;33m,\u001b[0m \u001b[0mxerr\u001b[0m\u001b[1;33m=\u001b[0m\u001b[0mxerr\u001b[0m\u001b[1;33m,\u001b[0m\u001b[1;33m\u001b[0m\u001b[0m\n\u001b[0;32m   2484\u001b[0m                  \u001b[0msecondary_y\u001b[0m\u001b[1;33m=\u001b[0m\u001b[0msecondary_y\u001b[0m\u001b[1;33m,\u001b[0m \u001b[0msort_columns\u001b[0m\u001b[1;33m=\u001b[0m\u001b[0msort_columns\u001b[0m\u001b[1;33m,\u001b[0m\u001b[1;33m\u001b[0m\u001b[0m\n\u001b[1;32m-> 2485\u001b[1;33m                  **kwds)\n\u001b[0m\u001b[0;32m   2486\u001b[0m \u001b[1;33m\u001b[0m\u001b[0m\n\u001b[0;32m   2487\u001b[0m \u001b[1;33m\u001b[0m\u001b[0m\n",
      "\u001b[1;32m/home/antonio/.virtualenvs/lexisnexis/local/lib/python2.7/site-packages/pandas/tools/plotting.pyc\u001b[0m in \u001b[0;36m_plot\u001b[1;34m(data, x, y, subplots, ax, kind, **kwds)\u001b[0m\n\u001b[0;32m   2323\u001b[0m         \u001b[0mplot_obj\u001b[0m \u001b[1;33m=\u001b[0m \u001b[0mklass\u001b[0m\u001b[1;33m(\u001b[0m\u001b[0mdata\u001b[0m\u001b[1;33m,\u001b[0m \u001b[0msubplots\u001b[0m\u001b[1;33m=\u001b[0m\u001b[0msubplots\u001b[0m\u001b[1;33m,\u001b[0m \u001b[0max\u001b[0m\u001b[1;33m=\u001b[0m\u001b[0max\u001b[0m\u001b[1;33m,\u001b[0m \u001b[0mkind\u001b[0m\u001b[1;33m=\u001b[0m\u001b[0mkind\u001b[0m\u001b[1;33m,\u001b[0m \u001b[1;33m**\u001b[0m\u001b[0mkwds\u001b[0m\u001b[1;33m)\u001b[0m\u001b[1;33m\u001b[0m\u001b[0m\n\u001b[0;32m   2324\u001b[0m \u001b[1;33m\u001b[0m\u001b[0m\n\u001b[1;32m-> 2325\u001b[1;33m     \u001b[0mplot_obj\u001b[0m\u001b[1;33m.\u001b[0m\u001b[0mgenerate\u001b[0m\u001b[1;33m(\u001b[0m\u001b[1;33m)\u001b[0m\u001b[1;33m\u001b[0m\u001b[0m\n\u001b[0m\u001b[0;32m   2326\u001b[0m     \u001b[0mplot_obj\u001b[0m\u001b[1;33m.\u001b[0m\u001b[0mdraw\u001b[0m\u001b[1;33m(\u001b[0m\u001b[1;33m)\u001b[0m\u001b[1;33m\u001b[0m\u001b[0m\n\u001b[0;32m   2327\u001b[0m     \u001b[1;32mreturn\u001b[0m \u001b[0mplot_obj\u001b[0m\u001b[1;33m.\u001b[0m\u001b[0mresult\u001b[0m\u001b[1;33m\u001b[0m\u001b[0m\n",
      "\u001b[1;32m/home/antonio/.virtualenvs/lexisnexis/local/lib/python2.7/site-packages/pandas/tools/plotting.pyc\u001b[0m in \u001b[0;36mgenerate\u001b[1;34m(self)\u001b[0m\n\u001b[0;32m    921\u001b[0m         \u001b[0mself\u001b[0m\u001b[1;33m.\u001b[0m\u001b[0m_compute_plot_data\u001b[0m\u001b[1;33m(\u001b[0m\u001b[1;33m)\u001b[0m\u001b[1;33m\u001b[0m\u001b[0m\n\u001b[0;32m    922\u001b[0m         \u001b[0mself\u001b[0m\u001b[1;33m.\u001b[0m\u001b[0m_setup_subplots\u001b[0m\u001b[1;33m(\u001b[0m\u001b[1;33m)\u001b[0m\u001b[1;33m\u001b[0m\u001b[0m\n\u001b[1;32m--> 923\u001b[1;33m         \u001b[0mself\u001b[0m\u001b[1;33m.\u001b[0m\u001b[0m_make_plot\u001b[0m\u001b[1;33m(\u001b[0m\u001b[1;33m)\u001b[0m\u001b[1;33m\u001b[0m\u001b[0m\n\u001b[0m\u001b[0;32m    924\u001b[0m         \u001b[0mself\u001b[0m\u001b[1;33m.\u001b[0m\u001b[0m_add_table\u001b[0m\u001b[1;33m(\u001b[0m\u001b[1;33m)\u001b[0m\u001b[1;33m\u001b[0m\u001b[0m\n\u001b[0;32m    925\u001b[0m         \u001b[0mself\u001b[0m\u001b[1;33m.\u001b[0m\u001b[0m_make_legend\u001b[0m\u001b[1;33m(\u001b[0m\u001b[1;33m)\u001b[0m\u001b[1;33m\u001b[0m\u001b[0m\n",
      "\u001b[1;32m/home/antonio/.virtualenvs/lexisnexis/local/lib/python2.7/site-packages/pandas/tools/plotting.pyc\u001b[0m in \u001b[0;36m_make_plot\u001b[1;34m(self)\u001b[0m\n\u001b[0;32m   1960\u001b[0m \u001b[1;33m\u001b[0m\u001b[0m\n\u001b[0;32m   1961\u001b[0m     \u001b[1;32mdef\u001b[0m \u001b[0m_make_plot\u001b[0m\u001b[1;33m(\u001b[0m\u001b[0mself\u001b[0m\u001b[1;33m)\u001b[0m\u001b[1;33m:\u001b[0m\u001b[1;33m\u001b[0m\u001b[0m\n\u001b[1;32m-> 1962\u001b[1;33m         \u001b[0mplotf\u001b[0m \u001b[1;33m=\u001b[0m \u001b[0mself\u001b[0m\u001b[1;33m.\u001b[0m\u001b[0m_get_plot_function\u001b[0m\u001b[1;33m(\u001b[0m\u001b[1;33m)\u001b[0m\u001b[1;33m\u001b[0m\u001b[0m\n\u001b[0m\u001b[0;32m   1963\u001b[0m         \u001b[0mcolors\u001b[0m \u001b[1;33m=\u001b[0m \u001b[0mself\u001b[0m\u001b[1;33m.\u001b[0m\u001b[0m_get_colors\u001b[0m\u001b[1;33m(\u001b[0m\u001b[1;33m)\u001b[0m\u001b[1;33m\u001b[0m\u001b[0m\n\u001b[0;32m   1964\u001b[0m         \u001b[1;32mfor\u001b[0m \u001b[0mi\u001b[0m\u001b[1;33m,\u001b[0m \u001b[1;33m(\u001b[0m\u001b[0mlabel\u001b[0m\u001b[1;33m,\u001b[0m \u001b[0my\u001b[0m\u001b[1;33m)\u001b[0m \u001b[1;32min\u001b[0m \u001b[0menumerate\u001b[0m\u001b[1;33m(\u001b[0m\u001b[0mself\u001b[0m\u001b[1;33m.\u001b[0m\u001b[0m_iter_data\u001b[0m\u001b[1;33m(\u001b[0m\u001b[1;33m)\u001b[0m\u001b[1;33m)\u001b[0m\u001b[1;33m:\u001b[0m\u001b[1;33m\u001b[0m\u001b[0m\n",
      "\u001b[1;32m/home/antonio/.virtualenvs/lexisnexis/local/lib/python2.7/site-packages/pandas/tools/plotting.pyc\u001b[0m in \u001b[0;36m_get_plot_function\u001b[1;34m(self)\u001b[0m\n\u001b[0;32m   2014\u001b[0m \u001b[1;33m\u001b[0m\u001b[0m\n\u001b[0;32m   2015\u001b[0m     \u001b[1;32mdef\u001b[0m \u001b[0m_get_plot_function\u001b[0m\u001b[1;33m(\u001b[0m\u001b[0mself\u001b[0m\u001b[1;33m)\u001b[0m\u001b[1;33m:\u001b[0m\u001b[1;33m\u001b[0m\u001b[0m\n\u001b[1;32m-> 2016\u001b[1;33m         \u001b[1;32mfrom\u001b[0m \u001b[0mscipy\u001b[0m\u001b[1;33m.\u001b[0m\u001b[0mstats\u001b[0m \u001b[1;32mimport\u001b[0m \u001b[0mgaussian_kde\u001b[0m\u001b[1;33m\u001b[0m\u001b[0m\n\u001b[0m\u001b[0;32m   2017\u001b[0m         \u001b[1;32mfrom\u001b[0m \u001b[0mscipy\u001b[0m \u001b[1;32mimport\u001b[0m \u001b[0m__version__\u001b[0m \u001b[1;32mas\u001b[0m \u001b[0mspv\u001b[0m\u001b[1;33m\u001b[0m\u001b[0m\n\u001b[0;32m   2018\u001b[0m         \u001b[0mf\u001b[0m \u001b[1;33m=\u001b[0m \u001b[0mMPLPlot\u001b[0m\u001b[1;33m.\u001b[0m\u001b[0m_get_plot_function\u001b[0m\u001b[1;33m(\u001b[0m\u001b[0mself\u001b[0m\u001b[1;33m)\u001b[0m\u001b[1;33m\u001b[0m\u001b[0m\n",
      "\u001b[1;31mImportError\u001b[0m: No module named scipy.stats"
     ]
    },
    {
     "data": {
      "image/png": "[encoded data removed]",
      "text/plain": [
       "<matplotlib.figure.Figure at 0x7f085406fbd0>"
      ]
     },
     "metadata": {},
     "output_type": "display_data"
    }
   ],
   "source": [
    "pd.read_csv('results_subtraction_100.csv')[['norm_score', 'norm_liwc']].plot(kind='kde')"
   ]
  },
  {
   "cell_type": "code",
   "execution_count": 6,
   "metadata": {
    "collapsed": false
   },
   "outputs": [
    {
     "data": {
      "text/plain": [
       "<matplotlib.axes._subplots.AxesSubplot at 0x7f0857501d10>"
      ]
     },
     "execution_count": 6,
     "metadata": {},
     "output_type": "execute_result"
    },
    {
     "name": "stderr",
     "output_type": "stream",
     "text": [
      "/home/antonio/.virtualenvs/lexisnexis/local/lib/python2.7/site-packages/matplotlib/figure.py:1653: UserWarning: This figure includes Axes that are not compatible with tight_layout, so its results might be incorrect.\n",
      "  warnings.warn(\"This figure includes Axes that are not \"\n"
     ]
    },
    {
     "data": {
      "image/png": "[encoded data removed]",
      "text/plain": [
       "<matplotlib.figure.Figure at 0x7f0857501650>"
      ]
     },
     "metadata": {},
     "output_type": "display_data"
    }
   ],
   "source": [
    "expe_sr = pd.Series(d_expe)\n",
    "expe_sr.plot(kind='bar')"
   ]
  },
  {
   "cell_type": "code",
   "execution_count": 37,
   "metadata": {
    "collapsed": false
   },
   "outputs": [
    {
     "data": {
      "text/plain": [
       "-1.0  -0.9      6\n",
       "-0.9  -0.8     27\n",
       "-0.8  -0.7     32\n",
       "-0.7  -0.6    125\n",
       "-0.6  -0.5     53\n",
       "dtype: int64"
      ]
     },
     "execution_count": 37,
     "metadata": {},
     "output_type": "execute_result"
    }
   ],
   "source": [
    "expe_sr.head()"
   ]
  },
  {
   "cell_type": "code",
   "execution_count": 27,
   "metadata": {
    "collapsed": false
   },
   "outputs": [
    {
     "data": {
      "text/plain": [
       "<matplotlib.axes._subplots.AxesSubplot at 0x7f085604d910>"
      ]
     },
     "execution_count": 27,
     "metadata": {},
     "output_type": "execute_result"
    },
    {
     "data": {
      "image/png": "[encoded data removed]",
      "text/plain": [
       "<matplotlib.figure.Figure at 0x7f08560597d0>"
      ]
     },
     "metadata": {},
     "output_type": "display_data"
    }
   ],
   "source": [
    "expe_sr.hist(bins=20)"
   ]
  },
  {
   "cell_type": "code",
   "execution_count": 29,
   "metadata": {
    "collapsed": false
   },
   "outputs": [
    {
     "data": {
      "text/plain": [
       "<matplotlib.axes._subplots.AxesSubplot at 0x7f0855670350>"
      ]
     },
     "execution_count": 29,
     "metadata": {},
     "output_type": "execute_result"
    },
    {
     "data": {
      "image/png": "[encoded data removed]",
      "text/plain": [
       "<matplotlib.figure.Figure at 0x7f08560477d0>"
      ]
     },
     "metadata": {},
     "output_type": "display_data"
    }
   ],
   "source": [
    "expe_sr.plot(kind='hist', bins=20)"
   ]
  },
  {
   "cell_type": "code",
   "execution_count": 8,
   "metadata": {
    "collapsed": false
   },
   "outputs": [],
   "source": [
    "liwc_sr = pd.Series(d_liwc)"
   ]
  },
  {
   "cell_type": "code",
   "execution_count": 9,
   "metadata": {
    "collapsed": false
   },
   "outputs": [
    {
     "data": {
      "text/plain": [
       "<matplotlib.axes._subplots.AxesSubplot at 0x7f0857058710>"
      ]
     },
     "execution_count": 9,
     "metadata": {},
     "output_type": "execute_result"
    },
    {
     "data": {
      "image/png": "[encoded data removed]",
      "text/plain": [
       "<matplotlib.figure.Figure at 0x7f08570742d0>"
      ]
     },
     "metadata": {},
     "output_type": "display_data"
    }
   ],
   "source": [
    "both_df = pd.DataFrame({\n",
    "    'students': expe_sr,\n",
    "    'liwc': liwc_sr,\n",
    "})\n",
    "both_df.plot(kind='bar', color=['g', 'b'])"
   ]
  },
  {
   "cell_type": "code",
   "execution_count": 10,
   "metadata": {
    "collapsed": false
   },
   "outputs": [
    {
     "name": "stdout",
     "output_type": "stream",
     "text": [
      "Total: 8996\n",
      "Equals: 3202\n",
      "Different: 5794\n",
      "Accuracy: 35.5935971543\n"
     ]
    }
   ],
   "source": [
    "df = pd.read_csv('results_subtraction_100.csv')\n",
    "df['same'] = df.apply(same_result, axis=1)\n",
    "total = df.same.count()\n",
    "equals = df[df.same == True].count()['same']\n",
    "different = df[df.same == False].count()['same']\n",
    "print 'Total:', total\n",
    "print 'Equals:', equals\n",
    "print 'Different:', different\n",
    "print 'Accuracy:', float(equals) * 100 / total"
   ]
  },
  {
   "cell_type": "markdown",
   "metadata": {},
   "source": [
    "###a) 2)"
   ]
  },
  {
   "cell_type": "code",
   "execution_count": 11,
   "metadata": {
    "collapsed": false
   },
   "outputs": [],
   "source": [
    "results = open('results_minmax_100.csv')\n",
    "result_reader = csv.reader(\n",
    "    results,\n",
    "    delimiter=',',\n",
    "    quotechar='\"'\n",
    ")\n",
    "result_reader.next()\n",
    "d_expe = {}\n",
    "d_liwc = {}\n",
    "for row in result_reader:\n",
    "    value_expe = float(row[4])\n",
    "    inter_expe = assign_interval(value_expe, intervals)\n",
    "    if inter_expe in d_expe:\n",
    "        d_expe[inter_expe] += 1\n",
    "    else:\n",
    "        d_expe[inter_expe] = 1\n",
    "    value_liwc = float(row[5])\n",
    "    inter_liwc = assign_interval(value_liwc, intervals)\n",
    "    if inter_liwc in d_liwc:\n",
    "        d_liwc[inter_liwc] += 1\n",
    "    else:\n",
    "        d_liwc[inter_liwc] = 1"
   ]
  },
  {
   "cell_type": "code",
   "execution_count": 12,
   "metadata": {
    "collapsed": true
   },
   "outputs": [],
   "source": [
    "expe_sr = pd.Series(d_expe)\n",
    "liwc_sr = pd.Series(d_liwc)"
   ]
  },
  {
   "cell_type": "code",
   "execution_count": 13,
   "metadata": {
    "collapsed": false
   },
   "outputs": [
    {
     "data": {
      "text/plain": [
       "<matplotlib.axes._subplots.AxesSubplot at 0x7f0856c58450>"
      ]
     },
     "execution_count": 13,
     "metadata": {},
     "output_type": "execute_result"
    },
    {
     "data": {
      "image/png": "[encoded data removed]",
      "text/plain": [
       "<matplotlib.figure.Figure at 0x7f0856c62b50>"
      ]
     },
     "metadata": {},
     "output_type": "display_data"
    }
   ],
   "source": [
    "both_df = pd.DataFrame({\n",
    "    'students': expe_sr,\n",
    "    'liwc': liwc_sr,\n",
    "})\n",
    "both_df.plot(kind='bar', color=['g', 'b'])"
   ]
  },
  {
   "cell_type": "code",
   "execution_count": 14,
   "metadata": {
    "collapsed": false
   },
   "outputs": [
    {
     "name": "stdout",
     "output_type": "stream",
     "text": [
      "Total: 8996\n",
      "Equals: 3202\n",
      "Different: 5794\n",
      "Accuracy: 35.5935971543\n"
     ]
    }
   ],
   "source": [
    "df = pd.read_csv('results_minmax_100.csv')\n",
    "df['same'] = df.apply(same_result, axis=1)\n",
    "total = df.same.count()\n",
    "equals = df[df.same == True].count()['same']\n",
    "different = df[df.same == False].count()['same']\n",
    "print 'Total:', total\n",
    "print 'Equals:', equals\n",
    "print 'Different:', different\n",
    "print 'Accuracy:', float(equals) * 100 / total"
   ]
  },
  {
   "cell_type": "markdown",
   "metadata": {},
   "source": [
    "###b) 1)"
   ]
  },
  {
   "cell_type": "code",
   "execution_count": 15,
   "metadata": {
    "collapsed": false
   },
   "outputs": [],
   "source": [
    "results = open('results_subtraction_minmax.csv')\n",
    "result_reader = csv.reader(\n",
    "    results,\n",
    "    delimiter=',',\n",
    "    quotechar='\"'\n",
    ")\n",
    "result_reader.next()\n",
    "d_expe = {}\n",
    "d_liwc = {}\n",
    "for row in result_reader:\n",
    "    value_expe = float(row[4])\n",
    "    inter_expe = assign_interval(value_expe, intervals)\n",
    "    if inter_expe in d_expe:\n",
    "        d_expe[inter_expe] += 1\n",
    "    else:\n",
    "        d_expe[inter_expe] = 1\n",
    "    value_liwc = float(row[5])\n",
    "    inter_liwc = assign_interval(value_liwc, intervals)\n",
    "    if inter_liwc in d_liwc:\n",
    "        d_liwc[inter_liwc] += 1\n",
    "    else:\n",
    "        d_liwc[inter_liwc] = 1"
   ]
  },
  {
   "cell_type": "code",
   "execution_count": 16,
   "metadata": {
    "collapsed": true
   },
   "outputs": [],
   "source": [
    "expe_sr = pd.Series(d_expe)\n",
    "liwc_sr = pd.Series(d_liwc)"
   ]
  },
  {
   "cell_type": "code",
   "execution_count": 17,
   "metadata": {
    "collapsed": false
   },
   "outputs": [
    {
     "data": {
      "text/plain": [
       "<matplotlib.axes._subplots.AxesSubplot at 0x7f08569ddbd0>"
      ]
     },
     "execution_count": 17,
     "metadata": {},
     "output_type": "execute_result"
    },
    {
     "data": {
      "image/png": "[encoded data removed]",
      "text/plain": [
       "<matplotlib.figure.Figure at 0x7f0856986b10>"
      ]
     },
     "metadata": {},
     "output_type": "display_data"
    }
   ],
   "source": [
    "both_df = pd.DataFrame({\n",
    "    'students': expe_sr,\n",
    "    'liwc': liwc_sr,\n",
    "})\n",
    "both_df.plot(kind='bar', color=['g', 'b'])"
   ]
  },
  {
   "cell_type": "code",
   "execution_count": 32,
   "metadata": {
    "collapsed": false
   },
   "outputs": [
    {
     "data": {
      "text/plain": [
       "array([[<matplotlib.axes._subplots.AxesSubplot object at 0x7f085521e950>,\n",
       "        <matplotlib.axes._subplots.AxesSubplot object at 0x7f08551800d0>]], dtype=object)"
      ]
     },
     "execution_count": 32,
     "metadata": {},
     "output_type": "execute_result"
    },
    {
     "data": {
      "image/png": "[encoded data removed]",
      "text/plain": [
       "<matplotlib.figure.Figure at 0x7f085522c250>"
      ]
     },
     "metadata": {},
     "output_type": "display_data"
    }
   ],
   "source": [
    "both_df.hist()"
   ]
  },
  {
   "cell_type": "code",
   "execution_count": 36,
   "metadata": {
    "collapsed": false
   },
   "outputs": [
    {
     "data": {
      "text/plain": [
       "<matplotlib.axes._subplots.AxesSubplot at 0x7f0854c90fd0>"
      ]
     },
     "execution_count": 36,
     "metadata": {},
     "output_type": "execute_result"
    },
    {
     "data": {
      "image/png": "[encoded data removed]",
      "text/plain": [
       "<matplotlib.figure.Figure at 0x7f0854f05490>"
      ]
     },
     "metadata": {},
     "output_type": "display_data"
    }
   ],
   "source": [
    "both_df.plot(kind='hist', color=['g', 'b'], bins=10)"
   ]
  },
  {
   "cell_type": "code",
   "execution_count": 18,
   "metadata": {
    "collapsed": false
   },
   "outputs": [
    {
     "name": "stdout",
     "output_type": "stream",
     "text": [
      "Total: 8996\n",
      "Equals: 3202\n",
      "Different: 5794\n",
      "Accuracy: 35.5935971543\n"
     ]
    }
   ],
   "source": [
    "df = pd.read_csv('results_subtraction_minmax.csv')\n",
    "df['same'] = df.apply(same_result, axis=1)\n",
    "total = df.same.count()\n",
    "equals = df[df.same == True].count()['same']\n",
    "different = df[df.same == False].count()['same']\n",
    "print 'Total:', total\n",
    "print 'Equals:', equals\n",
    "print 'Different:', different\n",
    "print 'Accuracy:', float(equals) * 100 / total"
   ]
  },
  {
   "cell_type": "markdown",
   "metadata": {},
   "source": [
    "###b) 2)"
   ]
  },
  {
   "cell_type": "code",
   "execution_count": 19,
   "metadata": {
    "collapsed": false
   },
   "outputs": [],
   "source": [
    "results = open('results_minmax_minmax.csv')\n",
    "result_reader = csv.reader(\n",
    "    results,\n",
    "    delimiter=',',\n",
    "    quotechar='\"'\n",
    ")\n",
    "result_reader.next()\n",
    "d_expe = {}\n",
    "d_liwc = {}\n",
    "for row in result_reader:\n",
    "    value_expe = float(row[4])\n",
    "    inter_expe = assign_interval(value_expe, intervals)\n",
    "    if inter_expe in d_expe:\n",
    "        d_expe[inter_expe] += 1\n",
    "    else:\n",
    "        d_expe[inter_expe] = 1\n",
    "    value_liwc = float(row[5])\n",
    "    inter_liwc = assign_interval(value_liwc, intervals)\n",
    "    if inter_liwc in d_liwc:\n",
    "        d_liwc[inter_liwc] += 1\n",
    "    else:\n",
    "        d_liwc[inter_liwc] = 1"
   ]
  },
  {
   "cell_type": "code",
   "execution_count": 20,
   "metadata": {
    "collapsed": true
   },
   "outputs": [],
   "source": [
    "expe_sr = pd.Series(d_expe)\n",
    "liwc_sr = pd.Series(d_liwc)"
   ]
  },
  {
   "cell_type": "code",
   "execution_count": 21,
   "metadata": {
    "collapsed": false
   },
   "outputs": [
    {
     "data": {
      "text/plain": [
       "<matplotlib.axes._subplots.AxesSubplot at 0x7f0856814fd0>"
      ]
     },
     "execution_count": 21,
     "metadata": {},
     "output_type": "execute_result"
    },
    {
     "data": {
      "image/png": "[encoded data removed]",
      "text/plain": [
       "<matplotlib.figure.Figure at 0x7f0856837590>"
      ]
     },
     "metadata": {},
     "output_type": "display_data"
    }
   ],
   "source": [
    "both_df = pd.DataFrame({\n",
    "    'students': expe_sr,\n",
    "    'liwc': liwc_sr,\n",
    "})\n",
    "both_df.plot(kind='bar', color=['g', 'b'])"
   ]
  },
  {
   "cell_type": "code",
   "execution_count": 22,
   "metadata": {
    "collapsed": false
   },
   "outputs": [
    {
     "name": "stdout",
     "output_type": "stream",
     "text": [
      "Total: 8996\n",
      "Equals: 3202\n",
      "Different: 5794\n",
      "Accuracy: 35.5935971543\n"
     ]
    }
   ],
   "source": [
    "df = pd.read_csv('results_minmax_minmax.csv')\n",
    "df['same'] = df.apply(same_result, axis=1)\n",
    "total = df.same.count()\n",
    "equals = df[df.same == True].count()['same']\n",
    "different = df[df.same == False].count()['same']\n",
    "print 'Total:', total\n",
    "print 'Equals:', equals\n",
    "print 'Different:', different\n",
    "print 'Accuracy:', float(equals) * 100 / total"
   ]
  },
  {
   "cell_type": "code",
   "execution_count": 23,
   "metadata": {
    "collapsed": false
   },
   "outputs": [],
   "source": [
    "import xlrd"
   ]
  },
  {
   "cell_type": "code",
   "execution_count": 24,
   "metadata": {
    "collapsed": false
   },
   "outputs": [
    {
     "data": {
      "text/html": [
       "<div style=\"max-height:1000px;max-width:1500px;overflow:auto;\">\n",
       "<table border=\"1\" class=\"dataframe\">\n",
       "  <thead>\n",
       "    <tr style=\"text-align: right;\">\n",
       "      <th></th>\n",
       "      <th>StartDate</th>\n",
       "      <th>EndDate</th>\n",
       "      <th>ID_code</th>\n",
       "      <th>Age</th>\n",
       "      <th>Gender</th>\n",
       "      <th>Country_Birth</th>\n",
       "      <th>Postal_Code</th>\n",
       "      <th>Primary_Language</th>\n",
       "      <th>Faculty</th>\n",
       "    </tr>\n",
       "  </thead>\n",
       "  <tbody>\n",
       "    <tr>\n",
       "      <th>0</th>\n",
       "      <td>2015-01-19 09:21:14</td>\n",
       "      <td>2015-01-19 10:04:38</td>\n",
       "      <td>4477</td>\n",
       "      <td>18</td>\n",
       "      <td>1</td>\n",
       "      <td>canada</td>\n",
       "      <td>K7P</td>\n",
       "      <td>English</td>\n",
       "      <td>9</td>\n",
       "    </tr>\n",
       "    <tr>\n",
       "      <th>1</th>\n",
       "      <td>2015-01-19 09:21:36</td>\n",
       "      <td>2015-01-19 10:04:35</td>\n",
       "      <td>4708</td>\n",
       "      <td>18</td>\n",
       "      <td>1</td>\n",
       "      <td>canada</td>\n",
       "      <td>n0n</td>\n",
       "      <td>english</td>\n",
       "      <td>6</td>\n",
       "    </tr>\n",
       "    <tr>\n",
       "      <th>2</th>\n",
       "      <td>2015-01-19 09:22:29</td>\n",
       "      <td>2015-01-19 10:03:53</td>\n",
       "      <td>5245</td>\n",
       "      <td>19</td>\n",
       "      <td>1</td>\n",
       "      <td>Canada</td>\n",
       "      <td>N6A</td>\n",
       "      <td>English</td>\n",
       "      <td>10</td>\n",
       "    </tr>\n",
       "    <tr>\n",
       "      <th>3</th>\n",
       "      <td>2015-01-19 09:22:39</td>\n",
       "      <td>2015-01-19 10:04:03</td>\n",
       "      <td>5605</td>\n",
       "      <td>18</td>\n",
       "      <td>1</td>\n",
       "      <td>United Arab Emirates</td>\n",
       "      <td>L3S</td>\n",
       "      <td>Tamil</td>\n",
       "      <td>10</td>\n",
       "    </tr>\n",
       "    <tr>\n",
       "      <th>4</th>\n",
       "      <td>2015-01-19 09:22:49</td>\n",
       "      <td>2015-01-19 10:03:33</td>\n",
       "      <td>5662</td>\n",
       "      <td>18</td>\n",
       "      <td>1</td>\n",
       "      <td>Canada</td>\n",
       "      <td>N6K</td>\n",
       "      <td>English</td>\n",
       "      <td>9</td>\n",
       "    </tr>\n",
       "    <tr>\n",
       "      <th>5</th>\n",
       "      <td>2015-01-19 09:23:00</td>\n",
       "      <td>2015-01-19 10:04:16</td>\n",
       "      <td>5338</td>\n",
       "      <td>18</td>\n",
       "      <td>1</td>\n",
       "      <td>Syria</td>\n",
       "      <td>N6C</td>\n",
       "      <td>Arabic</td>\n",
       "      <td>10</td>\n",
       "    </tr>\n",
       "    <tr>\n",
       "      <th>6</th>\n",
       "      <td>2015-01-20 09:37:09</td>\n",
       "      <td>2015-01-20 09:50:58</td>\n",
       "      <td>4960</td>\n",
       "      <td>18</td>\n",
       "      <td>2</td>\n",
       "      <td>Australia</td>\n",
       "      <td>Aus</td>\n",
       "      <td>English</td>\n",
       "      <td>10</td>\n",
       "    </tr>\n",
       "    <tr>\n",
       "      <th>7</th>\n",
       "      <td>2015-01-20 09:37:17</td>\n",
       "      <td>2015-01-20 09:50:36</td>\n",
       "      <td>5620</td>\n",
       "      <td>18</td>\n",
       "      <td>1</td>\n",
       "      <td>Canada</td>\n",
       "      <td>L6C</td>\n",
       "      <td>Cantonese</td>\n",
       "      <td>10</td>\n",
       "    </tr>\n",
       "    <tr>\n",
       "      <th>8</th>\n",
       "      <td>2015-01-20 09:37:18</td>\n",
       "      <td>2015-01-20 09:50:20</td>\n",
       "      <td>4606</td>\n",
       "      <td>18</td>\n",
       "      <td>2</td>\n",
       "      <td>Canada</td>\n",
       "      <td>N9E</td>\n",
       "      <td>English</td>\n",
       "      <td>9</td>\n",
       "    </tr>\n",
       "    <tr>\n",
       "      <th>9</th>\n",
       "      <td>2015-01-20 09:37:19</td>\n",
       "      <td>2015-01-20 09:50:31</td>\n",
       "      <td>2457</td>\n",
       "      <td>18</td>\n",
       "      <td>1</td>\n",
       "      <td>Canada</td>\n",
       "      <td>l6c</td>\n",
       "      <td>english</td>\n",
       "      <td>6</td>\n",
       "    </tr>\n",
       "    <tr>\n",
       "      <th>10</th>\n",
       "      <td>2015-01-20 09:37:23</td>\n",
       "      <td>2015-01-20 09:50:38</td>\n",
       "      <td>5110</td>\n",
       "      <td>18</td>\n",
       "      <td>2</td>\n",
       "      <td>United Arab Emirates</td>\n",
       "      <td>L4Z</td>\n",
       "      <td>English</td>\n",
       "      <td>9</td>\n",
       "    </tr>\n",
       "    <tr>\n",
       "      <th>11</th>\n",
       "      <td>2015-01-20 09:37:26</td>\n",
       "      <td>2015-01-20 09:51:09</td>\n",
       "      <td>3205</td>\n",
       "      <td>18</td>\n",
       "      <td>1</td>\n",
       "      <td>Canada</td>\n",
       "      <td>L4C</td>\n",
       "      <td>English</td>\n",
       "      <td>10</td>\n",
       "    </tr>\n",
       "    <tr>\n",
       "      <th>12</th>\n",
       "      <td>2015-01-20 09:37:34</td>\n",
       "      <td>2015-01-20 09:52:05</td>\n",
       "      <td>3409</td>\n",
       "      <td>18</td>\n",
       "      <td>1</td>\n",
       "      <td>Canada</td>\n",
       "      <td>L4K</td>\n",
       "      <td>English</td>\n",
       "      <td>10</td>\n",
       "    </tr>\n",
       "    <tr>\n",
       "      <th>13</th>\n",
       "      <td>2015-01-20 09:37:37</td>\n",
       "      <td>2015-01-20 09:51:34</td>\n",
       "      <td>3856</td>\n",
       "      <td>18</td>\n",
       "      <td>2</td>\n",
       "      <td>China</td>\n",
       "      <td>N6G</td>\n",
       "      <td>Chinese</td>\n",
       "      <td>9</td>\n",
       "    </tr>\n",
       "    <tr>\n",
       "      <th>14</th>\n",
       "      <td>2015-01-20 09:37:38</td>\n",
       "      <td>2015-01-20 09:50:56</td>\n",
       "      <td>5917</td>\n",
       "      <td>18</td>\n",
       "      <td>1</td>\n",
       "      <td>Canada</td>\n",
       "      <td>L6C</td>\n",
       "      <td>English</td>\n",
       "      <td>10</td>\n",
       "    </tr>\n",
       "    <tr>\n",
       "      <th>15</th>\n",
       "      <td>2015-01-20 09:37:41</td>\n",
       "      <td>2015-01-20 09:51:45</td>\n",
       "      <td>6082</td>\n",
       "      <td>19</td>\n",
       "      <td>1</td>\n",
       "      <td>China</td>\n",
       "      <td>300 CHINA</td>\n",
       "      <td>Chinese</td>\n",
       "      <td>9</td>\n",
       "    </tr>\n",
       "    <tr>\n",
       "      <th>16</th>\n",
       "      <td>2015-01-20 10:41:15</td>\n",
       "      <td>2015-01-20 10:51:30</td>\n",
       "      <td>5398</td>\n",
       "      <td>18</td>\n",
       "      <td>2</td>\n",
       "      <td>Romania</td>\n",
       "      <td>B3H</td>\n",
       "      <td>Romanian</td>\n",
       "      <td>9</td>\n",
       "    </tr>\n",
       "    <tr>\n",
       "      <th>17</th>\n",
       "      <td>2015-01-20 10:41:19</td>\n",
       "      <td>2015-01-20 10:50:31</td>\n",
       "      <td>9250</td>\n",
       "      <td>38</td>\n",
       "      <td>1</td>\n",
       "      <td>Canada</td>\n",
       "      <td>N5W</td>\n",
       "      <td>English</td>\n",
       "      <td>10</td>\n",
       "    </tr>\n",
       "    <tr>\n",
       "      <th>18</th>\n",
       "      <td>2015-01-20 10:41:25</td>\n",
       "      <td>2015-01-20 10:50:34</td>\n",
       "      <td>5065</td>\n",
       "      <td>18</td>\n",
       "      <td>1</td>\n",
       "      <td>Canada</td>\n",
       "      <td>L2T</td>\n",
       "      <td>English</td>\n",
       "      <td>10</td>\n",
       "    </tr>\n",
       "    <tr>\n",
       "      <th>19</th>\n",
       "      <td>2015-01-20 10:41:27</td>\n",
       "      <td>2015-01-20 10:50:33</td>\n",
       "      <td>5797</td>\n",
       "      <td>19</td>\n",
       "      <td>1</td>\n",
       "      <td>Canada</td>\n",
       "      <td>N6G</td>\n",
       "      <td>English</td>\n",
       "      <td>6</td>\n",
       "    </tr>\n",
       "    <tr>\n",
       "      <th>20</th>\n",
       "      <td>2015-01-20 10:41:34</td>\n",
       "      <td>2015-01-20 10:50:28</td>\n",
       "      <td>4252</td>\n",
       "      <td>18</td>\n",
       "      <td>2</td>\n",
       "      <td>Canada</td>\n",
       "      <td>M2N</td>\n",
       "      <td>English</td>\n",
       "      <td>10</td>\n",
       "    </tr>\n",
       "    <tr>\n",
       "      <th>21</th>\n",
       "      <td>2015-01-20 10:41:53</td>\n",
       "      <td>2015-01-20 10:51:01</td>\n",
       "      <td>4213</td>\n",
       "      <td>18</td>\n",
       "      <td>2</td>\n",
       "      <td>Pakistan</td>\n",
       "      <td>L5M</td>\n",
       "      <td>English/Urdu</td>\n",
       "      <td>10</td>\n",
       "    </tr>\n",
       "    <tr>\n",
       "      <th>22</th>\n",
       "      <td>2015-01-22 08:53:16</td>\n",
       "      <td>2015-01-22 09:05:11</td>\n",
       "      <td>5380</td>\n",
       "      <td>18</td>\n",
       "      <td>1</td>\n",
       "      <td>Canada</td>\n",
       "      <td>M5P</td>\n",
       "      <td>English</td>\n",
       "      <td>9</td>\n",
       "    </tr>\n",
       "    <tr>\n",
       "      <th>23</th>\n",
       "      <td>2015-01-22 08:53:18</td>\n",
       "      <td>2015-01-22 09:04:18</td>\n",
       "      <td>3370</td>\n",
       "      <td>18</td>\n",
       "      <td>2</td>\n",
       "      <td>Canada</td>\n",
       "      <td>L5V</td>\n",
       "      <td>English</td>\n",
       "      <td>10</td>\n",
       "    </tr>\n",
       "    <tr>\n",
       "      <th>24</th>\n",
       "      <td>2015-01-22 08:53:18</td>\n",
       "      <td>2015-01-22 09:04:31</td>\n",
       "      <td>6169</td>\n",
       "      <td>18</td>\n",
       "      <td>2</td>\n",
       "      <td>USA</td>\n",
       "      <td>M4V</td>\n",
       "      <td>English</td>\n",
       "      <td>10</td>\n",
       "    </tr>\n",
       "    <tr>\n",
       "      <th>25</th>\n",
       "      <td>2015-01-22 08:53:29</td>\n",
       "      <td>2015-01-22 09:06:10</td>\n",
       "      <td>3160</td>\n",
       "      <td>18</td>\n",
       "      <td>2</td>\n",
       "      <td>Canada</td>\n",
       "      <td>N3T</td>\n",
       "      <td>English</td>\n",
       "      <td>7</td>\n",
       "    </tr>\n",
       "    <tr>\n",
       "      <th>26</th>\n",
       "      <td>2015-01-22 08:53:41</td>\n",
       "      <td>2015-01-22 09:04:18</td>\n",
       "      <td>5953</td>\n",
       "      <td>18</td>\n",
       "      <td>2</td>\n",
       "      <td>China</td>\n",
       "      <td>L1R2V6</td>\n",
       "      <td>Mandarin</td>\n",
       "      <td>10</td>\n",
       "    </tr>\n",
       "    <tr>\n",
       "      <th>27</th>\n",
       "      <td>2015-01-22 08:53:51</td>\n",
       "      <td>2015-01-22 09:05:42</td>\n",
       "      <td>3178</td>\n",
       "      <td>18</td>\n",
       "      <td>1</td>\n",
       "      <td>Saudi Arabia</td>\n",
       "      <td>L3R</td>\n",
       "      <td>English</td>\n",
       "      <td>10</td>\n",
       "    </tr>\n",
       "    <tr>\n",
       "      <th>28</th>\n",
       "      <td>2015-01-22 08:53:59</td>\n",
       "      <td>2015-01-22 09:05:13</td>\n",
       "      <td>3976</td>\n",
       "      <td>18</td>\n",
       "      <td>1</td>\n",
       "      <td>Canada</td>\n",
       "      <td>L4C</td>\n",
       "      <td>English</td>\n",
       "      <td>10</td>\n",
       "    </tr>\n",
       "    <tr>\n",
       "      <th>29</th>\n",
       "      <td>2015-01-22 08:54:07</td>\n",
       "      <td>2015-01-22 09:05:38</td>\n",
       "      <td>5575</td>\n",
       "      <td>18</td>\n",
       "      <td>1</td>\n",
       "      <td>canada</td>\n",
       "      <td>r3y</td>\n",
       "      <td>english</td>\n",
       "      <td>10</td>\n",
       "    </tr>\n",
       "    <tr>\n",
       "      <th>...</th>\n",
       "      <td>...</td>\n",
       "      <td>...</td>\n",
       "      <td>...</td>\n",
       "      <td>...</td>\n",
       "      <td>...</td>\n",
       "      <td>...</td>\n",
       "      <td>...</td>\n",
       "      <td>...</td>\n",
       "      <td>...</td>\n",
       "    </tr>\n",
       "    <tr>\n",
       "      <th>173</th>\n",
       "      <td>2015-01-29 12:57:25</td>\n",
       "      <td>2015-01-29 13:03:04</td>\n",
       "      <td>5203</td>\n",
       "      <td>18</td>\n",
       "      <td>1</td>\n",
       "      <td>India</td>\n",
       "      <td>L6Y</td>\n",
       "      <td>Gujarati</td>\n",
       "      <td>10</td>\n",
       "    </tr>\n",
       "    <tr>\n",
       "      <th>174</th>\n",
       "      <td>2015-01-29 12:57:32</td>\n",
       "      <td>2015-01-29 13:02:57</td>\n",
       "      <td>5353</td>\n",
       "      <td>18</td>\n",
       "      <td>1</td>\n",
       "      <td>Canada</td>\n",
       "      <td>M4V</td>\n",
       "      <td>English</td>\n",
       "      <td>11</td>\n",
       "    </tr>\n",
       "    <tr>\n",
       "      <th>175</th>\n",
       "      <td>2015-01-29 12:57:36</td>\n",
       "      <td>2015-01-29 13:03:24</td>\n",
       "      <td>3628</td>\n",
       "      <td>18</td>\n",
       "      <td>2</td>\n",
       "      <td>Canada</td>\n",
       "      <td>L0R</td>\n",
       "      <td>English</td>\n",
       "      <td>6</td>\n",
       "    </tr>\n",
       "    <tr>\n",
       "      <th>176</th>\n",
       "      <td>2015-01-29 12:57:41</td>\n",
       "      <td>2015-01-29 13:04:53</td>\n",
       "      <td>4549</td>\n",
       "      <td>19</td>\n",
       "      <td>2</td>\n",
       "      <td>China</td>\n",
       "      <td>China</td>\n",
       "      <td>madarin</td>\n",
       "      <td>10</td>\n",
       "    </tr>\n",
       "    <tr>\n",
       "      <th>177</th>\n",
       "      <td>2015-01-29 12:57:44</td>\n",
       "      <td>2015-01-29 13:04:56</td>\n",
       "      <td>3568</td>\n",
       "      <td>19</td>\n",
       "      <td>2</td>\n",
       "      <td>China</td>\n",
       "      <td>N6H</td>\n",
       "      <td>Chinese</td>\n",
       "      <td>10</td>\n",
       "    </tr>\n",
       "    <tr>\n",
       "      <th>178</th>\n",
       "      <td>2015-01-29 12:57:51</td>\n",
       "      <td>2015-01-29 13:04:50</td>\n",
       "      <td>5449</td>\n",
       "      <td>18</td>\n",
       "      <td>2</td>\n",
       "      <td>China</td>\n",
       "      <td>China</td>\n",
       "      <td>Chinese</td>\n",
       "      <td>10</td>\n",
       "    </tr>\n",
       "    <tr>\n",
       "      <th>179</th>\n",
       "      <td>2015-01-29 12:58:00</td>\n",
       "      <td>2015-01-29 13:04:01</td>\n",
       "      <td>5938</td>\n",
       "      <td>18</td>\n",
       "      <td>1</td>\n",
       "      <td>Hong Kong</td>\n",
       "      <td>422</td>\n",
       "      <td>English</td>\n",
       "      <td>10</td>\n",
       "    </tr>\n",
       "    <tr>\n",
       "      <th>180</th>\n",
       "      <td>2015-01-29 12:58:02</td>\n",
       "      <td>2015-01-29 13:03:49</td>\n",
       "      <td>5998</td>\n",
       "      <td>18</td>\n",
       "      <td>2</td>\n",
       "      <td>Canada</td>\n",
       "      <td>L1R</td>\n",
       "      <td>English</td>\n",
       "      <td>9</td>\n",
       "    </tr>\n",
       "    <tr>\n",
       "      <th>181</th>\n",
       "      <td>2015-01-29 12:58:06</td>\n",
       "      <td>2015-01-29 13:03:52</td>\n",
       "      <td>3667</td>\n",
       "      <td>18</td>\n",
       "      <td>1</td>\n",
       "      <td>Canada</td>\n",
       "      <td>M9A</td>\n",
       "      <td>English</td>\n",
       "      <td>10</td>\n",
       "    </tr>\n",
       "    <tr>\n",
       "      <th>182</th>\n",
       "      <td>2015-01-29 12:58:11</td>\n",
       "      <td>2015-01-29 13:04:07</td>\n",
       "      <td>4813</td>\n",
       "      <td>20</td>\n",
       "      <td>1</td>\n",
       "      <td>Canada</td>\n",
       "      <td>L5A</td>\n",
       "      <td>English</td>\n",
       "      <td>10</td>\n",
       "    </tr>\n",
       "    <tr>\n",
       "      <th>183</th>\n",
       "      <td>2015-01-29 13:31:48</td>\n",
       "      <td>2015-01-29 13:32:16</td>\n",
       "      <td>4741</td>\n",
       "      <td>18</td>\n",
       "      <td>1</td>\n",
       "      <td>Canada</td>\n",
       "      <td>L3R</td>\n",
       "      <td>Cantonese</td>\n",
       "      <td>10</td>\n",
       "    </tr>\n",
       "    <tr>\n",
       "      <th>184</th>\n",
       "      <td>2015-02-03 09:32:29</td>\n",
       "      <td>2015-02-03 09:50:28</td>\n",
       "      <td>4927</td>\n",
       "      <td>19</td>\n",
       "      <td>2</td>\n",
       "      <td>Canada</td>\n",
       "      <td>m1b</td>\n",
       "      <td>english</td>\n",
       "      <td>3</td>\n",
       "    </tr>\n",
       "    <tr>\n",
       "      <th>185</th>\n",
       "      <td>2015-02-03 09:32:34</td>\n",
       "      <td>2015-02-03 09:50:22</td>\n",
       "      <td>4324</td>\n",
       "      <td>18</td>\n",
       "      <td>1</td>\n",
       "      <td>Canada</td>\n",
       "      <td>K7P</td>\n",
       "      <td>English</td>\n",
       "      <td>10</td>\n",
       "    </tr>\n",
       "    <tr>\n",
       "      <th>186</th>\n",
       "      <td>2015-02-03 09:32:45</td>\n",
       "      <td>2015-02-03 09:50:30</td>\n",
       "      <td>4141</td>\n",
       "      <td>22</td>\n",
       "      <td>1</td>\n",
       "      <td>China</td>\n",
       "      <td>L5V</td>\n",
       "      <td>Chinese</td>\n",
       "      <td>10</td>\n",
       "    </tr>\n",
       "    <tr>\n",
       "      <th>187</th>\n",
       "      <td>2015-02-03 09:33:24</td>\n",
       "      <td>2015-02-03 09:50:42</td>\n",
       "      <td>5209</td>\n",
       "      <td>18</td>\n",
       "      <td>1</td>\n",
       "      <td>Canada</td>\n",
       "      <td>M9B</td>\n",
       "      <td>Vietnamese</td>\n",
       "      <td>10</td>\n",
       "    </tr>\n",
       "    <tr>\n",
       "      <th>188</th>\n",
       "      <td>2015-02-03 09:33:35</td>\n",
       "      <td>2015-02-03 09:50:23</td>\n",
       "      <td>5185</td>\n",
       "      <td>18</td>\n",
       "      <td>1</td>\n",
       "      <td>Canada</td>\n",
       "      <td>L6M</td>\n",
       "      <td>English</td>\n",
       "      <td>10</td>\n",
       "    </tr>\n",
       "    <tr>\n",
       "      <th>189</th>\n",
       "      <td>2015-02-03 09:33:39</td>\n",
       "      <td>2015-02-03 09:50:51</td>\n",
       "      <td>5143</td>\n",
       "      <td>18</td>\n",
       "      <td>2</td>\n",
       "      <td>Canada</td>\n",
       "      <td>L9H</td>\n",
       "      <td>English</td>\n",
       "      <td>10</td>\n",
       "    </tr>\n",
       "    <tr>\n",
       "      <th>190</th>\n",
       "      <td>2015-02-03 09:34:00</td>\n",
       "      <td>2015-02-03 10:52:26</td>\n",
       "      <td>3334</td>\n",
       "      <td>18</td>\n",
       "      <td>1</td>\n",
       "      <td>Canada</td>\n",
       "      <td>L3X</td>\n",
       "      <td>Romanian</td>\n",
       "      <td>10</td>\n",
       "    </tr>\n",
       "    <tr>\n",
       "      <th>191</th>\n",
       "      <td>2015-02-03 09:34:06</td>\n",
       "      <td>2015-02-03 09:51:01</td>\n",
       "      <td>4261</td>\n",
       "      <td>18</td>\n",
       "      <td>2</td>\n",
       "      <td>Canada</td>\n",
       "      <td>613</td>\n",
       "      <td>English</td>\n",
       "      <td>7</td>\n",
       "    </tr>\n",
       "    <tr>\n",
       "      <th>192</th>\n",
       "      <td>2015-02-03 09:34:18</td>\n",
       "      <td>2015-02-03 09:51:02</td>\n",
       "      <td>4870</td>\n",
       "      <td>18</td>\n",
       "      <td>1</td>\n",
       "      <td>Canada</td>\n",
       "      <td>M5M</td>\n",
       "      <td>English</td>\n",
       "      <td>10</td>\n",
       "    </tr>\n",
       "    <tr>\n",
       "      <th>193</th>\n",
       "      <td>2015-02-03 09:51:08</td>\n",
       "      <td>2015-02-03 09:52:24</td>\n",
       "      <td>4693</td>\n",
       "      <td>18</td>\n",
       "      <td>1</td>\n",
       "      <td>China</td>\n",
       "      <td>V5H</td>\n",
       "      <td>Mandarin</td>\n",
       "      <td>10</td>\n",
       "    </tr>\n",
       "    <tr>\n",
       "      <th>194</th>\n",
       "      <td>2015-02-03 10:41:24</td>\n",
       "      <td>2015-02-03 10:52:04</td>\n",
       "      <td>9247</td>\n",
       "      <td>19</td>\n",
       "      <td>1</td>\n",
       "      <td>Canada</td>\n",
       "      <td>N2V</td>\n",
       "      <td>English</td>\n",
       "      <td>9</td>\n",
       "    </tr>\n",
       "    <tr>\n",
       "      <th>195</th>\n",
       "      <td>2015-02-03 10:41:30</td>\n",
       "      <td>2015-02-03 10:51:35</td>\n",
       "      <td>5074</td>\n",
       "      <td>18</td>\n",
       "      <td>1</td>\n",
       "      <td>France</td>\n",
       "      <td>L4S</td>\n",
       "      <td>French</td>\n",
       "      <td>10</td>\n",
       "    </tr>\n",
       "    <tr>\n",
       "      <th>196</th>\n",
       "      <td>2015-02-03 10:42:02</td>\n",
       "      <td>2015-02-03 10:48:27</td>\n",
       "      <td>4951</td>\n",
       "      <td>18</td>\n",
       "      <td>1</td>\n",
       "      <td>Hong Kong, China</td>\n",
       "      <td>China</td>\n",
       "      <td>Cantonese</td>\n",
       "      <td>10</td>\n",
       "    </tr>\n",
       "    <tr>\n",
       "      <th>197</th>\n",
       "      <td>2015-02-03 10:42:10</td>\n",
       "      <td>2015-02-03 10:50:04</td>\n",
       "      <td>4930</td>\n",
       "      <td>18</td>\n",
       "      <td>1</td>\n",
       "      <td>canada</td>\n",
       "      <td>n2k</td>\n",
       "      <td>english</td>\n",
       "      <td>6</td>\n",
       "    </tr>\n",
       "    <tr>\n",
       "      <th>198</th>\n",
       "      <td>2015-02-03 10:42:27</td>\n",
       "      <td>2015-02-03 10:48:39</td>\n",
       "      <td>5515</td>\n",
       "      <td>18</td>\n",
       "      <td>1</td>\n",
       "      <td>Canada</td>\n",
       "      <td>V5P</td>\n",
       "      <td>English</td>\n",
       "      <td>10</td>\n",
       "    </tr>\n",
       "    <tr>\n",
       "      <th>199</th>\n",
       "      <td>2015-02-03 10:42:31</td>\n",
       "      <td>2015-02-03 10:48:24</td>\n",
       "      <td>5791</td>\n",
       "      <td>18</td>\n",
       "      <td>1</td>\n",
       "      <td>Canada</td>\n",
       "      <td>T3E</td>\n",
       "      <td>English</td>\n",
       "      <td>6</td>\n",
       "    </tr>\n",
       "    <tr>\n",
       "      <th>200</th>\n",
       "      <td>2015-02-03 10:42:33</td>\n",
       "      <td>2015-02-03 10:48:30</td>\n",
       "      <td>5896</td>\n",
       "      <td>18</td>\n",
       "      <td>2</td>\n",
       "      <td>Canada</td>\n",
       "      <td>V1W`</td>\n",
       "      <td>English</td>\n",
       "      <td>7</td>\n",
       "    </tr>\n",
       "    <tr>\n",
       "      <th>201</th>\n",
       "      <td>2015-02-03 10:43:08</td>\n",
       "      <td>2015-02-03 10:48:40</td>\n",
       "      <td>4093</td>\n",
       "      <td>18</td>\n",
       "      <td>2</td>\n",
       "      <td>Canada</td>\n",
       "      <td>v6s</td>\n",
       "      <td>English</td>\n",
       "      <td>10</td>\n",
       "    </tr>\n",
       "    <tr>\n",
       "      <th>202</th>\n",
       "      <td>2015-02-03 10:46:15</td>\n",
       "      <td>2015-02-03 10:49:18</td>\n",
       "      <td>3781</td>\n",
       "      <td>19</td>\n",
       "      <td>1</td>\n",
       "      <td>UAE</td>\n",
       "      <td>UAE</td>\n",
       "      <td>English</td>\n",
       "      <td>6</td>\n",
       "    </tr>\n",
       "  </tbody>\n",
       "</table>\n",
       "<p>203 rows × 9 columns</p>\n",
       "</div>"
      ],
      "text/plain": [
       "              StartDate             EndDate  ID_code  Age  Gender  \\\n",
       "0   2015-01-19 09:21:14 2015-01-19 10:04:38     4477   18       1   \n",
       "1   2015-01-19 09:21:36 2015-01-19 10:04:35     4708   18       1   \n",
       "2   2015-01-19 09:22:29 2015-01-19 10:03:53     5245   19       1   \n",
       "3   2015-01-19 09:22:39 2015-01-19 10:04:03     5605   18       1   \n",
       "4   2015-01-19 09:22:49 2015-01-19 10:03:33     5662   18       1   \n",
       "5   2015-01-19 09:23:00 2015-01-19 10:04:16     5338   18       1   \n",
       "6   2015-01-20 09:37:09 2015-01-20 09:50:58     4960   18       2   \n",
       "7   2015-01-20 09:37:17 2015-01-20 09:50:36     5620   18       1   \n",
       "8   2015-01-20 09:37:18 2015-01-20 09:50:20     4606   18       2   \n",
       "9   2015-01-20 09:37:19 2015-01-20 09:50:31     2457   18       1   \n",
       "10  2015-01-20 09:37:23 2015-01-20 09:50:38     5110   18       2   \n",
       "11  2015-01-20 09:37:26 2015-01-20 09:51:09     3205   18       1   \n",
       "12  2015-01-20 09:37:34 2015-01-20 09:52:05     3409   18       1   \n",
       "13  2015-01-20 09:37:37 2015-01-20 09:51:34     3856   18       2   \n",
       "14  2015-01-20 09:37:38 2015-01-20 09:50:56     5917   18       1   \n",
       "15  2015-01-20 09:37:41 2015-01-20 09:51:45     6082   19       1   \n",
       "16  2015-01-20 10:41:15 2015-01-20 10:51:30     5398   18       2   \n",
       "17  2015-01-20 10:41:19 2015-01-20 10:50:31     9250   38       1   \n",
       "18  2015-01-20 10:41:25 2015-01-20 10:50:34     5065   18       1   \n",
       "19  2015-01-20 10:41:27 2015-01-20 10:50:33     5797   19       1   \n",
       "20  2015-01-20 10:41:34 2015-01-20 10:50:28     4252   18       2   \n",
       "21  2015-01-20 10:41:53 2015-01-20 10:51:01     4213   18       2   \n",
       "22  2015-01-22 08:53:16 2015-01-22 09:05:11     5380   18       1   \n",
       "23  2015-01-22 08:53:18 2015-01-22 09:04:18     3370   18       2   \n",
       "24  2015-01-22 08:53:18 2015-01-22 09:04:31     6169   18       2   \n",
       "25  2015-01-22 08:53:29 2015-01-22 09:06:10     3160   18       2   \n",
       "26  2015-01-22 08:53:41 2015-01-22 09:04:18     5953   18       2   \n",
       "27  2015-01-22 08:53:51 2015-01-22 09:05:42     3178   18       1   \n",
       "28  2015-01-22 08:53:59 2015-01-22 09:05:13     3976   18       1   \n",
       "29  2015-01-22 08:54:07 2015-01-22 09:05:38     5575   18       1   \n",
       "..                  ...                 ...      ...  ...     ...   \n",
       "173 2015-01-29 12:57:25 2015-01-29 13:03:04     5203   18       1   \n",
       "174 2015-01-29 12:57:32 2015-01-29 13:02:57     5353   18       1   \n",
       "175 2015-01-29 12:57:36 2015-01-29 13:03:24     3628   18       2   \n",
       "176 2015-01-29 12:57:41 2015-01-29 13:04:53     4549   19       2   \n",
       "177 2015-01-29 12:57:44 2015-01-29 13:04:56     3568   19       2   \n",
       "178 2015-01-29 12:57:51 2015-01-29 13:04:50     5449   18       2   \n",
       "179 2015-01-29 12:58:00 2015-01-29 13:04:01     5938   18       1   \n",
       "180 2015-01-29 12:58:02 2015-01-29 13:03:49     5998   18       2   \n",
       "181 2015-01-29 12:58:06 2015-01-29 13:03:52     3667   18       1   \n",
       "182 2015-01-29 12:58:11 2015-01-29 13:04:07     4813   20       1   \n",
       "183 2015-01-29 13:31:48 2015-01-29 13:32:16     4741   18       1   \n",
       "184 2015-02-03 09:32:29 2015-02-03 09:50:28     4927   19       2   \n",
       "185 2015-02-03 09:32:34 2015-02-03 09:50:22     4324   18       1   \n",
       "186 2015-02-03 09:32:45 2015-02-03 09:50:30     4141   22       1   \n",
       "187 2015-02-03 09:33:24 2015-02-03 09:50:42     5209   18       1   \n",
       "188 2015-02-03 09:33:35 2015-02-03 09:50:23     5185   18       1   \n",
       "189 2015-02-03 09:33:39 2015-02-03 09:50:51     5143   18       2   \n",
       "190 2015-02-03 09:34:00 2015-02-03 10:52:26     3334   18       1   \n",
       "191 2015-02-03 09:34:06 2015-02-03 09:51:01     4261   18       2   \n",
       "192 2015-02-03 09:34:18 2015-02-03 09:51:02     4870   18       1   \n",
       "193 2015-02-03 09:51:08 2015-02-03 09:52:24     4693   18       1   \n",
       "194 2015-02-03 10:41:24 2015-02-03 10:52:04     9247   19       1   \n",
       "195 2015-02-03 10:41:30 2015-02-03 10:51:35     5074   18       1   \n",
       "196 2015-02-03 10:42:02 2015-02-03 10:48:27     4951   18       1   \n",
       "197 2015-02-03 10:42:10 2015-02-03 10:50:04     4930   18       1   \n",
       "198 2015-02-03 10:42:27 2015-02-03 10:48:39     5515   18       1   \n",
       "199 2015-02-03 10:42:31 2015-02-03 10:48:24     5791   18       1   \n",
       "200 2015-02-03 10:42:33 2015-02-03 10:48:30     5896   18       2   \n",
       "201 2015-02-03 10:43:08 2015-02-03 10:48:40     4093   18       2   \n",
       "202 2015-02-03 10:46:15 2015-02-03 10:49:18     3781   19       1   \n",
       "\n",
       "            Country_Birth Postal_Code Primary_Language  Faculty  \n",
       "0                  canada         K7P          English        9  \n",
       "1                  canada         n0n          english        6  \n",
       "2                  Canada         N6A          English       10  \n",
       "3    United Arab Emirates         L3S            Tamil       10  \n",
       "4                  Canada         N6K          English        9  \n",
       "5                   Syria         N6C           Arabic       10  \n",
       "6               Australia         Aus          English       10  \n",
       "7                  Canada         L6C        Cantonese       10  \n",
       "8                  Canada         N9E          English        9  \n",
       "9                  Canada         l6c          english        6  \n",
       "10   United Arab Emirates         L4Z          English        9  \n",
       "11                 Canada         L4C          English       10  \n",
       "12                 Canada         L4K          English       10  \n",
       "13                  China         N6G          Chinese        9  \n",
       "14                 Canada         L6C          English       10  \n",
       "15                  China   300 CHINA          Chinese        9  \n",
       "16                Romania         B3H         Romanian        9  \n",
       "17                 Canada         N5W          English       10  \n",
       "18                 Canada         L2T          English       10  \n",
       "19                 Canada         N6G          English        6  \n",
       "20                 Canada         M2N          English       10  \n",
       "21               Pakistan         L5M     English/Urdu       10  \n",
       "22                 Canada         M5P          English        9  \n",
       "23                 Canada         L5V          English       10  \n",
       "24                    USA         M4V          English       10  \n",
       "25                 Canada         N3T          English        7  \n",
       "26                  China      L1R2V6         Mandarin       10  \n",
       "27           Saudi Arabia         L3R          English       10  \n",
       "28                 Canada         L4C          English       10  \n",
       "29                 canada         r3y          english       10  \n",
       "..                    ...         ...              ...      ...  \n",
       "173                 India         L6Y         Gujarati       10  \n",
       "174                Canada         M4V          English       11  \n",
       "175                Canada         L0R          English        6  \n",
       "176                 China       China          madarin       10  \n",
       "177                 China         N6H          Chinese       10  \n",
       "178                 China       China          Chinese       10  \n",
       "179             Hong Kong         422          English       10  \n",
       "180                Canada         L1R          English        9  \n",
       "181                Canada         M9A          English       10  \n",
       "182                Canada         L5A          English       10  \n",
       "183                Canada         L3R        Cantonese       10  \n",
       "184                Canada         m1b          english        3  \n",
       "185                Canada         K7P          English       10  \n",
       "186                 China         L5V          Chinese       10  \n",
       "187                Canada         M9B       Vietnamese       10  \n",
       "188                Canada         L6M          English       10  \n",
       "189                Canada         L9H          English       10  \n",
       "190                Canada         L3X         Romanian       10  \n",
       "191                Canada         613          English        7  \n",
       "192                Canada         M5M          English       10  \n",
       "193                 China         V5H         Mandarin       10  \n",
       "194                Canada         N2V          English        9  \n",
       "195                France         L4S           French       10  \n",
       "196      Hong Kong, China       China        Cantonese       10  \n",
       "197                canada         n2k          english        6  \n",
       "198                Canada         V5P          English       10  \n",
       "199                Canada         T3E          English        6  \n",
       "200                Canada        V1W`          English        7  \n",
       "201                Canada         v6s          English       10  \n",
       "202                   UAE         UAE          English        6  \n",
       "\n",
       "[203 rows x 9 columns]"
      ]
     },
     "execution_count": 24,
     "metadata": {},
     "output_type": "execute_result"
    }
   ],
   "source": [
    "pd.read_excel('demographics.xlsx')"
   ]
  },
  {
   "cell_type": "code",
   "execution_count": null,
   "metadata": {
    "collapsed": true
   },
   "outputs": [],
   "source": []
  }
 ],
 "metadata": {
  "kernelspec": {
   "display_name": "Python 2",
   "language": "python",
   "name": "python2"
  },
  "language_info": {
   "codemirror_mode": {
    "name": "ipython",
    "version": 2
   },
   "file_extension": ".py",
   "mimetype": "text/x-python",
   "name": "python",
   "nbconvert_exporter": "python",
   "pygments_lexer": "ipython2",
   "version": "2.7.6"
  }
 },
 "nbformat": 4,
 "nbformat_minor": 0
}
