{
 "cells": [
  {
   "cell_type": "markdown",
   "metadata": {},
   "source": [
    "#Meme Ivey report"
   ]
  },
  {
   "cell_type": "markdown",
   "metadata": {},
   "source": [
    "###1. Dataset\n",
    "8996 sentences"
   ]
  },
  {
   "cell_type": "markdown",
   "metadata": {},
   "source": [
    "###2. Sentence scores"
   ]
  },
  {
   "cell_type": "markdown",
   "metadata": {},
   "source": [
    "####Students' scores\n",
    "- Sentences scored by students with values ranged from $-2$ (very negative) to $+2$ (very positive)\n",
    "- Measure for final score per sentence: $average$\n",
    "- Score normalization: $[-2, +2] \\rightarrow [-1, +1]$"
   ]
  },
  {
   "cell_type": "markdown",
   "metadata": {},
   "source": [
    "####LIWC scores\n",
    "- LIWC run with the next options:\n",
    "    - Metrics:\n",
    "        - *posemo*: % of words that express a positive emotion\n",
    "        - *negemo*: % of words that express a negative emotion\n",
    "    - Segment delimiter:\n",
    "        - *newline* (analysis performed sentence by sentence)\n",
    "    - Tokens:\n",
    "        - words: counted\n",
    "        - numerals: ignored\n",
    "        - punctuation marks: ignored\n",
    "- Measure for final score per sentence:\n",
    "    - Option 1) Subtraction:\n",
    "        - $posemo - negemo$\n",
    "    - Option 2) Maximum:\n",
    "        - if $posemo > negemo$, then $posemo$\n",
    "        - if $posemo < negemo$, then $-negemo$\n",
    "        - if $posemo = negemo$, then $0$\n",
    "- Score normalization:\n",
    "    - Option a) Full range (from minimum and maximum value possible):\n",
    "        - $[-100, +100] \\rightarrow [-1, +1]$\n",
    "    - Option b) Maximum range (from minimum and maximum value taken):\n",
    "        - $[-max(mpe, mne), +max(mpe, mne)] \\rightarrow [-1, +1]$<br/>\n",
    "            where $mpe = max(posemo_i): i \\in [1, 8996]$ and $mne = max(negemo_j): j \\in [1, 8996]$"
   ]
  },
  {
   "cell_type": "markdown",
   "metadata": {},
   "source": [
    "###3. Histograms\n",
    "- Range $[-1, +1]$ splitted into 0.1-sized intervals"
   ]
  },
  {
   "cell_type": "markdown",
   "metadata": {},
   "source": [
    "####Histogram of sentences scored by students\n",
    "<div align=\"center\">\n",
    "    <figure>\n",
    "        <img src=\"histogram_students.png\"/>\n",
    "        <figcaption>Fig.1 Histogram of sentences scored by students</figcaption>\n",
    "    </figure>\n",
    "</div>\n",
    "- It follows a normal distribution slightly ... desplazada hacia la zona positiva"
   ]
  },
  {
   "cell_type": "markdown",
   "metadata": {},
   "source": [
    "####Comparison to histograms of sentences scored by LIWC"
   ]
  },
  {
   "cell_type": "markdown",
   "metadata": {},
   "source": [
    "<div align=\"center\">\n",
    "    <figure>\n",
    "        <img src=\"histogram_a_1.png\"/>\n",
    "        <figcaption>Fig.2 Comparison to histogram of sentences scored by LIWC, options a) full range 1) subtraction</figcaption>\n",
    "    </figure>\n",
    "</div>"
   ]
  },
  {
   "cell_type": "markdown",
   "metadata": {},
   "source": [
    "<div align=\"center\">\n",
    "    <figure>\n",
    "        <img src=\"histogram_a_2.png\"/>\n",
    "        <figcaption>Fig.3 Comparison to histogram of sentences scored by LIWC, options a) full range 2) maximum</figcaption>\n",
    "    </figure>\n",
    "</div>"
   ]
  },
  {
   "cell_type": "markdown",
   "metadata": {},
   "source": [
    "<div align=\"center\">\n",
    "    <figure>\n",
    "        <img src=\"histogram_b_1.png\"/>\n",
    "        <figcaption>Fig.4 Comparison to histogram of sentences scored by LIWC, options b) maximum range 1) subtraction</figcaption>\n",
    "    </figure>\n",
    "</div>"
   ]
  },
  {
   "cell_type": "markdown",
   "metadata": {},
   "source": [
    "<div align=\"center\">\n",
    "    <figure>\n",
    "        <img src=\"histogram_b_2.png\"/>\n",
    "        <figcaption>Fig.5 Comparison to histogram of sentences scored by LIWC, options b) maximum range 2) maximum</figcaption>\n",
    "    </figure>\n",
    "</div>"
   ]
  },
  {
   "cell_type": "markdown",
   "metadata": {
    "collapsed": true
   },
   "source": [
    "###4. Accuracy\n",
    "Both the specific measure used and the range chosen do not affect the final polarity of a sentence. That is, in all cases, given a sentence, it got the same polarity for each of the four previous approaches. The accuracy of this result with respect to the polarity assigned by the students is:\n",
    "\n",
    "<div>\n",
    "    <table>\n",
    "        <tr><td>Total sentences</td><td>8996</td></tr>\n",
    "        <tr><td>Sentences evaluated with same polarity</td><td>3202</td></tr>\n",
    "        <tr><td>Sentences evaluated with different polarity</td><td>5794</td></tr>\n",
    "        <tr><td>LIWC accuracy</td><td>35.59%</td></tr>\n",
    "        <caption>LIWC accuracy</caption>\n",
    "    </table>\n",
    "</div>"
   ]
  },
  {
   "cell_type": "markdown",
   "metadata": {
    "collapsed": true
   },
   "source": [
    "###5. Conclusions\n",
    "The results show that, on one hand, in the best cases (Fig. 4 and 5), LIWC does not classify correctly most of the sentences and it assigns them a neutral value (between 0.0 and 0.1). On the other hand, the accuracy of LIWC is 35.59% (the minimum value admissible for any classificator is 70%). Therefore, the conclusion is **it is necessary to create a more suitable classifier for this case study**."
   ]
  },
  {
   "cell_type": "markdown",
   "metadata": {},
   "source": [
    "###6. Demographic data"
   ]
  },
  {
   "cell_type": "code",
   "execution_count": 1,
   "metadata": {
    "collapsed": false
   },
   "outputs": [
    {
     "ename": "NameError",
     "evalue": "name 'pd' is not defined",
     "output_type": "error",
     "traceback": [
      "\u001b[1;31m---------------------------------------------------------------------------\u001b[0m",
      "\u001b[1;31mNameError\u001b[0m                                 Traceback (most recent call last)",
      "\u001b[1;32m<ipython-input-1-6068f4b5ff32>\u001b[0m in \u001b[0;36m<module>\u001b[1;34m()\u001b[0m\n\u001b[1;32m----> 1\u001b[1;33m \u001b[0mpd\u001b[0m\u001b[1;33m\u001b[0m\u001b[0m\n\u001b[0m",
      "\u001b[1;31mNameError\u001b[0m: name 'pd' is not defined"
     ]
    }
   ],
   "source": [
    "pd"
   ]
  },
  {
   "cell_type": "code",
   "execution_count": null,
   "metadata": {
    "collapsed": true
   },
   "outputs": [],
   "source": []
  }
 ],
 "metadata": {
  "kernelspec": {
   "display_name": "Python 2",
   "language": "python",
   "name": "python2"
  },
  "language_info": {
   "codemirror_mode": {
    "name": "ipython",
    "version": 2
   },
   "file_extension": ".py",
   "mimetype": "text/x-python",
   "name": "python",
   "nbconvert_exporter": "python",
   "pygments_lexer": "ipython2",
   "version": "2.7.6"
  }
 },
 "nbformat": 4,
 "nbformat_minor": 0
}
