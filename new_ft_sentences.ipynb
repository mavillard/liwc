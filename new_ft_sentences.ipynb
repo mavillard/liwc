{
 "cells": [
  {
   "cell_type": "code",
   "execution_count": 1,
   "metadata": {
    "collapsed": false
   },
   "outputs": [],
   "source": [
    "import logging\n",
    "\n",
    "import yaml\n",
    "from nltk.tokenize import sent_tokenize\n",
    "from pymongo import MongoClient\n",
    "from pymongo.errors import BulkWriteError\n",
    "from slugify import slugify"
   ]
  },
  {
   "cell_type": "markdown",
   "metadata": {},
   "source": [
    "## Logging"
   ]
  },
  {
   "cell_type": "code",
   "execution_count": 2,
   "metadata": {
    "collapsed": false
   },
   "outputs": [],
   "source": [
    "try:\n",
    "    os.remove('new_ft_sentences.log')\n",
    "except:\n",
    "    pass\n",
    "\n",
    "logging.getLogger().handlers = []\n",
    "logging.getLogger('requests.packages.urllib3').setLevel(logging.WARNING)\n",
    "logging.basicConfig(\n",
    "    filename='new_ft_sentences.log',\n",
    "    level=logging.INFO,\n",
    "    format='%(asctime)s %(message)s'\n",
    ")"
   ]
  },
  {
   "cell_type": "markdown",
   "metadata": {},
   "source": [
    "## MongoDB"
   ]
  },
  {
   "cell_type": "code",
   "execution_count": 3,
   "metadata": {
    "collapsed": true
   },
   "outputs": [],
   "source": [
    "# for x in DB.rows.find({'pub_date': {'$gt': '20030103', '$lt': '20030107'}}):\n",
    "#     print(x)"
   ]
  },
  {
   "cell_type": "code",
   "execution_count": 4,
   "metadata": {
    "collapsed": true
   },
   "outputs": [],
   "source": [
    "client = MongoClient()\n",
    "client.drop_database('new_ft_sentences')\n",
    "db_sentences = client.new_ft_sentences\n",
    "db_text = client.new_ft_text"
   ]
  },
  {
   "cell_type": "code",
   "execution_count": 5,
   "metadata": {
    "collapsed": true
   },
   "outputs": [],
   "source": [
    "def insert_rows(db, rows):\n",
    "    try:\n",
    "        db.rows.insert_many(rows, ordered=False)\n",
    "    except BulkWriteError as ex:\n",
    "        for err in ex.details['writeErrors']:\n",
    "            if err['code'] == 11000:\n",
    "                _id = err['op']['_id']\n",
    "                logging.info('BulkWriteError: {} - {}'.format(ex, _id))\n",
    "                global dups\n",
    "                dups += 1"
   ]
  },
  {
   "cell_type": "markdown",
   "metadata": {},
   "source": [
    "## Search terms"
   ]
  },
  {
   "cell_type": "code",
   "execution_count": 6,
   "metadata": {
    "collapsed": false
   },
   "outputs": [],
   "source": [
    "with open('search_terms.yml') as search_term_file:\n",
    "    term_yaml = yaml.load(search_term_file.read())"
   ]
  },
  {
   "cell_type": "code",
   "execution_count": 7,
   "metadata": {
    "collapsed": true
   },
   "outputs": [],
   "source": [
    "# [(search_term, original_term, term_type)]\n",
    "search_terms_aux = [\n",
    "    (t, k2, k1)\n",
    "        for k1 in term_yaml\n",
    "            for k2 in term_yaml[k1]\n",
    "                for t in term_yaml[k1][k2]\n",
    "]"
   ]
  },
  {
   "cell_type": "code",
   "execution_count": 8,
   "metadata": {
    "collapsed": true
   },
   "outputs": [],
   "source": [
    "# Remove\n",
    "remove_list = ['Become Inc', 'Indeed', 'at&t', 'Signal']"
   ]
  },
  {
   "cell_type": "code",
   "execution_count": 9,
   "metadata": {
    "collapsed": false
   },
   "outputs": [],
   "source": [
    "search_terms = filter(lambda x: x[1] not in remove_list, search_terms_aux)\n",
    "slugified_terms = list(map(lambda x: (slugify(x[0]), x[1], x[2]), search_terms))"
   ]
  },
  {
   "cell_type": "markdown",
   "metadata": {},
   "source": [
    "## Main"
   ]
  },
  {
   "cell_type": "code",
   "execution_count": 10,
   "metadata": {
    "collapsed": false,
    "scrolled": false
   },
   "outputs": [
    {
     "name": "stdout",
     "output_type": "stream",
     "text": [
      "CPU times: user 1h 17min 13s, sys: 13.7 s, total: 1h 17min 27s\n",
      "Wall time: 1h 19min 11s\n"
     ]
    }
   ],
   "source": [
    "%%time\n",
    "for article in db_text.rows.find():\n",
    "    rows = []\n",
    "    text = article['text']\n",
    "    sentences = sent_tokenize(text)\n",
    "    for sentence in sentences:\n",
    "        slugified_sentence = slugify(sentence)\n",
    "        for slugified_term in slugified_terms:\n",
    "            if slugified_term[0] in slugified_sentence:\n",
    "                row = {\n",
    "                    'article_id': article['_id'],\n",
    "                    'date': article['date'],\n",
    "                    'url': article['url'],\n",
    "                    'source': article['source'],\n",
    "                    'title': article['title'],\n",
    "                    'term_category': slugified_term[2],\n",
    "                    'term': slugified_term[1],\n",
    "                    'sentence': sentence,\n",
    "                }\n",
    "                rows.append(row)\n",
    "    if rows:\n",
    "        insert_rows(db_sentences, rows)"
   ]
  },
  {
   "cell_type": "code",
   "execution_count": 11,
   "metadata": {
    "collapsed": false
   },
   "outputs": [
    {
     "data": {
      "text/plain": [
       "2000584"
      ]
     },
     "execution_count": 11,
     "metadata": {},
     "output_type": "execute_result"
    }
   ],
   "source": [
    "db_sentences.rows.count()"
   ]
  },
  {
   "cell_type": "code",
   "execution_count": 12,
   "metadata": {
    "collapsed": false
   },
   "outputs": [
    {
     "ename": "NameError",
     "evalue": "name 'ObjectId' is not defined",
     "output_type": "error",
     "traceback": [
      "\u001b[1;31m---------------------------------------------------------------------------\u001b[0m",
      "\u001b[1;31mNameError\u001b[0m                                 Traceback (most recent call last)",
      "\u001b[1;32m<ipython-input-12-1b6bee3cc3bf>\u001b[0m in \u001b[0;36m<module>\u001b[1;34m()\u001b[0m\n\u001b[1;32m----> 1\u001b[1;33m \u001b[0mdb_sentences\u001b[0m\u001b[1;33m.\u001b[0m\u001b[0mrows\u001b[0m\u001b[1;33m.\u001b[0m\u001b[0mfind_one\u001b[0m\u001b[1;33m(\u001b[0m\u001b[1;33m{\u001b[0m\u001b[1;34m'_id'\u001b[0m\u001b[1;33m:\u001b[0m \u001b[0mObjectId\u001b[0m\u001b[1;33m(\u001b[0m\u001b[1;34m'56140caba688eb514e37573a'\u001b[0m\u001b[1;33m)\u001b[0m\u001b[1;33m}\u001b[0m\u001b[1;33m)\u001b[0m\u001b[1;33m\u001b[0m\u001b[0m\n\u001b[0m",
      "\u001b[1;31mNameError\u001b[0m: name 'ObjectId' is not defined"
     ]
    }
   ],
   "source": [
    "db_sentences.rows.find_one({'_id': ObjectId('56140caba688eb514e37573a')})"
   ]
  },
  {
   "cell_type": "code",
   "execution_count": null,
   "metadata": {
    "collapsed": true
   },
   "outputs": [],
   "source": []
  }
 ],
 "metadata": {
  "kernelspec": {
   "display_name": "Python 3",
   "language": "python",
   "name": "python3"
  },
  "language_info": {
   "codemirror_mode": {
    "name": "ipython",
    "version": 3
   },
   "file_extension": ".py",
   "mimetype": "text/x-python",
   "name": "python",
   "nbconvert_exporter": "python",
   "pygments_lexer": "ipython3",
   "version": "3.4.3"
  }
 },
 "nbformat": 4,
 "nbformat_minor": 0
}
