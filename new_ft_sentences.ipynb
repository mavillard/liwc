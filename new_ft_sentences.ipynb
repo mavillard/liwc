{
 "cells": [
  {
   "cell_type": "code",
   "execution_count": 1,
   "metadata": {
    "collapsed": false
   },
   "outputs": [],
   "source": [
    "import logging\n",
    "\n",
    "import yaml\n",
    "from pymongo import MongoClient"
   ]
  },
  {
   "cell_type": "markdown",
   "metadata": {},
   "source": [
    "## Logging"
   ]
  },
  {
   "cell_type": "code",
   "execution_count": 2,
   "metadata": {
    "collapsed": false
   },
   "outputs": [],
   "source": [
    "try:\n",
    "    os.remove('new_ft_sentences.log')\n",
    "except:\n",
    "    pass\n",
    "\n",
    "logging.getLogger().handlers = []\n",
    "logging.getLogger('requests.packages.urllib3').setLevel(logging.WARNING)\n",
    "logging.basicConfig(\n",
    "    filename='new_ft_sentences.log',\n",
    "    level=logging.INFO,\n",
    "    format='%(asctime)s %(message)s'\n",
    ")"
   ]
  },
  {
   "cell_type": "markdown",
   "metadata": {},
   "source": [
    "## MongoDB"
   ]
  },
  {
   "cell_type": "code",
   "execution_count": 3,
   "metadata": {
    "collapsed": true
   },
   "outputs": [],
   "source": [
    "client = MongoClient()\n",
    "client.drop_database('new_ft_sentences')\n",
    "DB1 = client.new_ft_text\n",
    "DB2 = client.new_ft_sentences"
   ]
  },
  {
   "cell_type": "code",
   "execution_count": 5,
   "metadata": {
    "collapsed": true
   },
   "outputs": [],
   "source": [
    "def insert_rows(rows):\n",
    "#     try:\n",
    "    DB2.rows.insert_many(rows, ordered=False)\n",
    "#     except Exception as e:\n",
    "#         write_log('DB INSERTION EXCEPTION', status='{}'.format(e))\n",
    "#         logging.info('ERROR')"
   ]
  },
  {
   "cell_type": "markdown",
   "metadata": {},
   "source": [
    "## Search terms"
   ]
  },
  {
   "cell_type": "code",
   "execution_count": 1,
   "metadata": {
    "collapsed": false
   },
   "outputs": [
    {
     "ename": "NameError",
     "evalue": "name 'yaml' is not defined",
     "output_type": "error",
     "traceback": [
      "\u001b[1;31m---------------------------------------------------------------------------\u001b[0m",
      "\u001b[1;31mNameError\u001b[0m                                 Traceback (most recent call last)",
      "\u001b[1;32m<ipython-input-1-b0f0f36480d8>\u001b[0m in \u001b[0;36m<module>\u001b[1;34m()\u001b[0m\n\u001b[0;32m      1\u001b[0m \u001b[1;32mwith\u001b[0m \u001b[0mopen\u001b[0m\u001b[1;33m(\u001b[0m\u001b[1;34m'search_terms.yml'\u001b[0m\u001b[1;33m)\u001b[0m \u001b[1;32mas\u001b[0m \u001b[0msearch_term_file\u001b[0m\u001b[1;33m:\u001b[0m\u001b[1;33m\u001b[0m\u001b[0m\n\u001b[1;32m----> 2\u001b[1;33m     \u001b[0mterm_yaml\u001b[0m \u001b[1;33m=\u001b[0m \u001b[0myaml\u001b[0m\u001b[1;33m.\u001b[0m\u001b[0mload\u001b[0m\u001b[1;33m(\u001b[0m\u001b[0msearch_term_file\u001b[0m\u001b[1;33m.\u001b[0m\u001b[0mread\u001b[0m\u001b[1;33m(\u001b[0m\u001b[1;33m)\u001b[0m\u001b[1;33m)\u001b[0m\u001b[1;33m\u001b[0m\u001b[0m\n\u001b[0m\u001b[0;32m      3\u001b[0m     \u001b[1;31m#\u001b[0m\u001b[1;33m\u001b[0m\u001b[1;33m\u001b[0m\u001b[0m\n\u001b[0;32m      4\u001b[0m     \u001b[1;32mfor\u001b[0m \u001b[0mkey\u001b[0m \u001b[1;32min\u001b[0m \u001b[0mterm_yaml\u001b[0m\u001b[1;33m:\u001b[0m\u001b[1;33m\u001b[0m\u001b[0m\n\u001b[0;32m      5\u001b[0m         \u001b[0md\u001b[0m \u001b[1;33m=\u001b[0m \u001b[0mterm_yaml\u001b[0m\u001b[1;33m[\u001b[0m\u001b[0mkey\u001b[0m\u001b[1;33m]\u001b[0m\u001b[1;33m\u001b[0m\u001b[0m\n",
      "\u001b[1;31mNameError\u001b[0m: name 'yaml' is not defined"
     ]
    }
   ],
   "source": [
    "with open('search_terms.yml') as search_term_file:\n",
    "    term_yaml = yaml.load(search_term_file.read())\n",
    "    #\n",
    "    for key in term_yaml:\n",
    "        d = term_yaml[key]\n",
    "        for k in d:\n",
    "            d[k] = list(map(lambda x: '\"{}\"'.format(x), d[k]))"
   ]
  },
  {
   "cell_type": "markdown",
   "metadata": {},
   "source": [
    "## Main"
   ]
  },
  {
   "cell_type": "code",
   "execution_count": 6,
   "metadata": {
    "collapsed": false
   },
   "outputs": [],
   "source": []
  },
  {
   "cell_type": "code",
   "execution_count": 7,
   "metadata": {
    "collapsed": false
   },
   "outputs": [
    {
     "name": "stdout",
     "output_type": "stream",
     "text": [
      "Total files: 281584\n",
      "Error files: 1318\n",
      "CPU times: user 6min 23s, sys: 19.2 s, total: 6min 42s\n",
      "Wall time: 8min 54s\n"
     ]
    }
   ],
   "source": [
    "%%time\n",
    "total = 0\n",
    "error = 0\n",
    "path = '/home/antonio/git/nytimes/ft_data/all/'\n",
    "for e in os.listdir(path):\n",
    "    f = os.path.join(path, e)\n",
    "    iterparser = ElementTree.iterparse(f)\n",
    "    rows = []\n",
    "    try:\n",
    "        for event, elem in iterparser:\n",
    "            if elem.tag == 'item':\n",
    "                row = parse_item(f, elem)\n",
    "                rows.append(row)\n",
    "                elem.clear()\n",
    "            elif elem.tag == 'ftcom' or elem.tag == 'ftnewspaper':\n",
    "                elem.clear()\n",
    "    except ParseError as ex:\n",
    "        logging.info(e)\n",
    "        error += 1\n",
    "    total +=1\n",
    "    if rows:\n",
    "            insert_rows(rows)\n",
    "print('Total files:', total)\n",
    "print('Error files:', error)"
   ]
  },
  {
   "cell_type": "code",
   "execution_count": 8,
   "metadata": {
    "collapsed": false
   },
   "outputs": [
    {
     "data": {
      "text/plain": [
       "1034401"
      ]
     },
     "execution_count": 8,
     "metadata": {},
     "output_type": "execute_result"
    }
   ],
   "source": [
    "DB.rows.count()"
   ]
  },
  {
   "cell_type": "code",
   "execution_count": null,
   "metadata": {
    "collapsed": false
   },
   "outputs": [],
   "source": [
    "%%time\n",
    "unique = 0\n",
    "non_unique = 0\n",
    "for r in DB.rows.find():\n",
    "    count = DB.rows.find({'article_id': r['article_id']}).count()\n",
    "    if count == 1:\n",
    "        unique += 1\n",
    "    elif count > 1:\n",
    "        non_unique += 1\n",
    "    else:\n",
    "        print(0)\n",
    "print('Total unique:', unique)\n",
    "print('Total non unique:', non_unique)"
   ]
  },
  {
   "cell_type": "code",
   "execution_count": 11,
   "metadata": {
    "collapsed": false
   },
   "outputs": [
    {
     "data": {
      "text/plain": [
       "{'_id': ObjectId('560e96efa688eb36585c911a'),\n",
       " 'article_id': '030102000137',\n",
       " 'pub_date': '20030102',\n",
       " 'source': 'ftcom',\n",
       " 'text': 'With people tuned out for the period between Christmas and new year\\'s day, it was as good a time as any to sneak out scabrous news. New York\\'s senior senator chose instead to send out a traffic warning. The warning itself seemed serious: 8m \"unsecured\" trucks come in and out of New York every year, posing a \"serious terrorist threat\". It added: \"Over 2,000 shipments of hazardous materials enter and leave New York City by trucks each day.\" \"If we do not secure our truck fleet, this country will still be at grave risk from a terrorist attack,\" Chuck Schumer said. This is scary indeed - given the number of attacks by fuel-filled trucks on US targets in the past year. But the timing was more than a bit suspect. For one, Schumer\\'s wife is Iris Weinshall, who has been commissioner of New York City\\'s Department of Transportation for over two years. Could this have been the first time the senator and the commissioner discussed vehicular terrorist threats? The more likely explanation appears to be senatorial competition. Four days before Schumer\\'s memorandum, New York\\'s other senator - Hillary Rodham Clinton - signed a letter asking the General Accounting Office to undertake \"a detailed, comprehensive review of the vulnerability to terrorist attack of our transportation system\". Schumer was in even more competitive mood the next day when a press release declared he had completed a tour of all 62 counties in New York state - \"a feat that makes him the first senator to visit every single county for every year he has been in office.\"',\n",
       " 'title': \"OBSERVER: Travellin' man\",\n",
       " 'url': 'http://search.ft.com/search/article.html?id=030102000137'}"
      ]
     },
     "execution_count": 11,
     "metadata": {},
     "output_type": "execute_result"
    }
   ],
   "source": [
    "DB.rows.find_one({'article_id': '030102000137'})"
   ]
  },
  {
   "cell_type": "code",
   "execution_count": null,
   "metadata": {
    "collapsed": true
   },
   "outputs": [],
   "source": []
  }
 ],
 "metadata": {
  "kernelspec": {
   "display_name": "Python 3",
   "language": "python",
   "name": "python3"
  },
  "language_info": {
   "codemirror_mode": {
    "name": "ipython",
    "version": 3
   },
   "file_extension": ".py",
   "mimetype": "text/x-python",
   "name": "python",
   "nbconvert_exporter": "python",
   "pygments_lexer": "ipython3",
   "version": "3.4.3"
  }
 },
 "nbformat": 4,
 "nbformat_minor": 0
}
